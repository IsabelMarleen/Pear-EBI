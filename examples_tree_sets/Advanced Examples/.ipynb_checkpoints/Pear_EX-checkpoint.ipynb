{
 "cells": [
  {
   "cell_type": "markdown",
   "id": "403c2b16",
   "metadata": {},
   "source": [
    " <h1> <font color='green'>P</font>hylogeny <font color='green'>E</font>mbedding  & </h1> <h1> <font color='green'>A</font>pproximate <font color='green'>R</font>epresentation </h1>\n",
    " <img src=\"../LOGO_PEAR.png\" width=\"100\" height=\"100\" style='position:absolute; right:500px; top:-15px'>\n",
    "\n",
    "****\n",
    "Here we report the code used to generate the examples in the manuscript, providing a general outline of the use of the python library"
   ]
  },
  {
   "cell_type": "markdown",
   "id": "a0e725a5",
   "metadata": {},
   "source": [
    "`tree_set` is the main module of `pear_ebi` - it contains both the <font color=\"blue\"><b>tree_set</b></font> and the <font color=\"red\"><b>set_collection</b></font> objects."
   ]
  },
  {
   "cell_type": "code",
   "execution_count": 1,
   "id": "e0564db3",
   "metadata": {},
   "outputs": [],
   "source": [
    "from pear_ebi import tree_set\n",
    "import numpy as np\n",
    "import pandas as pd\n",
    "import time\n",
    "import os"
   ]
  },
  {
   "cell_type": "markdown",
   "id": "e34fb647",
   "metadata": {},
   "source": [
    "## Examples\n",
    "Here we do not delve into the specifics or the rationale of the experiments - for that we redirect you to the related manuscript - but rather focus on the use of the library to analyze sets of trees in different settings."
   ]
  },
  {
   "cell_type": "markdown",
   "id": "e8048767",
   "metadata": {},
   "source": [
    "***\n",
    "# BEAST\n",
    "### <font color='purple'> Bayesan - Markow Chain Monte Carlo </font> "
   ]
  },
  {
   "cell_type": "markdown",
   "id": "7cb393c4",
   "metadata": {},
   "source": [
    "This is a relatively simple example: we have a few files containing trees in Newick format, where each set of trees is produced by a program that produced them sequentially. We want to represent the distribution of these trees in order to analyze the single trajectories and to compare the different trjectories coming from different runs. <br>\n",
    "With this idea in mind, we simply compute the square distance matrix using the `Robinson Foulds` metric, which generally represents the relations between trees in an effective way, using the most efficient algorithm: `hashrf`.<br>\n",
    "We then compute and plot the `PCoA` embeddings in 2 and 3 dimensions. "
   ]
  },
  {
   "cell_type": "markdown",
   "id": "46a74876",
   "metadata": {},
   "source": [
    "#### Step 1: load trees"
   ]
  },
  {
   "cell_type": "markdown",
   "id": "26a43665",
   "metadata": {},
   "source": [
    "<font color=\"blue\"><b>tree_set</b></font> is meant to store and manage the analysis of a single set of trees stored in the same file. These trees have to be in the (standard) Newick format.<br>\n",
    "`tree_set = tree_set.tree_set(file, output_file=None, distance_matrix=None, metadata=None)`\n",
    "<br>The first argument indicates the file where the trees are stored. `output_file` can be empty and may be used to indicate a specific name and path for the output distance matrix. `distance_matrix` can be used to indicate a precomputed distance matrix in the `.csv` format. `metadata` may be used to indicate a `.csv` file with additional information relative to the trees. It must be of the same dimensionality of the set of trees, hence $size = (#trees, #meta-variables)$. \n",
    " ***\n",
    "<font color=\"red\"><b>set_collection</b></font> performs the same tasks of <font color=\"blue\"><b>tree_set</b></font>, but stores multiple set of trees. <b>NB:</b> for each file, a set of trees is defined within the set collection. In practice, a <font color=\"red\"><b>set_collection</b></font> is a collection of different <font color=\"blue\"><b>tree_set</b></font>, each one containing a set of trees coming from a different file. It should not come as a surprise, then, that the input `collection=list()`, potentially empty (one may initialize an empty collection), is a list of files containing trees in the Newick format.\n",
    "`set_collection=tree_set.set_collection(collection=list(), file=\"Set_collection_\", output_file=None, distance_matrix=None, metadata=None,)`\n",
    "<br>`file` may be used to indicate an alternative name for the file containing the collection information. This file will be used by pear to store information relative to the sets of trees. `output_file` may be used to indicate a specific name for the distance matrix file.\n",
    "<br>`distance_matrix` can be used to indicate a precomputed distance matrix in the `.csv` format. `metadata` may be used to indicate a `.csv` file with additional information relative to the trees. It must be of the same dimensionality of the set of trees, hence $size = (#trees, #meta-variables)$."
   ]
  },
  {
   "cell_type": "code",
   "execution_count": 4,
   "id": "aa077579",
   "metadata": {},
   "outputs": [
    {
     "name": "stdout",
     "output_type": "stream",
     "text": [
      "─────────────────────────────            \n",
      " Tree set collection containing 9009 trees;            \n",
      " File: Set_collection_bd9f7a8a-9225-47e2-be41-b8aceb2fdbb9;\n",
      " Distance matrix: not computed.                \n",
      "───────────────────────────── \n",
      "beast_run1; Containing 1001 trees. \n",
      "beast_run2; Containing 1001 trees. \n",
      "beast_run3; Containing 1001 trees. \n",
      "beast_run4; Containing 1001 trees. \n",
      "beast_run5; Containing 1001 trees. \n",
      "beast_run6; Containing 1001 trees. \n",
      "beast_run7; Containing 1001 trees. \n",
      "beast_run8; Containing 1001 trees. \n",
      "beast_long; Containing 1001 trees. \n",
      "\n"
     ]
    }
   ],
   "source": [
    "beast_dir = '../beast_trees'\n",
    "beast_runs = [os.path.join(beast_dir, f\"beast_run{i}.trees\") for i in range(1,9)] + [os.path.join(beast_dir, f\"beast_long.trees\")]\n",
    "beast_collection = tree_set.set_collection(beast_runs)\n",
    "print(beast_collection)"
   ]
  },
  {
   "cell_type": "markdown",
   "id": "11fc5a6e",
   "metadata": {},
   "source": [
    "#### Step 2: compute distances"
   ]
  },
  {
   "cell_type": "code",
   "execution_count": 6,
   "id": "e176dd6c",
   "metadata": {},
   "outputs": [
    {
     "data": {
      "application/vnd.jupyter.widget-view+json": {
       "model_id": "",
       "version_major": 2,
       "version_minor": 0
      },
      "text/plain": [
       "Output()"
      ]
     },
     "metadata": {},
     "output_type": "display_data"
    },
    {
     "data": {
      "text/html": [
       "<pre style=\"white-space:pre;overflow-x:auto;line-height:normal;font-family:Menlo,'DejaVu Sans Mono',consolas,'Courier New',monospace\"></pre>\n"
      ],
      "text/plain": []
     },
     "metadata": {},
     "output_type": "display_data"
    },
    {
     "data": {
      "text/html": [
       "<pre style=\"white-space:pre;overflow-x:auto;line-height:normal;font-family:Menlo,'DejaVu Sans Mono',consolas,'Courier New',monospace\"><span style=\"color: #000080; text-decoration-color: #000080; font-weight: bold\">hashrf_RF | Done!</span>\n",
       "</pre>\n"
      ],
      "text/plain": [
       "\u001b[1;34mhashrf_RF | Done!\u001b[0m\n"
      ]
     },
     "metadata": {},
     "output_type": "display_data"
    }
   ],
   "source": [
    "beast_collection.calculate_distances(method=\"hashrf_RF\") \n",
    "# where method can be chosen among hashrf_RF,\n",
    "# hashrf_wRF, smart_RF, tqdist_quartet, tqdist_triplet"
   ]
  },
  {
   "cell_type": "markdown",
   "id": "c12e00ca",
   "metadata": {},
   "source": [
    "#### Step 3: compute embeddings"
   ]
  },
  {
   "cell_type": "code",
   "execution_count": 7,
   "id": "434c2125",
   "metadata": {},
   "outputs": [
    {
     "data": {
      "application/vnd.jupyter.widget-view+json": {
       "model_id": "",
       "version_major": 2,
       "version_minor": 0
      },
      "text/plain": [
       "Output()"
      ]
     },
     "metadata": {},
     "output_type": "display_data"
    },
    {
     "data": {
      "text/html": [
       "<pre style=\"white-space:pre;overflow-x:auto;line-height:normal;font-family:Menlo,'DejaVu Sans Mono',consolas,'Courier New',monospace\"></pre>\n"
      ],
      "text/plain": []
     },
     "metadata": {},
     "output_type": "display_data"
    },
    {
     "data": {
      "text/html": [
       "<pre style=\"white-space:pre;overflow-x:auto;line-height:normal;font-family:Menlo,'DejaVu Sans Mono',consolas,'Courier New',monospace\"><span style=\"color: #000080; text-decoration-color: #000080; font-weight: bold\">pca | Done!</span>\n",
       "</pre>\n"
      ],
      "text/plain": [
       "\u001b[1;34mpca | Done!\u001b[0m\n"
      ]
     },
     "metadata": {},
     "output_type": "display_data"
    }
   ],
   "source": [
    "beast_collection.embed(method=\"pca\", dimensions=3, quality=False)\n",
    "# where method can be chosen among pca, tsne, isomap, lle\n",
    "# pro tip: if the distance matrix has not been computed prior to calling this function,\n",
    "# it will automatically be computed using hashrf_RF"
   ]
  },
  {
   "cell_type": "markdown",
   "id": "7f5674ac",
   "metadata": {},
   "source": [
    "#### Step 4: Plot embeddings"
   ]
  },
  {
   "cell_type": "code",
   "execution_count": null,
   "id": "d048b00e",
   "metadata": {
    "scrolled": true
   },
   "outputs": [],
   "source": [
    "beast_collection.plot_2D(\n",
    "        method='pca', # method used for the embedding - if not previously computed, it will be computed when calling this function \n",
    "        save=False, # save the plot in a pdf format? The .html will be saved anyway!\n",
    "        name_plot=None, # specific name for the plot\n",
    "        static=False, # create a static element rather than a dynamic widget\n",
    "        plot_meta=\"SET-ID\", # meta-variable used to colour the points (trees)\n",
    "        plot_set=None, # select specific set of sets of trees in the collection for the plot\n",
    "        select=False, # create widgets to hide/display tree_sets in the graph\n",
    "        same_scale=False,) # use the same colorscale for each tree_set (useful when the same metric is compared among sets)"
   ]
  },
  {
   "cell_type": "code",
   "execution_count": null,
   "id": "a066715d",
   "metadata": {},
   "outputs": [],
   "source": [
    "beast_collection.plot_3D(\n",
    "        method='pca',\n",
    "        save=False,\n",
    "        name_plot=None,\n",
    "        static=False,\n",
    "        plot_meta=\"SET-ID\",\n",
    "        plot_set=None,\n",
    "        select=False,\n",
    "        same_scale=False,\n",
    "        z_axis=None,) # substitute the 3rd axis (Z-axis/3rd PCoA) with a meta-variable of choice"
   ]
  },
  {
   "cell_type": "markdown",
   "id": "cf633cc9",
   "metadata": {},
   "source": [
    "***\n",
    "# RAxML\n",
    "### <font color='purple'> Bootstrap Analysis </font> "
   ]
  },
  {
   "cell_type": "markdown",
   "id": "c1ea128c",
   "metadata": {},
   "source": [
    "We do not delve into the biological interpretation of this specific example, as we discussed that in our manuscript. <br> Instead, we point your attention to some specific features of pear's interactive representations: <ul>\n",
    "    <li> First: you can directly plot the `PCoA` embedding of the Robinson Foulds distances computed with `hashrf` without explicitly going through these steps. In fact, running a plotting function bypasses steps 2 and 3, performing them \"under the hood\";\n",
    "    <li> In the 2D representation:<ul>\n",
    "        <li> From the dropdown menu, one can choose the meta-vatiable used to color the points in the graphs;\n",
    "        <li> The red button \"Save plot as pdf\" saves the plot in a `.pdf` file;\n",
    "        <li> The $#show `name of the tree set`$ buttons allow showing and hiding specific sets of trees;\n",
    "        <li> One may choose between the scatter representation or a contour plot;\n",
    "        <li> While visualizing a contour plot, one may choose to hide or show the points (trees) with the light blue button \"Show points on a Contour plot\";\n",
    "        <li> One can choose between visualizing only the points or also the connections between them (indicating the progress through an hypotetical sequential order);\n",
    "        <li> One can use the native tools of the plot so zoom in to focus on a specific area of the graph;\n",
    "        <li> If one wants to focus their attention on specific sets of trees, they just have to click them: this will highlight the selected set and make the other sets transparent. One may continue and highlight on other sets by simply clicking on them. In order to go back to the original representation, one just needs to click on one of the previously highlighted sets for a second time.\n",
    "    </ul>\n",
    "   <li> In the 3D representation:<ul>\n",
    "       <li> Same features of the 2D representation. However, there is no contour plot in this case."
   ]
  },
  {
   "cell_type": "code",
   "execution_count": 11,
   "id": "de8a157a",
   "metadata": {},
   "outputs": [
    {
     "name": "stdout",
     "output_type": "stream",
     "text": [
      "─────────────────────────────            \n",
      " Tree set collection containing 3656 trees;            \n",
      " File: Set_collection_f7e89f08-be0b-4fd3-9167-379a810b4953;\n",
      " Distance matrix: not computed.                \n",
      "───────────────────────────── \n",
      "bootstrap_6086; Containing 500 trees. \n",
      "bootstrap_5261; Containing 600 trees. \n",
      "bootstrap_5092; Containing 800 trees. \n",
      "bootstrap_281; Containing 600 trees. \n",
      "bootstrap_11289; Containing 600 trees. \n",
      "bootstrap_10409; Containing 550 trees. \n",
      "bestTree_6086; Containing 1 trees. \n",
      "bestTree_5261; Containing 1 trees. \n",
      "bestTree_5092; Containing 1 trees. \n",
      "bestTree_281; Containing 1 trees. \n",
      "bestTree_11289; Containing 1 trees. \n",
      "bestTree_10409; Containing 1 trees. \n",
      "\n"
     ]
    }
   ],
   "source": [
    "input_dir = '../bootstrap_mammals/'\n",
    "files = ([f'bootstrap_{i}' for i in [6086, 5261, 5092, 281, 11289, 10409]] + \n",
    "    [f'bestTree_{i}' for i in [6086, 5261, 5092, 281, 11289, 10409]])\n",
    "collection = tree_set.set_collection([os.path.join(input_dir, f) for f in files])\n",
    "print(collection)"
   ]
  },
  {
   "cell_type": "code",
   "execution_count": null,
   "id": "e41f12d3",
   "metadata": {},
   "outputs": [],
   "source": [
    "collection.plot_2D('pca', select=True)"
   ]
  },
  {
   "cell_type": "code",
   "execution_count": null,
   "id": "be9cc434",
   "metadata": {},
   "outputs": [],
   "source": [
    "collection.plot_3D('pca', select = True)"
   ]
  },
  {
   "cell_type": "markdown",
   "id": "cfd297c4",
   "metadata": {},
   "source": [
    "****\n",
    "# MAPLE\n",
    "### <font color='purple'> Maximum Likelihood Search </font> "
   ]
  },
  {
   "cell_type": "markdown",
   "id": "b1c3911a",
   "metadata": {},
   "source": [
    "In this specific example, we focus the readers' attention on the possibility of specifying a metadata file to add meta-variable and use them to color the points in the plots or to replace the $Z_{axis}$ in the 3D plot.<br>\n",
    "In the cell below we specify a list of files containing trees and a list of files containing the likelihood of each tree."
   ]
  },
  {
   "cell_type": "code",
   "execution_count": 14,
   "id": "e416977a",
   "metadata": {},
   "outputs": [],
   "source": [
    "maple_tree = [\n",
    "    \"IQtreeStartingTree_Trees\",\n",
    "    \"MapleStartingTree_Trees\",\n",
    "    \"ParsimonyRAxMLStartingTree_GTRmodel_Trees\",\n",
    "    \"RAxMLNGStartingTree_Trees\",\n",
    "    \"UshERStartingTree_Trees\",\n",
    "    \"TrueTreeSimulations\",\n",
    "    ]\n",
    "\n",
    "maple_LK = [\n",
    "    \"IQtreeStartingTree_LK\",\n",
    "    \"MapleStartingTree_LK\",\n",
    "    \"ParsimonyRAxMLStartingTree_GTRmodel_LK\",\n",
    "    \"RAxMLNGStartingTree_LK\",\n",
    "    \"UshERStartingTree_LK\",\n",
    "]\n",
    "\n",
    "maple_dir = '../MAPLE_res/'"
   ]
  },
  {
   "cell_type": "markdown",
   "id": "df52bfc4",
   "metadata": {},
   "source": [
    "In the cell below we check that \"DisMat_Maple.csv\", the precomputed distance matrix, is present in the folder. We precomputed the distances as the `smart_RF` algorithm, which computes a modified version of the Robinson Foulds metric, takes much longer than `hashrf_RF`. "
   ]
  },
  {
   "cell_type": "code",
   "execution_count": 15,
   "id": "b5a438e8",
   "metadata": {},
   "outputs": [
    {
     "name": "stdout",
     "output_type": "stream",
     "text": [
      "─────────────────────────────            \n",
      " Tree set collection containing 138 trees;            \n",
      " File: Set_collection_42f8a3ac-b8ec-4222-9094-26dfc451ca2d;\n",
      " Distance matrix: computed.                \n",
      "───────────────────────────── \n",
      "IQtreeStartingTree_Trees; Containing 29 trees. \n",
      "MapleStartingTree_Trees; Containing 5 trees. \n",
      "ParsimonyRAxMLStartingTree_GTRmodel_Trees; Containing 47 trees. \n",
      "RAxMLNGStartingTree_Trees; Containing 26 trees. \n",
      "UshERStartingTree_Trees; Containing 30 trees. \n",
      "TrueTreeSimulations; Containing 1 trees. \n",
      "\n"
     ]
    }
   ],
   "source": [
    "set_list = [os.path.join(maple_dir, tree) for tree in maple_tree]\n",
    "try:collection_maple = tree_set.set_collection(set_list, distance_matrix = \"DistMat_Maple.csv\")\n",
    "except:collection_maple = tree_set.set_collection(set_list)\n",
    "finally:print(collection_maple)"
   ]
  },
  {
   "cell_type": "markdown",
   "id": "2f70b470",
   "metadata": {},
   "source": [
    "This is how we extracted the information from multiple files - one may simply skip this step as we then saved the information in the \"Likelihoods.csv\" file."
   ]
  },
  {
   "cell_type": "code",
   "execution_count": 16,
   "id": "bd3bfd6e",
   "metadata": {},
   "outputs": [
    {
     "data": {
      "text/html": [
       "<div>\n",
       "<style scoped>\n",
       "    .dataframe tbody tr th:only-of-type {\n",
       "        vertical-align: middle;\n",
       "    }\n",
       "\n",
       "    .dataframe tbody tr th {\n",
       "        vertical-align: top;\n",
       "    }\n",
       "\n",
       "    .dataframe thead th {\n",
       "        text-align: right;\n",
       "    }\n",
       "</style>\n",
       "<table border=\"1\" class=\"dataframe\">\n",
       "  <thead>\n",
       "    <tr style=\"text-align: right;\">\n",
       "      <th></th>\n",
       "      <th>LK</th>\n",
       "    </tr>\n",
       "  </thead>\n",
       "  <tbody>\n",
       "    <tr>\n",
       "      <th>0</th>\n",
       "      <td>0.983439</td>\n",
       "    </tr>\n",
       "    <tr>\n",
       "      <th>1</th>\n",
       "      <td>0.983822</td>\n",
       "    </tr>\n",
       "    <tr>\n",
       "      <th>2</th>\n",
       "      <td>0.984404</td>\n",
       "    </tr>\n",
       "    <tr>\n",
       "      <th>3</th>\n",
       "      <td>0.985124</td>\n",
       "    </tr>\n",
       "    <tr>\n",
       "      <th>4</th>\n",
       "      <td>0.985631</td>\n",
       "    </tr>\n",
       "    <tr>\n",
       "      <th>...</th>\n",
       "      <td>...</td>\n",
       "    </tr>\n",
       "    <tr>\n",
       "      <th>133</th>\n",
       "      <td>0.999844</td>\n",
       "    </tr>\n",
       "    <tr>\n",
       "      <th>134</th>\n",
       "      <td>0.999850</td>\n",
       "    </tr>\n",
       "    <tr>\n",
       "      <th>135</th>\n",
       "      <td>0.999976</td>\n",
       "    </tr>\n",
       "    <tr>\n",
       "      <th>136</th>\n",
       "      <td>1.000000</td>\n",
       "    </tr>\n",
       "    <tr>\n",
       "      <th>137</th>\n",
       "      <td>0.706890</td>\n",
       "    </tr>\n",
       "  </tbody>\n",
       "</table>\n",
       "<p>138 rows × 1 columns</p>\n",
       "</div>"
      ],
      "text/plain": [
       "           LK\n",
       "0    0.983439\n",
       "1    0.983822\n",
       "2    0.984404\n",
       "3    0.985124\n",
       "4    0.985631\n",
       "..        ...\n",
       "133  0.999844\n",
       "134  0.999850\n",
       "135  0.999976\n",
       "136  1.000000\n",
       "137  0.706890\n",
       "\n",
       "[138 rows x 1 columns]"
      ]
     },
     "execution_count": 16,
     "metadata": {},
     "output_type": "execute_result"
    }
   ],
   "source": [
    "LKs = dict()\n",
    "for lk_file in maple_LK:\n",
    "    file = os.path.join(maple_dir, lk_file)\n",
    "    with open(file, 'r') as f:\n",
    "        LKs[lk_file] = np.array(f.readlines())\n",
    "        f.close()\n",
    "\n",
    "LK = list()\n",
    "for lk in LKs.values(): LK.extend(lk)\n",
    "\n",
    "LK = np.array([tree.replace('\\n', '') for tree in LK], dtype=np.float64)\n",
    "LK = np.concatenate([LK,np.array([-257513])], axis = 0)\n",
    "LK = np.interp(LK, (LK.min(), LK.max()), (0, +1)) # scale LKs between 0 and 1\n",
    "\n",
    "df_LK = pd.DataFrame({'LK':LK})\n",
    "df_LK.to_csv(\"Likelihoods.csv\")\n",
    "df_LK"
   ]
  },
  {
   "cell_type": "markdown",
   "id": "06177f43",
   "metadata": {},
   "source": [
    "There are two ways to introduce new variables in a <font color=\"red\"><b>set_collection</b></font>'s or <font color=\"blue\"><b>tree_set</b></font>'s metadata:"
   ]
  },
  {
   "cell_type": "code",
   "execution_count": 17,
   "id": "993bd28a",
   "metadata": {},
   "outputs": [
    {
     "data": {
      "text/html": [
       "<div>\n",
       "<style scoped>\n",
       "    .dataframe tbody tr th:only-of-type {\n",
       "        vertical-align: middle;\n",
       "    }\n",
       "\n",
       "    .dataframe tbody tr th {\n",
       "        vertical-align: top;\n",
       "    }\n",
       "\n",
       "    .dataframe thead th {\n",
       "        text-align: right;\n",
       "    }\n",
       "</style>\n",
       "<table border=\"1\" class=\"dataframe\">\n",
       "  <thead>\n",
       "    <tr style=\"text-align: right;\">\n",
       "      <th></th>\n",
       "      <th>SET-ID</th>\n",
       "      <th>STEP</th>\n",
       "      <th>LK</th>\n",
       "    </tr>\n",
       "  </thead>\n",
       "  <tbody>\n",
       "    <tr>\n",
       "      <th>0</th>\n",
       "      <td>IQtreeStartingTree_Trees</td>\n",
       "      <td>0</td>\n",
       "      <td>0.983439</td>\n",
       "    </tr>\n",
       "    <tr>\n",
       "      <th>1</th>\n",
       "      <td>IQtreeStartingTree_Trees</td>\n",
       "      <td>1</td>\n",
       "      <td>0.983822</td>\n",
       "    </tr>\n",
       "    <tr>\n",
       "      <th>2</th>\n",
       "      <td>IQtreeStartingTree_Trees</td>\n",
       "      <td>2</td>\n",
       "      <td>0.984404</td>\n",
       "    </tr>\n",
       "    <tr>\n",
       "      <th>3</th>\n",
       "      <td>IQtreeStartingTree_Trees</td>\n",
       "      <td>3</td>\n",
       "      <td>0.985124</td>\n",
       "    </tr>\n",
       "    <tr>\n",
       "      <th>4</th>\n",
       "      <td>IQtreeStartingTree_Trees</td>\n",
       "      <td>4</td>\n",
       "      <td>0.985631</td>\n",
       "    </tr>\n",
       "    <tr>\n",
       "      <th>...</th>\n",
       "      <td>...</td>\n",
       "      <td>...</td>\n",
       "      <td>...</td>\n",
       "    </tr>\n",
       "    <tr>\n",
       "      <th>133</th>\n",
       "      <td>UshERStartingTree_Trees</td>\n",
       "      <td>26</td>\n",
       "      <td>0.999844</td>\n",
       "    </tr>\n",
       "    <tr>\n",
       "      <th>134</th>\n",
       "      <td>UshERStartingTree_Trees</td>\n",
       "      <td>27</td>\n",
       "      <td>0.999850</td>\n",
       "    </tr>\n",
       "    <tr>\n",
       "      <th>135</th>\n",
       "      <td>UshERStartingTree_Trees</td>\n",
       "      <td>28</td>\n",
       "      <td>0.999976</td>\n",
       "    </tr>\n",
       "    <tr>\n",
       "      <th>136</th>\n",
       "      <td>UshERStartingTree_Trees</td>\n",
       "      <td>29</td>\n",
       "      <td>1.000000</td>\n",
       "    </tr>\n",
       "    <tr>\n",
       "      <th>137</th>\n",
       "      <td>TrueTreeSimulations</td>\n",
       "      <td>0</td>\n",
       "      <td>0.706890</td>\n",
       "    </tr>\n",
       "  </tbody>\n",
       "</table>\n",
       "<p>138 rows × 3 columns</p>\n",
       "</div>"
      ],
      "text/plain": [
       "                       SET-ID  STEP        LK\n",
       "0    IQtreeStartingTree_Trees     0  0.983439\n",
       "1    IQtreeStartingTree_Trees     1  0.983822\n",
       "2    IQtreeStartingTree_Trees     2  0.984404\n",
       "3    IQtreeStartingTree_Trees     3  0.985124\n",
       "4    IQtreeStartingTree_Trees     4  0.985631\n",
       "..                        ...   ...       ...\n",
       "133   UshERStartingTree_Trees    26  0.999844\n",
       "134   UshERStartingTree_Trees    27  0.999850\n",
       "135   UshERStartingTree_Trees    28  0.999976\n",
       "136   UshERStartingTree_Trees    29  1.000000\n",
       "137       TrueTreeSimulations     0  0.706890\n",
       "\n",
       "[138 rows x 3 columns]"
      ]
     },
     "execution_count": 17,
     "metadata": {},
     "output_type": "execute_result"
    }
   ],
   "source": [
    "# Method 1:\n",
    "# Given that metadata is a pandas dataframe, \n",
    "# one may simply add columns to it!\n",
    "df_LK = pd.read_csv(\"Likelihoods.csv\")\n",
    "collection_maple.metadata['LK'] = df_LK['LK']\n",
    "collection_maple.metadata"
   ]
  },
  {
   "cell_type": "code",
   "execution_count": 18,
   "id": "3bbad400",
   "metadata": {},
   "outputs": [
    {
     "data": {
      "text/html": [
       "<div>\n",
       "<style scoped>\n",
       "    .dataframe tbody tr th:only-of-type {\n",
       "        vertical-align: middle;\n",
       "    }\n",
       "\n",
       "    .dataframe tbody tr th {\n",
       "        vertical-align: top;\n",
       "    }\n",
       "\n",
       "    .dataframe thead th {\n",
       "        text-align: right;\n",
       "    }\n",
       "</style>\n",
       "<table border=\"1\" class=\"dataframe\">\n",
       "  <thead>\n",
       "    <tr style=\"text-align: right;\">\n",
       "      <th></th>\n",
       "      <th>SET-ID</th>\n",
       "      <th>STEP</th>\n",
       "      <th>LK</th>\n",
       "    </tr>\n",
       "  </thead>\n",
       "  <tbody>\n",
       "    <tr>\n",
       "      <th>0</th>\n",
       "      <td>IQtreeStartingTree_Trees</td>\n",
       "      <td>0</td>\n",
       "      <td>0.983439</td>\n",
       "    </tr>\n",
       "    <tr>\n",
       "      <th>1</th>\n",
       "      <td>IQtreeStartingTree_Trees</td>\n",
       "      <td>1</td>\n",
       "      <td>0.983822</td>\n",
       "    </tr>\n",
       "    <tr>\n",
       "      <th>2</th>\n",
       "      <td>IQtreeStartingTree_Trees</td>\n",
       "      <td>2</td>\n",
       "      <td>0.984404</td>\n",
       "    </tr>\n",
       "    <tr>\n",
       "      <th>3</th>\n",
       "      <td>IQtreeStartingTree_Trees</td>\n",
       "      <td>3</td>\n",
       "      <td>0.985124</td>\n",
       "    </tr>\n",
       "    <tr>\n",
       "      <th>4</th>\n",
       "      <td>IQtreeStartingTree_Trees</td>\n",
       "      <td>4</td>\n",
       "      <td>0.985631</td>\n",
       "    </tr>\n",
       "    <tr>\n",
       "      <th>...</th>\n",
       "      <td>...</td>\n",
       "      <td>...</td>\n",
       "      <td>...</td>\n",
       "    </tr>\n",
       "    <tr>\n",
       "      <th>133</th>\n",
       "      <td>UshERStartingTree_Trees</td>\n",
       "      <td>26</td>\n",
       "      <td>0.999844</td>\n",
       "    </tr>\n",
       "    <tr>\n",
       "      <th>134</th>\n",
       "      <td>UshERStartingTree_Trees</td>\n",
       "      <td>27</td>\n",
       "      <td>0.999850</td>\n",
       "    </tr>\n",
       "    <tr>\n",
       "      <th>135</th>\n",
       "      <td>UshERStartingTree_Trees</td>\n",
       "      <td>28</td>\n",
       "      <td>0.999976</td>\n",
       "    </tr>\n",
       "    <tr>\n",
       "      <th>136</th>\n",
       "      <td>UshERStartingTree_Trees</td>\n",
       "      <td>29</td>\n",
       "      <td>1.000000</td>\n",
       "    </tr>\n",
       "    <tr>\n",
       "      <th>137</th>\n",
       "      <td>TrueTreeSimulations</td>\n",
       "      <td>0</td>\n",
       "      <td>0.706890</td>\n",
       "    </tr>\n",
       "  </tbody>\n",
       "</table>\n",
       "<p>138 rows × 3 columns</p>\n",
       "</div>"
      ],
      "text/plain": [
       "                       SET-ID  STEP        LK\n",
       "0    IQtreeStartingTree_Trees     0  0.983439\n",
       "1    IQtreeStartingTree_Trees     1  0.983822\n",
       "2    IQtreeStartingTree_Trees     2  0.984404\n",
       "3    IQtreeStartingTree_Trees     3  0.985124\n",
       "4    IQtreeStartingTree_Trees     4  0.985631\n",
       "..                        ...   ...       ...\n",
       "133   UshERStartingTree_Trees    26  0.999844\n",
       "134   UshERStartingTree_Trees    27  0.999850\n",
       "135   UshERStartingTree_Trees    28  0.999976\n",
       "136   UshERStartingTree_Trees    29  1.000000\n",
       "137       TrueTreeSimulations     0  0.706890\n",
       "\n",
       "[138 rows x 3 columns]"
      ]
     },
     "execution_count": 18,
     "metadata": {},
     "output_type": "execute_result"
    }
   ],
   "source": [
    "# Method 2:\n",
    "# One may specify a file with additional \n",
    "# metadata when the object is created\n",
    "collection_maple = tree_set.set_collection(set_list, distance_matrix = \"DistMat_Maple.csv\", metadata=\"Likelihoods.csv\")\n",
    "collection_maple.metadata"
   ]
  },
  {
   "cell_type": "markdown",
   "id": "77e0d0b7",
   "metadata": {},
   "source": [
    "If, for any reason, the \"DisMat_Maple.csv\" is not present in the folder, we need to compute the distance matrix. We chose to upload the precomputed distance matrix as the `smart_RF` method takes much longer to compute than `hashrf_RF`, and we wanted this notebook to run smoothly and rapidly."
   ]
  },
  {
   "cell_type": "code",
   "execution_count": 19,
   "id": "35db4aa6",
   "metadata": {},
   "outputs": [
    {
     "data": {
      "text/plain": [
       "(138, 138)"
      ]
     },
     "execution_count": 19,
     "metadata": {},
     "output_type": "execute_result"
    }
   ],
   "source": [
    "if collection_maple.distance_matrix is None:\n",
    "    start = time.time()\n",
    "    collection_maple.calculate_distances('days_RF')\n",
    "    np.savetxt(\"DistMat_Maple.csv\", collection_maple.distance_matrix, delimiter=\",\")\n",
    "    print(time.time() - start)\n",
    "collection_maple.distance_matrix.shape"
   ]
  },
  {
   "cell_type": "markdown",
   "id": "eccea8d5",
   "metadata": {},
   "source": [
    "We colour the trees based on their likelihood in the 2D plot, while we replace the $Z_{axis}$ with the likelihood in the 3D plot. <br>\n",
    "`same_scale` makes sure that points with the same value have the same colour in the graphs."
   ]
  },
  {
   "cell_type": "code",
   "execution_count": null,
   "id": "99651cc3",
   "metadata": {},
   "outputs": [],
   "source": [
    "collection_maple.plot_3D('pca', plot_meta = 'LK', same_scale = True, select = True)"
   ]
  },
  {
   "cell_type": "code",
   "execution_count": null,
   "id": "94f63ffc",
   "metadata": {},
   "outputs": [],
   "source": [
    "collection_maple.plot_3D('pca', plot_meta = 'LK', same_scale = True, select = True, z_axis = 'LK')"
   ]
  },
  {
   "cell_type": "markdown",
   "id": "f5d16e8f",
   "metadata": {},
   "source": [
    "What if I wanted to make one of these trees to \"pop out\"? Well, we can add a coulumn called `\"highlight\"` that will automatically be read by the plotting function to \"highloght\" the points specified. The columns has to be binary (0s and 1s), where the 1s indicate that a tree should be highlighted. It is crucial here to know the order and size of the sets, as the column is shared by the whole collection. <b>Note that</b>: the vector `\"highlight\"` <b>must be integer (dtype = int)!</b>."
   ]
  },
  {
   "cell_type": "markdown",
   "id": "c9ecca07",
   "metadata": {},
   "source": [
    "#### Easy example: \n",
    "we want to highight the true tree, which is the last in the collection."
   ]
  },
  {
   "cell_type": "code",
   "execution_count": 45,
   "id": "67b82704",
   "metadata": {},
   "outputs": [
    {
     "data": {
      "text/html": [
       "<div>\n",
       "<style scoped>\n",
       "    .dataframe tbody tr th:only-of-type {\n",
       "        vertical-align: middle;\n",
       "    }\n",
       "\n",
       "    .dataframe tbody tr th {\n",
       "        vertical-align: top;\n",
       "    }\n",
       "\n",
       "    .dataframe thead th {\n",
       "        text-align: right;\n",
       "    }\n",
       "</style>\n",
       "<table border=\"1\" class=\"dataframe\">\n",
       "  <thead>\n",
       "    <tr style=\"text-align: right;\">\n",
       "      <th></th>\n",
       "      <th>SET-ID</th>\n",
       "      <th>STEP</th>\n",
       "      <th>LK</th>\n",
       "      <th>highlight</th>\n",
       "    </tr>\n",
       "  </thead>\n",
       "  <tbody>\n",
       "    <tr>\n",
       "      <th>0</th>\n",
       "      <td>IQtreeStartingTree_Trees</td>\n",
       "      <td>0</td>\n",
       "      <td>0.983439</td>\n",
       "      <td>0</td>\n",
       "    </tr>\n",
       "    <tr>\n",
       "      <th>1</th>\n",
       "      <td>IQtreeStartingTree_Trees</td>\n",
       "      <td>1</td>\n",
       "      <td>0.983822</td>\n",
       "      <td>0</td>\n",
       "    </tr>\n",
       "    <tr>\n",
       "      <th>2</th>\n",
       "      <td>IQtreeStartingTree_Trees</td>\n",
       "      <td>2</td>\n",
       "      <td>0.984404</td>\n",
       "      <td>0</td>\n",
       "    </tr>\n",
       "    <tr>\n",
       "      <th>3</th>\n",
       "      <td>IQtreeStartingTree_Trees</td>\n",
       "      <td>3</td>\n",
       "      <td>0.985124</td>\n",
       "      <td>0</td>\n",
       "    </tr>\n",
       "    <tr>\n",
       "      <th>4</th>\n",
       "      <td>IQtreeStartingTree_Trees</td>\n",
       "      <td>4</td>\n",
       "      <td>0.985631</td>\n",
       "      <td>0</td>\n",
       "    </tr>\n",
       "    <tr>\n",
       "      <th>...</th>\n",
       "      <td>...</td>\n",
       "      <td>...</td>\n",
       "      <td>...</td>\n",
       "      <td>...</td>\n",
       "    </tr>\n",
       "    <tr>\n",
       "      <th>133</th>\n",
       "      <td>UshERStartingTree_Trees</td>\n",
       "      <td>26</td>\n",
       "      <td>0.999844</td>\n",
       "      <td>0</td>\n",
       "    </tr>\n",
       "    <tr>\n",
       "      <th>134</th>\n",
       "      <td>UshERStartingTree_Trees</td>\n",
       "      <td>27</td>\n",
       "      <td>0.999850</td>\n",
       "      <td>0</td>\n",
       "    </tr>\n",
       "    <tr>\n",
       "      <th>135</th>\n",
       "      <td>UshERStartingTree_Trees</td>\n",
       "      <td>28</td>\n",
       "      <td>0.999976</td>\n",
       "      <td>0</td>\n",
       "    </tr>\n",
       "    <tr>\n",
       "      <th>136</th>\n",
       "      <td>UshERStartingTree_Trees</td>\n",
       "      <td>29</td>\n",
       "      <td>1.000000</td>\n",
       "      <td>0</td>\n",
       "    </tr>\n",
       "    <tr>\n",
       "      <th>137</th>\n",
       "      <td>TrueTreeSimulations</td>\n",
       "      <td>0</td>\n",
       "      <td>0.706890</td>\n",
       "      <td>1</td>\n",
       "    </tr>\n",
       "  </tbody>\n",
       "</table>\n",
       "<p>138 rows × 4 columns</p>\n",
       "</div>"
      ],
      "text/plain": [
       "                       SET-ID  STEP        LK  highlight\n",
       "0    IQtreeStartingTree_Trees     0  0.983439          0\n",
       "1    IQtreeStartingTree_Trees     1  0.983822          0\n",
       "2    IQtreeStartingTree_Trees     2  0.984404          0\n",
       "3    IQtreeStartingTree_Trees     3  0.985124          0\n",
       "4    IQtreeStartingTree_Trees     4  0.985631          0\n",
       "..                        ...   ...       ...        ...\n",
       "133   UshERStartingTree_Trees    26  0.999844          0\n",
       "134   UshERStartingTree_Trees    27  0.999850          0\n",
       "135   UshERStartingTree_Trees    28  0.999976          0\n",
       "136   UshERStartingTree_Trees    29  1.000000          0\n",
       "137       TrueTreeSimulations     0  0.706890          1\n",
       "\n",
       "[138 rows x 4 columns]"
      ]
     },
     "execution_count": 45,
     "metadata": {},
     "output_type": "execute_result"
    }
   ],
   "source": [
    "highlight_mask = np.zeros(collection_maple.metadata.shape[0], dtype=int) # vector of 0s with size = n_trees\n",
    "highlight_mask[-1] = 1 # last element set to 1\n",
    "collection_maple.metadata['highlight'] = highlight_mask\n",
    "collection_maple.metadata"
   ]
  },
  {
   "cell_type": "code",
   "execution_count": 46,
   "id": "d705d920",
   "metadata": {},
   "outputs": [
    {
     "data": {
      "application/vnd.plotly.v1+json": {
       "config": {
        "plotlyServerURL": "https://plot.ly"
       },
       "data": [
        {
         "marker": {
          "color": [
           0,
           0,
           0,
           0,
           0,
           0,
           0,
           0,
           0,
           0,
           0,
           0,
           0,
           0,
           0,
           0,
           0,
           0,
           0,
           0,
           0,
           0,
           0,
           0,
           0,
           0,
           0,
           0,
           0,
           0,
           0,
           0,
           0,
           0,
           0,
           0,
           0,
           0,
           0,
           0,
           0,
           0,
           0,
           0,
           0,
           0,
           0,
           0,
           0,
           0,
           0,
           0,
           0,
           0,
           0,
           0,
           0,
           0,
           0,
           0,
           0,
           0,
           0,
           0,
           0,
           0,
           0,
           0,
           0,
           0,
           0,
           0,
           0,
           0,
           0,
           0,
           0,
           0,
           0,
           0,
           0,
           0,
           0,
           0,
           0,
           0,
           0,
           0,
           0,
           0,
           0,
           0,
           0,
           0,
           0,
           0,
           0,
           0,
           0,
           0,
           0,
           0,
           0,
           0,
           0,
           0,
           0,
           0,
           0,
           0,
           0,
           0,
           0,
           0,
           0,
           0,
           0,
           0,
           0,
           0,
           0,
           0,
           0,
           0,
           0,
           0,
           0,
           0,
           0,
           0,
           0,
           0,
           0,
           0,
           0,
           0,
           0,
           1
          ],
          "colorscale": [
           [
            0,
            "#000080"
           ],
           [
            0.05263157894736842,
            "#0000bd"
           ],
           [
            0.10526315789473684,
            "#0000fa"
           ],
           [
            0.15789473684210525,
            "#0022ff"
           ],
           [
            0.21052631578947367,
            "#0057ff"
           ],
           [
            0.2631578947368421,
            "#008dff"
           ],
           [
            0.3157894736842105,
            "#00c3ff"
           ],
           [
            0.3684210526315789,
            "#0ff8e8"
           ],
           [
            0.42105263157894735,
            "#3affbc"
           ],
           [
            0.47368421052631576,
            "#66ff91"
           ],
           [
            0.5263157894736842,
            "#91ff66"
           ],
           [
            0.5789473684210527,
            "#bcff3a"
           ],
           [
            0.631578947368421,
            "#e8ff0f"
           ],
           [
            0.6842105263157895,
            "#ffd500"
           ],
           [
            0.7368421052631579,
            "#ffa400"
           ],
           [
            0.7894736842105263,
            "#ff7200"
           ],
           [
            0.8421052631578947,
            "#ff4000"
           ],
           [
            0.8947368421052632,
            "#fa0e00"
           ],
           [
            0.9473684210526315,
            "#bd0000"
           ],
           [
            1,
            "#800000"
           ]
          ]
         },
         "mode": "markers",
         "opacity": 0.7,
         "showlegend": false,
         "text": [
          0.9834389820406716,
          0.9838216510621484,
          0.9844040875128784,
          0.9851244965776011,
          0.9856306256909808,
          0.9861367478108172,
          0.9867727443600044,
          0.98797429038034,
          0.9883560285649012,
          0.9897745682586838,
          0.9903716696284456,
          0.9914083208226808,
          0.992090006912136,
          0.992965261061446,
          0.9936241722368382,
          0.9944421273999616,
          0.9951131713899564,
          0.9955193694144758,
          0.9965121662136232,
          0.9973095841317264,
          0.9979730419913484,
          0.9986857301088392,
          0.9991596836326292,
          0.9993217239902888,
          0.9994451309212636,
          0.9995586755634768,
          0.9995827684588792,
          0.9997099306836248,
          0.9998226591340652,
          0.9986023730484808,
          0.9989464630593512,
          0.9989862118330178,
          0.999159146677458,
          0.9992857427316746,
          0.9700672945134876,
          0.9705412479272008,
          0.9709861015878892,
          0.9712343475425222,
          0.9721987423836932,
          0.9730398734093442,
          0.973746688068956,
          0.9739949090965808,
          0.97426758904019,
          0.974515843601646,
          0.9753335648896028,
          0.9781142669763092,
          0.9784730112752232,
          0.9788397301135984,
          0.9793989881555106,
          0.979647240925236,
          0.9803066666455064,
          0.9806124534020892,
          0.9808606787052772,
          0.981502890948614,
          0.984283625070406,
          0.98507367815447,
          0.9853218989826008,
          0.9878543990753186,
          0.9881991456978512,
          0.9894122197644112,
          0.9896604738739864,
          0.9903829284940237,
          0.990631150160294,
          0.9912923076111828,
          0.9919329511550166,
          0.9925281516974548,
          0.9927764303275964,
          0.9930703430129498,
          0.9942329951946998,
          0.9955084987849606,
          0.996363006753178,
          0.9966112695839008,
          0.9976579655375788,
          0.998170213167428,
          0.9992057157081702,
          0.9994813123358276,
          0.9995511853608854,
          0.9997243740269116,
          0.999890532695813,
          0.9999323830247656,
          0.9999323861421732,
          0,
          0.0023641354971635,
          0.0026336564917542,
          0.0037234091454712,
          0.0047693741770589,
          0.0070085499305209,
          0.0073844105578946,
          0.0079231912994625,
          0.0085897268422595,
          0.0093662981566742,
          0.0096167124293304,
          0.0100384183628989,
          0.0106552444766868,
          0.0120837761302705,
          0.0127054213741059,
          0.0131725447461819,
          0.0140029776959506,
          0.0144819216317713,
          0.0161338203746266,
          0.0163821031466183,
          0.0167793831788193,
          0.0168921199492958,
          0.0169701955241933,
          0.0171791042122078,
          0.017297107238211,
          0.0174747143419849,
          0.9749631951512032,
          0.976279341584308,
          0.9779473526074955,
          0.9799017954421544,
          0.980375748867021,
          0.98078883907599,
          0.9811327784252888,
          0.9823467347249852,
          0.9825949738185972,
          0.9831917470761882,
          0.9849785239649004,
          0.9862996007018916,
          0.9865478240118036,
          0.988204443972448,
          0.9901669531333946,
          0.9921830535834956,
          0.992848579084468,
          0.993131626719738,
          0.9948014810823456,
          0.996636378460184,
          0.9985772594548528,
          0.9992849868137396,
          0.999397753806434,
          0.9995632613456408,
          0.9996326687449996,
          0.9998060423970282,
          0.9998444854068156,
          0.9998497060727564,
          0.9999758011241916,
          1,
          0.7068901658026021
         ],
         "type": "scatter",
         "visible": false,
         "x": [
          -46.93082714843747,
          -56.09122432767226,
          -73.44514131464965,
          -76.82877345673278,
          -81.765697304933,
          -88.22940877426689,
          -92.75303335188387,
          -97.30253005300509,
          -100.22067867153665,
          -120.28999687829564,
          -132.91423984212167,
          -157.90555254739965,
          -160.29851171906614,
          -156.0289691119781,
          -171.29715705811734,
          -171.99983637435187,
          -172.13463679281892,
          -158.36183211235675,
          -166.011682362067,
          -168.0237769648214,
          -165.198234725238,
          -164.39374764216282,
          -161.37639678005837,
          -161.1965303697523,
          -165.4490477363242,
          -148.29351385755288,
          -147.09012191684587,
          -143.2261195299264,
          -127.70346018107945,
          -100.1855140929894,
          -115.52880862156209,
          -118.78972964513537,
          -124.48423620969498,
          -123.36706821870503,
          405.89956960926077,
          408.9169204713652,
          412.5346356350046,
          409.7214075544403,
          407.6561143696664,
          404.6502762648803,
          400.6118238119496,
          397.50859103284137,
          390.4422499234381,
          387.6371019080664,
          381.8127605002071,
          374.3104705176126,
          374.02677759924757,
          371.44760249195883,
          367.9591862823231,
          365.1688952747493,
          352.41088146191663,
          337.8287330240184,
          335.0569644749391,
          320.6975475924695,
          296.37211943767556,
          274.0949520876059,
          271.36940478826074,
          253.86972146601886,
          251.24920406112963,
          239.85147031864892,
          240.45989312078365,
          216.87066613173508,
          216.28203139655236,
          201.96838007439646,
          176.69836053495303,
          164.074117571127,
          161.60927858494807,
          146.58922171128478,
          125.28525807741173,
          97.51712819489099,
          65.74914809689331,
          64.33454681491234,
          46.57704230947875,
          14.657459357172906,
          -3.965346063351149,
          -5.2595061469660935,
          -10.718113184054225,
          -22.30121345806364,
          -27.995720022623185,
          -31.256641046196517,
          -31.256641046196535,
          -126.78907486634809,
          -131.49263420986432,
          -132.69602615057119,
          -134.76131933534518,
          -135.21224295071957,
          -145.69346959773995,
          -146.14855054572539,
          -149.73192205067065,
          -152.11392213502745,
          -168.366899380089,
          -170.70399660064965,
          -171.21066418228588,
          -164.59443380277682,
          -180.73866836363513,
          -186.4331749281947,
          -198.0162752022041,
          -200.63679260709324,
          -206.09539964418136,
          -217.4931333866622,
          -216.8847105845274,
          -205.45631688748693,
          -189.93365753864012,
          -186.37479360439997,
          -169.21925972562863,
          -169.52689454930592,
          -172.78781557287934,
          -20.038068903669917,
          -22.349955658064047,
          -24.72849334065964,
          -27.0375227420621,
          -24.0201718799577,
          -24.526839461593926,
          -27.147356866483033,
          -38.545090608963875,
          -37.93666780682916,
          -52.296084689298695,
          -54.11118147660749,
          -56.8684786654211,
          -59.30208830033921,
          -60.86437087596697,
          -62.34302256356459,
          -65.13387150736924,
          -78.93141829580662,
          -93.95147516946993,
          -101.90881563028005,
          -104.76122658469475,
          -105.64558441772286,
          -109.68403687065351,
          -94.16137752180661,
          -99.8558840863662,
          -105.31449112345436,
          -116.89759139746374,
          -120.15851242103709,
          -120.15851242103709,
          -119.04134443004722,
          -117.8379524893402,
          -9.23916066656199
         ],
         "xaxis": "x",
         "y": [
          415.3536823987752,
          427.20627251115565,
          406.8171040757961,
          398.3086463342782,
          390.4721939593941,
          383.0327582013863,
          375.4728684429792,
          357.86640005734665,
          338.97202924632063,
          319.51218555756367,
          316.0875730867254,
          302.8129656635796,
          272.2783363772432,
          243.98120037140617,
          218.78343244450429,
          187.09592352154,
          155.14254515321258,
          135.7360565267146,
          117.46129618989133,
          101.41324389605879,
          58.29334766659815,
          26.147633784793584,
          -3.683717878784008,
          -15.089692181109106,
          -42.551485761816,
          -68.00045397183479,
          -59.05987993152889,
          -79.42100531668706,
          -85.82107212831343,
          -95.90550504515399,
          -112.80873576347321,
          -104.82489522539015,
          -98.80243859786418,
          -99.45691576178176,
          179.72039201729083,
          149.88904035371328,
          125.33050985160027,
          117.7433264719088,
          107.5649682948638,
          99.45870663344644,
          93.93544149255028,
          86.44198970907705,
          70.10886865531816,
          62.541523746550126,
          54.948888347587605,
          48.78697467461343,
          48.88402292942857,
          39.21964683860482,
          40.146191268576615,
          32.594653301568286,
          8.461518787156525,
          -4.396660128235438,
          -11.927649648203364,
          -19.768771596999844,
          -37.11674128366903,
          -46.53533209968746,
          -54.05430630293321,
          -64.77956966501405,
          -70.53480146458683,
          -72.98751215343052,
          -83.28033264769049,
          -92.65976634378427,
          -102.93277010682887,
          -96.70731552691325,
          -119.98596098262618,
          -123.41057345346445,
          -131.03893893622302,
          -135.1080941323176,
          -133.87660995618344,
          -138.0500460518814,
          -146.79763367006817,
          -156.00858375026215,
          -147.18236959964955,
          -153.71522637151654,
          -161.5868794121891,
          -160.08823061160857,
          -154.65202106783613,
          -143.34166542310373,
          -137.31920879557774,
          -129.33536825749462,
          -129.33536825749465,
          99.78961951266456,
          84.60878167578993,
          75.66820763548412,
          65.48984945843924,
          62.239978037716874,
          41.23243247338526,
          45.08388636071969,
          35.709167332489095,
          21.563909542499616,
          21.05427792864754,
          13.469654730402455,
          1.902461638221697,
          -18.83086144525392,
          -23.586103447188503,
          -17.563646819662548,
          -6.25329117493005,
          -12.00852297450284,
          -6.572313430730377,
          -9.025024119574148,
          -19.31784461383403,
          -46.431491114344745,
          -52.831557925971175,
          -38.71655369364088,
          -64.16552190365961,
          -47.42962376639731,
          -39.445783228314205,
          -22.888658173139643,
          -30.234819819690276,
          -37.50394860106818,
          -44.57722390179768,
          -74.40857556537537,
          -85.9757686575561,
          -91.73100045712894,
          -94.1837111459727,
          -104.47653164023244,
          -112.31765358902904,
          -117.79498715425507,
          -126.067740710303,
          -133.48333409419453,
          -138.22289617788982,
          -142.71891886540655,
          -151.22687897636297,
          -148.41830805593608,
          -152.48746325203072,
          -157.31442141704574,
          -167.06184694372854,
          -170.11234485870634,
          -175.63560999960254,
          -182.03567681122885,
          -176.01322018370288,
          -170.5770106399304,
          -159.266654995198,
          -151.2828144571149,
          -151.2828144571149,
          -151.93729162103256,
          -142.99671758072662,
          308.51650255413733
         ],
         "yaxis": "y"
        },
        {
         "customdata": [
          0,
          1,
          2,
          3,
          4,
          5,
          6,
          7,
          8,
          9,
          10,
          11,
          12,
          13,
          14,
          15,
          16,
          17,
          18,
          19,
          20,
          21,
          22,
          23,
          24,
          25,
          26,
          27,
          28,
          0,
          1,
          2,
          3,
          4,
          0,
          1,
          2,
          3,
          4,
          5,
          6,
          7,
          8,
          9,
          10,
          11,
          12,
          13,
          14,
          15,
          16,
          17,
          18,
          19,
          20,
          21,
          22,
          23,
          24,
          25,
          26,
          27,
          28,
          29,
          30,
          31,
          32,
          33,
          34,
          35,
          36,
          37,
          38,
          39,
          40,
          41,
          42,
          43,
          44,
          45,
          46,
          0,
          1,
          2,
          3,
          4,
          5,
          6,
          7,
          8,
          9,
          10,
          11,
          12,
          13,
          14,
          15,
          16,
          17,
          18,
          19,
          20,
          21,
          22,
          23,
          24,
          25,
          0,
          1,
          2,
          3,
          4,
          5,
          6,
          7,
          8,
          9,
          10,
          11,
          12,
          13,
          14,
          15,
          16,
          17,
          18,
          19,
          20,
          21,
          22,
          23,
          24,
          25,
          26,
          27,
          28,
          29,
          0
         ],
         "hovertemplate": "<b>Trace: %{text}</b><br>Step: %{customdata}<br>PCo1: %{x}<br>PCo2: %{y}<br>",
         "marker": {
          "cmax": 0,
          "cmin": 0,
          "color": [
           57,
           58,
           60,
           63,
           65,
           66,
           69,
           71,
           74,
           77,
           79,
           83,
           85,
           90,
           93,
           95,
           97,
           99,
           101,
           104,
           106,
           110,
           114,
           118,
           120,
           123,
           125,
           127,
           130
          ],
          "colorscale": [
           [
            0,
            "rgb(0,0,131)"
           ],
           [
            0.2,
            "rgb(0,60,170)"
           ],
           [
            0.4,
            "rgb(5,255,255)"
           ],
           [
            0.6,
            "rgb(255,255,0)"
           ],
           [
            0.8,
            "rgb(250,0,0)"
           ],
           [
            1,
            "rgb(128,0,0)"
           ]
          ],
          "line": {
           "width": 2
          },
          "size": [
           10,
           10,
           10,
           10,
           10,
           10,
           10,
           10,
           10,
           10,
           10,
           10,
           10,
           10,
           10,
           10,
           10,
           10,
           10,
           10,
           10,
           10,
           10,
           10,
           10,
           10,
           10,
           10,
           10
          ],
          "symbol": [
           "circle",
           "circle",
           "circle",
           "circle",
           "circle",
           "circle",
           "circle",
           "circle",
           "circle",
           "circle",
           "circle",
           "circle",
           "circle",
           "circle",
           "circle",
           "circle",
           "circle",
           "circle",
           "circle",
           "circle",
           "circle",
           "circle",
           "circle",
           "circle",
           "circle",
           "circle",
           "circle",
           "circle",
           "circle"
          ]
         },
         "mode": "markers",
         "name": "IQtreeStartingTree_Trees",
         "opacity": 0.7,
         "showlegend": false,
         "text": [
          "IQtreeStartingTree_Trees",
          "IQtreeStartingTree_Trees",
          "IQtreeStartingTree_Trees",
          "IQtreeStartingTree_Trees",
          "IQtreeStartingTree_Trees",
          "IQtreeStartingTree_Trees",
          "IQtreeStartingTree_Trees",
          "IQtreeStartingTree_Trees",
          "IQtreeStartingTree_Trees",
          "IQtreeStartingTree_Trees",
          "IQtreeStartingTree_Trees",
          "IQtreeStartingTree_Trees",
          "IQtreeStartingTree_Trees",
          "IQtreeStartingTree_Trees",
          "IQtreeStartingTree_Trees",
          "IQtreeStartingTree_Trees",
          "IQtreeStartingTree_Trees",
          "IQtreeStartingTree_Trees",
          "IQtreeStartingTree_Trees",
          "IQtreeStartingTree_Trees",
          "IQtreeStartingTree_Trees",
          "IQtreeStartingTree_Trees",
          "IQtreeStartingTree_Trees",
          "IQtreeStartingTree_Trees",
          "IQtreeStartingTree_Trees",
          "IQtreeStartingTree_Trees",
          "IQtreeStartingTree_Trees",
          "IQtreeStartingTree_Trees",
          "IQtreeStartingTree_Trees"
         ],
         "type": "scatter",
         "visible": true,
         "x": [
          -46.93082714843747,
          -56.09122432767226,
          -73.44514131464965,
          -76.82877345673278,
          -81.765697304933,
          -88.22940877426689,
          -92.75303335188387,
          -97.30253005300509,
          -100.22067867153665,
          -120.28999687829564,
          -132.91423984212167,
          -157.90555254739965,
          -160.29851171906614,
          -156.0289691119781,
          -171.29715705811734,
          -171.99983637435187,
          -172.13463679281892,
          -158.36183211235675,
          -166.011682362067,
          -168.0237769648214,
          -165.198234725238,
          -164.39374764216282,
          -161.37639678005837,
          -161.1965303697523,
          -165.4490477363242,
          -148.29351385755288,
          -147.09012191684587,
          -143.2261195299264,
          -127.70346018107945
         ],
         "y": [
          415.3536823987752,
          427.20627251115565,
          406.8171040757961,
          398.3086463342782,
          390.4721939593941,
          383.0327582013863,
          375.4728684429792,
          357.86640005734665,
          338.97202924632063,
          319.51218555756367,
          316.0875730867254,
          302.8129656635796,
          272.2783363772432,
          243.98120037140617,
          218.78343244450429,
          187.09592352154,
          155.14254515321258,
          135.7360565267146,
          117.46129618989133,
          101.41324389605879,
          58.29334766659815,
          26.147633784793584,
          -3.683717878784008,
          -15.089692181109106,
          -42.551485761816,
          -68.00045397183479,
          -59.05987993152889,
          -79.42100531668706,
          -85.82107212831343
         ]
        },
        {
         "customdata": [
          0,
          1,
          2,
          3,
          4,
          5,
          6,
          7,
          8,
          9,
          10,
          11,
          12,
          13,
          14,
          15,
          16,
          17,
          18,
          19,
          20,
          21,
          22,
          23,
          24,
          25,
          26,
          27,
          28,
          0,
          1,
          2,
          3,
          4,
          0,
          1,
          2,
          3,
          4,
          5,
          6,
          7,
          8,
          9,
          10,
          11,
          12,
          13,
          14,
          15,
          16,
          17,
          18,
          19,
          20,
          21,
          22,
          23,
          24,
          25,
          26,
          27,
          28,
          29,
          30,
          31,
          32,
          33,
          34,
          35,
          36,
          37,
          38,
          39,
          40,
          41,
          42,
          43,
          44,
          45,
          46,
          0,
          1,
          2,
          3,
          4,
          5,
          6,
          7,
          8,
          9,
          10,
          11,
          12,
          13,
          14,
          15,
          16,
          17,
          18,
          19,
          20,
          21,
          22,
          23,
          24,
          25,
          0,
          1,
          2,
          3,
          4,
          5,
          6,
          7,
          8,
          9,
          10,
          11,
          12,
          13,
          14,
          15,
          16,
          17,
          18,
          19,
          20,
          21,
          22,
          23,
          24,
          25,
          26,
          27,
          28,
          29,
          0
         ],
         "hovertemplate": "<b>Trace: %{text}</b><br>Step: %{customdata}<br>PCo1: %{x}<br>PCo2: %{y}<br>",
         "marker": {
          "cmax": 0,
          "cmin": 0,
          "color": [
           109,
           111,
           112,
           113,
           117
          ],
          "colorscale": [
           [
            0,
            "rgb(0,0,131)"
           ],
           [
            0.2,
            "rgb(0,60,170)"
           ],
           [
            0.4,
            "rgb(5,255,255)"
           ],
           [
            0.6,
            "rgb(255,255,0)"
           ],
           [
            0.8,
            "rgb(250,0,0)"
           ],
           [
            1,
            "rgb(128,0,0)"
           ]
          ],
          "line": {
           "width": 2
          },
          "size": [
           10,
           10,
           10,
           10,
           10
          ],
          "symbol": [
           "circle",
           "circle",
           "circle",
           "circle",
           "circle"
          ]
         },
         "mode": "markers",
         "name": "MapleStartingTree_Trees",
         "opacity": 0.7,
         "showlegend": false,
         "text": [
          "MapleStartingTree_Trees",
          "MapleStartingTree_Trees",
          "MapleStartingTree_Trees",
          "MapleStartingTree_Trees",
          "MapleStartingTree_Trees"
         ],
         "type": "scatter",
         "visible": true,
         "x": [
          -100.1855140929894,
          -115.52880862156209,
          -118.78972964513537,
          -124.48423620969498,
          -123.36706821870503
         ],
         "y": [
          -95.90550504515399,
          -112.80873576347321,
          -104.82489522539015,
          -98.80243859786418,
          -99.45691576178176
         ]
        },
        {
         "customdata": [
          0,
          1,
          2,
          3,
          4,
          5,
          6,
          7,
          8,
          9,
          10,
          11,
          12,
          13,
          14,
          15,
          16,
          17,
          18,
          19,
          20,
          21,
          22,
          23,
          24,
          25,
          26,
          27,
          28,
          0,
          1,
          2,
          3,
          4,
          0,
          1,
          2,
          3,
          4,
          5,
          6,
          7,
          8,
          9,
          10,
          11,
          12,
          13,
          14,
          15,
          16,
          17,
          18,
          19,
          20,
          21,
          22,
          23,
          24,
          25,
          26,
          27,
          28,
          29,
          30,
          31,
          32,
          33,
          34,
          35,
          36,
          37,
          38,
          39,
          40,
          41,
          42,
          43,
          44,
          45,
          46,
          0,
          1,
          2,
          3,
          4,
          5,
          6,
          7,
          8,
          9,
          10,
          11,
          12,
          13,
          14,
          15,
          16,
          17,
          18,
          19,
          20,
          21,
          22,
          23,
          24,
          25,
          0,
          1,
          2,
          3,
          4,
          5,
          6,
          7,
          8,
          9,
          10,
          11,
          12,
          13,
          14,
          15,
          16,
          17,
          18,
          19,
          20,
          21,
          22,
          23,
          24,
          25,
          26,
          27,
          28,
          29,
          0
         ],
         "hovertemplate": "<b>Trace: %{text}</b><br>Step: %{customdata}<br>PCo1: %{x}<br>PCo2: %{y}<br>",
         "marker": {
          "cmax": 0,
          "cmin": 0,
          "color": [
           27,
           28,
           29,
           30,
           31,
           32,
           33,
           34,
           35,
           36,
           38,
           41,
           42,
           43,
           44,
           45,
           47,
           49,
           51,
           53,
           59,
           62,
           64,
           70,
           72,
           75,
           76,
           80,
           81,
           82,
           84,
           87,
           88,
           91,
           94,
           98,
           100,
           102,
           105,
           107,
           115,
           121,
           122,
           128,
           133,
           134,
           135
          ],
          "colorscale": [
           [
            0,
            "rgb(0,0,131)"
           ],
           [
            0.2,
            "rgb(0,60,170)"
           ],
           [
            0.4,
            "rgb(5,255,255)"
           ],
           [
            0.6,
            "rgb(255,255,0)"
           ],
           [
            0.8,
            "rgb(250,0,0)"
           ],
           [
            1,
            "rgb(128,0,0)"
           ]
          ],
          "line": {
           "width": 2
          },
          "size": [
           10,
           10,
           10,
           10,
           10,
           10,
           10,
           10,
           10,
           10,
           10,
           10,
           10,
           10,
           10,
           10,
           10,
           10,
           10,
           10,
           10,
           10,
           10,
           10,
           10,
           10,
           10,
           10,
           10,
           10,
           10,
           10,
           10,
           10,
           10,
           10,
           10,
           10,
           10,
           10,
           10,
           10,
           10,
           10,
           10,
           10,
           10
          ],
          "symbol": [
           "circle",
           "circle",
           "circle",
           "circle",
           "circle",
           "circle",
           "circle",
           "circle",
           "circle",
           "circle",
           "circle",
           "circle",
           "circle",
           "circle",
           "circle",
           "circle",
           "circle",
           "circle",
           "circle",
           "circle",
           "circle",
           "circle",
           "circle",
           "circle",
           "circle",
           "circle",
           "circle",
           "circle",
           "circle",
           "circle",
           "circle",
           "circle",
           "circle",
           "circle",
           "circle",
           "circle",
           "circle",
           "circle",
           "circle",
           "circle",
           "circle",
           "circle",
           "circle",
           "circle",
           "circle",
           "circle",
           "circle"
          ]
         },
         "mode": "markers",
         "name": "ParsimonyRAxMLStartingTree_GTRmodel_Trees",
         "opacity": 0.7,
         "showlegend": false,
         "text": [
          "ParsimonyRAxMLStartingTree_GTRmodel_Trees",
          "ParsimonyRAxMLStartingTree_GTRmodel_Trees",
          "ParsimonyRAxMLStartingTree_GTRmodel_Trees",
          "ParsimonyRAxMLStartingTree_GTRmodel_Trees",
          "ParsimonyRAxMLStartingTree_GTRmodel_Trees",
          "ParsimonyRAxMLStartingTree_GTRmodel_Trees",
          "ParsimonyRAxMLStartingTree_GTRmodel_Trees",
          "ParsimonyRAxMLStartingTree_GTRmodel_Trees",
          "ParsimonyRAxMLStartingTree_GTRmodel_Trees",
          "ParsimonyRAxMLStartingTree_GTRmodel_Trees",
          "ParsimonyRAxMLStartingTree_GTRmodel_Trees",
          "ParsimonyRAxMLStartingTree_GTRmodel_Trees",
          "ParsimonyRAxMLStartingTree_GTRmodel_Trees",
          "ParsimonyRAxMLStartingTree_GTRmodel_Trees",
          "ParsimonyRAxMLStartingTree_GTRmodel_Trees",
          "ParsimonyRAxMLStartingTree_GTRmodel_Trees",
          "ParsimonyRAxMLStartingTree_GTRmodel_Trees",
          "ParsimonyRAxMLStartingTree_GTRmodel_Trees",
          "ParsimonyRAxMLStartingTree_GTRmodel_Trees",
          "ParsimonyRAxMLStartingTree_GTRmodel_Trees",
          "ParsimonyRAxMLStartingTree_GTRmodel_Trees",
          "ParsimonyRAxMLStartingTree_GTRmodel_Trees",
          "ParsimonyRAxMLStartingTree_GTRmodel_Trees",
          "ParsimonyRAxMLStartingTree_GTRmodel_Trees",
          "ParsimonyRAxMLStartingTree_GTRmodel_Trees",
          "ParsimonyRAxMLStartingTree_GTRmodel_Trees",
          "ParsimonyRAxMLStartingTree_GTRmodel_Trees",
          "ParsimonyRAxMLStartingTree_GTRmodel_Trees",
          "ParsimonyRAxMLStartingTree_GTRmodel_Trees",
          "ParsimonyRAxMLStartingTree_GTRmodel_Trees",
          "ParsimonyRAxMLStartingTree_GTRmodel_Trees",
          "ParsimonyRAxMLStartingTree_GTRmodel_Trees",
          "ParsimonyRAxMLStartingTree_GTRmodel_Trees",
          "ParsimonyRAxMLStartingTree_GTRmodel_Trees",
          "ParsimonyRAxMLStartingTree_GTRmodel_Trees",
          "ParsimonyRAxMLStartingTree_GTRmodel_Trees",
          "ParsimonyRAxMLStartingTree_GTRmodel_Trees",
          "ParsimonyRAxMLStartingTree_GTRmodel_Trees",
          "ParsimonyRAxMLStartingTree_GTRmodel_Trees",
          "ParsimonyRAxMLStartingTree_GTRmodel_Trees",
          "ParsimonyRAxMLStartingTree_GTRmodel_Trees",
          "ParsimonyRAxMLStartingTree_GTRmodel_Trees",
          "ParsimonyRAxMLStartingTree_GTRmodel_Trees",
          "ParsimonyRAxMLStartingTree_GTRmodel_Trees",
          "ParsimonyRAxMLStartingTree_GTRmodel_Trees",
          "ParsimonyRAxMLStartingTree_GTRmodel_Trees",
          "ParsimonyRAxMLStartingTree_GTRmodel_Trees"
         ],
         "type": "scatter",
         "visible": true,
         "x": [
          405.89956960926077,
          408.9169204713652,
          412.5346356350046,
          409.7214075544403,
          407.6561143696664,
          404.6502762648803,
          400.6118238119496,
          397.50859103284137,
          390.4422499234381,
          387.6371019080664,
          381.8127605002071,
          374.3104705176126,
          374.02677759924757,
          371.44760249195883,
          367.9591862823231,
          365.1688952747493,
          352.41088146191663,
          337.8287330240184,
          335.0569644749391,
          320.6975475924695,
          296.37211943767556,
          274.0949520876059,
          271.36940478826074,
          253.86972146601886,
          251.24920406112963,
          239.85147031864892,
          240.45989312078365,
          216.87066613173508,
          216.28203139655236,
          201.96838007439646,
          176.69836053495303,
          164.074117571127,
          161.60927858494807,
          146.58922171128478,
          125.28525807741173,
          97.51712819489099,
          65.74914809689331,
          64.33454681491234,
          46.57704230947875,
          14.657459357172906,
          -3.965346063351149,
          -5.2595061469660935,
          -10.718113184054225,
          -22.30121345806364,
          -27.995720022623185,
          -31.256641046196517,
          -31.256641046196535
         ],
         "y": [
          179.72039201729083,
          149.88904035371328,
          125.33050985160027,
          117.7433264719088,
          107.5649682948638,
          99.45870663344644,
          93.93544149255028,
          86.44198970907705,
          70.10886865531816,
          62.541523746550126,
          54.948888347587605,
          48.78697467461343,
          48.88402292942857,
          39.21964683860482,
          40.146191268576615,
          32.594653301568286,
          8.461518787156525,
          -4.396660128235438,
          -11.927649648203364,
          -19.768771596999844,
          -37.11674128366903,
          -46.53533209968746,
          -54.05430630293321,
          -64.77956966501405,
          -70.53480146458683,
          -72.98751215343052,
          -83.28033264769049,
          -92.65976634378427,
          -102.93277010682887,
          -96.70731552691325,
          -119.98596098262618,
          -123.41057345346445,
          -131.03893893622302,
          -135.1080941323176,
          -133.87660995618344,
          -138.0500460518814,
          -146.79763367006817,
          -156.00858375026215,
          -147.18236959964955,
          -153.71522637151654,
          -161.5868794121891,
          -160.08823061160857,
          -154.65202106783613,
          -143.34166542310373,
          -137.31920879557774,
          -129.33536825749462,
          -129.33536825749465
         ]
        },
        {
         "customdata": [
          0,
          1,
          2,
          3,
          4,
          5,
          6,
          7,
          8,
          9,
          10,
          11,
          12,
          13,
          14,
          15,
          16,
          17,
          18,
          19,
          20,
          21,
          22,
          23,
          24,
          25,
          26,
          27,
          28,
          0,
          1,
          2,
          3,
          4,
          0,
          1,
          2,
          3,
          4,
          5,
          6,
          7,
          8,
          9,
          10,
          11,
          12,
          13,
          14,
          15,
          16,
          17,
          18,
          19,
          20,
          21,
          22,
          23,
          24,
          25,
          26,
          27,
          28,
          29,
          30,
          31,
          32,
          33,
          34,
          35,
          36,
          37,
          38,
          39,
          40,
          41,
          42,
          43,
          44,
          45,
          46,
          0,
          1,
          2,
          3,
          4,
          5,
          6,
          7,
          8,
          9,
          10,
          11,
          12,
          13,
          14,
          15,
          16,
          17,
          18,
          19,
          20,
          21,
          22,
          23,
          24,
          25,
          0,
          1,
          2,
          3,
          4,
          5,
          6,
          7,
          8,
          9,
          10,
          11,
          12,
          13,
          14,
          15,
          16,
          17,
          18,
          19,
          20,
          21,
          22,
          23,
          24,
          25,
          26,
          27,
          28,
          29,
          0
         ],
         "hovertemplate": "<b>Trace: %{text}</b><br>Step: %{customdata}<br>PCo1: %{x}<br>PCo2: %{y}<br>",
         "marker": {
          "cmax": 0,
          "cmin": 0,
          "color": [
           0,
           137,
           2,
           3,
           4,
           5,
           6,
           7,
           8,
           9,
           10,
           11,
           12,
           13,
           14,
           15,
           16,
           17,
           18,
           19,
           20,
           21,
           22,
           23,
           24,
           25
          ],
          "colorscale": [
           [
            0,
            "rgb(0,0,131)"
           ],
           [
            0.2,
            "rgb(0,60,170)"
           ],
           [
            0.4,
            "rgb(5,255,255)"
           ],
           [
            0.6,
            "rgb(255,255,0)"
           ],
           [
            0.8,
            "rgb(250,0,0)"
           ],
           [
            1,
            "rgb(128,0,0)"
           ]
          ],
          "line": {
           "width": 2
          },
          "size": [
           10,
           10,
           10,
           10,
           10,
           10,
           10,
           10,
           10,
           10,
           10,
           10,
           10,
           10,
           10,
           10,
           10,
           10,
           10,
           10,
           10,
           10,
           10,
           10,
           10,
           10
          ],
          "symbol": [
           "circle",
           "circle",
           "circle",
           "circle",
           "circle",
           "circle",
           "circle",
           "circle",
           "circle",
           "circle",
           "circle",
           "circle",
           "circle",
           "circle",
           "circle",
           "circle",
           "circle",
           "circle",
           "circle",
           "circle",
           "circle",
           "circle",
           "circle",
           "circle",
           "circle",
           "circle"
          ]
         },
         "mode": "markers",
         "name": "RAxMLNGStartingTree_Trees",
         "opacity": 0.7,
         "showlegend": false,
         "text": [
          "RAxMLNGStartingTree_Trees",
          "RAxMLNGStartingTree_Trees",
          "RAxMLNGStartingTree_Trees",
          "RAxMLNGStartingTree_Trees",
          "RAxMLNGStartingTree_Trees",
          "RAxMLNGStartingTree_Trees",
          "RAxMLNGStartingTree_Trees",
          "RAxMLNGStartingTree_Trees",
          "RAxMLNGStartingTree_Trees",
          "RAxMLNGStartingTree_Trees",
          "RAxMLNGStartingTree_Trees",
          "RAxMLNGStartingTree_Trees",
          "RAxMLNGStartingTree_Trees",
          "RAxMLNGStartingTree_Trees",
          "RAxMLNGStartingTree_Trees",
          "RAxMLNGStartingTree_Trees",
          "RAxMLNGStartingTree_Trees",
          "RAxMLNGStartingTree_Trees",
          "RAxMLNGStartingTree_Trees",
          "RAxMLNGStartingTree_Trees",
          "RAxMLNGStartingTree_Trees",
          "RAxMLNGStartingTree_Trees",
          "RAxMLNGStartingTree_Trees",
          "RAxMLNGStartingTree_Trees",
          "RAxMLNGStartingTree_Trees",
          "RAxMLNGStartingTree_Trees"
         ],
         "type": "scatter",
         "visible": true,
         "x": [
          -126.78907486634809,
          -131.49263420986432,
          -132.69602615057119,
          -134.76131933534518,
          -135.21224295071957,
          -145.69346959773995,
          -146.14855054572539,
          -149.73192205067065,
          -152.11392213502745,
          -168.366899380089,
          -170.70399660064965,
          -171.21066418228588,
          -164.59443380277682,
          -180.73866836363513,
          -186.4331749281947,
          -198.0162752022041,
          -200.63679260709324,
          -206.09539964418136,
          -217.4931333866622,
          -216.8847105845274,
          -205.45631688748693,
          -189.93365753864012,
          -186.37479360439997,
          -169.21925972562863,
          -169.52689454930592,
          -172.78781557287934
         ],
         "y": [
          99.78961951266456,
          84.60878167578993,
          75.66820763548412,
          65.48984945843924,
          62.239978037716874,
          41.23243247338526,
          45.08388636071969,
          35.709167332489095,
          21.563909542499616,
          21.05427792864754,
          13.469654730402455,
          1.902461638221697,
          -18.83086144525392,
          -23.586103447188503,
          -17.563646819662548,
          -6.25329117493005,
          -12.00852297450284,
          -6.572313430730377,
          -9.025024119574148,
          -19.31784461383403,
          -46.431491114344745,
          -52.831557925971175,
          -38.71655369364088,
          -64.16552190365961,
          -47.42962376639731,
          -39.445783228314205
         ]
        },
        {
         "customdata": [
          0,
          1,
          2,
          3,
          4,
          5,
          6,
          7,
          8,
          9,
          10,
          11,
          12,
          13,
          14,
          15,
          16,
          17,
          18,
          19,
          20,
          21,
          22,
          23,
          24,
          25,
          26,
          27,
          28,
          0,
          1,
          2,
          3,
          4,
          0,
          1,
          2,
          3,
          4,
          5,
          6,
          7,
          8,
          9,
          10,
          11,
          12,
          13,
          14,
          15,
          16,
          17,
          18,
          19,
          20,
          21,
          22,
          23,
          24,
          25,
          26,
          27,
          28,
          29,
          30,
          31,
          32,
          33,
          34,
          35,
          36,
          37,
          38,
          39,
          40,
          41,
          42,
          43,
          44,
          45,
          46,
          0,
          1,
          2,
          3,
          4,
          5,
          6,
          7,
          8,
          9,
          10,
          11,
          12,
          13,
          14,
          15,
          16,
          17,
          18,
          19,
          20,
          21,
          22,
          23,
          24,
          25,
          0,
          1,
          2,
          3,
          4,
          5,
          6,
          7,
          8,
          9,
          10,
          11,
          12,
          13,
          14,
          15,
          16,
          17,
          18,
          19,
          20,
          21,
          22,
          23,
          24,
          25,
          26,
          27,
          28,
          29,
          0
         ],
         "hovertemplate": "<b>Trace: %{text}</b><br>Step: %{customdata}<br>PCo1: %{x}<br>PCo2: %{y}<br>",
         "marker": {
          "cmax": 0,
          "cmin": 0,
          "color": [
           26
          ],
          "colorscale": [
           [
            0,
            "#fb9a99"
           ],
           [
            0.5,
            "#fb9a99"
           ],
           [
            1,
            "#fb9a99"
           ]
          ],
          "line": {
           "width": 2
          },
          "size": [
           30
          ],
          "symbol": [
           "circle"
          ]
         },
         "mode": "markers",
         "name": "TrueTreeSimulations",
         "opacity": 0.7,
         "showlegend": false,
         "text": [
          "TrueTreeSimulations"
         ],
         "type": "scatter",
         "visible": true,
         "x": [
          -9.23916066656199
         ],
         "y": [
          308.51650255413733
         ]
        },
        {
         "customdata": [
          0,
          1,
          2,
          3,
          4,
          5,
          6,
          7,
          8,
          9,
          10,
          11,
          12,
          13,
          14,
          15,
          16,
          17,
          18,
          19,
          20,
          21,
          22,
          23,
          24,
          25,
          26,
          27,
          28,
          0,
          1,
          2,
          3,
          4,
          0,
          1,
          2,
          3,
          4,
          5,
          6,
          7,
          8,
          9,
          10,
          11,
          12,
          13,
          14,
          15,
          16,
          17,
          18,
          19,
          20,
          21,
          22,
          23,
          24,
          25,
          26,
          27,
          28,
          29,
          30,
          31,
          32,
          33,
          34,
          35,
          36,
          37,
          38,
          39,
          40,
          41,
          42,
          43,
          44,
          45,
          46,
          0,
          1,
          2,
          3,
          4,
          5,
          6,
          7,
          8,
          9,
          10,
          11,
          12,
          13,
          14,
          15,
          16,
          17,
          18,
          19,
          20,
          21,
          22,
          23,
          24,
          25,
          0,
          1,
          2,
          3,
          4,
          5,
          6,
          7,
          8,
          9,
          10,
          11,
          12,
          13,
          14,
          15,
          16,
          17,
          18,
          19,
          20,
          21,
          22,
          23,
          24,
          25,
          26,
          27,
          28,
          29,
          0
         ],
         "hovertemplate": "<b>Trace: %{text}</b><br>Step: %{customdata}<br>PCo1: %{x}<br>PCo2: %{y}<br>",
         "marker": {
          "cmax": 0,
          "cmin": 0,
          "color": [
           37,
           39,
           40,
           46,
           48,
           50,
           52,
           54,
           55,
           56,
           61,
           67,
           68,
           73,
           78,
           86,
           89,
           92,
           96,
           103,
           108,
           116,
           119,
           124,
           126,
           129,
           131,
           132,
           136,
           137
          ],
          "colorscale": [
           [
            0,
            "rgb(0,0,131)"
           ],
           [
            0.2,
            "rgb(0,60,170)"
           ],
           [
            0.4,
            "rgb(5,255,255)"
           ],
           [
            0.6,
            "rgb(255,255,0)"
           ],
           [
            0.8,
            "rgb(250,0,0)"
           ],
           [
            1,
            "rgb(128,0,0)"
           ]
          ],
          "line": {
           "width": 2
          },
          "size": [
           10,
           10,
           10,
           10,
           10,
           10,
           10,
           10,
           10,
           10,
           10,
           10,
           10,
           10,
           10,
           10,
           10,
           10,
           10,
           10,
           10,
           10,
           10,
           10,
           10,
           10,
           10,
           10,
           10,
           10
          ],
          "symbol": [
           "circle",
           "circle",
           "circle",
           "circle",
           "circle",
           "circle",
           "circle",
           "circle",
           "circle",
           "circle",
           "circle",
           "circle",
           "circle",
           "circle",
           "circle",
           "circle",
           "circle",
           "circle",
           "circle",
           "circle",
           "circle",
           "circle",
           "circle",
           "circle",
           "circle",
           "circle",
           "circle",
           "circle",
           "circle",
           "circle"
          ]
         },
         "mode": "markers",
         "name": "UshERStartingTree_Trees",
         "opacity": 0.7,
         "showlegend": false,
         "text": [
          "UshERStartingTree_Trees",
          "UshERStartingTree_Trees",
          "UshERStartingTree_Trees",
          "UshERStartingTree_Trees",
          "UshERStartingTree_Trees",
          "UshERStartingTree_Trees",
          "UshERStartingTree_Trees",
          "UshERStartingTree_Trees",
          "UshERStartingTree_Trees",
          "UshERStartingTree_Trees",
          "UshERStartingTree_Trees",
          "UshERStartingTree_Trees",
          "UshERStartingTree_Trees",
          "UshERStartingTree_Trees",
          "UshERStartingTree_Trees",
          "UshERStartingTree_Trees",
          "UshERStartingTree_Trees",
          "UshERStartingTree_Trees",
          "UshERStartingTree_Trees",
          "UshERStartingTree_Trees",
          "UshERStartingTree_Trees",
          "UshERStartingTree_Trees",
          "UshERStartingTree_Trees",
          "UshERStartingTree_Trees",
          "UshERStartingTree_Trees",
          "UshERStartingTree_Trees",
          "UshERStartingTree_Trees",
          "UshERStartingTree_Trees",
          "UshERStartingTree_Trees",
          "UshERStartingTree_Trees"
         ],
         "type": "scatter",
         "visible": true,
         "x": [
          -20.038068903669917,
          -22.349955658064047,
          -24.72849334065964,
          -27.0375227420621,
          -24.0201718799577,
          -24.526839461593926,
          -27.147356866483033,
          -38.545090608963875,
          -37.93666780682916,
          -52.296084689298695,
          -54.11118147660749,
          -56.8684786654211,
          -59.30208830033921,
          -60.86437087596697,
          -62.34302256356459,
          -65.13387150736924,
          -78.93141829580662,
          -93.95147516946993,
          -101.90881563028005,
          -104.76122658469475,
          -105.64558441772286,
          -109.68403687065351,
          -94.16137752180661,
          -99.8558840863662,
          -105.31449112345436,
          -116.89759139746374,
          -120.15851242103709,
          -120.15851242103709,
          -119.04134443004722,
          -117.8379524893402
         ],
         "y": [
          -22.888658173139643,
          -30.234819819690276,
          -37.50394860106818,
          -44.57722390179768,
          -74.40857556537537,
          -85.9757686575561,
          -91.73100045712894,
          -94.1837111459727,
          -104.47653164023244,
          -112.31765358902904,
          -117.79498715425507,
          -126.067740710303,
          -133.48333409419453,
          -138.22289617788982,
          -142.71891886540655,
          -151.22687897636297,
          -148.41830805593608,
          -152.48746325203072,
          -157.31442141704574,
          -167.06184694372854,
          -170.11234485870634,
          -175.63560999960254,
          -182.03567681122885,
          -176.01322018370288,
          -170.5770106399304,
          -159.266654995198,
          -151.2828144571149,
          -151.2828144571149,
          -151.93729162103256,
          -142.99671758072662
         ]
        },
        {
         "marker": {
          "color": "rgba(200,200,250,1)"
         },
         "showlegend": false,
         "type": "histogram",
         "visible": true,
         "xaxis": "x2",
         "y": [
          415.3536823987752,
          427.20627251115565,
          406.8171040757961,
          398.3086463342782,
          390.4721939593941,
          383.0327582013863,
          375.4728684429792,
          357.86640005734665,
          338.97202924632063,
          319.51218555756367,
          316.0875730867254,
          302.8129656635796,
          272.2783363772432,
          243.98120037140617,
          218.78343244450429,
          187.09592352154,
          155.14254515321258,
          135.7360565267146,
          117.46129618989133,
          101.41324389605879,
          58.29334766659815,
          26.147633784793584,
          -3.683717878784008,
          -15.089692181109106,
          -42.551485761816,
          -68.00045397183479,
          -59.05987993152889,
          -79.42100531668706,
          -85.82107212831343,
          -95.90550504515399,
          -112.80873576347321,
          -104.82489522539015,
          -98.80243859786418,
          -99.45691576178176,
          179.72039201729083,
          149.88904035371328,
          125.33050985160027,
          117.7433264719088,
          107.5649682948638,
          99.45870663344644,
          93.93544149255028,
          86.44198970907705,
          70.10886865531816,
          62.541523746550126,
          54.948888347587605,
          48.78697467461343,
          48.88402292942857,
          39.21964683860482,
          40.146191268576615,
          32.594653301568286,
          8.461518787156525,
          -4.396660128235438,
          -11.927649648203364,
          -19.768771596999844,
          -37.11674128366903,
          -46.53533209968746,
          -54.05430630293321,
          -64.77956966501405,
          -70.53480146458683,
          -72.98751215343052,
          -83.28033264769049,
          -92.65976634378427,
          -102.93277010682887,
          -96.70731552691325,
          -119.98596098262618,
          -123.41057345346445,
          -131.03893893622302,
          -135.1080941323176,
          -133.87660995618344,
          -138.0500460518814,
          -146.79763367006817,
          -156.00858375026215,
          -147.18236959964955,
          -153.71522637151654,
          -161.5868794121891,
          -160.08823061160857,
          -154.65202106783613,
          -143.34166542310373,
          -137.31920879557774,
          -129.33536825749462,
          -129.33536825749465,
          99.78961951266456,
          84.60878167578993,
          75.66820763548412,
          65.48984945843924,
          62.239978037716874,
          41.23243247338526,
          45.08388636071969,
          35.709167332489095,
          21.563909542499616,
          21.05427792864754,
          13.469654730402455,
          1.902461638221697,
          -18.83086144525392,
          -23.586103447188503,
          -17.563646819662548,
          -6.25329117493005,
          -12.00852297450284,
          -6.572313430730377,
          -9.025024119574148,
          -19.31784461383403,
          -46.431491114344745,
          -52.831557925971175,
          -38.71655369364088,
          -64.16552190365961,
          -47.42962376639731,
          -39.445783228314205,
          -22.888658173139643,
          -30.234819819690276,
          -37.50394860106818,
          -44.57722390179768,
          -74.40857556537537,
          -85.9757686575561,
          -91.73100045712894,
          -94.1837111459727,
          -104.47653164023244,
          -112.31765358902904,
          -117.79498715425507,
          -126.067740710303,
          -133.48333409419453,
          -138.22289617788982,
          -142.71891886540655,
          -151.22687897636297,
          -148.41830805593608,
          -152.48746325203072,
          -157.31442141704574,
          -167.06184694372854,
          -170.11234485870634,
          -175.63560999960254,
          -182.03567681122885,
          -176.01322018370288,
          -170.5770106399304,
          -159.266654995198,
          -151.2828144571149,
          -151.2828144571149,
          -151.93729162103256,
          -142.99671758072662,
          308.51650255413733
         ]
        },
        {
         "marker": {
          "color": "rgba(200,200,250,1)"
         },
         "showlegend": false,
         "type": "histogram",
         "visible": true,
         "x": [
          -46.93082714843747,
          -56.09122432767226,
          -73.44514131464965,
          -76.82877345673278,
          -81.765697304933,
          -88.22940877426689,
          -92.75303335188387,
          -97.30253005300509,
          -100.22067867153665,
          -120.28999687829564,
          -132.91423984212167,
          -157.90555254739965,
          -160.29851171906614,
          -156.0289691119781,
          -171.29715705811734,
          -171.99983637435187,
          -172.13463679281892,
          -158.36183211235675,
          -166.011682362067,
          -168.0237769648214,
          -165.198234725238,
          -164.39374764216282,
          -161.37639678005837,
          -161.1965303697523,
          -165.4490477363242,
          -148.29351385755288,
          -147.09012191684587,
          -143.2261195299264,
          -127.70346018107945,
          -100.1855140929894,
          -115.52880862156209,
          -118.78972964513537,
          -124.48423620969498,
          -123.36706821870503,
          405.89956960926077,
          408.9169204713652,
          412.5346356350046,
          409.7214075544403,
          407.6561143696664,
          404.6502762648803,
          400.6118238119496,
          397.50859103284137,
          390.4422499234381,
          387.6371019080664,
          381.8127605002071,
          374.3104705176126,
          374.02677759924757,
          371.44760249195883,
          367.9591862823231,
          365.1688952747493,
          352.41088146191663,
          337.8287330240184,
          335.0569644749391,
          320.6975475924695,
          296.37211943767556,
          274.0949520876059,
          271.36940478826074,
          253.86972146601886,
          251.24920406112963,
          239.85147031864892,
          240.45989312078365,
          216.87066613173508,
          216.28203139655236,
          201.96838007439646,
          176.69836053495303,
          164.074117571127,
          161.60927858494807,
          146.58922171128478,
          125.28525807741173,
          97.51712819489099,
          65.74914809689331,
          64.33454681491234,
          46.57704230947875,
          14.657459357172906,
          -3.965346063351149,
          -5.2595061469660935,
          -10.718113184054225,
          -22.30121345806364,
          -27.995720022623185,
          -31.256641046196517,
          -31.256641046196535,
          -126.78907486634809,
          -131.49263420986432,
          -132.69602615057119,
          -134.76131933534518,
          -135.21224295071957,
          -145.69346959773995,
          -146.14855054572539,
          -149.73192205067065,
          -152.11392213502745,
          -168.366899380089,
          -170.70399660064965,
          -171.21066418228588,
          -164.59443380277682,
          -180.73866836363513,
          -186.4331749281947,
          -198.0162752022041,
          -200.63679260709324,
          -206.09539964418136,
          -217.4931333866622,
          -216.8847105845274,
          -205.45631688748693,
          -189.93365753864012,
          -186.37479360439997,
          -169.21925972562863,
          -169.52689454930592,
          -172.78781557287934,
          -20.038068903669917,
          -22.349955658064047,
          -24.72849334065964,
          -27.0375227420621,
          -24.0201718799577,
          -24.526839461593926,
          -27.147356866483033,
          -38.545090608963875,
          -37.93666780682916,
          -52.296084689298695,
          -54.11118147660749,
          -56.8684786654211,
          -59.30208830033921,
          -60.86437087596697,
          -62.34302256356459,
          -65.13387150736924,
          -78.93141829580662,
          -93.95147516946993,
          -101.90881563028005,
          -104.76122658469475,
          -105.64558441772286,
          -109.68403687065351,
          -94.16137752180661,
          -99.8558840863662,
          -105.31449112345436,
          -116.89759139746374,
          -120.15851242103709,
          -120.15851242103709,
          -119.04134443004722,
          -117.8379524893402,
          -9.23916066656199
         ],
         "yaxis": "y2"
        }
       ],
       "layout": {
        "annotations": [
         {
          "align": "left",
          "showarrow": false,
          "text": "<b>Plot:",
          "x": 0,
          "xref": "paper",
          "y": 1.275,
          "yref": "paper"
         },
         {
          "align": "left",
          "showarrow": false,
          "text": "<b>Points:",
          "x": 0,
          "xref": "paper",
          "y": 1.175,
          "yref": "paper"
         }
        ],
        "autosize": false,
        "height": 1200,
        "margin": {
         "b": 0,
         "l": 0,
         "r": 0,
         "t": 0
        },
        "paper_bgcolor": "rgba(0,0,0,0)",
        "plot_bgcolor": "rgba(0,0,0,0)",
        "template": {
         "data": {
          "bar": [
           {
            "error_x": {
             "color": "rgb(36,36,36)"
            },
            "error_y": {
             "color": "rgb(36,36,36)"
            },
            "marker": {
             "line": {
              "color": "rgb(234,234,242)",
              "width": 0.5
             },
             "pattern": {
              "fillmode": "overlay",
              "size": 10,
              "solidity": 0.2
             }
            },
            "type": "bar"
           }
          ],
          "barpolar": [
           {
            "marker": {
             "line": {
              "color": "rgb(234,234,242)",
              "width": 0.5
             },
             "pattern": {
              "fillmode": "overlay",
              "size": 10,
              "solidity": 0.2
             }
            },
            "type": "barpolar"
           }
          ],
          "carpet": [
           {
            "aaxis": {
             "endlinecolor": "rgb(36,36,36)",
             "gridcolor": "white",
             "linecolor": "white",
             "minorgridcolor": "white",
             "startlinecolor": "rgb(36,36,36)"
            },
            "baxis": {
             "endlinecolor": "rgb(36,36,36)",
             "gridcolor": "white",
             "linecolor": "white",
             "minorgridcolor": "white",
             "startlinecolor": "rgb(36,36,36)"
            },
            "type": "carpet"
           }
          ],
          "choropleth": [
           {
            "colorbar": {
             "outlinewidth": 0,
             "tickcolor": "rgb(36,36,36)",
             "ticklen": 8,
             "ticks": "outside",
             "tickwidth": 2
            },
            "type": "choropleth"
           }
          ],
          "contour": [
           {
            "colorbar": {
             "outlinewidth": 0,
             "tickcolor": "rgb(36,36,36)",
             "ticklen": 8,
             "ticks": "outside",
             "tickwidth": 2
            },
            "colorscale": [
             [
              0,
              "rgb(2,4,25)"
             ],
             [
              0.06274509803921569,
              "rgb(24,15,41)"
             ],
             [
              0.12549019607843137,
              "rgb(47,23,57)"
             ],
             [
              0.18823529411764706,
              "rgb(71,28,72)"
             ],
             [
              0.25098039215686274,
              "rgb(97,30,82)"
             ],
             [
              0.3137254901960784,
              "rgb(123,30,89)"
             ],
             [
              0.3764705882352941,
              "rgb(150,27,91)"
             ],
             [
              0.4392156862745098,
              "rgb(177,22,88)"
             ],
             [
              0.5019607843137255,
              "rgb(203,26,79)"
             ],
             [
              0.5647058823529412,
              "rgb(223,47,67)"
             ],
             [
              0.6274509803921569,
              "rgb(236,76,61)"
             ],
             [
              0.6901960784313725,
              "rgb(242,107,73)"
             ],
             [
              0.7529411764705882,
              "rgb(244,135,95)"
             ],
             [
              0.8156862745098039,
              "rgb(245,162,122)"
             ],
             [
              0.8784313725490196,
              "rgb(246,188,153)"
             ],
             [
              0.9411764705882353,
              "rgb(247,212,187)"
             ],
             [
              1,
              "rgb(250,234,220)"
             ]
            ],
            "type": "contour"
           }
          ],
          "contourcarpet": [
           {
            "colorbar": {
             "outlinewidth": 0,
             "tickcolor": "rgb(36,36,36)",
             "ticklen": 8,
             "ticks": "outside",
             "tickwidth": 2
            },
            "type": "contourcarpet"
           }
          ],
          "heatmap": [
           {
            "colorbar": {
             "outlinewidth": 0,
             "tickcolor": "rgb(36,36,36)",
             "ticklen": 8,
             "ticks": "outside",
             "tickwidth": 2
            },
            "colorscale": [
             [
              0,
              "rgb(2,4,25)"
             ],
             [
              0.06274509803921569,
              "rgb(24,15,41)"
             ],
             [
              0.12549019607843137,
              "rgb(47,23,57)"
             ],
             [
              0.18823529411764706,
              "rgb(71,28,72)"
             ],
             [
              0.25098039215686274,
              "rgb(97,30,82)"
             ],
             [
              0.3137254901960784,
              "rgb(123,30,89)"
             ],
             [
              0.3764705882352941,
              "rgb(150,27,91)"
             ],
             [
              0.4392156862745098,
              "rgb(177,22,88)"
             ],
             [
              0.5019607843137255,
              "rgb(203,26,79)"
             ],
             [
              0.5647058823529412,
              "rgb(223,47,67)"
             ],
             [
              0.6274509803921569,
              "rgb(236,76,61)"
             ],
             [
              0.6901960784313725,
              "rgb(242,107,73)"
             ],
             [
              0.7529411764705882,
              "rgb(244,135,95)"
             ],
             [
              0.8156862745098039,
              "rgb(245,162,122)"
             ],
             [
              0.8784313725490196,
              "rgb(246,188,153)"
             ],
             [
              0.9411764705882353,
              "rgb(247,212,187)"
             ],
             [
              1,
              "rgb(250,234,220)"
             ]
            ],
            "type": "heatmap"
           }
          ],
          "heatmapgl": [
           {
            "colorbar": {
             "outlinewidth": 0,
             "tickcolor": "rgb(36,36,36)",
             "ticklen": 8,
             "ticks": "outside",
             "tickwidth": 2
            },
            "colorscale": [
             [
              0,
              "rgb(2,4,25)"
             ],
             [
              0.06274509803921569,
              "rgb(24,15,41)"
             ],
             [
              0.12549019607843137,
              "rgb(47,23,57)"
             ],
             [
              0.18823529411764706,
              "rgb(71,28,72)"
             ],
             [
              0.25098039215686274,
              "rgb(97,30,82)"
             ],
             [
              0.3137254901960784,
              "rgb(123,30,89)"
             ],
             [
              0.3764705882352941,
              "rgb(150,27,91)"
             ],
             [
              0.4392156862745098,
              "rgb(177,22,88)"
             ],
             [
              0.5019607843137255,
              "rgb(203,26,79)"
             ],
             [
              0.5647058823529412,
              "rgb(223,47,67)"
             ],
             [
              0.6274509803921569,
              "rgb(236,76,61)"
             ],
             [
              0.6901960784313725,
              "rgb(242,107,73)"
             ],
             [
              0.7529411764705882,
              "rgb(244,135,95)"
             ],
             [
              0.8156862745098039,
              "rgb(245,162,122)"
             ],
             [
              0.8784313725490196,
              "rgb(246,188,153)"
             ],
             [
              0.9411764705882353,
              "rgb(247,212,187)"
             ],
             [
              1,
              "rgb(250,234,220)"
             ]
            ],
            "type": "heatmapgl"
           }
          ],
          "histogram": [
           {
            "marker": {
             "pattern": {
              "fillmode": "overlay",
              "size": 10,
              "solidity": 0.2
             }
            },
            "type": "histogram"
           }
          ],
          "histogram2d": [
           {
            "colorbar": {
             "outlinewidth": 0,
             "tickcolor": "rgb(36,36,36)",
             "ticklen": 8,
             "ticks": "outside",
             "tickwidth": 2
            },
            "colorscale": [
             [
              0,
              "rgb(2,4,25)"
             ],
             [
              0.06274509803921569,
              "rgb(24,15,41)"
             ],
             [
              0.12549019607843137,
              "rgb(47,23,57)"
             ],
             [
              0.18823529411764706,
              "rgb(71,28,72)"
             ],
             [
              0.25098039215686274,
              "rgb(97,30,82)"
             ],
             [
              0.3137254901960784,
              "rgb(123,30,89)"
             ],
             [
              0.3764705882352941,
              "rgb(150,27,91)"
             ],
             [
              0.4392156862745098,
              "rgb(177,22,88)"
             ],
             [
              0.5019607843137255,
              "rgb(203,26,79)"
             ],
             [
              0.5647058823529412,
              "rgb(223,47,67)"
             ],
             [
              0.6274509803921569,
              "rgb(236,76,61)"
             ],
             [
              0.6901960784313725,
              "rgb(242,107,73)"
             ],
             [
              0.7529411764705882,
              "rgb(244,135,95)"
             ],
             [
              0.8156862745098039,
              "rgb(245,162,122)"
             ],
             [
              0.8784313725490196,
              "rgb(246,188,153)"
             ],
             [
              0.9411764705882353,
              "rgb(247,212,187)"
             ],
             [
              1,
              "rgb(250,234,220)"
             ]
            ],
            "type": "histogram2d"
           }
          ],
          "histogram2dcontour": [
           {
            "colorbar": {
             "outlinewidth": 0,
             "tickcolor": "rgb(36,36,36)",
             "ticklen": 8,
             "ticks": "outside",
             "tickwidth": 2
            },
            "colorscale": [
             [
              0,
              "rgb(2,4,25)"
             ],
             [
              0.06274509803921569,
              "rgb(24,15,41)"
             ],
             [
              0.12549019607843137,
              "rgb(47,23,57)"
             ],
             [
              0.18823529411764706,
              "rgb(71,28,72)"
             ],
             [
              0.25098039215686274,
              "rgb(97,30,82)"
             ],
             [
              0.3137254901960784,
              "rgb(123,30,89)"
             ],
             [
              0.3764705882352941,
              "rgb(150,27,91)"
             ],
             [
              0.4392156862745098,
              "rgb(177,22,88)"
             ],
             [
              0.5019607843137255,
              "rgb(203,26,79)"
             ],
             [
              0.5647058823529412,
              "rgb(223,47,67)"
             ],
             [
              0.6274509803921569,
              "rgb(236,76,61)"
             ],
             [
              0.6901960784313725,
              "rgb(242,107,73)"
             ],
             [
              0.7529411764705882,
              "rgb(244,135,95)"
             ],
             [
              0.8156862745098039,
              "rgb(245,162,122)"
             ],
             [
              0.8784313725490196,
              "rgb(246,188,153)"
             ],
             [
              0.9411764705882353,
              "rgb(247,212,187)"
             ],
             [
              1,
              "rgb(250,234,220)"
             ]
            ],
            "type": "histogram2dcontour"
           }
          ],
          "mesh3d": [
           {
            "colorbar": {
             "outlinewidth": 0,
             "tickcolor": "rgb(36,36,36)",
             "ticklen": 8,
             "ticks": "outside",
             "tickwidth": 2
            },
            "type": "mesh3d"
           }
          ],
          "parcoords": [
           {
            "line": {
             "colorbar": {
              "outlinewidth": 0,
              "tickcolor": "rgb(36,36,36)",
              "ticklen": 8,
              "ticks": "outside",
              "tickwidth": 2
             }
            },
            "type": "parcoords"
           }
          ],
          "pie": [
           {
            "automargin": true,
            "type": "pie"
           }
          ],
          "scatter": [
           {
            "fillpattern": {
             "fillmode": "overlay",
             "size": 10,
             "solidity": 0.2
            },
            "type": "scatter"
           }
          ],
          "scatter3d": [
           {
            "line": {
             "colorbar": {
              "outlinewidth": 0,
              "tickcolor": "rgb(36,36,36)",
              "ticklen": 8,
              "ticks": "outside",
              "tickwidth": 2
             }
            },
            "marker": {
             "colorbar": {
              "outlinewidth": 0,
              "tickcolor": "rgb(36,36,36)",
              "ticklen": 8,
              "ticks": "outside",
              "tickwidth": 2
             }
            },
            "type": "scatter3d"
           }
          ],
          "scattercarpet": [
           {
            "marker": {
             "colorbar": {
              "outlinewidth": 0,
              "tickcolor": "rgb(36,36,36)",
              "ticklen": 8,
              "ticks": "outside",
              "tickwidth": 2
             }
            },
            "type": "scattercarpet"
           }
          ],
          "scattergeo": [
           {
            "marker": {
             "colorbar": {
              "outlinewidth": 0,
              "tickcolor": "rgb(36,36,36)",
              "ticklen": 8,
              "ticks": "outside",
              "tickwidth": 2
             }
            },
            "type": "scattergeo"
           }
          ],
          "scattergl": [
           {
            "marker": {
             "colorbar": {
              "outlinewidth": 0,
              "tickcolor": "rgb(36,36,36)",
              "ticklen": 8,
              "ticks": "outside",
              "tickwidth": 2
             }
            },
            "type": "scattergl"
           }
          ],
          "scattermapbox": [
           {
            "marker": {
             "colorbar": {
              "outlinewidth": 0,
              "tickcolor": "rgb(36,36,36)",
              "ticklen": 8,
              "ticks": "outside",
              "tickwidth": 2
             }
            },
            "type": "scattermapbox"
           }
          ],
          "scatterpolar": [
           {
            "marker": {
             "colorbar": {
              "outlinewidth": 0,
              "tickcolor": "rgb(36,36,36)",
              "ticklen": 8,
              "ticks": "outside",
              "tickwidth": 2
             }
            },
            "type": "scatterpolar"
           }
          ],
          "scatterpolargl": [
           {
            "marker": {
             "colorbar": {
              "outlinewidth": 0,
              "tickcolor": "rgb(36,36,36)",
              "ticklen": 8,
              "ticks": "outside",
              "tickwidth": 2
             }
            },
            "type": "scatterpolargl"
           }
          ],
          "scatterternary": [
           {
            "marker": {
             "colorbar": {
              "outlinewidth": 0,
              "tickcolor": "rgb(36,36,36)",
              "ticklen": 8,
              "ticks": "outside",
              "tickwidth": 2
             }
            },
            "type": "scatterternary"
           }
          ],
          "surface": [
           {
            "colorbar": {
             "outlinewidth": 0,
             "tickcolor": "rgb(36,36,36)",
             "ticklen": 8,
             "ticks": "outside",
             "tickwidth": 2
            },
            "colorscale": [
             [
              0,
              "rgb(2,4,25)"
             ],
             [
              0.06274509803921569,
              "rgb(24,15,41)"
             ],
             [
              0.12549019607843137,
              "rgb(47,23,57)"
             ],
             [
              0.18823529411764706,
              "rgb(71,28,72)"
             ],
             [
              0.25098039215686274,
              "rgb(97,30,82)"
             ],
             [
              0.3137254901960784,
              "rgb(123,30,89)"
             ],
             [
              0.3764705882352941,
              "rgb(150,27,91)"
             ],
             [
              0.4392156862745098,
              "rgb(177,22,88)"
             ],
             [
              0.5019607843137255,
              "rgb(203,26,79)"
             ],
             [
              0.5647058823529412,
              "rgb(223,47,67)"
             ],
             [
              0.6274509803921569,
              "rgb(236,76,61)"
             ],
             [
              0.6901960784313725,
              "rgb(242,107,73)"
             ],
             [
              0.7529411764705882,
              "rgb(244,135,95)"
             ],
             [
              0.8156862745098039,
              "rgb(245,162,122)"
             ],
             [
              0.8784313725490196,
              "rgb(246,188,153)"
             ],
             [
              0.9411764705882353,
              "rgb(247,212,187)"
             ],
             [
              1,
              "rgb(250,234,220)"
             ]
            ],
            "type": "surface"
           }
          ],
          "table": [
           {
            "cells": {
             "fill": {
              "color": "rgb(231,231,240)"
             },
             "line": {
              "color": "white"
             }
            },
            "header": {
             "fill": {
              "color": "rgb(183,183,191)"
             },
             "line": {
              "color": "white"
             }
            },
            "type": "table"
           }
          ]
         },
         "layout": {
          "annotationdefaults": {
           "arrowcolor": "rgb(67,103,167)"
          },
          "autotypenumbers": "strict",
          "coloraxis": {
           "colorbar": {
            "outlinewidth": 0,
            "tickcolor": "rgb(36,36,36)",
            "ticklen": 8,
            "ticks": "outside",
            "tickwidth": 2
           }
          },
          "colorscale": {
           "sequential": [
            [
             0,
             "rgb(2,4,25)"
            ],
            [
             0.06274509803921569,
             "rgb(24,15,41)"
            ],
            [
             0.12549019607843137,
             "rgb(47,23,57)"
            ],
            [
             0.18823529411764706,
             "rgb(71,28,72)"
            ],
            [
             0.25098039215686274,
             "rgb(97,30,82)"
            ],
            [
             0.3137254901960784,
             "rgb(123,30,89)"
            ],
            [
             0.3764705882352941,
             "rgb(150,27,91)"
            ],
            [
             0.4392156862745098,
             "rgb(177,22,88)"
            ],
            [
             0.5019607843137255,
             "rgb(203,26,79)"
            ],
            [
             0.5647058823529412,
             "rgb(223,47,67)"
            ],
            [
             0.6274509803921569,
             "rgb(236,76,61)"
            ],
            [
             0.6901960784313725,
             "rgb(242,107,73)"
            ],
            [
             0.7529411764705882,
             "rgb(244,135,95)"
            ],
            [
             0.8156862745098039,
             "rgb(245,162,122)"
            ],
            [
             0.8784313725490196,
             "rgb(246,188,153)"
            ],
            [
             0.9411764705882353,
             "rgb(247,212,187)"
            ],
            [
             1,
             "rgb(250,234,220)"
            ]
           ],
           "sequentialminus": [
            [
             0,
             "rgb(2,4,25)"
            ],
            [
             0.06274509803921569,
             "rgb(24,15,41)"
            ],
            [
             0.12549019607843137,
             "rgb(47,23,57)"
            ],
            [
             0.18823529411764706,
             "rgb(71,28,72)"
            ],
            [
             0.25098039215686274,
             "rgb(97,30,82)"
            ],
            [
             0.3137254901960784,
             "rgb(123,30,89)"
            ],
            [
             0.3764705882352941,
             "rgb(150,27,91)"
            ],
            [
             0.4392156862745098,
             "rgb(177,22,88)"
            ],
            [
             0.5019607843137255,
             "rgb(203,26,79)"
            ],
            [
             0.5647058823529412,
             "rgb(223,47,67)"
            ],
            [
             0.6274509803921569,
             "rgb(236,76,61)"
            ],
            [
             0.6901960784313725,
             "rgb(242,107,73)"
            ],
            [
             0.7529411764705882,
             "rgb(244,135,95)"
            ],
            [
             0.8156862745098039,
             "rgb(245,162,122)"
            ],
            [
             0.8784313725490196,
             "rgb(246,188,153)"
            ],
            [
             0.9411764705882353,
             "rgb(247,212,187)"
            ],
            [
             1,
             "rgb(250,234,220)"
            ]
           ]
          },
          "colorway": [
           "rgb(76,114,176)",
           "rgb(221,132,82)",
           "rgb(85,168,104)",
           "rgb(196,78,82)",
           "rgb(129,114,179)",
           "rgb(147,120,96)",
           "rgb(218,139,195)",
           "rgb(140,140,140)",
           "rgb(204,185,116)",
           "rgb(100,181,205)"
          ],
          "font": {
           "color": "rgb(36,36,36)"
          },
          "geo": {
           "bgcolor": "white",
           "lakecolor": "white",
           "landcolor": "rgb(234,234,242)",
           "showlakes": true,
           "showland": true,
           "subunitcolor": "white"
          },
          "hoverlabel": {
           "align": "left"
          },
          "hovermode": "closest",
          "paper_bgcolor": "white",
          "plot_bgcolor": "rgb(234,234,242)",
          "polar": {
           "angularaxis": {
            "gridcolor": "white",
            "linecolor": "white",
            "showgrid": true,
            "ticks": ""
           },
           "bgcolor": "rgb(234,234,242)",
           "radialaxis": {
            "gridcolor": "white",
            "linecolor": "white",
            "showgrid": true,
            "ticks": ""
           }
          },
          "scene": {
           "xaxis": {
            "backgroundcolor": "rgb(234,234,242)",
            "gridcolor": "white",
            "gridwidth": 2,
            "linecolor": "white",
            "showbackground": true,
            "showgrid": true,
            "ticks": "",
            "zerolinecolor": "white"
           },
           "yaxis": {
            "backgroundcolor": "rgb(234,234,242)",
            "gridcolor": "white",
            "gridwidth": 2,
            "linecolor": "white",
            "showbackground": true,
            "showgrid": true,
            "ticks": "",
            "zerolinecolor": "white"
           },
           "zaxis": {
            "backgroundcolor": "rgb(234,234,242)",
            "gridcolor": "white",
            "gridwidth": 2,
            "linecolor": "white",
            "showbackground": true,
            "showgrid": true,
            "ticks": "",
            "zerolinecolor": "white"
           }
          },
          "shapedefaults": {
           "fillcolor": "rgb(67,103,167)",
           "line": {
            "width": 0
           },
           "opacity": 0.5
          },
          "ternary": {
           "aaxis": {
            "gridcolor": "white",
            "linecolor": "white",
            "showgrid": true,
            "ticks": ""
           },
           "baxis": {
            "gridcolor": "white",
            "linecolor": "white",
            "showgrid": true,
            "ticks": ""
           },
           "bgcolor": "rgb(234,234,242)",
           "caxis": {
            "gridcolor": "white",
            "linecolor": "white",
            "showgrid": true,
            "ticks": ""
           }
          },
          "xaxis": {
           "automargin": true,
           "gridcolor": "white",
           "linecolor": "white",
           "showgrid": true,
           "ticks": "",
           "title": {
            "standoff": 15
           },
           "zerolinecolor": "white"
          },
          "yaxis": {
           "automargin": true,
           "gridcolor": "white",
           "linecolor": "white",
           "showgrid": true,
           "ticks": "",
           "title": {
            "standoff": 15
           },
           "zerolinecolor": "white"
          }
         }
        },
        "updatemenus": [
         {
          "buttons": [
           {
            "args": [
             {
              "type": [
               "scatter",
               "scatter",
               "scatter",
               "scatter",
               "scatter",
               "scatter",
               "scatter",
               "histogram",
               "histogram"
              ],
              "visible": [
               false,
               true,
               true,
               true,
               true,
               true,
               true,
               true,
               true
              ]
             },
             {
              "plot_bgcolor": "rgb(240,240,240)",
              "xaxis": {
               "domain": [
                0,
                0.85
               ],
               "showgrid": true,
               "showline": true,
               "showticklabels": true,
               "zeroline": true
              },
              "xaxis2": {
               "domain": [
                0.85,
                1
               ],
               "showgrid": true,
               "showline": true,
               "showticklabels": true,
               "zeroline": true
              },
              "yaxis": {
               "domain": [
                0,
                0.85
               ],
               "showgrid": true,
               "showline": true,
               "showticklabels": true,
               "zeroline": true
              },
              "yaxis2": {
               "domain": [
                0.85,
                1
               ],
               "showgrid": true,
               "showline": true,
               "showticklabels": true,
               "zeroline": true
              }
             },
             {
              "skip_invalid": true
             }
            ],
            "label": "Scatter2D",
            "method": "update"
           },
           {
            "args": [
             {
              "type": [
               "histogram2dcontour",
               "scatter",
               "scatter",
               "scatter",
               "scatter",
               "scatter",
               "scatter",
               "histogram",
               "histogram"
              ],
              "visible": [
               true,
               false,
               false,
               false,
               false,
               false,
               false,
               false,
               false
              ]
             },
             {
              "plot_bgcolor": "rgb(240,240,240)",
              "xaxis": {
               "domain": [
                0,
                1
               ],
               "showgrid": true,
               "showline": true,
               "showticklabels": true,
               "zeroline": true
              },
              "xaxis2": {
               "domain": [
                0.999,
                1
               ],
               "showgrid": false,
               "showline": false,
               "showticklabels": false,
               "zeroline": false
              },
              "yaxis": {
               "domain": [
                0,
                1
               ],
               "showgrid": true,
               "showline": true,
               "showticklabels": true,
               "zeroline": true
              },
              "yaxis2": {
               "domain": [
                0.999,
                1
               ],
               "showgrid": false,
               "showline": false,
               "showticklabels": false,
               "zeroline": false
              }
             },
             {
              "skip_invalid": true
             }
            ],
            "label": "Contour",
            "method": "update"
           }
          ],
          "direction": "left",
          "pad": {
           "r": 10,
           "t": 10
          },
          "showactive": true,
          "type": "buttons",
          "x": 0.15,
          "xanchor": "left",
          "y": 1.3,
          "yanchor": "top"
         },
         {
          "buttons": [
           {
            "args": [
             {
              "mode": "markers"
             },
             [
              1,
              2,
              3,
              4,
              5,
              6
             ]
            ],
            "label": "Markers",
            "method": "restyle"
           },
           {
            "args": [
             {
              "mode": "lines+markers"
             },
             [
              1,
              2,
              3,
              4,
              5,
              6
             ]
            ],
            "label": "Markers & Lines",
            "method": "restyle"
           }
          ],
          "direction": "left",
          "pad": {
           "r": 10,
           "t": 10
          },
          "showactive": true,
          "type": "buttons",
          "x": 0.15,
          "xanchor": "left",
          "y": 1.2,
          "yanchor": "top"
         }
        ],
        "width": 800,
        "xaxis": {
         "domain": [
          0,
          0.84
         ],
         "linecolor": "black",
         "linewidth": 2,
         "showgrid": true,
         "showline": true,
         "showticklabels": true,
         "title": {
          "font": {
           "size": 20
          },
          "text": "PCo1"
         },
         "zeroline": true
        },
        "xaxis2": {
         "domain": [
          0.85,
          1
         ],
         "linecolor": "black",
         "linewidth": 2,
         "showgrid": true,
         "showticklabels": true,
         "zeroline": true
        },
        "yaxis": {
         "domain": [
          0,
          0.84
         ],
         "linecolor": "black",
         "linewidth": 2,
         "showgrid": true,
         "showline": true,
         "showticklabels": true,
         "title": {
          "font": {
           "size": 20
          },
          "text": "PCo2"
         },
         "zeroline": true
        },
        "yaxis2": {
         "domain": [
          0.85,
          1
         ],
         "linecolor": "black",
         "linewidth": 2,
         "showgrid": true,
         "showticklabels": true,
         "zeroline": true
        }
       }
      },
      "text/html": [
       "<div>                            <div id=\"7ccf294e-68d0-4c83-ab15-d5aec981f28d\" class=\"plotly-graph-div\" style=\"height:1200px; width:800px;\"></div>            <script type=\"text/javascript\">                require([\"plotly\"], function(Plotly) {                    window.PLOTLYENV=window.PLOTLYENV || {};                                    if (document.getElementById(\"7ccf294e-68d0-4c83-ab15-d5aec981f28d\")) {                    Plotly.newPlot(                        \"7ccf294e-68d0-4c83-ab15-d5aec981f28d\",                        [{\"marker\":{\"color\":[0,0,0,0,0,0,0,0,0,0,0,0,0,0,0,0,0,0,0,0,0,0,0,0,0,0,0,0,0,0,0,0,0,0,0,0,0,0,0,0,0,0,0,0,0,0,0,0,0,0,0,0,0,0,0,0,0,0,0,0,0,0,0,0,0,0,0,0,0,0,0,0,0,0,0,0,0,0,0,0,0,0,0,0,0,0,0,0,0,0,0,0,0,0,0,0,0,0,0,0,0,0,0,0,0,0,0,0,0,0,0,0,0,0,0,0,0,0,0,0,0,0,0,0,0,0,0,0,0,0,0,0,0,0,0,0,0,1],\"colorscale\":[[0.0,\"#000080\"],[0.05263157894736842,\"#0000bd\"],[0.10526315789473684,\"#0000fa\"],[0.15789473684210525,\"#0022ff\"],[0.21052631578947367,\"#0057ff\"],[0.2631578947368421,\"#008dff\"],[0.3157894736842105,\"#00c3ff\"],[0.3684210526315789,\"#0ff8e8\"],[0.42105263157894735,\"#3affbc\"],[0.47368421052631576,\"#66ff91\"],[0.5263157894736842,\"#91ff66\"],[0.5789473684210527,\"#bcff3a\"],[0.631578947368421,\"#e8ff0f\"],[0.6842105263157895,\"#ffd500\"],[0.7368421052631579,\"#ffa400\"],[0.7894736842105263,\"#ff7200\"],[0.8421052631578947,\"#ff4000\"],[0.8947368421052632,\"#fa0e00\"],[0.9473684210526315,\"#bd0000\"],[1.0,\"#800000\"]]},\"mode\":\"markers\",\"opacity\":0.7,\"showlegend\":false,\"text\":[0.9834389820406716,0.9838216510621484,0.9844040875128784,0.9851244965776011,0.9856306256909808,0.9861367478108172,0.9867727443600044,0.98797429038034,0.9883560285649012,0.9897745682586838,0.9903716696284456,0.9914083208226808,0.992090006912136,0.992965261061446,0.9936241722368382,0.9944421273999616,0.9951131713899564,0.9955193694144758,0.9965121662136232,0.9973095841317264,0.9979730419913484,0.9986857301088392,0.9991596836326292,0.9993217239902888,0.9994451309212636,0.9995586755634768,0.9995827684588792,0.9997099306836248,0.9998226591340652,0.9986023730484808,0.9989464630593512,0.9989862118330178,0.999159146677458,0.9992857427316746,0.9700672945134876,0.9705412479272008,0.9709861015878892,0.9712343475425222,0.9721987423836932,0.9730398734093442,0.973746688068956,0.9739949090965808,0.97426758904019,0.974515843601646,0.9753335648896028,0.9781142669763092,0.9784730112752232,0.9788397301135984,0.9793989881555106,0.979647240925236,0.9803066666455064,0.9806124534020892,0.9808606787052772,0.981502890948614,0.984283625070406,0.98507367815447,0.9853218989826008,0.9878543990753186,0.9881991456978512,0.9894122197644112,0.9896604738739864,0.9903829284940237,0.990631150160294,0.9912923076111828,0.9919329511550166,0.9925281516974548,0.9927764303275964,0.9930703430129498,0.9942329951946998,0.9955084987849606,0.996363006753178,0.9966112695839008,0.9976579655375788,0.998170213167428,0.9992057157081702,0.9994813123358276,0.9995511853608854,0.9997243740269116,0.999890532695813,0.9999323830247656,0.9999323861421732,0.0,0.0023641354971635,0.0026336564917542,0.0037234091454712,0.0047693741770589,0.0070085499305209,0.0073844105578946,0.0079231912994625,0.0085897268422595,0.0093662981566742,0.0096167124293304,0.0100384183628989,0.0106552444766868,0.0120837761302705,0.0127054213741059,0.0131725447461819,0.0140029776959506,0.0144819216317713,0.0161338203746266,0.0163821031466183,0.0167793831788193,0.0168921199492958,0.0169701955241933,0.0171791042122078,0.017297107238211,0.0174747143419849,0.9749631951512032,0.976279341584308,0.9779473526074955,0.9799017954421544,0.980375748867021,0.98078883907599,0.9811327784252888,0.9823467347249852,0.9825949738185972,0.9831917470761882,0.9849785239649004,0.9862996007018916,0.9865478240118036,0.988204443972448,0.9901669531333946,0.9921830535834956,0.992848579084468,0.993131626719738,0.9948014810823456,0.996636378460184,0.9985772594548528,0.9992849868137396,0.999397753806434,0.9995632613456408,0.9996326687449996,0.9998060423970282,0.9998444854068156,0.9998497060727564,0.9999758011241916,1.0,0.7068901658026021],\"visible\":false,\"x\":[-46.93082714843747,-56.09122432767226,-73.44514131464965,-76.82877345673278,-81.765697304933,-88.22940877426689,-92.75303335188387,-97.30253005300509,-100.22067867153665,-120.28999687829564,-132.91423984212167,-157.90555254739965,-160.29851171906614,-156.0289691119781,-171.29715705811734,-171.99983637435187,-172.13463679281892,-158.36183211235675,-166.011682362067,-168.0237769648214,-165.198234725238,-164.39374764216282,-161.37639678005837,-161.1965303697523,-165.4490477363242,-148.29351385755288,-147.09012191684587,-143.2261195299264,-127.70346018107945,-100.1855140929894,-115.52880862156209,-118.78972964513537,-124.48423620969498,-123.36706821870503,405.89956960926077,408.9169204713652,412.5346356350046,409.7214075544403,407.6561143696664,404.6502762648803,400.6118238119496,397.50859103284137,390.4422499234381,387.6371019080664,381.8127605002071,374.3104705176126,374.02677759924757,371.44760249195883,367.9591862823231,365.1688952747493,352.41088146191663,337.8287330240184,335.0569644749391,320.6975475924695,296.37211943767556,274.0949520876059,271.36940478826074,253.86972146601886,251.24920406112963,239.85147031864892,240.45989312078365,216.87066613173508,216.28203139655236,201.96838007439646,176.69836053495303,164.074117571127,161.60927858494807,146.58922171128478,125.28525807741173,97.51712819489099,65.74914809689331,64.33454681491234,46.57704230947875,14.657459357172906,-3.965346063351149,-5.2595061469660935,-10.718113184054225,-22.30121345806364,-27.995720022623185,-31.256641046196517,-31.256641046196535,-126.78907486634809,-131.49263420986432,-132.69602615057119,-134.76131933534518,-135.21224295071957,-145.69346959773995,-146.14855054572539,-149.73192205067065,-152.11392213502745,-168.366899380089,-170.70399660064965,-171.21066418228588,-164.59443380277682,-180.73866836363513,-186.4331749281947,-198.0162752022041,-200.63679260709324,-206.09539964418136,-217.4931333866622,-216.8847105845274,-205.45631688748693,-189.93365753864012,-186.37479360439997,-169.21925972562863,-169.52689454930592,-172.78781557287934,-20.038068903669917,-22.349955658064047,-24.72849334065964,-27.0375227420621,-24.0201718799577,-24.526839461593926,-27.147356866483033,-38.545090608963875,-37.93666780682916,-52.296084689298695,-54.11118147660749,-56.8684786654211,-59.30208830033921,-60.86437087596697,-62.34302256356459,-65.13387150736924,-78.93141829580662,-93.95147516946993,-101.90881563028005,-104.76122658469475,-105.64558441772286,-109.68403687065351,-94.16137752180661,-99.8558840863662,-105.31449112345436,-116.89759139746374,-120.15851242103709,-120.15851242103709,-119.04134443004722,-117.8379524893402,-9.23916066656199],\"xaxis\":\"x\",\"y\":[415.3536823987752,427.20627251115565,406.8171040757961,398.3086463342782,390.4721939593941,383.0327582013863,375.4728684429792,357.86640005734665,338.97202924632063,319.51218555756367,316.0875730867254,302.8129656635796,272.2783363772432,243.98120037140617,218.78343244450429,187.09592352154,155.14254515321258,135.7360565267146,117.46129618989133,101.41324389605879,58.29334766659815,26.147633784793584,-3.683717878784008,-15.089692181109106,-42.551485761816,-68.00045397183479,-59.05987993152889,-79.42100531668706,-85.82107212831343,-95.90550504515399,-112.80873576347321,-104.82489522539015,-98.80243859786418,-99.45691576178176,179.72039201729083,149.88904035371328,125.33050985160027,117.7433264719088,107.5649682948638,99.45870663344644,93.93544149255028,86.44198970907705,70.10886865531816,62.541523746550126,54.948888347587605,48.78697467461343,48.88402292942857,39.21964683860482,40.146191268576615,32.594653301568286,8.461518787156525,-4.396660128235438,-11.927649648203364,-19.768771596999844,-37.11674128366903,-46.53533209968746,-54.05430630293321,-64.77956966501405,-70.53480146458683,-72.98751215343052,-83.28033264769049,-92.65976634378427,-102.93277010682887,-96.70731552691325,-119.98596098262618,-123.41057345346445,-131.03893893622302,-135.1080941323176,-133.87660995618344,-138.0500460518814,-146.79763367006817,-156.00858375026215,-147.18236959964955,-153.71522637151654,-161.5868794121891,-160.08823061160857,-154.65202106783613,-143.34166542310373,-137.31920879557774,-129.33536825749462,-129.33536825749465,99.78961951266456,84.60878167578993,75.66820763548412,65.48984945843924,62.239978037716874,41.23243247338526,45.08388636071969,35.709167332489095,21.563909542499616,21.05427792864754,13.469654730402455,1.902461638221697,-18.83086144525392,-23.586103447188503,-17.563646819662548,-6.25329117493005,-12.00852297450284,-6.572313430730377,-9.025024119574148,-19.31784461383403,-46.431491114344745,-52.831557925971175,-38.71655369364088,-64.16552190365961,-47.42962376639731,-39.445783228314205,-22.888658173139643,-30.234819819690276,-37.50394860106818,-44.57722390179768,-74.40857556537537,-85.9757686575561,-91.73100045712894,-94.1837111459727,-104.47653164023244,-112.31765358902904,-117.79498715425507,-126.067740710303,-133.48333409419453,-138.22289617788982,-142.71891886540655,-151.22687897636297,-148.41830805593608,-152.48746325203072,-157.31442141704574,-167.06184694372854,-170.11234485870634,-175.63560999960254,-182.03567681122885,-176.01322018370288,-170.5770106399304,-159.266654995198,-151.2828144571149,-151.2828144571149,-151.93729162103256,-142.99671758072662,308.51650255413733],\"yaxis\":\"y\",\"type\":\"scatter\"},{\"customdata\":[0,1,2,3,4,5,6,7,8,9,10,11,12,13,14,15,16,17,18,19,20,21,22,23,24,25,26,27,28,0,1,2,3,4,0,1,2,3,4,5,6,7,8,9,10,11,12,13,14,15,16,17,18,19,20,21,22,23,24,25,26,27,28,29,30,31,32,33,34,35,36,37,38,39,40,41,42,43,44,45,46,0,1,2,3,4,5,6,7,8,9,10,11,12,13,14,15,16,17,18,19,20,21,22,23,24,25,0,1,2,3,4,5,6,7,8,9,10,11,12,13,14,15,16,17,18,19,20,21,22,23,24,25,26,27,28,29,0],\"hovertemplate\":\"\\u003cb\\u003eTrace: %{text}\\u003c\\u002fb\\u003e\\u003cbr\\u003eStep: %{customdata}\\u003cbr\\u003ePCo1: %{x}\\u003cbr\\u003ePCo2: %{y}\\u003cbr\\u003e\",\"marker\":{\"cmax\":0,\"cmin\":0,\"color\":[57.0,58.0,60.0,63.0,65.0,66.0,69.0,71.0,74.0,77.0,79.0,83.0,85.0,90.0,93.0,95.0,97.0,99.0,101.0,104.0,106.0,110.0,114.0,118.0,120.0,123.0,125.0,127.0,130.0],\"colorscale\":[[0.0,\"rgb(0,0,131)\"],[0.2,\"rgb(0,60,170)\"],[0.4,\"rgb(5,255,255)\"],[0.6,\"rgb(255,255,0)\"],[0.8,\"rgb(250,0,0)\"],[1.0,\"rgb(128,0,0)\"]],\"line\":{\"width\":2},\"size\":[10,10,10,10,10,10,10,10,10,10,10,10,10,10,10,10,10,10,10,10,10,10,10,10,10,10,10,10,10],\"symbol\":[\"circle\",\"circle\",\"circle\",\"circle\",\"circle\",\"circle\",\"circle\",\"circle\",\"circle\",\"circle\",\"circle\",\"circle\",\"circle\",\"circle\",\"circle\",\"circle\",\"circle\",\"circle\",\"circle\",\"circle\",\"circle\",\"circle\",\"circle\",\"circle\",\"circle\",\"circle\",\"circle\",\"circle\",\"circle\"]},\"mode\":\"markers\",\"name\":\"IQtreeStartingTree_Trees\",\"opacity\":0.7,\"showlegend\":false,\"text\":[\"IQtreeStartingTree_Trees\",\"IQtreeStartingTree_Trees\",\"IQtreeStartingTree_Trees\",\"IQtreeStartingTree_Trees\",\"IQtreeStartingTree_Trees\",\"IQtreeStartingTree_Trees\",\"IQtreeStartingTree_Trees\",\"IQtreeStartingTree_Trees\",\"IQtreeStartingTree_Trees\",\"IQtreeStartingTree_Trees\",\"IQtreeStartingTree_Trees\",\"IQtreeStartingTree_Trees\",\"IQtreeStartingTree_Trees\",\"IQtreeStartingTree_Trees\",\"IQtreeStartingTree_Trees\",\"IQtreeStartingTree_Trees\",\"IQtreeStartingTree_Trees\",\"IQtreeStartingTree_Trees\",\"IQtreeStartingTree_Trees\",\"IQtreeStartingTree_Trees\",\"IQtreeStartingTree_Trees\",\"IQtreeStartingTree_Trees\",\"IQtreeStartingTree_Trees\",\"IQtreeStartingTree_Trees\",\"IQtreeStartingTree_Trees\",\"IQtreeStartingTree_Trees\",\"IQtreeStartingTree_Trees\",\"IQtreeStartingTree_Trees\",\"IQtreeStartingTree_Trees\"],\"visible\":true,\"x\":[-46.93082714843747,-56.09122432767226,-73.44514131464965,-76.82877345673278,-81.765697304933,-88.22940877426689,-92.75303335188387,-97.30253005300509,-100.22067867153665,-120.28999687829564,-132.91423984212167,-157.90555254739965,-160.29851171906614,-156.0289691119781,-171.29715705811734,-171.99983637435187,-172.13463679281892,-158.36183211235675,-166.011682362067,-168.0237769648214,-165.198234725238,-164.39374764216282,-161.37639678005837,-161.1965303697523,-165.4490477363242,-148.29351385755288,-147.09012191684587,-143.2261195299264,-127.70346018107945],\"y\":[415.3536823987752,427.20627251115565,406.8171040757961,398.3086463342782,390.4721939593941,383.0327582013863,375.4728684429792,357.86640005734665,338.97202924632063,319.51218555756367,316.0875730867254,302.8129656635796,272.2783363772432,243.98120037140617,218.78343244450429,187.09592352154,155.14254515321258,135.7360565267146,117.46129618989133,101.41324389605879,58.29334766659815,26.147633784793584,-3.683717878784008,-15.089692181109106,-42.551485761816,-68.00045397183479,-59.05987993152889,-79.42100531668706,-85.82107212831343],\"type\":\"scatter\"},{\"customdata\":[0,1,2,3,4,5,6,7,8,9,10,11,12,13,14,15,16,17,18,19,20,21,22,23,24,25,26,27,28,0,1,2,3,4,0,1,2,3,4,5,6,7,8,9,10,11,12,13,14,15,16,17,18,19,20,21,22,23,24,25,26,27,28,29,30,31,32,33,34,35,36,37,38,39,40,41,42,43,44,45,46,0,1,2,3,4,5,6,7,8,9,10,11,12,13,14,15,16,17,18,19,20,21,22,23,24,25,0,1,2,3,4,5,6,7,8,9,10,11,12,13,14,15,16,17,18,19,20,21,22,23,24,25,26,27,28,29,0],\"hovertemplate\":\"\\u003cb\\u003eTrace: %{text}\\u003c\\u002fb\\u003e\\u003cbr\\u003eStep: %{customdata}\\u003cbr\\u003ePCo1: %{x}\\u003cbr\\u003ePCo2: %{y}\\u003cbr\\u003e\",\"marker\":{\"cmax\":0,\"cmin\":0,\"color\":[109.0,111.0,112.0,113.0,117.0],\"colorscale\":[[0.0,\"rgb(0,0,131)\"],[0.2,\"rgb(0,60,170)\"],[0.4,\"rgb(5,255,255)\"],[0.6,\"rgb(255,255,0)\"],[0.8,\"rgb(250,0,0)\"],[1.0,\"rgb(128,0,0)\"]],\"line\":{\"width\":2},\"size\":[10,10,10,10,10],\"symbol\":[\"circle\",\"circle\",\"circle\",\"circle\",\"circle\"]},\"mode\":\"markers\",\"name\":\"MapleStartingTree_Trees\",\"opacity\":0.7,\"showlegend\":false,\"text\":[\"MapleStartingTree_Trees\",\"MapleStartingTree_Trees\",\"MapleStartingTree_Trees\",\"MapleStartingTree_Trees\",\"MapleStartingTree_Trees\"],\"visible\":true,\"x\":[-100.1855140929894,-115.52880862156209,-118.78972964513537,-124.48423620969498,-123.36706821870503],\"y\":[-95.90550504515399,-112.80873576347321,-104.82489522539015,-98.80243859786418,-99.45691576178176],\"type\":\"scatter\"},{\"customdata\":[0,1,2,3,4,5,6,7,8,9,10,11,12,13,14,15,16,17,18,19,20,21,22,23,24,25,26,27,28,0,1,2,3,4,0,1,2,3,4,5,6,7,8,9,10,11,12,13,14,15,16,17,18,19,20,21,22,23,24,25,26,27,28,29,30,31,32,33,34,35,36,37,38,39,40,41,42,43,44,45,46,0,1,2,3,4,5,6,7,8,9,10,11,12,13,14,15,16,17,18,19,20,21,22,23,24,25,0,1,2,3,4,5,6,7,8,9,10,11,12,13,14,15,16,17,18,19,20,21,22,23,24,25,26,27,28,29,0],\"hovertemplate\":\"\\u003cb\\u003eTrace: %{text}\\u003c\\u002fb\\u003e\\u003cbr\\u003eStep: %{customdata}\\u003cbr\\u003ePCo1: %{x}\\u003cbr\\u003ePCo2: %{y}\\u003cbr\\u003e\",\"marker\":{\"cmax\":0,\"cmin\":0,\"color\":[27.0,28.0,29.0,30.0,31.0,32.0,33.0,34.0,35.0,36.0,38.0,41.0,42.0,43.0,44.0,45.0,47.0,49.0,51.0,53.0,59.0,62.0,64.0,70.0,72.0,75.0,76.0,80.0,81.0,82.0,84.0,87.0,88.0,91.0,94.0,98.0,100.0,102.0,105.0,107.0,115.0,121.0,122.0,128.0,133.0,134.0,135.0],\"colorscale\":[[0.0,\"rgb(0,0,131)\"],[0.2,\"rgb(0,60,170)\"],[0.4,\"rgb(5,255,255)\"],[0.6,\"rgb(255,255,0)\"],[0.8,\"rgb(250,0,0)\"],[1.0,\"rgb(128,0,0)\"]],\"line\":{\"width\":2},\"size\":[10,10,10,10,10,10,10,10,10,10,10,10,10,10,10,10,10,10,10,10,10,10,10,10,10,10,10,10,10,10,10,10,10,10,10,10,10,10,10,10,10,10,10,10,10,10,10],\"symbol\":[\"circle\",\"circle\",\"circle\",\"circle\",\"circle\",\"circle\",\"circle\",\"circle\",\"circle\",\"circle\",\"circle\",\"circle\",\"circle\",\"circle\",\"circle\",\"circle\",\"circle\",\"circle\",\"circle\",\"circle\",\"circle\",\"circle\",\"circle\",\"circle\",\"circle\",\"circle\",\"circle\",\"circle\",\"circle\",\"circle\",\"circle\",\"circle\",\"circle\",\"circle\",\"circle\",\"circle\",\"circle\",\"circle\",\"circle\",\"circle\",\"circle\",\"circle\",\"circle\",\"circle\",\"circle\",\"circle\",\"circle\"]},\"mode\":\"markers\",\"name\":\"ParsimonyRAxMLStartingTree_GTRmodel_Trees\",\"opacity\":0.7,\"showlegend\":false,\"text\":[\"ParsimonyRAxMLStartingTree_GTRmodel_Trees\",\"ParsimonyRAxMLStartingTree_GTRmodel_Trees\",\"ParsimonyRAxMLStartingTree_GTRmodel_Trees\",\"ParsimonyRAxMLStartingTree_GTRmodel_Trees\",\"ParsimonyRAxMLStartingTree_GTRmodel_Trees\",\"ParsimonyRAxMLStartingTree_GTRmodel_Trees\",\"ParsimonyRAxMLStartingTree_GTRmodel_Trees\",\"ParsimonyRAxMLStartingTree_GTRmodel_Trees\",\"ParsimonyRAxMLStartingTree_GTRmodel_Trees\",\"ParsimonyRAxMLStartingTree_GTRmodel_Trees\",\"ParsimonyRAxMLStartingTree_GTRmodel_Trees\",\"ParsimonyRAxMLStartingTree_GTRmodel_Trees\",\"ParsimonyRAxMLStartingTree_GTRmodel_Trees\",\"ParsimonyRAxMLStartingTree_GTRmodel_Trees\",\"ParsimonyRAxMLStartingTree_GTRmodel_Trees\",\"ParsimonyRAxMLStartingTree_GTRmodel_Trees\",\"ParsimonyRAxMLStartingTree_GTRmodel_Trees\",\"ParsimonyRAxMLStartingTree_GTRmodel_Trees\",\"ParsimonyRAxMLStartingTree_GTRmodel_Trees\",\"ParsimonyRAxMLStartingTree_GTRmodel_Trees\",\"ParsimonyRAxMLStartingTree_GTRmodel_Trees\",\"ParsimonyRAxMLStartingTree_GTRmodel_Trees\",\"ParsimonyRAxMLStartingTree_GTRmodel_Trees\",\"ParsimonyRAxMLStartingTree_GTRmodel_Trees\",\"ParsimonyRAxMLStartingTree_GTRmodel_Trees\",\"ParsimonyRAxMLStartingTree_GTRmodel_Trees\",\"ParsimonyRAxMLStartingTree_GTRmodel_Trees\",\"ParsimonyRAxMLStartingTree_GTRmodel_Trees\",\"ParsimonyRAxMLStartingTree_GTRmodel_Trees\",\"ParsimonyRAxMLStartingTree_GTRmodel_Trees\",\"ParsimonyRAxMLStartingTree_GTRmodel_Trees\",\"ParsimonyRAxMLStartingTree_GTRmodel_Trees\",\"ParsimonyRAxMLStartingTree_GTRmodel_Trees\",\"ParsimonyRAxMLStartingTree_GTRmodel_Trees\",\"ParsimonyRAxMLStartingTree_GTRmodel_Trees\",\"ParsimonyRAxMLStartingTree_GTRmodel_Trees\",\"ParsimonyRAxMLStartingTree_GTRmodel_Trees\",\"ParsimonyRAxMLStartingTree_GTRmodel_Trees\",\"ParsimonyRAxMLStartingTree_GTRmodel_Trees\",\"ParsimonyRAxMLStartingTree_GTRmodel_Trees\",\"ParsimonyRAxMLStartingTree_GTRmodel_Trees\",\"ParsimonyRAxMLStartingTree_GTRmodel_Trees\",\"ParsimonyRAxMLStartingTree_GTRmodel_Trees\",\"ParsimonyRAxMLStartingTree_GTRmodel_Trees\",\"ParsimonyRAxMLStartingTree_GTRmodel_Trees\",\"ParsimonyRAxMLStartingTree_GTRmodel_Trees\",\"ParsimonyRAxMLStartingTree_GTRmodel_Trees\"],\"visible\":true,\"x\":[405.89956960926077,408.9169204713652,412.5346356350046,409.7214075544403,407.6561143696664,404.6502762648803,400.6118238119496,397.50859103284137,390.4422499234381,387.6371019080664,381.8127605002071,374.3104705176126,374.02677759924757,371.44760249195883,367.9591862823231,365.1688952747493,352.41088146191663,337.8287330240184,335.0569644749391,320.6975475924695,296.37211943767556,274.0949520876059,271.36940478826074,253.86972146601886,251.24920406112963,239.85147031864892,240.45989312078365,216.87066613173508,216.28203139655236,201.96838007439646,176.69836053495303,164.074117571127,161.60927858494807,146.58922171128478,125.28525807741173,97.51712819489099,65.74914809689331,64.33454681491234,46.57704230947875,14.657459357172906,-3.965346063351149,-5.2595061469660935,-10.718113184054225,-22.30121345806364,-27.995720022623185,-31.256641046196517,-31.256641046196535],\"y\":[179.72039201729083,149.88904035371328,125.33050985160027,117.7433264719088,107.5649682948638,99.45870663344644,93.93544149255028,86.44198970907705,70.10886865531816,62.541523746550126,54.948888347587605,48.78697467461343,48.88402292942857,39.21964683860482,40.146191268576615,32.594653301568286,8.461518787156525,-4.396660128235438,-11.927649648203364,-19.768771596999844,-37.11674128366903,-46.53533209968746,-54.05430630293321,-64.77956966501405,-70.53480146458683,-72.98751215343052,-83.28033264769049,-92.65976634378427,-102.93277010682887,-96.70731552691325,-119.98596098262618,-123.41057345346445,-131.03893893622302,-135.1080941323176,-133.87660995618344,-138.0500460518814,-146.79763367006817,-156.00858375026215,-147.18236959964955,-153.71522637151654,-161.5868794121891,-160.08823061160857,-154.65202106783613,-143.34166542310373,-137.31920879557774,-129.33536825749462,-129.33536825749465],\"type\":\"scatter\"},{\"customdata\":[0,1,2,3,4,5,6,7,8,9,10,11,12,13,14,15,16,17,18,19,20,21,22,23,24,25,26,27,28,0,1,2,3,4,0,1,2,3,4,5,6,7,8,9,10,11,12,13,14,15,16,17,18,19,20,21,22,23,24,25,26,27,28,29,30,31,32,33,34,35,36,37,38,39,40,41,42,43,44,45,46,0,1,2,3,4,5,6,7,8,9,10,11,12,13,14,15,16,17,18,19,20,21,22,23,24,25,0,1,2,3,4,5,6,7,8,9,10,11,12,13,14,15,16,17,18,19,20,21,22,23,24,25,26,27,28,29,0],\"hovertemplate\":\"\\u003cb\\u003eTrace: %{text}\\u003c\\u002fb\\u003e\\u003cbr\\u003eStep: %{customdata}\\u003cbr\\u003ePCo1: %{x}\\u003cbr\\u003ePCo2: %{y}\\u003cbr\\u003e\",\"marker\":{\"cmax\":0,\"cmin\":0,\"color\":[0.0,137.0,2.0,3.0,4.0,5.0,6.0,7.0,8.0,9.0,10.0,11.0,12.0,13.0,14.0,15.0,16.0,17.0,18.0,19.0,20.0,21.0,22.0,23.0,24.0,25.0],\"colorscale\":[[0.0,\"rgb(0,0,131)\"],[0.2,\"rgb(0,60,170)\"],[0.4,\"rgb(5,255,255)\"],[0.6,\"rgb(255,255,0)\"],[0.8,\"rgb(250,0,0)\"],[1.0,\"rgb(128,0,0)\"]],\"line\":{\"width\":2},\"size\":[10,10,10,10,10,10,10,10,10,10,10,10,10,10,10,10,10,10,10,10,10,10,10,10,10,10],\"symbol\":[\"circle\",\"circle\",\"circle\",\"circle\",\"circle\",\"circle\",\"circle\",\"circle\",\"circle\",\"circle\",\"circle\",\"circle\",\"circle\",\"circle\",\"circle\",\"circle\",\"circle\",\"circle\",\"circle\",\"circle\",\"circle\",\"circle\",\"circle\",\"circle\",\"circle\",\"circle\"]},\"mode\":\"markers\",\"name\":\"RAxMLNGStartingTree_Trees\",\"opacity\":0.7,\"showlegend\":false,\"text\":[\"RAxMLNGStartingTree_Trees\",\"RAxMLNGStartingTree_Trees\",\"RAxMLNGStartingTree_Trees\",\"RAxMLNGStartingTree_Trees\",\"RAxMLNGStartingTree_Trees\",\"RAxMLNGStartingTree_Trees\",\"RAxMLNGStartingTree_Trees\",\"RAxMLNGStartingTree_Trees\",\"RAxMLNGStartingTree_Trees\",\"RAxMLNGStartingTree_Trees\",\"RAxMLNGStartingTree_Trees\",\"RAxMLNGStartingTree_Trees\",\"RAxMLNGStartingTree_Trees\",\"RAxMLNGStartingTree_Trees\",\"RAxMLNGStartingTree_Trees\",\"RAxMLNGStartingTree_Trees\",\"RAxMLNGStartingTree_Trees\",\"RAxMLNGStartingTree_Trees\",\"RAxMLNGStartingTree_Trees\",\"RAxMLNGStartingTree_Trees\",\"RAxMLNGStartingTree_Trees\",\"RAxMLNGStartingTree_Trees\",\"RAxMLNGStartingTree_Trees\",\"RAxMLNGStartingTree_Trees\",\"RAxMLNGStartingTree_Trees\",\"RAxMLNGStartingTree_Trees\"],\"visible\":true,\"x\":[-126.78907486634809,-131.49263420986432,-132.69602615057119,-134.76131933534518,-135.21224295071957,-145.69346959773995,-146.14855054572539,-149.73192205067065,-152.11392213502745,-168.366899380089,-170.70399660064965,-171.21066418228588,-164.59443380277682,-180.73866836363513,-186.4331749281947,-198.0162752022041,-200.63679260709324,-206.09539964418136,-217.4931333866622,-216.8847105845274,-205.45631688748693,-189.93365753864012,-186.37479360439997,-169.21925972562863,-169.52689454930592,-172.78781557287934],\"y\":[99.78961951266456,84.60878167578993,75.66820763548412,65.48984945843924,62.239978037716874,41.23243247338526,45.08388636071969,35.709167332489095,21.563909542499616,21.05427792864754,13.469654730402455,1.902461638221697,-18.83086144525392,-23.586103447188503,-17.563646819662548,-6.25329117493005,-12.00852297450284,-6.572313430730377,-9.025024119574148,-19.31784461383403,-46.431491114344745,-52.831557925971175,-38.71655369364088,-64.16552190365961,-47.42962376639731,-39.445783228314205],\"type\":\"scatter\"},{\"customdata\":[0,1,2,3,4,5,6,7,8,9,10,11,12,13,14,15,16,17,18,19,20,21,22,23,24,25,26,27,28,0,1,2,3,4,0,1,2,3,4,5,6,7,8,9,10,11,12,13,14,15,16,17,18,19,20,21,22,23,24,25,26,27,28,29,30,31,32,33,34,35,36,37,38,39,40,41,42,43,44,45,46,0,1,2,3,4,5,6,7,8,9,10,11,12,13,14,15,16,17,18,19,20,21,22,23,24,25,0,1,2,3,4,5,6,7,8,9,10,11,12,13,14,15,16,17,18,19,20,21,22,23,24,25,26,27,28,29,0],\"hovertemplate\":\"\\u003cb\\u003eTrace: %{text}\\u003c\\u002fb\\u003e\\u003cbr\\u003eStep: %{customdata}\\u003cbr\\u003ePCo1: %{x}\\u003cbr\\u003ePCo2: %{y}\\u003cbr\\u003e\",\"marker\":{\"cmax\":0,\"cmin\":0,\"color\":[26.0],\"colorscale\":[[0.0,\"#fb9a99\"],[0.5,\"#fb9a99\"],[1.0,\"#fb9a99\"]],\"line\":{\"width\":2},\"size\":[30],\"symbol\":[\"circle\"]},\"mode\":\"markers\",\"name\":\"TrueTreeSimulations\",\"opacity\":0.7,\"showlegend\":false,\"text\":[\"TrueTreeSimulations\"],\"visible\":true,\"x\":[-9.23916066656199],\"y\":[308.51650255413733],\"type\":\"scatter\"},{\"customdata\":[0,1,2,3,4,5,6,7,8,9,10,11,12,13,14,15,16,17,18,19,20,21,22,23,24,25,26,27,28,0,1,2,3,4,0,1,2,3,4,5,6,7,8,9,10,11,12,13,14,15,16,17,18,19,20,21,22,23,24,25,26,27,28,29,30,31,32,33,34,35,36,37,38,39,40,41,42,43,44,45,46,0,1,2,3,4,5,6,7,8,9,10,11,12,13,14,15,16,17,18,19,20,21,22,23,24,25,0,1,2,3,4,5,6,7,8,9,10,11,12,13,14,15,16,17,18,19,20,21,22,23,24,25,26,27,28,29,0],\"hovertemplate\":\"\\u003cb\\u003eTrace: %{text}\\u003c\\u002fb\\u003e\\u003cbr\\u003eStep: %{customdata}\\u003cbr\\u003ePCo1: %{x}\\u003cbr\\u003ePCo2: %{y}\\u003cbr\\u003e\",\"marker\":{\"cmax\":0,\"cmin\":0,\"color\":[37.0,39.0,40.0,46.0,48.0,50.0,52.0,54.0,55.0,56.0,61.0,67.0,68.0,73.0,78.0,86.0,89.0,92.0,96.0,103.0,108.0,116.0,119.0,124.0,126.0,129.0,131.0,132.0,136.0,137.0],\"colorscale\":[[0.0,\"rgb(0,0,131)\"],[0.2,\"rgb(0,60,170)\"],[0.4,\"rgb(5,255,255)\"],[0.6,\"rgb(255,255,0)\"],[0.8,\"rgb(250,0,0)\"],[1.0,\"rgb(128,0,0)\"]],\"line\":{\"width\":2},\"size\":[10,10,10,10,10,10,10,10,10,10,10,10,10,10,10,10,10,10,10,10,10,10,10,10,10,10,10,10,10,10],\"symbol\":[\"circle\",\"circle\",\"circle\",\"circle\",\"circle\",\"circle\",\"circle\",\"circle\",\"circle\",\"circle\",\"circle\",\"circle\",\"circle\",\"circle\",\"circle\",\"circle\",\"circle\",\"circle\",\"circle\",\"circle\",\"circle\",\"circle\",\"circle\",\"circle\",\"circle\",\"circle\",\"circle\",\"circle\",\"circle\",\"circle\"]},\"mode\":\"markers\",\"name\":\"UshERStartingTree_Trees\",\"opacity\":0.7,\"showlegend\":false,\"text\":[\"UshERStartingTree_Trees\",\"UshERStartingTree_Trees\",\"UshERStartingTree_Trees\",\"UshERStartingTree_Trees\",\"UshERStartingTree_Trees\",\"UshERStartingTree_Trees\",\"UshERStartingTree_Trees\",\"UshERStartingTree_Trees\",\"UshERStartingTree_Trees\",\"UshERStartingTree_Trees\",\"UshERStartingTree_Trees\",\"UshERStartingTree_Trees\",\"UshERStartingTree_Trees\",\"UshERStartingTree_Trees\",\"UshERStartingTree_Trees\",\"UshERStartingTree_Trees\",\"UshERStartingTree_Trees\",\"UshERStartingTree_Trees\",\"UshERStartingTree_Trees\",\"UshERStartingTree_Trees\",\"UshERStartingTree_Trees\",\"UshERStartingTree_Trees\",\"UshERStartingTree_Trees\",\"UshERStartingTree_Trees\",\"UshERStartingTree_Trees\",\"UshERStartingTree_Trees\",\"UshERStartingTree_Trees\",\"UshERStartingTree_Trees\",\"UshERStartingTree_Trees\",\"UshERStartingTree_Trees\"],\"visible\":true,\"x\":[-20.038068903669917,-22.349955658064047,-24.72849334065964,-27.0375227420621,-24.0201718799577,-24.526839461593926,-27.147356866483033,-38.545090608963875,-37.93666780682916,-52.296084689298695,-54.11118147660749,-56.8684786654211,-59.30208830033921,-60.86437087596697,-62.34302256356459,-65.13387150736924,-78.93141829580662,-93.95147516946993,-101.90881563028005,-104.76122658469475,-105.64558441772286,-109.68403687065351,-94.16137752180661,-99.8558840863662,-105.31449112345436,-116.89759139746374,-120.15851242103709,-120.15851242103709,-119.04134443004722,-117.8379524893402],\"y\":[-22.888658173139643,-30.234819819690276,-37.50394860106818,-44.57722390179768,-74.40857556537537,-85.9757686575561,-91.73100045712894,-94.1837111459727,-104.47653164023244,-112.31765358902904,-117.79498715425507,-126.067740710303,-133.48333409419453,-138.22289617788982,-142.71891886540655,-151.22687897636297,-148.41830805593608,-152.48746325203072,-157.31442141704574,-167.06184694372854,-170.11234485870634,-175.63560999960254,-182.03567681122885,-176.01322018370288,-170.5770106399304,-159.266654995198,-151.2828144571149,-151.2828144571149,-151.93729162103256,-142.99671758072662],\"type\":\"scatter\"},{\"marker\":{\"color\":\"rgba(200,200,250,1)\"},\"showlegend\":false,\"visible\":true,\"xaxis\":\"x2\",\"y\":[415.3536823987752,427.20627251115565,406.8171040757961,398.3086463342782,390.4721939593941,383.0327582013863,375.4728684429792,357.86640005734665,338.97202924632063,319.51218555756367,316.0875730867254,302.8129656635796,272.2783363772432,243.98120037140617,218.78343244450429,187.09592352154,155.14254515321258,135.7360565267146,117.46129618989133,101.41324389605879,58.29334766659815,26.147633784793584,-3.683717878784008,-15.089692181109106,-42.551485761816,-68.00045397183479,-59.05987993152889,-79.42100531668706,-85.82107212831343,-95.90550504515399,-112.80873576347321,-104.82489522539015,-98.80243859786418,-99.45691576178176,179.72039201729083,149.88904035371328,125.33050985160027,117.7433264719088,107.5649682948638,99.45870663344644,93.93544149255028,86.44198970907705,70.10886865531816,62.541523746550126,54.948888347587605,48.78697467461343,48.88402292942857,39.21964683860482,40.146191268576615,32.594653301568286,8.461518787156525,-4.396660128235438,-11.927649648203364,-19.768771596999844,-37.11674128366903,-46.53533209968746,-54.05430630293321,-64.77956966501405,-70.53480146458683,-72.98751215343052,-83.28033264769049,-92.65976634378427,-102.93277010682887,-96.70731552691325,-119.98596098262618,-123.41057345346445,-131.03893893622302,-135.1080941323176,-133.87660995618344,-138.0500460518814,-146.79763367006817,-156.00858375026215,-147.18236959964955,-153.71522637151654,-161.5868794121891,-160.08823061160857,-154.65202106783613,-143.34166542310373,-137.31920879557774,-129.33536825749462,-129.33536825749465,99.78961951266456,84.60878167578993,75.66820763548412,65.48984945843924,62.239978037716874,41.23243247338526,45.08388636071969,35.709167332489095,21.563909542499616,21.05427792864754,13.469654730402455,1.902461638221697,-18.83086144525392,-23.586103447188503,-17.563646819662548,-6.25329117493005,-12.00852297450284,-6.572313430730377,-9.025024119574148,-19.31784461383403,-46.431491114344745,-52.831557925971175,-38.71655369364088,-64.16552190365961,-47.42962376639731,-39.445783228314205,-22.888658173139643,-30.234819819690276,-37.50394860106818,-44.57722390179768,-74.40857556537537,-85.9757686575561,-91.73100045712894,-94.1837111459727,-104.47653164023244,-112.31765358902904,-117.79498715425507,-126.067740710303,-133.48333409419453,-138.22289617788982,-142.71891886540655,-151.22687897636297,-148.41830805593608,-152.48746325203072,-157.31442141704574,-167.06184694372854,-170.11234485870634,-175.63560999960254,-182.03567681122885,-176.01322018370288,-170.5770106399304,-159.266654995198,-151.2828144571149,-151.2828144571149,-151.93729162103256,-142.99671758072662,308.51650255413733],\"type\":\"histogram\"},{\"marker\":{\"color\":\"rgba(200,200,250,1)\"},\"showlegend\":false,\"visible\":true,\"x\":[-46.93082714843747,-56.09122432767226,-73.44514131464965,-76.82877345673278,-81.765697304933,-88.22940877426689,-92.75303335188387,-97.30253005300509,-100.22067867153665,-120.28999687829564,-132.91423984212167,-157.90555254739965,-160.29851171906614,-156.0289691119781,-171.29715705811734,-171.99983637435187,-172.13463679281892,-158.36183211235675,-166.011682362067,-168.0237769648214,-165.198234725238,-164.39374764216282,-161.37639678005837,-161.1965303697523,-165.4490477363242,-148.29351385755288,-147.09012191684587,-143.2261195299264,-127.70346018107945,-100.1855140929894,-115.52880862156209,-118.78972964513537,-124.48423620969498,-123.36706821870503,405.89956960926077,408.9169204713652,412.5346356350046,409.7214075544403,407.6561143696664,404.6502762648803,400.6118238119496,397.50859103284137,390.4422499234381,387.6371019080664,381.8127605002071,374.3104705176126,374.02677759924757,371.44760249195883,367.9591862823231,365.1688952747493,352.41088146191663,337.8287330240184,335.0569644749391,320.6975475924695,296.37211943767556,274.0949520876059,271.36940478826074,253.86972146601886,251.24920406112963,239.85147031864892,240.45989312078365,216.87066613173508,216.28203139655236,201.96838007439646,176.69836053495303,164.074117571127,161.60927858494807,146.58922171128478,125.28525807741173,97.51712819489099,65.74914809689331,64.33454681491234,46.57704230947875,14.657459357172906,-3.965346063351149,-5.2595061469660935,-10.718113184054225,-22.30121345806364,-27.995720022623185,-31.256641046196517,-31.256641046196535,-126.78907486634809,-131.49263420986432,-132.69602615057119,-134.76131933534518,-135.21224295071957,-145.69346959773995,-146.14855054572539,-149.73192205067065,-152.11392213502745,-168.366899380089,-170.70399660064965,-171.21066418228588,-164.59443380277682,-180.73866836363513,-186.4331749281947,-198.0162752022041,-200.63679260709324,-206.09539964418136,-217.4931333866622,-216.8847105845274,-205.45631688748693,-189.93365753864012,-186.37479360439997,-169.21925972562863,-169.52689454930592,-172.78781557287934,-20.038068903669917,-22.349955658064047,-24.72849334065964,-27.0375227420621,-24.0201718799577,-24.526839461593926,-27.147356866483033,-38.545090608963875,-37.93666780682916,-52.296084689298695,-54.11118147660749,-56.8684786654211,-59.30208830033921,-60.86437087596697,-62.34302256356459,-65.13387150736924,-78.93141829580662,-93.95147516946993,-101.90881563028005,-104.76122658469475,-105.64558441772286,-109.68403687065351,-94.16137752180661,-99.8558840863662,-105.31449112345436,-116.89759139746374,-120.15851242103709,-120.15851242103709,-119.04134443004722,-117.8379524893402,-9.23916066656199],\"yaxis\":\"y2\",\"type\":\"histogram\"}],                        {\"template\":{\"data\":{\"barpolar\":[{\"marker\":{\"line\":{\"color\":\"rgb(234,234,242)\",\"width\":0.5},\"pattern\":{\"fillmode\":\"overlay\",\"size\":10,\"solidity\":0.2}},\"type\":\"barpolar\"}],\"bar\":[{\"error_x\":{\"color\":\"rgb(36,36,36)\"},\"error_y\":{\"color\":\"rgb(36,36,36)\"},\"marker\":{\"line\":{\"color\":\"rgb(234,234,242)\",\"width\":0.5},\"pattern\":{\"fillmode\":\"overlay\",\"size\":10,\"solidity\":0.2}},\"type\":\"bar\"}],\"carpet\":[{\"aaxis\":{\"endlinecolor\":\"rgb(36,36,36)\",\"gridcolor\":\"white\",\"linecolor\":\"white\",\"minorgridcolor\":\"white\",\"startlinecolor\":\"rgb(36,36,36)\"},\"baxis\":{\"endlinecolor\":\"rgb(36,36,36)\",\"gridcolor\":\"white\",\"linecolor\":\"white\",\"minorgridcolor\":\"white\",\"startlinecolor\":\"rgb(36,36,36)\"},\"type\":\"carpet\"}],\"choropleth\":[{\"colorbar\":{\"outlinewidth\":0,\"tickcolor\":\"rgb(36,36,36)\",\"ticklen\":8,\"ticks\":\"outside\",\"tickwidth\":2},\"type\":\"choropleth\"}],\"contourcarpet\":[{\"colorbar\":{\"outlinewidth\":0,\"tickcolor\":\"rgb(36,36,36)\",\"ticklen\":8,\"ticks\":\"outside\",\"tickwidth\":2},\"type\":\"contourcarpet\"}],\"contour\":[{\"colorbar\":{\"outlinewidth\":0,\"tickcolor\":\"rgb(36,36,36)\",\"ticklen\":8,\"ticks\":\"outside\",\"tickwidth\":2},\"colorscale\":[[0.0,\"rgb(2,4,25)\"],[0.06274509803921569,\"rgb(24,15,41)\"],[0.12549019607843137,\"rgb(47,23,57)\"],[0.18823529411764706,\"rgb(71,28,72)\"],[0.25098039215686274,\"rgb(97,30,82)\"],[0.3137254901960784,\"rgb(123,30,89)\"],[0.3764705882352941,\"rgb(150,27,91)\"],[0.4392156862745098,\"rgb(177,22,88)\"],[0.5019607843137255,\"rgb(203,26,79)\"],[0.5647058823529412,\"rgb(223,47,67)\"],[0.6274509803921569,\"rgb(236,76,61)\"],[0.6901960784313725,\"rgb(242,107,73)\"],[0.7529411764705882,\"rgb(244,135,95)\"],[0.8156862745098039,\"rgb(245,162,122)\"],[0.8784313725490196,\"rgb(246,188,153)\"],[0.9411764705882353,\"rgb(247,212,187)\"],[1.0,\"rgb(250,234,220)\"]],\"type\":\"contour\"}],\"heatmapgl\":[{\"colorbar\":{\"outlinewidth\":0,\"tickcolor\":\"rgb(36,36,36)\",\"ticklen\":8,\"ticks\":\"outside\",\"tickwidth\":2},\"colorscale\":[[0.0,\"rgb(2,4,25)\"],[0.06274509803921569,\"rgb(24,15,41)\"],[0.12549019607843137,\"rgb(47,23,57)\"],[0.18823529411764706,\"rgb(71,28,72)\"],[0.25098039215686274,\"rgb(97,30,82)\"],[0.3137254901960784,\"rgb(123,30,89)\"],[0.3764705882352941,\"rgb(150,27,91)\"],[0.4392156862745098,\"rgb(177,22,88)\"],[0.5019607843137255,\"rgb(203,26,79)\"],[0.5647058823529412,\"rgb(223,47,67)\"],[0.6274509803921569,\"rgb(236,76,61)\"],[0.6901960784313725,\"rgb(242,107,73)\"],[0.7529411764705882,\"rgb(244,135,95)\"],[0.8156862745098039,\"rgb(245,162,122)\"],[0.8784313725490196,\"rgb(246,188,153)\"],[0.9411764705882353,\"rgb(247,212,187)\"],[1.0,\"rgb(250,234,220)\"]],\"type\":\"heatmapgl\"}],\"heatmap\":[{\"colorbar\":{\"outlinewidth\":0,\"tickcolor\":\"rgb(36,36,36)\",\"ticklen\":8,\"ticks\":\"outside\",\"tickwidth\":2},\"colorscale\":[[0.0,\"rgb(2,4,25)\"],[0.06274509803921569,\"rgb(24,15,41)\"],[0.12549019607843137,\"rgb(47,23,57)\"],[0.18823529411764706,\"rgb(71,28,72)\"],[0.25098039215686274,\"rgb(97,30,82)\"],[0.3137254901960784,\"rgb(123,30,89)\"],[0.3764705882352941,\"rgb(150,27,91)\"],[0.4392156862745098,\"rgb(177,22,88)\"],[0.5019607843137255,\"rgb(203,26,79)\"],[0.5647058823529412,\"rgb(223,47,67)\"],[0.6274509803921569,\"rgb(236,76,61)\"],[0.6901960784313725,\"rgb(242,107,73)\"],[0.7529411764705882,\"rgb(244,135,95)\"],[0.8156862745098039,\"rgb(245,162,122)\"],[0.8784313725490196,\"rgb(246,188,153)\"],[0.9411764705882353,\"rgb(247,212,187)\"],[1.0,\"rgb(250,234,220)\"]],\"type\":\"heatmap\"}],\"histogram2dcontour\":[{\"colorbar\":{\"outlinewidth\":0,\"tickcolor\":\"rgb(36,36,36)\",\"ticklen\":8,\"ticks\":\"outside\",\"tickwidth\":2},\"colorscale\":[[0.0,\"rgb(2,4,25)\"],[0.06274509803921569,\"rgb(24,15,41)\"],[0.12549019607843137,\"rgb(47,23,57)\"],[0.18823529411764706,\"rgb(71,28,72)\"],[0.25098039215686274,\"rgb(97,30,82)\"],[0.3137254901960784,\"rgb(123,30,89)\"],[0.3764705882352941,\"rgb(150,27,91)\"],[0.4392156862745098,\"rgb(177,22,88)\"],[0.5019607843137255,\"rgb(203,26,79)\"],[0.5647058823529412,\"rgb(223,47,67)\"],[0.6274509803921569,\"rgb(236,76,61)\"],[0.6901960784313725,\"rgb(242,107,73)\"],[0.7529411764705882,\"rgb(244,135,95)\"],[0.8156862745098039,\"rgb(245,162,122)\"],[0.8784313725490196,\"rgb(246,188,153)\"],[0.9411764705882353,\"rgb(247,212,187)\"],[1.0,\"rgb(250,234,220)\"]],\"type\":\"histogram2dcontour\"}],\"histogram2d\":[{\"colorbar\":{\"outlinewidth\":0,\"tickcolor\":\"rgb(36,36,36)\",\"ticklen\":8,\"ticks\":\"outside\",\"tickwidth\":2},\"colorscale\":[[0.0,\"rgb(2,4,25)\"],[0.06274509803921569,\"rgb(24,15,41)\"],[0.12549019607843137,\"rgb(47,23,57)\"],[0.18823529411764706,\"rgb(71,28,72)\"],[0.25098039215686274,\"rgb(97,30,82)\"],[0.3137254901960784,\"rgb(123,30,89)\"],[0.3764705882352941,\"rgb(150,27,91)\"],[0.4392156862745098,\"rgb(177,22,88)\"],[0.5019607843137255,\"rgb(203,26,79)\"],[0.5647058823529412,\"rgb(223,47,67)\"],[0.6274509803921569,\"rgb(236,76,61)\"],[0.6901960784313725,\"rgb(242,107,73)\"],[0.7529411764705882,\"rgb(244,135,95)\"],[0.8156862745098039,\"rgb(245,162,122)\"],[0.8784313725490196,\"rgb(246,188,153)\"],[0.9411764705882353,\"rgb(247,212,187)\"],[1.0,\"rgb(250,234,220)\"]],\"type\":\"histogram2d\"}],\"histogram\":[{\"marker\":{\"pattern\":{\"fillmode\":\"overlay\",\"size\":10,\"solidity\":0.2}},\"type\":\"histogram\"}],\"mesh3d\":[{\"colorbar\":{\"outlinewidth\":0,\"tickcolor\":\"rgb(36,36,36)\",\"ticklen\":8,\"ticks\":\"outside\",\"tickwidth\":2},\"type\":\"mesh3d\"}],\"parcoords\":[{\"line\":{\"colorbar\":{\"outlinewidth\":0,\"tickcolor\":\"rgb(36,36,36)\",\"ticklen\":8,\"ticks\":\"outside\",\"tickwidth\":2}},\"type\":\"parcoords\"}],\"pie\":[{\"automargin\":true,\"type\":\"pie\"}],\"scatter3d\":[{\"line\":{\"colorbar\":{\"outlinewidth\":0,\"tickcolor\":\"rgb(36,36,36)\",\"ticklen\":8,\"ticks\":\"outside\",\"tickwidth\":2}},\"marker\":{\"colorbar\":{\"outlinewidth\":0,\"tickcolor\":\"rgb(36,36,36)\",\"ticklen\":8,\"ticks\":\"outside\",\"tickwidth\":2}},\"type\":\"scatter3d\"}],\"scattercarpet\":[{\"marker\":{\"colorbar\":{\"outlinewidth\":0,\"tickcolor\":\"rgb(36,36,36)\",\"ticklen\":8,\"ticks\":\"outside\",\"tickwidth\":2}},\"type\":\"scattercarpet\"}],\"scattergeo\":[{\"marker\":{\"colorbar\":{\"outlinewidth\":0,\"tickcolor\":\"rgb(36,36,36)\",\"ticklen\":8,\"ticks\":\"outside\",\"tickwidth\":2}},\"type\":\"scattergeo\"}],\"scattergl\":[{\"marker\":{\"colorbar\":{\"outlinewidth\":0,\"tickcolor\":\"rgb(36,36,36)\",\"ticklen\":8,\"ticks\":\"outside\",\"tickwidth\":2}},\"type\":\"scattergl\"}],\"scattermapbox\":[{\"marker\":{\"colorbar\":{\"outlinewidth\":0,\"tickcolor\":\"rgb(36,36,36)\",\"ticklen\":8,\"ticks\":\"outside\",\"tickwidth\":2}},\"type\":\"scattermapbox\"}],\"scatterpolargl\":[{\"marker\":{\"colorbar\":{\"outlinewidth\":0,\"tickcolor\":\"rgb(36,36,36)\",\"ticklen\":8,\"ticks\":\"outside\",\"tickwidth\":2}},\"type\":\"scatterpolargl\"}],\"scatterpolar\":[{\"marker\":{\"colorbar\":{\"outlinewidth\":0,\"tickcolor\":\"rgb(36,36,36)\",\"ticklen\":8,\"ticks\":\"outside\",\"tickwidth\":2}},\"type\":\"scatterpolar\"}],\"scatter\":[{\"fillpattern\":{\"fillmode\":\"overlay\",\"size\":10,\"solidity\":0.2},\"type\":\"scatter\"}],\"scatterternary\":[{\"marker\":{\"colorbar\":{\"outlinewidth\":0,\"tickcolor\":\"rgb(36,36,36)\",\"ticklen\":8,\"ticks\":\"outside\",\"tickwidth\":2}},\"type\":\"scatterternary\"}],\"surface\":[{\"colorbar\":{\"outlinewidth\":0,\"tickcolor\":\"rgb(36,36,36)\",\"ticklen\":8,\"ticks\":\"outside\",\"tickwidth\":2},\"colorscale\":[[0.0,\"rgb(2,4,25)\"],[0.06274509803921569,\"rgb(24,15,41)\"],[0.12549019607843137,\"rgb(47,23,57)\"],[0.18823529411764706,\"rgb(71,28,72)\"],[0.25098039215686274,\"rgb(97,30,82)\"],[0.3137254901960784,\"rgb(123,30,89)\"],[0.3764705882352941,\"rgb(150,27,91)\"],[0.4392156862745098,\"rgb(177,22,88)\"],[0.5019607843137255,\"rgb(203,26,79)\"],[0.5647058823529412,\"rgb(223,47,67)\"],[0.6274509803921569,\"rgb(236,76,61)\"],[0.6901960784313725,\"rgb(242,107,73)\"],[0.7529411764705882,\"rgb(244,135,95)\"],[0.8156862745098039,\"rgb(245,162,122)\"],[0.8784313725490196,\"rgb(246,188,153)\"],[0.9411764705882353,\"rgb(247,212,187)\"],[1.0,\"rgb(250,234,220)\"]],\"type\":\"surface\"}],\"table\":[{\"cells\":{\"fill\":{\"color\":\"rgb(231,231,240)\"},\"line\":{\"color\":\"white\"}},\"header\":{\"fill\":{\"color\":\"rgb(183,183,191)\"},\"line\":{\"color\":\"white\"}},\"type\":\"table\"}]},\"layout\":{\"annotationdefaults\":{\"arrowcolor\":\"rgb(67,103,167)\"},\"autotypenumbers\":\"strict\",\"coloraxis\":{\"colorbar\":{\"outlinewidth\":0,\"tickcolor\":\"rgb(36,36,36)\",\"ticklen\":8,\"ticks\":\"outside\",\"tickwidth\":2}},\"colorscale\":{\"sequential\":[[0.0,\"rgb(2,4,25)\"],[0.06274509803921569,\"rgb(24,15,41)\"],[0.12549019607843137,\"rgb(47,23,57)\"],[0.18823529411764706,\"rgb(71,28,72)\"],[0.25098039215686274,\"rgb(97,30,82)\"],[0.3137254901960784,\"rgb(123,30,89)\"],[0.3764705882352941,\"rgb(150,27,91)\"],[0.4392156862745098,\"rgb(177,22,88)\"],[0.5019607843137255,\"rgb(203,26,79)\"],[0.5647058823529412,\"rgb(223,47,67)\"],[0.6274509803921569,\"rgb(236,76,61)\"],[0.6901960784313725,\"rgb(242,107,73)\"],[0.7529411764705882,\"rgb(244,135,95)\"],[0.8156862745098039,\"rgb(245,162,122)\"],[0.8784313725490196,\"rgb(246,188,153)\"],[0.9411764705882353,\"rgb(247,212,187)\"],[1.0,\"rgb(250,234,220)\"]],\"sequentialminus\":[[0.0,\"rgb(2,4,25)\"],[0.06274509803921569,\"rgb(24,15,41)\"],[0.12549019607843137,\"rgb(47,23,57)\"],[0.18823529411764706,\"rgb(71,28,72)\"],[0.25098039215686274,\"rgb(97,30,82)\"],[0.3137254901960784,\"rgb(123,30,89)\"],[0.3764705882352941,\"rgb(150,27,91)\"],[0.4392156862745098,\"rgb(177,22,88)\"],[0.5019607843137255,\"rgb(203,26,79)\"],[0.5647058823529412,\"rgb(223,47,67)\"],[0.6274509803921569,\"rgb(236,76,61)\"],[0.6901960784313725,\"rgb(242,107,73)\"],[0.7529411764705882,\"rgb(244,135,95)\"],[0.8156862745098039,\"rgb(245,162,122)\"],[0.8784313725490196,\"rgb(246,188,153)\"],[0.9411764705882353,\"rgb(247,212,187)\"],[1.0,\"rgb(250,234,220)\"]]},\"colorway\":[\"rgb(76,114,176)\",\"rgb(221,132,82)\",\"rgb(85,168,104)\",\"rgb(196,78,82)\",\"rgb(129,114,179)\",\"rgb(147,120,96)\",\"rgb(218,139,195)\",\"rgb(140,140,140)\",\"rgb(204,185,116)\",\"rgb(100,181,205)\"],\"font\":{\"color\":\"rgb(36,36,36)\"},\"geo\":{\"bgcolor\":\"white\",\"lakecolor\":\"white\",\"landcolor\":\"rgb(234,234,242)\",\"showlakes\":true,\"showland\":true,\"subunitcolor\":\"white\"},\"hoverlabel\":{\"align\":\"left\"},\"hovermode\":\"closest\",\"paper_bgcolor\":\"white\",\"plot_bgcolor\":\"rgb(234,234,242)\",\"polar\":{\"angularaxis\":{\"gridcolor\":\"white\",\"linecolor\":\"white\",\"showgrid\":true,\"ticks\":\"\"},\"bgcolor\":\"rgb(234,234,242)\",\"radialaxis\":{\"gridcolor\":\"white\",\"linecolor\":\"white\",\"showgrid\":true,\"ticks\":\"\"}},\"scene\":{\"xaxis\":{\"backgroundcolor\":\"rgb(234,234,242)\",\"gridcolor\":\"white\",\"gridwidth\":2,\"linecolor\":\"white\",\"showbackground\":true,\"showgrid\":true,\"ticks\":\"\",\"zerolinecolor\":\"white\"},\"yaxis\":{\"backgroundcolor\":\"rgb(234,234,242)\",\"gridcolor\":\"white\",\"gridwidth\":2,\"linecolor\":\"white\",\"showbackground\":true,\"showgrid\":true,\"ticks\":\"\",\"zerolinecolor\":\"white\"},\"zaxis\":{\"backgroundcolor\":\"rgb(234,234,242)\",\"gridcolor\":\"white\",\"gridwidth\":2,\"linecolor\":\"white\",\"showbackground\":true,\"showgrid\":true,\"ticks\":\"\",\"zerolinecolor\":\"white\"}},\"shapedefaults\":{\"fillcolor\":\"rgb(67,103,167)\",\"line\":{\"width\":0},\"opacity\":0.5},\"ternary\":{\"aaxis\":{\"gridcolor\":\"white\",\"linecolor\":\"white\",\"showgrid\":true,\"ticks\":\"\"},\"baxis\":{\"gridcolor\":\"white\",\"linecolor\":\"white\",\"showgrid\":true,\"ticks\":\"\"},\"bgcolor\":\"rgb(234,234,242)\",\"caxis\":{\"gridcolor\":\"white\",\"linecolor\":\"white\",\"showgrid\":true,\"ticks\":\"\"}},\"xaxis\":{\"automargin\":true,\"gridcolor\":\"white\",\"linecolor\":\"white\",\"showgrid\":true,\"ticks\":\"\",\"title\":{\"standoff\":15},\"zerolinecolor\":\"white\"},\"yaxis\":{\"automargin\":true,\"gridcolor\":\"white\",\"linecolor\":\"white\",\"showgrid\":true,\"ticks\":\"\",\"title\":{\"standoff\":15},\"zerolinecolor\":\"white\"}}},\"margin\":{\"t\":0,\"b\":0,\"l\":0,\"r\":0},\"xaxis\":{\"title\":{\"text\":\"PCo1\",\"font\":{\"size\":20}},\"showgrid\":true,\"showline\":true,\"linecolor\":\"black\",\"linewidth\":2,\"zeroline\":true,\"showticklabels\":true,\"domain\":[0,0.84]},\"yaxis\":{\"title\":{\"text\":\"PCo2\",\"font\":{\"size\":20}},\"showgrid\":true,\"showline\":true,\"zeroline\":true,\"linecolor\":\"black\",\"linewidth\":2,\"showticklabels\":true,\"domain\":[0,0.84]},\"xaxis2\":{\"zeroline\":true,\"linecolor\":\"black\",\"linewidth\":2,\"showticklabels\":true,\"domain\":[0.85,1],\"showgrid\":true},\"yaxis2\":{\"zeroline\":true,\"linecolor\":\"black\",\"linewidth\":2,\"showticklabels\":true,\"domain\":[0.85,1],\"showgrid\":true},\"width\":800,\"height\":1200,\"autosize\":false,\"paper_bgcolor\":\"rgba(0,0,0,0)\",\"plot_bgcolor\":\"rgba(0,0,0,0)\",\"updatemenus\":[{\"buttons\":[{\"args\":[{\"type\":[\"scatter\",\"scatter\",\"scatter\",\"scatter\",\"scatter\",\"scatter\",\"scatter\",\"histogram\",\"histogram\"],\"visible\":[false,true,true,true,true,true,true,true,true]},{\"xaxis\":{\"showgrid\":true,\"showline\":true,\"zeroline\":true,\"showticklabels\":true,\"domain\":[0,0.85]},\"yaxis\":{\"showgrid\":true,\"showline\":true,\"zeroline\":true,\"showticklabels\":true,\"domain\":[0,0.85]},\"xaxis2\":{\"domain\":[0.85,1],\"showgrid\":true,\"showline\":true,\"zeroline\":true,\"showticklabels\":true},\"yaxis2\":{\"domain\":[0.85,1],\"showgrid\":true,\"showline\":true,\"zeroline\":true,\"showticklabels\":true},\"plot_bgcolor\":\"rgb(240,240,240)\"},{\"skip_invalid\":true}],\"label\":\"Scatter2D\",\"method\":\"update\"},{\"args\":[{\"type\":[\"histogram2dcontour\",\"scatter\",\"scatter\",\"scatter\",\"scatter\",\"scatter\",\"scatter\",\"histogram\",\"histogram\"],\"visible\":[true,false,false,false,false,false,false,false,false]},{\"xaxis\":{\"showgrid\":true,\"showline\":true,\"zeroline\":true,\"showticklabels\":true,\"domain\":[0,1]},\"yaxis\":{\"showgrid\":true,\"showline\":true,\"zeroline\":true,\"showticklabels\":true,\"domain\":[0,1]},\"xaxis2\":{\"domain\":[0.999,1],\"showgrid\":false,\"showline\":false,\"zeroline\":false,\"showticklabels\":false},\"yaxis2\":{\"domain\":[0.999,1],\"showgrid\":false,\"showline\":false,\"zeroline\":false,\"showticklabels\":false},\"plot_bgcolor\":\"rgb(240,240,240)\"},{\"skip_invalid\":true}],\"label\":\"Contour\",\"method\":\"update\"}],\"direction\":\"left\",\"pad\":{\"r\":10,\"t\":10},\"showactive\":true,\"type\":\"buttons\",\"x\":0.15,\"xanchor\":\"left\",\"y\":1.3,\"yanchor\":\"top\"},{\"buttons\":[{\"args\":[{\"mode\":\"markers\"},[1,2,3,4,5,6]],\"label\":\"Markers\",\"method\":\"restyle\"},{\"args\":[{\"mode\":\"lines+markers\"},[1,2,3,4,5,6]],\"label\":\"Markers & Lines\",\"method\":\"restyle\"}],\"direction\":\"left\",\"pad\":{\"r\":10,\"t\":10},\"showactive\":true,\"type\":\"buttons\",\"x\":0.15,\"xanchor\":\"left\",\"y\":1.2,\"yanchor\":\"top\"}],\"annotations\":[{\"align\":\"left\",\"showarrow\":false,\"text\":\"\\u003cb\\u003ePlot:\",\"x\":0,\"xref\":\"paper\",\"y\":1.275,\"yref\":\"paper\"},{\"align\":\"left\",\"showarrow\":false,\"text\":\"\\u003cb\\u003ePoints:\",\"x\":0,\"xref\":\"paper\",\"y\":1.175,\"yref\":\"paper\"}]},                        {\"responsive\": true}                    ).then(function(){\n",
       "                            \n",
       "var gd = document.getElementById('7ccf294e-68d0-4c83-ab15-d5aec981f28d');\n",
       "var x = new MutationObserver(function (mutations, observer) {{\n",
       "        var display = window.getComputedStyle(gd).display;\n",
       "        if (!display || display === 'none') {{\n",
       "            console.log([gd, 'removed!']);\n",
       "            Plotly.purge(gd);\n",
       "            observer.disconnect();\n",
       "        }}\n",
       "}});\n",
       "\n",
       "// Listen for the removal of the full notebook cells\n",
       "var notebookContainer = gd.closest('#notebook-container');\n",
       "if (notebookContainer) {{\n",
       "    x.observe(notebookContainer, {childList: true});\n",
       "}}\n",
       "\n",
       "// Listen for the clearing of the current output cell\n",
       "var outputEl = gd.closest('.output');\n",
       "if (outputEl) {{\n",
       "    x.observe(outputEl, {childList: true});\n",
       "}}\n",
       "\n",
       "                        })                };                });            </script>        </div>"
      ]
     },
     "metadata": {},
     "output_type": "display_data"
    }
   ],
   "source": [
    "collection_maple.plot_2D('pca', plot_meta = 'LK', same_scale = True, select = False, static = True)"
   ]
  },
  {
   "cell_type": "markdown",
   "id": "8820538f",
   "metadata": {},
   "source": [
    "#### Hard (not really) example:\n",
    "we want to highight the true tree, and the last tree of each set.\n",
    "In order to perform this task, we can exploit an additional tool: the `set_collection.data`.\n",
    "This object contains some useful information regarding the structure of each set composing the collection. In particular, we may be interested in the `n_trees` variable which can be used to assess the size of each set! "
   ]
  },
  {
   "cell_type": "code",
   "execution_count": 47,
   "id": "24915f0e",
   "metadata": {
    "scrolled": false
   },
   "outputs": [
    {
     "name": "stdout",
     "output_type": "stream",
     "text": [
      "IQtreeStartingTree_Trees has 29 trees\n",
      "MapleStartingTree_Trees has 5 trees\n",
      "ParsimonyRAxMLStartingTree_GTRmodel_Trees has 47 trees\n",
      "RAxMLNGStartingTree_Trees has 26 trees\n",
      "UshERStartingTree_Trees has 30 trees\n",
      "TrueTreeSimulations has 1 trees\n"
     ]
    }
   ],
   "source": [
    "# this is the object --> collection_maple.data # Note that this is a nested dictionary\n",
    "for Tset, info in collection_maple.data.items():\n",
    "    print(Tset, f\"has {info['n_trees']} trees\")"
   ]
  },
  {
   "cell_type": "code",
   "execution_count": 48,
   "id": "4c4bf52e",
   "metadata": {},
   "outputs": [
    {
     "data": {
      "text/html": [
       "<div>\n",
       "<style scoped>\n",
       "    .dataframe tbody tr th:only-of-type {\n",
       "        vertical-align: middle;\n",
       "    }\n",
       "\n",
       "    .dataframe tbody tr th {\n",
       "        vertical-align: top;\n",
       "    }\n",
       "\n",
       "    .dataframe thead th {\n",
       "        text-align: right;\n",
       "    }\n",
       "</style>\n",
       "<table border=\"1\" class=\"dataframe\">\n",
       "  <thead>\n",
       "    <tr style=\"text-align: right;\">\n",
       "      <th></th>\n",
       "      <th>SET-ID</th>\n",
       "      <th>STEP</th>\n",
       "      <th>LK</th>\n",
       "      <th>highlight</th>\n",
       "    </tr>\n",
       "  </thead>\n",
       "  <tbody>\n",
       "    <tr>\n",
       "      <th>0</th>\n",
       "      <td>IQtreeStartingTree_Trees</td>\n",
       "      <td>0</td>\n",
       "      <td>0.983439</td>\n",
       "      <td>0</td>\n",
       "    </tr>\n",
       "    <tr>\n",
       "      <th>1</th>\n",
       "      <td>IQtreeStartingTree_Trees</td>\n",
       "      <td>1</td>\n",
       "      <td>0.983822</td>\n",
       "      <td>0</td>\n",
       "    </tr>\n",
       "    <tr>\n",
       "      <th>2</th>\n",
       "      <td>IQtreeStartingTree_Trees</td>\n",
       "      <td>2</td>\n",
       "      <td>0.984404</td>\n",
       "      <td>0</td>\n",
       "    </tr>\n",
       "    <tr>\n",
       "      <th>3</th>\n",
       "      <td>IQtreeStartingTree_Trees</td>\n",
       "      <td>3</td>\n",
       "      <td>0.985124</td>\n",
       "      <td>0</td>\n",
       "    </tr>\n",
       "    <tr>\n",
       "      <th>4</th>\n",
       "      <td>IQtreeStartingTree_Trees</td>\n",
       "      <td>4</td>\n",
       "      <td>0.985631</td>\n",
       "      <td>0</td>\n",
       "    </tr>\n",
       "    <tr>\n",
       "      <th>...</th>\n",
       "      <td>...</td>\n",
       "      <td>...</td>\n",
       "      <td>...</td>\n",
       "      <td>...</td>\n",
       "    </tr>\n",
       "    <tr>\n",
       "      <th>133</th>\n",
       "      <td>UshERStartingTree_Trees</td>\n",
       "      <td>26</td>\n",
       "      <td>0.999844</td>\n",
       "      <td>0</td>\n",
       "    </tr>\n",
       "    <tr>\n",
       "      <th>134</th>\n",
       "      <td>UshERStartingTree_Trees</td>\n",
       "      <td>27</td>\n",
       "      <td>0.999850</td>\n",
       "      <td>0</td>\n",
       "    </tr>\n",
       "    <tr>\n",
       "      <th>135</th>\n",
       "      <td>UshERStartingTree_Trees</td>\n",
       "      <td>28</td>\n",
       "      <td>0.999976</td>\n",
       "      <td>0</td>\n",
       "    </tr>\n",
       "    <tr>\n",
       "      <th>136</th>\n",
       "      <td>UshERStartingTree_Trees</td>\n",
       "      <td>29</td>\n",
       "      <td>1.000000</td>\n",
       "      <td>1</td>\n",
       "    </tr>\n",
       "    <tr>\n",
       "      <th>137</th>\n",
       "      <td>TrueTreeSimulations</td>\n",
       "      <td>0</td>\n",
       "      <td>0.706890</td>\n",
       "      <td>1</td>\n",
       "    </tr>\n",
       "  </tbody>\n",
       "</table>\n",
       "<p>138 rows × 4 columns</p>\n",
       "</div>"
      ],
      "text/plain": [
       "                       SET-ID  STEP        LK  highlight\n",
       "0    IQtreeStartingTree_Trees     0  0.983439          0\n",
       "1    IQtreeStartingTree_Trees     1  0.983822          0\n",
       "2    IQtreeStartingTree_Trees     2  0.984404          0\n",
       "3    IQtreeStartingTree_Trees     3  0.985124          0\n",
       "4    IQtreeStartingTree_Trees     4  0.985631          0\n",
       "..                        ...   ...       ...        ...\n",
       "133   UshERStartingTree_Trees    26  0.999844          0\n",
       "134   UshERStartingTree_Trees    27  0.999850          0\n",
       "135   UshERStartingTree_Trees    28  0.999976          0\n",
       "136   UshERStartingTree_Trees    29  1.000000          1\n",
       "137       TrueTreeSimulations     0  0.706890          1\n",
       "\n",
       "[138 rows x 4 columns]"
      ]
     },
     "execution_count": 48,
     "metadata": {},
     "output_type": "execute_result"
    }
   ],
   "source": [
    "highlight_mask = np.zeros(collection_maple.metadata.shape[0], dtype=int)\n",
    "last_tree = 0\n",
    "for Tset, info in collection_maple.data.items():\n",
    "    last_tree += info[\"n_trees\"]\n",
    "    highlight_mask[last_tree - 1] = 1\n",
    "collection_maple.metadata['highlight'] = highlight_mask\n",
    "collection_maple.metadata"
   ]
  },
  {
   "cell_type": "code",
   "execution_count": 49,
   "id": "3403ff74",
   "metadata": {},
   "outputs": [
    {
     "data": {
      "application/vnd.plotly.v1+json": {
       "config": {
        "plotlyServerURL": "https://plot.ly"
       },
       "data": [
        {
         "marker": {
          "color": [
           0,
           0,
           0,
           0,
           0,
           0,
           0,
           0,
           0,
           0,
           0,
           0,
           0,
           0,
           0,
           0,
           0,
           0,
           0,
           0,
           0,
           0,
           0,
           0,
           0,
           0,
           0,
           0,
           1,
           0,
           0,
           0,
           0,
           1,
           0,
           0,
           0,
           0,
           0,
           0,
           0,
           0,
           0,
           0,
           0,
           0,
           0,
           0,
           0,
           0,
           0,
           0,
           0,
           0,
           0,
           0,
           0,
           0,
           0,
           0,
           0,
           0,
           0,
           0,
           0,
           0,
           0,
           0,
           0,
           0,
           0,
           0,
           0,
           0,
           0,
           0,
           0,
           0,
           0,
           0,
           1,
           0,
           0,
           0,
           0,
           0,
           0,
           0,
           0,
           0,
           0,
           0,
           0,
           0,
           0,
           0,
           0,
           0,
           0,
           0,
           0,
           0,
           0,
           0,
           0,
           0,
           1,
           0,
           0,
           0,
           0,
           0,
           0,
           0,
           0,
           0,
           0,
           0,
           0,
           0,
           0,
           0,
           0,
           0,
           0,
           0,
           0,
           0,
           0,
           0,
           0,
           0,
           0,
           0,
           0,
           0,
           1,
           1
          ],
          "colorscale": [
           [
            0,
            "#000080"
           ],
           [
            0.05263157894736842,
            "#0000bd"
           ],
           [
            0.10526315789473684,
            "#0000fa"
           ],
           [
            0.15789473684210525,
            "#0022ff"
           ],
           [
            0.21052631578947367,
            "#0057ff"
           ],
           [
            0.2631578947368421,
            "#008dff"
           ],
           [
            0.3157894736842105,
            "#00c3ff"
           ],
           [
            0.3684210526315789,
            "#0ff8e8"
           ],
           [
            0.42105263157894735,
            "#3affbc"
           ],
           [
            0.47368421052631576,
            "#66ff91"
           ],
           [
            0.5263157894736842,
            "#91ff66"
           ],
           [
            0.5789473684210527,
            "#bcff3a"
           ],
           [
            0.631578947368421,
            "#e8ff0f"
           ],
           [
            0.6842105263157895,
            "#ffd500"
           ],
           [
            0.7368421052631579,
            "#ffa400"
           ],
           [
            0.7894736842105263,
            "#ff7200"
           ],
           [
            0.8421052631578947,
            "#ff4000"
           ],
           [
            0.8947368421052632,
            "#fa0e00"
           ],
           [
            0.9473684210526315,
            "#bd0000"
           ],
           [
            1,
            "#800000"
           ]
          ]
         },
         "mode": "markers",
         "opacity": 0.7,
         "showlegend": false,
         "text": [
          0.9834389820406716,
          0.9838216510621484,
          0.9844040875128784,
          0.9851244965776011,
          0.9856306256909808,
          0.9861367478108172,
          0.9867727443600044,
          0.98797429038034,
          0.9883560285649012,
          0.9897745682586838,
          0.9903716696284456,
          0.9914083208226808,
          0.992090006912136,
          0.992965261061446,
          0.9936241722368382,
          0.9944421273999616,
          0.9951131713899564,
          0.9955193694144758,
          0.9965121662136232,
          0.9973095841317264,
          0.9979730419913484,
          0.9986857301088392,
          0.9991596836326292,
          0.9993217239902888,
          0.9994451309212636,
          0.9995586755634768,
          0.9995827684588792,
          0.9997099306836248,
          0.9998226591340652,
          0.9986023730484808,
          0.9989464630593512,
          0.9989862118330178,
          0.999159146677458,
          0.9992857427316746,
          0.9700672945134876,
          0.9705412479272008,
          0.9709861015878892,
          0.9712343475425222,
          0.9721987423836932,
          0.9730398734093442,
          0.973746688068956,
          0.9739949090965808,
          0.97426758904019,
          0.974515843601646,
          0.9753335648896028,
          0.9781142669763092,
          0.9784730112752232,
          0.9788397301135984,
          0.9793989881555106,
          0.979647240925236,
          0.9803066666455064,
          0.9806124534020892,
          0.9808606787052772,
          0.981502890948614,
          0.984283625070406,
          0.98507367815447,
          0.9853218989826008,
          0.9878543990753186,
          0.9881991456978512,
          0.9894122197644112,
          0.9896604738739864,
          0.9903829284940237,
          0.990631150160294,
          0.9912923076111828,
          0.9919329511550166,
          0.9925281516974548,
          0.9927764303275964,
          0.9930703430129498,
          0.9942329951946998,
          0.9955084987849606,
          0.996363006753178,
          0.9966112695839008,
          0.9976579655375788,
          0.998170213167428,
          0.9992057157081702,
          0.9994813123358276,
          0.9995511853608854,
          0.9997243740269116,
          0.999890532695813,
          0.9999323830247656,
          0.9999323861421732,
          0,
          0.0023641354971635,
          0.0026336564917542,
          0.0037234091454712,
          0.0047693741770589,
          0.0070085499305209,
          0.0073844105578946,
          0.0079231912994625,
          0.0085897268422595,
          0.0093662981566742,
          0.0096167124293304,
          0.0100384183628989,
          0.0106552444766868,
          0.0120837761302705,
          0.0127054213741059,
          0.0131725447461819,
          0.0140029776959506,
          0.0144819216317713,
          0.0161338203746266,
          0.0163821031466183,
          0.0167793831788193,
          0.0168921199492958,
          0.0169701955241933,
          0.0171791042122078,
          0.017297107238211,
          0.0174747143419849,
          0.9749631951512032,
          0.976279341584308,
          0.9779473526074955,
          0.9799017954421544,
          0.980375748867021,
          0.98078883907599,
          0.9811327784252888,
          0.9823467347249852,
          0.9825949738185972,
          0.9831917470761882,
          0.9849785239649004,
          0.9862996007018916,
          0.9865478240118036,
          0.988204443972448,
          0.9901669531333946,
          0.9921830535834956,
          0.992848579084468,
          0.993131626719738,
          0.9948014810823456,
          0.996636378460184,
          0.9985772594548528,
          0.9992849868137396,
          0.999397753806434,
          0.9995632613456408,
          0.9996326687449996,
          0.9998060423970282,
          0.9998444854068156,
          0.9998497060727564,
          0.9999758011241916,
          1,
          0.7068901658026021
         ],
         "type": "scatter",
         "visible": false,
         "x": [
          -46.93082714843747,
          -56.09122432767226,
          -73.44514131464965,
          -76.82877345673278,
          -81.765697304933,
          -88.22940877426689,
          -92.75303335188387,
          -97.30253005300509,
          -100.22067867153665,
          -120.28999687829564,
          -132.91423984212167,
          -157.90555254739965,
          -160.29851171906614,
          -156.0289691119781,
          -171.29715705811734,
          -171.99983637435187,
          -172.13463679281892,
          -158.36183211235675,
          -166.011682362067,
          -168.0237769648214,
          -165.198234725238,
          -164.39374764216282,
          -161.37639678005837,
          -161.1965303697523,
          -165.4490477363242,
          -148.29351385755288,
          -147.09012191684587,
          -143.2261195299264,
          -127.70346018107945,
          -100.1855140929894,
          -115.52880862156209,
          -118.78972964513537,
          -124.48423620969498,
          -123.36706821870503,
          405.89956960926077,
          408.9169204713652,
          412.5346356350046,
          409.7214075544403,
          407.6561143696664,
          404.6502762648803,
          400.6118238119496,
          397.50859103284137,
          390.4422499234381,
          387.6371019080664,
          381.8127605002071,
          374.3104705176126,
          374.02677759924757,
          371.44760249195883,
          367.9591862823231,
          365.1688952747493,
          352.41088146191663,
          337.8287330240184,
          335.0569644749391,
          320.6975475924695,
          296.37211943767556,
          274.0949520876059,
          271.36940478826074,
          253.86972146601886,
          251.24920406112963,
          239.85147031864892,
          240.45989312078365,
          216.87066613173508,
          216.28203139655236,
          201.96838007439646,
          176.69836053495303,
          164.074117571127,
          161.60927858494807,
          146.58922171128478,
          125.28525807741173,
          97.51712819489099,
          65.74914809689331,
          64.33454681491234,
          46.57704230947875,
          14.657459357172906,
          -3.965346063351149,
          -5.2595061469660935,
          -10.718113184054225,
          -22.30121345806364,
          -27.995720022623185,
          -31.256641046196517,
          -31.256641046196535,
          -126.78907486634809,
          -131.49263420986432,
          -132.69602615057119,
          -134.76131933534518,
          -135.21224295071957,
          -145.69346959773995,
          -146.14855054572539,
          -149.73192205067065,
          -152.11392213502745,
          -168.366899380089,
          -170.70399660064965,
          -171.21066418228588,
          -164.59443380277682,
          -180.73866836363513,
          -186.4331749281947,
          -198.0162752022041,
          -200.63679260709324,
          -206.09539964418136,
          -217.4931333866622,
          -216.8847105845274,
          -205.45631688748693,
          -189.93365753864012,
          -186.37479360439997,
          -169.21925972562863,
          -169.52689454930592,
          -172.78781557287934,
          -20.038068903669917,
          -22.349955658064047,
          -24.72849334065964,
          -27.0375227420621,
          -24.0201718799577,
          -24.526839461593926,
          -27.147356866483033,
          -38.545090608963875,
          -37.93666780682916,
          -52.296084689298695,
          -54.11118147660749,
          -56.8684786654211,
          -59.30208830033921,
          -60.86437087596697,
          -62.34302256356459,
          -65.13387150736924,
          -78.93141829580662,
          -93.95147516946993,
          -101.90881563028005,
          -104.76122658469475,
          -105.64558441772286,
          -109.68403687065351,
          -94.16137752180661,
          -99.8558840863662,
          -105.31449112345436,
          -116.89759139746374,
          -120.15851242103709,
          -120.15851242103709,
          -119.04134443004722,
          -117.8379524893402,
          -9.23916066656199
         ],
         "xaxis": "x",
         "y": [
          415.3536823987752,
          427.20627251115565,
          406.8171040757961,
          398.3086463342782,
          390.4721939593941,
          383.0327582013863,
          375.4728684429792,
          357.86640005734665,
          338.97202924632063,
          319.51218555756367,
          316.0875730867254,
          302.8129656635796,
          272.2783363772432,
          243.98120037140617,
          218.78343244450429,
          187.09592352154,
          155.14254515321258,
          135.7360565267146,
          117.46129618989133,
          101.41324389605879,
          58.29334766659815,
          26.147633784793584,
          -3.683717878784008,
          -15.089692181109106,
          -42.551485761816,
          -68.00045397183479,
          -59.05987993152889,
          -79.42100531668706,
          -85.82107212831343,
          -95.90550504515399,
          -112.80873576347321,
          -104.82489522539015,
          -98.80243859786418,
          -99.45691576178176,
          179.72039201729083,
          149.88904035371328,
          125.33050985160027,
          117.7433264719088,
          107.5649682948638,
          99.45870663344644,
          93.93544149255028,
          86.44198970907705,
          70.10886865531816,
          62.541523746550126,
          54.948888347587605,
          48.78697467461343,
          48.88402292942857,
          39.21964683860482,
          40.146191268576615,
          32.594653301568286,
          8.461518787156525,
          -4.396660128235438,
          -11.927649648203364,
          -19.768771596999844,
          -37.11674128366903,
          -46.53533209968746,
          -54.05430630293321,
          -64.77956966501405,
          -70.53480146458683,
          -72.98751215343052,
          -83.28033264769049,
          -92.65976634378427,
          -102.93277010682887,
          -96.70731552691325,
          -119.98596098262618,
          -123.41057345346445,
          -131.03893893622302,
          -135.1080941323176,
          -133.87660995618344,
          -138.0500460518814,
          -146.79763367006817,
          -156.00858375026215,
          -147.18236959964955,
          -153.71522637151654,
          -161.5868794121891,
          -160.08823061160857,
          -154.65202106783613,
          -143.34166542310373,
          -137.31920879557774,
          -129.33536825749462,
          -129.33536825749465,
          99.78961951266456,
          84.60878167578993,
          75.66820763548412,
          65.48984945843924,
          62.239978037716874,
          41.23243247338526,
          45.08388636071969,
          35.709167332489095,
          21.563909542499616,
          21.05427792864754,
          13.469654730402455,
          1.902461638221697,
          -18.83086144525392,
          -23.586103447188503,
          -17.563646819662548,
          -6.25329117493005,
          -12.00852297450284,
          -6.572313430730377,
          -9.025024119574148,
          -19.31784461383403,
          -46.431491114344745,
          -52.831557925971175,
          -38.71655369364088,
          -64.16552190365961,
          -47.42962376639731,
          -39.445783228314205,
          -22.888658173139643,
          -30.234819819690276,
          -37.50394860106818,
          -44.57722390179768,
          -74.40857556537537,
          -85.9757686575561,
          -91.73100045712894,
          -94.1837111459727,
          -104.47653164023244,
          -112.31765358902904,
          -117.79498715425507,
          -126.067740710303,
          -133.48333409419453,
          -138.22289617788982,
          -142.71891886540655,
          -151.22687897636297,
          -148.41830805593608,
          -152.48746325203072,
          -157.31442141704574,
          -167.06184694372854,
          -170.11234485870634,
          -175.63560999960254,
          -182.03567681122885,
          -176.01322018370288,
          -170.5770106399304,
          -159.266654995198,
          -151.2828144571149,
          -151.2828144571149,
          -151.93729162103256,
          -142.99671758072662,
          308.51650255413733
         ],
         "yaxis": "y"
        },
        {
         "customdata": [
          0,
          1,
          2,
          3,
          4,
          5,
          6,
          7,
          8,
          9,
          10,
          11,
          12,
          13,
          14,
          15,
          16,
          17,
          18,
          19,
          20,
          21,
          22,
          23,
          24,
          25,
          26,
          27,
          28,
          0,
          1,
          2,
          3,
          4,
          0,
          1,
          2,
          3,
          4,
          5,
          6,
          7,
          8,
          9,
          10,
          11,
          12,
          13,
          14,
          15,
          16,
          17,
          18,
          19,
          20,
          21,
          22,
          23,
          24,
          25,
          26,
          27,
          28,
          29,
          30,
          31,
          32,
          33,
          34,
          35,
          36,
          37,
          38,
          39,
          40,
          41,
          42,
          43,
          44,
          45,
          46,
          0,
          1,
          2,
          3,
          4,
          5,
          6,
          7,
          8,
          9,
          10,
          11,
          12,
          13,
          14,
          15,
          16,
          17,
          18,
          19,
          20,
          21,
          22,
          23,
          24,
          25,
          0,
          1,
          2,
          3,
          4,
          5,
          6,
          7,
          8,
          9,
          10,
          11,
          12,
          13,
          14,
          15,
          16,
          17,
          18,
          19,
          20,
          21,
          22,
          23,
          24,
          25,
          26,
          27,
          28,
          29,
          0
         ],
         "hovertemplate": "<b>Trace: %{text}</b><br>Step: %{customdata}<br>PCo1: %{x}<br>PCo2: %{y}<br>",
         "marker": {
          "cmax": 0,
          "cmin": 0,
          "color": [
           57,
           58,
           60,
           63,
           65,
           66,
           69,
           71,
           74,
           77,
           79,
           83,
           85,
           90,
           93,
           95,
           97,
           99,
           101,
           104,
           106,
           110,
           114,
           118,
           120,
           123,
           125,
           127,
           130
          ],
          "colorscale": [
           [
            0,
            "rgb(0,0,131)"
           ],
           [
            0.2,
            "rgb(0,60,170)"
           ],
           [
            0.4,
            "rgb(5,255,255)"
           ],
           [
            0.6,
            "rgb(255,255,0)"
           ],
           [
            0.8,
            "rgb(250,0,0)"
           ],
           [
            1,
            "rgb(128,0,0)"
           ]
          ],
          "line": {
           "width": 2
          },
          "size": [
           10,
           10,
           10,
           10,
           10,
           10,
           10,
           10,
           10,
           10,
           10,
           10,
           10,
           10,
           10,
           10,
           10,
           10,
           10,
           10,
           10,
           10,
           10,
           10,
           10,
           10,
           10,
           10,
           30
          ],
          "symbol": [
           "circle",
           "circle",
           "circle",
           "circle",
           "circle",
           "circle",
           "circle",
           "circle",
           "circle",
           "circle",
           "circle",
           "circle",
           "circle",
           "circle",
           "circle",
           "circle",
           "circle",
           "circle",
           "circle",
           "circle",
           "circle",
           "circle",
           "circle",
           "circle",
           "circle",
           "circle",
           "circle",
           "circle",
           "circle"
          ]
         },
         "mode": "markers",
         "name": "IQtreeStartingTree_Trees",
         "opacity": 0.7,
         "showlegend": false,
         "text": [
          "IQtreeStartingTree_Trees",
          "IQtreeStartingTree_Trees",
          "IQtreeStartingTree_Trees",
          "IQtreeStartingTree_Trees",
          "IQtreeStartingTree_Trees",
          "IQtreeStartingTree_Trees",
          "IQtreeStartingTree_Trees",
          "IQtreeStartingTree_Trees",
          "IQtreeStartingTree_Trees",
          "IQtreeStartingTree_Trees",
          "IQtreeStartingTree_Trees",
          "IQtreeStartingTree_Trees",
          "IQtreeStartingTree_Trees",
          "IQtreeStartingTree_Trees",
          "IQtreeStartingTree_Trees",
          "IQtreeStartingTree_Trees",
          "IQtreeStartingTree_Trees",
          "IQtreeStartingTree_Trees",
          "IQtreeStartingTree_Trees",
          "IQtreeStartingTree_Trees",
          "IQtreeStartingTree_Trees",
          "IQtreeStartingTree_Trees",
          "IQtreeStartingTree_Trees",
          "IQtreeStartingTree_Trees",
          "IQtreeStartingTree_Trees",
          "IQtreeStartingTree_Trees",
          "IQtreeStartingTree_Trees",
          "IQtreeStartingTree_Trees",
          "IQtreeStartingTree_Trees"
         ],
         "type": "scatter",
         "visible": true,
         "x": [
          -46.93082714843747,
          -56.09122432767226,
          -73.44514131464965,
          -76.82877345673278,
          -81.765697304933,
          -88.22940877426689,
          -92.75303335188387,
          -97.30253005300509,
          -100.22067867153665,
          -120.28999687829564,
          -132.91423984212167,
          -157.90555254739965,
          -160.29851171906614,
          -156.0289691119781,
          -171.29715705811734,
          -171.99983637435187,
          -172.13463679281892,
          -158.36183211235675,
          -166.011682362067,
          -168.0237769648214,
          -165.198234725238,
          -164.39374764216282,
          -161.37639678005837,
          -161.1965303697523,
          -165.4490477363242,
          -148.29351385755288,
          -147.09012191684587,
          -143.2261195299264,
          -127.70346018107945
         ],
         "y": [
          415.3536823987752,
          427.20627251115565,
          406.8171040757961,
          398.3086463342782,
          390.4721939593941,
          383.0327582013863,
          375.4728684429792,
          357.86640005734665,
          338.97202924632063,
          319.51218555756367,
          316.0875730867254,
          302.8129656635796,
          272.2783363772432,
          243.98120037140617,
          218.78343244450429,
          187.09592352154,
          155.14254515321258,
          135.7360565267146,
          117.46129618989133,
          101.41324389605879,
          58.29334766659815,
          26.147633784793584,
          -3.683717878784008,
          -15.089692181109106,
          -42.551485761816,
          -68.00045397183479,
          -59.05987993152889,
          -79.42100531668706,
          -85.82107212831343
         ]
        },
        {
         "customdata": [
          0,
          1,
          2,
          3,
          4,
          5,
          6,
          7,
          8,
          9,
          10,
          11,
          12,
          13,
          14,
          15,
          16,
          17,
          18,
          19,
          20,
          21,
          22,
          23,
          24,
          25,
          26,
          27,
          28,
          0,
          1,
          2,
          3,
          4,
          0,
          1,
          2,
          3,
          4,
          5,
          6,
          7,
          8,
          9,
          10,
          11,
          12,
          13,
          14,
          15,
          16,
          17,
          18,
          19,
          20,
          21,
          22,
          23,
          24,
          25,
          26,
          27,
          28,
          29,
          30,
          31,
          32,
          33,
          34,
          35,
          36,
          37,
          38,
          39,
          40,
          41,
          42,
          43,
          44,
          45,
          46,
          0,
          1,
          2,
          3,
          4,
          5,
          6,
          7,
          8,
          9,
          10,
          11,
          12,
          13,
          14,
          15,
          16,
          17,
          18,
          19,
          20,
          21,
          22,
          23,
          24,
          25,
          0,
          1,
          2,
          3,
          4,
          5,
          6,
          7,
          8,
          9,
          10,
          11,
          12,
          13,
          14,
          15,
          16,
          17,
          18,
          19,
          20,
          21,
          22,
          23,
          24,
          25,
          26,
          27,
          28,
          29,
          0
         ],
         "hovertemplate": "<b>Trace: %{text}</b><br>Step: %{customdata}<br>PCo1: %{x}<br>PCo2: %{y}<br>",
         "marker": {
          "cmax": 0,
          "cmin": 0,
          "color": [
           109,
           111,
           112,
           113,
           117
          ],
          "colorscale": [
           [
            0,
            "rgb(0,0,131)"
           ],
           [
            0.2,
            "rgb(0,60,170)"
           ],
           [
            0.4,
            "rgb(5,255,255)"
           ],
           [
            0.6,
            "rgb(255,255,0)"
           ],
           [
            0.8,
            "rgb(250,0,0)"
           ],
           [
            1,
            "rgb(128,0,0)"
           ]
          ],
          "line": {
           "width": 2
          },
          "size": [
           10,
           10,
           10,
           10,
           30
          ],
          "symbol": [
           "circle",
           "circle",
           "circle",
           "circle",
           "circle"
          ]
         },
         "mode": "markers",
         "name": "MapleStartingTree_Trees",
         "opacity": 0.7,
         "showlegend": false,
         "text": [
          "MapleStartingTree_Trees",
          "MapleStartingTree_Trees",
          "MapleStartingTree_Trees",
          "MapleStartingTree_Trees",
          "MapleStartingTree_Trees"
         ],
         "type": "scatter",
         "visible": true,
         "x": [
          -100.1855140929894,
          -115.52880862156209,
          -118.78972964513537,
          -124.48423620969498,
          -123.36706821870503
         ],
         "y": [
          -95.90550504515399,
          -112.80873576347321,
          -104.82489522539015,
          -98.80243859786418,
          -99.45691576178176
         ]
        },
        {
         "customdata": [
          0,
          1,
          2,
          3,
          4,
          5,
          6,
          7,
          8,
          9,
          10,
          11,
          12,
          13,
          14,
          15,
          16,
          17,
          18,
          19,
          20,
          21,
          22,
          23,
          24,
          25,
          26,
          27,
          28,
          0,
          1,
          2,
          3,
          4,
          0,
          1,
          2,
          3,
          4,
          5,
          6,
          7,
          8,
          9,
          10,
          11,
          12,
          13,
          14,
          15,
          16,
          17,
          18,
          19,
          20,
          21,
          22,
          23,
          24,
          25,
          26,
          27,
          28,
          29,
          30,
          31,
          32,
          33,
          34,
          35,
          36,
          37,
          38,
          39,
          40,
          41,
          42,
          43,
          44,
          45,
          46,
          0,
          1,
          2,
          3,
          4,
          5,
          6,
          7,
          8,
          9,
          10,
          11,
          12,
          13,
          14,
          15,
          16,
          17,
          18,
          19,
          20,
          21,
          22,
          23,
          24,
          25,
          0,
          1,
          2,
          3,
          4,
          5,
          6,
          7,
          8,
          9,
          10,
          11,
          12,
          13,
          14,
          15,
          16,
          17,
          18,
          19,
          20,
          21,
          22,
          23,
          24,
          25,
          26,
          27,
          28,
          29,
          0
         ],
         "hovertemplate": "<b>Trace: %{text}</b><br>Step: %{customdata}<br>PCo1: %{x}<br>PCo2: %{y}<br>",
         "marker": {
          "cmax": 0,
          "cmin": 0,
          "color": [
           27,
           28,
           29,
           30,
           31,
           32,
           33,
           34,
           35,
           36,
           38,
           41,
           42,
           43,
           44,
           45,
           47,
           49,
           51,
           53,
           59,
           62,
           64,
           70,
           72,
           75,
           76,
           80,
           81,
           82,
           84,
           87,
           88,
           91,
           94,
           98,
           100,
           102,
           105,
           107,
           115,
           121,
           122,
           128,
           133,
           134,
           135
          ],
          "colorscale": [
           [
            0,
            "rgb(0,0,131)"
           ],
           [
            0.2,
            "rgb(0,60,170)"
           ],
           [
            0.4,
            "rgb(5,255,255)"
           ],
           [
            0.6,
            "rgb(255,255,0)"
           ],
           [
            0.8,
            "rgb(250,0,0)"
           ],
           [
            1,
            "rgb(128,0,0)"
           ]
          ],
          "line": {
           "width": 2
          },
          "size": [
           10,
           10,
           10,
           10,
           10,
           10,
           10,
           10,
           10,
           10,
           10,
           10,
           10,
           10,
           10,
           10,
           10,
           10,
           10,
           10,
           10,
           10,
           10,
           10,
           10,
           10,
           10,
           10,
           10,
           10,
           10,
           10,
           10,
           10,
           10,
           10,
           10,
           10,
           10,
           10,
           10,
           10,
           10,
           10,
           10,
           10,
           30
          ],
          "symbol": [
           "circle",
           "circle",
           "circle",
           "circle",
           "circle",
           "circle",
           "circle",
           "circle",
           "circle",
           "circle",
           "circle",
           "circle",
           "circle",
           "circle",
           "circle",
           "circle",
           "circle",
           "circle",
           "circle",
           "circle",
           "circle",
           "circle",
           "circle",
           "circle",
           "circle",
           "circle",
           "circle",
           "circle",
           "circle",
           "circle",
           "circle",
           "circle",
           "circle",
           "circle",
           "circle",
           "circle",
           "circle",
           "circle",
           "circle",
           "circle",
           "circle",
           "circle",
           "circle",
           "circle",
           "circle",
           "circle",
           "circle"
          ]
         },
         "mode": "markers",
         "name": "ParsimonyRAxMLStartingTree_GTRmodel_Trees",
         "opacity": 0.7,
         "showlegend": false,
         "text": [
          "ParsimonyRAxMLStartingTree_GTRmodel_Trees",
          "ParsimonyRAxMLStartingTree_GTRmodel_Trees",
          "ParsimonyRAxMLStartingTree_GTRmodel_Trees",
          "ParsimonyRAxMLStartingTree_GTRmodel_Trees",
          "ParsimonyRAxMLStartingTree_GTRmodel_Trees",
          "ParsimonyRAxMLStartingTree_GTRmodel_Trees",
          "ParsimonyRAxMLStartingTree_GTRmodel_Trees",
          "ParsimonyRAxMLStartingTree_GTRmodel_Trees",
          "ParsimonyRAxMLStartingTree_GTRmodel_Trees",
          "ParsimonyRAxMLStartingTree_GTRmodel_Trees",
          "ParsimonyRAxMLStartingTree_GTRmodel_Trees",
          "ParsimonyRAxMLStartingTree_GTRmodel_Trees",
          "ParsimonyRAxMLStartingTree_GTRmodel_Trees",
          "ParsimonyRAxMLStartingTree_GTRmodel_Trees",
          "ParsimonyRAxMLStartingTree_GTRmodel_Trees",
          "ParsimonyRAxMLStartingTree_GTRmodel_Trees",
          "ParsimonyRAxMLStartingTree_GTRmodel_Trees",
          "ParsimonyRAxMLStartingTree_GTRmodel_Trees",
          "ParsimonyRAxMLStartingTree_GTRmodel_Trees",
          "ParsimonyRAxMLStartingTree_GTRmodel_Trees",
          "ParsimonyRAxMLStartingTree_GTRmodel_Trees",
          "ParsimonyRAxMLStartingTree_GTRmodel_Trees",
          "ParsimonyRAxMLStartingTree_GTRmodel_Trees",
          "ParsimonyRAxMLStartingTree_GTRmodel_Trees",
          "ParsimonyRAxMLStartingTree_GTRmodel_Trees",
          "ParsimonyRAxMLStartingTree_GTRmodel_Trees",
          "ParsimonyRAxMLStartingTree_GTRmodel_Trees",
          "ParsimonyRAxMLStartingTree_GTRmodel_Trees",
          "ParsimonyRAxMLStartingTree_GTRmodel_Trees",
          "ParsimonyRAxMLStartingTree_GTRmodel_Trees",
          "ParsimonyRAxMLStartingTree_GTRmodel_Trees",
          "ParsimonyRAxMLStartingTree_GTRmodel_Trees",
          "ParsimonyRAxMLStartingTree_GTRmodel_Trees",
          "ParsimonyRAxMLStartingTree_GTRmodel_Trees",
          "ParsimonyRAxMLStartingTree_GTRmodel_Trees",
          "ParsimonyRAxMLStartingTree_GTRmodel_Trees",
          "ParsimonyRAxMLStartingTree_GTRmodel_Trees",
          "ParsimonyRAxMLStartingTree_GTRmodel_Trees",
          "ParsimonyRAxMLStartingTree_GTRmodel_Trees",
          "ParsimonyRAxMLStartingTree_GTRmodel_Trees",
          "ParsimonyRAxMLStartingTree_GTRmodel_Trees",
          "ParsimonyRAxMLStartingTree_GTRmodel_Trees",
          "ParsimonyRAxMLStartingTree_GTRmodel_Trees",
          "ParsimonyRAxMLStartingTree_GTRmodel_Trees",
          "ParsimonyRAxMLStartingTree_GTRmodel_Trees",
          "ParsimonyRAxMLStartingTree_GTRmodel_Trees",
          "ParsimonyRAxMLStartingTree_GTRmodel_Trees"
         ],
         "type": "scatter",
         "visible": true,
         "x": [
          405.89956960926077,
          408.9169204713652,
          412.5346356350046,
          409.7214075544403,
          407.6561143696664,
          404.6502762648803,
          400.6118238119496,
          397.50859103284137,
          390.4422499234381,
          387.6371019080664,
          381.8127605002071,
          374.3104705176126,
          374.02677759924757,
          371.44760249195883,
          367.9591862823231,
          365.1688952747493,
          352.41088146191663,
          337.8287330240184,
          335.0569644749391,
          320.6975475924695,
          296.37211943767556,
          274.0949520876059,
          271.36940478826074,
          253.86972146601886,
          251.24920406112963,
          239.85147031864892,
          240.45989312078365,
          216.87066613173508,
          216.28203139655236,
          201.96838007439646,
          176.69836053495303,
          164.074117571127,
          161.60927858494807,
          146.58922171128478,
          125.28525807741173,
          97.51712819489099,
          65.74914809689331,
          64.33454681491234,
          46.57704230947875,
          14.657459357172906,
          -3.965346063351149,
          -5.2595061469660935,
          -10.718113184054225,
          -22.30121345806364,
          -27.995720022623185,
          -31.256641046196517,
          -31.256641046196535
         ],
         "y": [
          179.72039201729083,
          149.88904035371328,
          125.33050985160027,
          117.7433264719088,
          107.5649682948638,
          99.45870663344644,
          93.93544149255028,
          86.44198970907705,
          70.10886865531816,
          62.541523746550126,
          54.948888347587605,
          48.78697467461343,
          48.88402292942857,
          39.21964683860482,
          40.146191268576615,
          32.594653301568286,
          8.461518787156525,
          -4.396660128235438,
          -11.927649648203364,
          -19.768771596999844,
          -37.11674128366903,
          -46.53533209968746,
          -54.05430630293321,
          -64.77956966501405,
          -70.53480146458683,
          -72.98751215343052,
          -83.28033264769049,
          -92.65976634378427,
          -102.93277010682887,
          -96.70731552691325,
          -119.98596098262618,
          -123.41057345346445,
          -131.03893893622302,
          -135.1080941323176,
          -133.87660995618344,
          -138.0500460518814,
          -146.79763367006817,
          -156.00858375026215,
          -147.18236959964955,
          -153.71522637151654,
          -161.5868794121891,
          -160.08823061160857,
          -154.65202106783613,
          -143.34166542310373,
          -137.31920879557774,
          -129.33536825749462,
          -129.33536825749465
         ]
        },
        {
         "customdata": [
          0,
          1,
          2,
          3,
          4,
          5,
          6,
          7,
          8,
          9,
          10,
          11,
          12,
          13,
          14,
          15,
          16,
          17,
          18,
          19,
          20,
          21,
          22,
          23,
          24,
          25,
          26,
          27,
          28,
          0,
          1,
          2,
          3,
          4,
          0,
          1,
          2,
          3,
          4,
          5,
          6,
          7,
          8,
          9,
          10,
          11,
          12,
          13,
          14,
          15,
          16,
          17,
          18,
          19,
          20,
          21,
          22,
          23,
          24,
          25,
          26,
          27,
          28,
          29,
          30,
          31,
          32,
          33,
          34,
          35,
          36,
          37,
          38,
          39,
          40,
          41,
          42,
          43,
          44,
          45,
          46,
          0,
          1,
          2,
          3,
          4,
          5,
          6,
          7,
          8,
          9,
          10,
          11,
          12,
          13,
          14,
          15,
          16,
          17,
          18,
          19,
          20,
          21,
          22,
          23,
          24,
          25,
          0,
          1,
          2,
          3,
          4,
          5,
          6,
          7,
          8,
          9,
          10,
          11,
          12,
          13,
          14,
          15,
          16,
          17,
          18,
          19,
          20,
          21,
          22,
          23,
          24,
          25,
          26,
          27,
          28,
          29,
          0
         ],
         "hovertemplate": "<b>Trace: %{text}</b><br>Step: %{customdata}<br>PCo1: %{x}<br>PCo2: %{y}<br>",
         "marker": {
          "cmax": 0,
          "cmin": 0,
          "color": [
           0,
           137,
           2,
           3,
           4,
           5,
           6,
           7,
           8,
           9,
           10,
           11,
           12,
           13,
           14,
           15,
           16,
           17,
           18,
           19,
           20,
           21,
           22,
           23,
           24,
           25
          ],
          "colorscale": [
           [
            0,
            "rgb(0,0,131)"
           ],
           [
            0.2,
            "rgb(0,60,170)"
           ],
           [
            0.4,
            "rgb(5,255,255)"
           ],
           [
            0.6,
            "rgb(255,255,0)"
           ],
           [
            0.8,
            "rgb(250,0,0)"
           ],
           [
            1,
            "rgb(128,0,0)"
           ]
          ],
          "line": {
           "width": 2
          },
          "size": [
           10,
           10,
           10,
           10,
           10,
           10,
           10,
           10,
           10,
           10,
           10,
           10,
           10,
           10,
           10,
           10,
           10,
           10,
           10,
           10,
           10,
           10,
           10,
           10,
           10,
           30
          ],
          "symbol": [
           "circle",
           "circle",
           "circle",
           "circle",
           "circle",
           "circle",
           "circle",
           "circle",
           "circle",
           "circle",
           "circle",
           "circle",
           "circle",
           "circle",
           "circle",
           "circle",
           "circle",
           "circle",
           "circle",
           "circle",
           "circle",
           "circle",
           "circle",
           "circle",
           "circle",
           "circle"
          ]
         },
         "mode": "markers",
         "name": "RAxMLNGStartingTree_Trees",
         "opacity": 0.7,
         "showlegend": false,
         "text": [
          "RAxMLNGStartingTree_Trees",
          "RAxMLNGStartingTree_Trees",
          "RAxMLNGStartingTree_Trees",
          "RAxMLNGStartingTree_Trees",
          "RAxMLNGStartingTree_Trees",
          "RAxMLNGStartingTree_Trees",
          "RAxMLNGStartingTree_Trees",
          "RAxMLNGStartingTree_Trees",
          "RAxMLNGStartingTree_Trees",
          "RAxMLNGStartingTree_Trees",
          "RAxMLNGStartingTree_Trees",
          "RAxMLNGStartingTree_Trees",
          "RAxMLNGStartingTree_Trees",
          "RAxMLNGStartingTree_Trees",
          "RAxMLNGStartingTree_Trees",
          "RAxMLNGStartingTree_Trees",
          "RAxMLNGStartingTree_Trees",
          "RAxMLNGStartingTree_Trees",
          "RAxMLNGStartingTree_Trees",
          "RAxMLNGStartingTree_Trees",
          "RAxMLNGStartingTree_Trees",
          "RAxMLNGStartingTree_Trees",
          "RAxMLNGStartingTree_Trees",
          "RAxMLNGStartingTree_Trees",
          "RAxMLNGStartingTree_Trees",
          "RAxMLNGStartingTree_Trees"
         ],
         "type": "scatter",
         "visible": true,
         "x": [
          -126.78907486634809,
          -131.49263420986432,
          -132.69602615057119,
          -134.76131933534518,
          -135.21224295071957,
          -145.69346959773995,
          -146.14855054572539,
          -149.73192205067065,
          -152.11392213502745,
          -168.366899380089,
          -170.70399660064965,
          -171.21066418228588,
          -164.59443380277682,
          -180.73866836363513,
          -186.4331749281947,
          -198.0162752022041,
          -200.63679260709324,
          -206.09539964418136,
          -217.4931333866622,
          -216.8847105845274,
          -205.45631688748693,
          -189.93365753864012,
          -186.37479360439997,
          -169.21925972562863,
          -169.52689454930592,
          -172.78781557287934
         ],
         "y": [
          99.78961951266456,
          84.60878167578993,
          75.66820763548412,
          65.48984945843924,
          62.239978037716874,
          41.23243247338526,
          45.08388636071969,
          35.709167332489095,
          21.563909542499616,
          21.05427792864754,
          13.469654730402455,
          1.902461638221697,
          -18.83086144525392,
          -23.586103447188503,
          -17.563646819662548,
          -6.25329117493005,
          -12.00852297450284,
          -6.572313430730377,
          -9.025024119574148,
          -19.31784461383403,
          -46.431491114344745,
          -52.831557925971175,
          -38.71655369364088,
          -64.16552190365961,
          -47.42962376639731,
          -39.445783228314205
         ]
        },
        {
         "customdata": [
          0,
          1,
          2,
          3,
          4,
          5,
          6,
          7,
          8,
          9,
          10,
          11,
          12,
          13,
          14,
          15,
          16,
          17,
          18,
          19,
          20,
          21,
          22,
          23,
          24,
          25,
          26,
          27,
          28,
          0,
          1,
          2,
          3,
          4,
          0,
          1,
          2,
          3,
          4,
          5,
          6,
          7,
          8,
          9,
          10,
          11,
          12,
          13,
          14,
          15,
          16,
          17,
          18,
          19,
          20,
          21,
          22,
          23,
          24,
          25,
          26,
          27,
          28,
          29,
          30,
          31,
          32,
          33,
          34,
          35,
          36,
          37,
          38,
          39,
          40,
          41,
          42,
          43,
          44,
          45,
          46,
          0,
          1,
          2,
          3,
          4,
          5,
          6,
          7,
          8,
          9,
          10,
          11,
          12,
          13,
          14,
          15,
          16,
          17,
          18,
          19,
          20,
          21,
          22,
          23,
          24,
          25,
          0,
          1,
          2,
          3,
          4,
          5,
          6,
          7,
          8,
          9,
          10,
          11,
          12,
          13,
          14,
          15,
          16,
          17,
          18,
          19,
          20,
          21,
          22,
          23,
          24,
          25,
          26,
          27,
          28,
          29,
          0
         ],
         "hovertemplate": "<b>Trace: %{text}</b><br>Step: %{customdata}<br>PCo1: %{x}<br>PCo2: %{y}<br>",
         "marker": {
          "cmax": 0,
          "cmin": 0,
          "color": [
           26
          ],
          "colorscale": [
           [
            0,
            "#fb9a99"
           ],
           [
            0.5,
            "#fb9a99"
           ],
           [
            1,
            "#fb9a99"
           ]
          ],
          "line": {
           "width": 2
          },
          "size": [
           30
          ],
          "symbol": [
           "circle"
          ]
         },
         "mode": "markers",
         "name": "TrueTreeSimulations",
         "opacity": 0.7,
         "showlegend": false,
         "text": [
          "TrueTreeSimulations"
         ],
         "type": "scatter",
         "visible": true,
         "x": [
          -9.23916066656199
         ],
         "y": [
          308.51650255413733
         ]
        },
        {
         "customdata": [
          0,
          1,
          2,
          3,
          4,
          5,
          6,
          7,
          8,
          9,
          10,
          11,
          12,
          13,
          14,
          15,
          16,
          17,
          18,
          19,
          20,
          21,
          22,
          23,
          24,
          25,
          26,
          27,
          28,
          0,
          1,
          2,
          3,
          4,
          0,
          1,
          2,
          3,
          4,
          5,
          6,
          7,
          8,
          9,
          10,
          11,
          12,
          13,
          14,
          15,
          16,
          17,
          18,
          19,
          20,
          21,
          22,
          23,
          24,
          25,
          26,
          27,
          28,
          29,
          30,
          31,
          32,
          33,
          34,
          35,
          36,
          37,
          38,
          39,
          40,
          41,
          42,
          43,
          44,
          45,
          46,
          0,
          1,
          2,
          3,
          4,
          5,
          6,
          7,
          8,
          9,
          10,
          11,
          12,
          13,
          14,
          15,
          16,
          17,
          18,
          19,
          20,
          21,
          22,
          23,
          24,
          25,
          0,
          1,
          2,
          3,
          4,
          5,
          6,
          7,
          8,
          9,
          10,
          11,
          12,
          13,
          14,
          15,
          16,
          17,
          18,
          19,
          20,
          21,
          22,
          23,
          24,
          25,
          26,
          27,
          28,
          29,
          0
         ],
         "hovertemplate": "<b>Trace: %{text}</b><br>Step: %{customdata}<br>PCo1: %{x}<br>PCo2: %{y}<br>",
         "marker": {
          "cmax": 0,
          "cmin": 0,
          "color": [
           37,
           39,
           40,
           46,
           48,
           50,
           52,
           54,
           55,
           56,
           61,
           67,
           68,
           73,
           78,
           86,
           89,
           92,
           96,
           103,
           108,
           116,
           119,
           124,
           126,
           129,
           131,
           132,
           136,
           137
          ],
          "colorscale": [
           [
            0,
            "rgb(0,0,131)"
           ],
           [
            0.2,
            "rgb(0,60,170)"
           ],
           [
            0.4,
            "rgb(5,255,255)"
           ],
           [
            0.6,
            "rgb(255,255,0)"
           ],
           [
            0.8,
            "rgb(250,0,0)"
           ],
           [
            1,
            "rgb(128,0,0)"
           ]
          ],
          "line": {
           "width": 2
          },
          "size": [
           10,
           10,
           10,
           10,
           10,
           10,
           10,
           10,
           10,
           10,
           10,
           10,
           10,
           10,
           10,
           10,
           10,
           10,
           10,
           10,
           10,
           10,
           10,
           10,
           10,
           10,
           10,
           10,
           10,
           30
          ],
          "symbol": [
           "circle",
           "circle",
           "circle",
           "circle",
           "circle",
           "circle",
           "circle",
           "circle",
           "circle",
           "circle",
           "circle",
           "circle",
           "circle",
           "circle",
           "circle",
           "circle",
           "circle",
           "circle",
           "circle",
           "circle",
           "circle",
           "circle",
           "circle",
           "circle",
           "circle",
           "circle",
           "circle",
           "circle",
           "circle",
           "circle"
          ]
         },
         "mode": "markers",
         "name": "UshERStartingTree_Trees",
         "opacity": 0.7,
         "showlegend": false,
         "text": [
          "UshERStartingTree_Trees",
          "UshERStartingTree_Trees",
          "UshERStartingTree_Trees",
          "UshERStartingTree_Trees",
          "UshERStartingTree_Trees",
          "UshERStartingTree_Trees",
          "UshERStartingTree_Trees",
          "UshERStartingTree_Trees",
          "UshERStartingTree_Trees",
          "UshERStartingTree_Trees",
          "UshERStartingTree_Trees",
          "UshERStartingTree_Trees",
          "UshERStartingTree_Trees",
          "UshERStartingTree_Trees",
          "UshERStartingTree_Trees",
          "UshERStartingTree_Trees",
          "UshERStartingTree_Trees",
          "UshERStartingTree_Trees",
          "UshERStartingTree_Trees",
          "UshERStartingTree_Trees",
          "UshERStartingTree_Trees",
          "UshERStartingTree_Trees",
          "UshERStartingTree_Trees",
          "UshERStartingTree_Trees",
          "UshERStartingTree_Trees",
          "UshERStartingTree_Trees",
          "UshERStartingTree_Trees",
          "UshERStartingTree_Trees",
          "UshERStartingTree_Trees",
          "UshERStartingTree_Trees"
         ],
         "type": "scatter",
         "visible": true,
         "x": [
          -20.038068903669917,
          -22.349955658064047,
          -24.72849334065964,
          -27.0375227420621,
          -24.0201718799577,
          -24.526839461593926,
          -27.147356866483033,
          -38.545090608963875,
          -37.93666780682916,
          -52.296084689298695,
          -54.11118147660749,
          -56.8684786654211,
          -59.30208830033921,
          -60.86437087596697,
          -62.34302256356459,
          -65.13387150736924,
          -78.93141829580662,
          -93.95147516946993,
          -101.90881563028005,
          -104.76122658469475,
          -105.64558441772286,
          -109.68403687065351,
          -94.16137752180661,
          -99.8558840863662,
          -105.31449112345436,
          -116.89759139746374,
          -120.15851242103709,
          -120.15851242103709,
          -119.04134443004722,
          -117.8379524893402
         ],
         "y": [
          -22.888658173139643,
          -30.234819819690276,
          -37.50394860106818,
          -44.57722390179768,
          -74.40857556537537,
          -85.9757686575561,
          -91.73100045712894,
          -94.1837111459727,
          -104.47653164023244,
          -112.31765358902904,
          -117.79498715425507,
          -126.067740710303,
          -133.48333409419453,
          -138.22289617788982,
          -142.71891886540655,
          -151.22687897636297,
          -148.41830805593608,
          -152.48746325203072,
          -157.31442141704574,
          -167.06184694372854,
          -170.11234485870634,
          -175.63560999960254,
          -182.03567681122885,
          -176.01322018370288,
          -170.5770106399304,
          -159.266654995198,
          -151.2828144571149,
          -151.2828144571149,
          -151.93729162103256,
          -142.99671758072662
         ]
        },
        {
         "marker": {
          "color": "rgba(200,200,250,1)"
         },
         "showlegend": false,
         "type": "histogram",
         "visible": true,
         "xaxis": "x2",
         "y": [
          415.3536823987752,
          427.20627251115565,
          406.8171040757961,
          398.3086463342782,
          390.4721939593941,
          383.0327582013863,
          375.4728684429792,
          357.86640005734665,
          338.97202924632063,
          319.51218555756367,
          316.0875730867254,
          302.8129656635796,
          272.2783363772432,
          243.98120037140617,
          218.78343244450429,
          187.09592352154,
          155.14254515321258,
          135.7360565267146,
          117.46129618989133,
          101.41324389605879,
          58.29334766659815,
          26.147633784793584,
          -3.683717878784008,
          -15.089692181109106,
          -42.551485761816,
          -68.00045397183479,
          -59.05987993152889,
          -79.42100531668706,
          -85.82107212831343,
          -95.90550504515399,
          -112.80873576347321,
          -104.82489522539015,
          -98.80243859786418,
          -99.45691576178176,
          179.72039201729083,
          149.88904035371328,
          125.33050985160027,
          117.7433264719088,
          107.5649682948638,
          99.45870663344644,
          93.93544149255028,
          86.44198970907705,
          70.10886865531816,
          62.541523746550126,
          54.948888347587605,
          48.78697467461343,
          48.88402292942857,
          39.21964683860482,
          40.146191268576615,
          32.594653301568286,
          8.461518787156525,
          -4.396660128235438,
          -11.927649648203364,
          -19.768771596999844,
          -37.11674128366903,
          -46.53533209968746,
          -54.05430630293321,
          -64.77956966501405,
          -70.53480146458683,
          -72.98751215343052,
          -83.28033264769049,
          -92.65976634378427,
          -102.93277010682887,
          -96.70731552691325,
          -119.98596098262618,
          -123.41057345346445,
          -131.03893893622302,
          -135.1080941323176,
          -133.87660995618344,
          -138.0500460518814,
          -146.79763367006817,
          -156.00858375026215,
          -147.18236959964955,
          -153.71522637151654,
          -161.5868794121891,
          -160.08823061160857,
          -154.65202106783613,
          -143.34166542310373,
          -137.31920879557774,
          -129.33536825749462,
          -129.33536825749465,
          99.78961951266456,
          84.60878167578993,
          75.66820763548412,
          65.48984945843924,
          62.239978037716874,
          41.23243247338526,
          45.08388636071969,
          35.709167332489095,
          21.563909542499616,
          21.05427792864754,
          13.469654730402455,
          1.902461638221697,
          -18.83086144525392,
          -23.586103447188503,
          -17.563646819662548,
          -6.25329117493005,
          -12.00852297450284,
          -6.572313430730377,
          -9.025024119574148,
          -19.31784461383403,
          -46.431491114344745,
          -52.831557925971175,
          -38.71655369364088,
          -64.16552190365961,
          -47.42962376639731,
          -39.445783228314205,
          -22.888658173139643,
          -30.234819819690276,
          -37.50394860106818,
          -44.57722390179768,
          -74.40857556537537,
          -85.9757686575561,
          -91.73100045712894,
          -94.1837111459727,
          -104.47653164023244,
          -112.31765358902904,
          -117.79498715425507,
          -126.067740710303,
          -133.48333409419453,
          -138.22289617788982,
          -142.71891886540655,
          -151.22687897636297,
          -148.41830805593608,
          -152.48746325203072,
          -157.31442141704574,
          -167.06184694372854,
          -170.11234485870634,
          -175.63560999960254,
          -182.03567681122885,
          -176.01322018370288,
          -170.5770106399304,
          -159.266654995198,
          -151.2828144571149,
          -151.2828144571149,
          -151.93729162103256,
          -142.99671758072662,
          308.51650255413733
         ]
        },
        {
         "marker": {
          "color": "rgba(200,200,250,1)"
         },
         "showlegend": false,
         "type": "histogram",
         "visible": true,
         "x": [
          -46.93082714843747,
          -56.09122432767226,
          -73.44514131464965,
          -76.82877345673278,
          -81.765697304933,
          -88.22940877426689,
          -92.75303335188387,
          -97.30253005300509,
          -100.22067867153665,
          -120.28999687829564,
          -132.91423984212167,
          -157.90555254739965,
          -160.29851171906614,
          -156.0289691119781,
          -171.29715705811734,
          -171.99983637435187,
          -172.13463679281892,
          -158.36183211235675,
          -166.011682362067,
          -168.0237769648214,
          -165.198234725238,
          -164.39374764216282,
          -161.37639678005837,
          -161.1965303697523,
          -165.4490477363242,
          -148.29351385755288,
          -147.09012191684587,
          -143.2261195299264,
          -127.70346018107945,
          -100.1855140929894,
          -115.52880862156209,
          -118.78972964513537,
          -124.48423620969498,
          -123.36706821870503,
          405.89956960926077,
          408.9169204713652,
          412.5346356350046,
          409.7214075544403,
          407.6561143696664,
          404.6502762648803,
          400.6118238119496,
          397.50859103284137,
          390.4422499234381,
          387.6371019080664,
          381.8127605002071,
          374.3104705176126,
          374.02677759924757,
          371.44760249195883,
          367.9591862823231,
          365.1688952747493,
          352.41088146191663,
          337.8287330240184,
          335.0569644749391,
          320.6975475924695,
          296.37211943767556,
          274.0949520876059,
          271.36940478826074,
          253.86972146601886,
          251.24920406112963,
          239.85147031864892,
          240.45989312078365,
          216.87066613173508,
          216.28203139655236,
          201.96838007439646,
          176.69836053495303,
          164.074117571127,
          161.60927858494807,
          146.58922171128478,
          125.28525807741173,
          97.51712819489099,
          65.74914809689331,
          64.33454681491234,
          46.57704230947875,
          14.657459357172906,
          -3.965346063351149,
          -5.2595061469660935,
          -10.718113184054225,
          -22.30121345806364,
          -27.995720022623185,
          -31.256641046196517,
          -31.256641046196535,
          -126.78907486634809,
          -131.49263420986432,
          -132.69602615057119,
          -134.76131933534518,
          -135.21224295071957,
          -145.69346959773995,
          -146.14855054572539,
          -149.73192205067065,
          -152.11392213502745,
          -168.366899380089,
          -170.70399660064965,
          -171.21066418228588,
          -164.59443380277682,
          -180.73866836363513,
          -186.4331749281947,
          -198.0162752022041,
          -200.63679260709324,
          -206.09539964418136,
          -217.4931333866622,
          -216.8847105845274,
          -205.45631688748693,
          -189.93365753864012,
          -186.37479360439997,
          -169.21925972562863,
          -169.52689454930592,
          -172.78781557287934,
          -20.038068903669917,
          -22.349955658064047,
          -24.72849334065964,
          -27.0375227420621,
          -24.0201718799577,
          -24.526839461593926,
          -27.147356866483033,
          -38.545090608963875,
          -37.93666780682916,
          -52.296084689298695,
          -54.11118147660749,
          -56.8684786654211,
          -59.30208830033921,
          -60.86437087596697,
          -62.34302256356459,
          -65.13387150736924,
          -78.93141829580662,
          -93.95147516946993,
          -101.90881563028005,
          -104.76122658469475,
          -105.64558441772286,
          -109.68403687065351,
          -94.16137752180661,
          -99.8558840863662,
          -105.31449112345436,
          -116.89759139746374,
          -120.15851242103709,
          -120.15851242103709,
          -119.04134443004722,
          -117.8379524893402,
          -9.23916066656199
         ],
         "yaxis": "y2"
        }
       ],
       "layout": {
        "annotations": [
         {
          "align": "left",
          "showarrow": false,
          "text": "<b>Plot:",
          "x": 0,
          "xref": "paper",
          "y": 1.275,
          "yref": "paper"
         },
         {
          "align": "left",
          "showarrow": false,
          "text": "<b>Points:",
          "x": 0,
          "xref": "paper",
          "y": 1.175,
          "yref": "paper"
         }
        ],
        "autosize": false,
        "height": 1200,
        "margin": {
         "b": 0,
         "l": 0,
         "r": 0,
         "t": 0
        },
        "paper_bgcolor": "rgba(0,0,0,0)",
        "plot_bgcolor": "rgba(0,0,0,0)",
        "template": {
         "data": {
          "bar": [
           {
            "error_x": {
             "color": "rgb(36,36,36)"
            },
            "error_y": {
             "color": "rgb(36,36,36)"
            },
            "marker": {
             "line": {
              "color": "rgb(234,234,242)",
              "width": 0.5
             },
             "pattern": {
              "fillmode": "overlay",
              "size": 10,
              "solidity": 0.2
             }
            },
            "type": "bar"
           }
          ],
          "barpolar": [
           {
            "marker": {
             "line": {
              "color": "rgb(234,234,242)",
              "width": 0.5
             },
             "pattern": {
              "fillmode": "overlay",
              "size": 10,
              "solidity": 0.2
             }
            },
            "type": "barpolar"
           }
          ],
          "carpet": [
           {
            "aaxis": {
             "endlinecolor": "rgb(36,36,36)",
             "gridcolor": "white",
             "linecolor": "white",
             "minorgridcolor": "white",
             "startlinecolor": "rgb(36,36,36)"
            },
            "baxis": {
             "endlinecolor": "rgb(36,36,36)",
             "gridcolor": "white",
             "linecolor": "white",
             "minorgridcolor": "white",
             "startlinecolor": "rgb(36,36,36)"
            },
            "type": "carpet"
           }
          ],
          "choropleth": [
           {
            "colorbar": {
             "outlinewidth": 0,
             "tickcolor": "rgb(36,36,36)",
             "ticklen": 8,
             "ticks": "outside",
             "tickwidth": 2
            },
            "type": "choropleth"
           }
          ],
          "contour": [
           {
            "colorbar": {
             "outlinewidth": 0,
             "tickcolor": "rgb(36,36,36)",
             "ticklen": 8,
             "ticks": "outside",
             "tickwidth": 2
            },
            "colorscale": [
             [
              0,
              "rgb(2,4,25)"
             ],
             [
              0.06274509803921569,
              "rgb(24,15,41)"
             ],
             [
              0.12549019607843137,
              "rgb(47,23,57)"
             ],
             [
              0.18823529411764706,
              "rgb(71,28,72)"
             ],
             [
              0.25098039215686274,
              "rgb(97,30,82)"
             ],
             [
              0.3137254901960784,
              "rgb(123,30,89)"
             ],
             [
              0.3764705882352941,
              "rgb(150,27,91)"
             ],
             [
              0.4392156862745098,
              "rgb(177,22,88)"
             ],
             [
              0.5019607843137255,
              "rgb(203,26,79)"
             ],
             [
              0.5647058823529412,
              "rgb(223,47,67)"
             ],
             [
              0.6274509803921569,
              "rgb(236,76,61)"
             ],
             [
              0.6901960784313725,
              "rgb(242,107,73)"
             ],
             [
              0.7529411764705882,
              "rgb(244,135,95)"
             ],
             [
              0.8156862745098039,
              "rgb(245,162,122)"
             ],
             [
              0.8784313725490196,
              "rgb(246,188,153)"
             ],
             [
              0.9411764705882353,
              "rgb(247,212,187)"
             ],
             [
              1,
              "rgb(250,234,220)"
             ]
            ],
            "type": "contour"
           }
          ],
          "contourcarpet": [
           {
            "colorbar": {
             "outlinewidth": 0,
             "tickcolor": "rgb(36,36,36)",
             "ticklen": 8,
             "ticks": "outside",
             "tickwidth": 2
            },
            "type": "contourcarpet"
           }
          ],
          "heatmap": [
           {
            "colorbar": {
             "outlinewidth": 0,
             "tickcolor": "rgb(36,36,36)",
             "ticklen": 8,
             "ticks": "outside",
             "tickwidth": 2
            },
            "colorscale": [
             [
              0,
              "rgb(2,4,25)"
             ],
             [
              0.06274509803921569,
              "rgb(24,15,41)"
             ],
             [
              0.12549019607843137,
              "rgb(47,23,57)"
             ],
             [
              0.18823529411764706,
              "rgb(71,28,72)"
             ],
             [
              0.25098039215686274,
              "rgb(97,30,82)"
             ],
             [
              0.3137254901960784,
              "rgb(123,30,89)"
             ],
             [
              0.3764705882352941,
              "rgb(150,27,91)"
             ],
             [
              0.4392156862745098,
              "rgb(177,22,88)"
             ],
             [
              0.5019607843137255,
              "rgb(203,26,79)"
             ],
             [
              0.5647058823529412,
              "rgb(223,47,67)"
             ],
             [
              0.6274509803921569,
              "rgb(236,76,61)"
             ],
             [
              0.6901960784313725,
              "rgb(242,107,73)"
             ],
             [
              0.7529411764705882,
              "rgb(244,135,95)"
             ],
             [
              0.8156862745098039,
              "rgb(245,162,122)"
             ],
             [
              0.8784313725490196,
              "rgb(246,188,153)"
             ],
             [
              0.9411764705882353,
              "rgb(247,212,187)"
             ],
             [
              1,
              "rgb(250,234,220)"
             ]
            ],
            "type": "heatmap"
           }
          ],
          "heatmapgl": [
           {
            "colorbar": {
             "outlinewidth": 0,
             "tickcolor": "rgb(36,36,36)",
             "ticklen": 8,
             "ticks": "outside",
             "tickwidth": 2
            },
            "colorscale": [
             [
              0,
              "rgb(2,4,25)"
             ],
             [
              0.06274509803921569,
              "rgb(24,15,41)"
             ],
             [
              0.12549019607843137,
              "rgb(47,23,57)"
             ],
             [
              0.18823529411764706,
              "rgb(71,28,72)"
             ],
             [
              0.25098039215686274,
              "rgb(97,30,82)"
             ],
             [
              0.3137254901960784,
              "rgb(123,30,89)"
             ],
             [
              0.3764705882352941,
              "rgb(150,27,91)"
             ],
             [
              0.4392156862745098,
              "rgb(177,22,88)"
             ],
             [
              0.5019607843137255,
              "rgb(203,26,79)"
             ],
             [
              0.5647058823529412,
              "rgb(223,47,67)"
             ],
             [
              0.6274509803921569,
              "rgb(236,76,61)"
             ],
             [
              0.6901960784313725,
              "rgb(242,107,73)"
             ],
             [
              0.7529411764705882,
              "rgb(244,135,95)"
             ],
             [
              0.8156862745098039,
              "rgb(245,162,122)"
             ],
             [
              0.8784313725490196,
              "rgb(246,188,153)"
             ],
             [
              0.9411764705882353,
              "rgb(247,212,187)"
             ],
             [
              1,
              "rgb(250,234,220)"
             ]
            ],
            "type": "heatmapgl"
           }
          ],
          "histogram": [
           {
            "marker": {
             "pattern": {
              "fillmode": "overlay",
              "size": 10,
              "solidity": 0.2
             }
            },
            "type": "histogram"
           }
          ],
          "histogram2d": [
           {
            "colorbar": {
             "outlinewidth": 0,
             "tickcolor": "rgb(36,36,36)",
             "ticklen": 8,
             "ticks": "outside",
             "tickwidth": 2
            },
            "colorscale": [
             [
              0,
              "rgb(2,4,25)"
             ],
             [
              0.06274509803921569,
              "rgb(24,15,41)"
             ],
             [
              0.12549019607843137,
              "rgb(47,23,57)"
             ],
             [
              0.18823529411764706,
              "rgb(71,28,72)"
             ],
             [
              0.25098039215686274,
              "rgb(97,30,82)"
             ],
             [
              0.3137254901960784,
              "rgb(123,30,89)"
             ],
             [
              0.3764705882352941,
              "rgb(150,27,91)"
             ],
             [
              0.4392156862745098,
              "rgb(177,22,88)"
             ],
             [
              0.5019607843137255,
              "rgb(203,26,79)"
             ],
             [
              0.5647058823529412,
              "rgb(223,47,67)"
             ],
             [
              0.6274509803921569,
              "rgb(236,76,61)"
             ],
             [
              0.6901960784313725,
              "rgb(242,107,73)"
             ],
             [
              0.7529411764705882,
              "rgb(244,135,95)"
             ],
             [
              0.8156862745098039,
              "rgb(245,162,122)"
             ],
             [
              0.8784313725490196,
              "rgb(246,188,153)"
             ],
             [
              0.9411764705882353,
              "rgb(247,212,187)"
             ],
             [
              1,
              "rgb(250,234,220)"
             ]
            ],
            "type": "histogram2d"
           }
          ],
          "histogram2dcontour": [
           {
            "colorbar": {
             "outlinewidth": 0,
             "tickcolor": "rgb(36,36,36)",
             "ticklen": 8,
             "ticks": "outside",
             "tickwidth": 2
            },
            "colorscale": [
             [
              0,
              "rgb(2,4,25)"
             ],
             [
              0.06274509803921569,
              "rgb(24,15,41)"
             ],
             [
              0.12549019607843137,
              "rgb(47,23,57)"
             ],
             [
              0.18823529411764706,
              "rgb(71,28,72)"
             ],
             [
              0.25098039215686274,
              "rgb(97,30,82)"
             ],
             [
              0.3137254901960784,
              "rgb(123,30,89)"
             ],
             [
              0.3764705882352941,
              "rgb(150,27,91)"
             ],
             [
              0.4392156862745098,
              "rgb(177,22,88)"
             ],
             [
              0.5019607843137255,
              "rgb(203,26,79)"
             ],
             [
              0.5647058823529412,
              "rgb(223,47,67)"
             ],
             [
              0.6274509803921569,
              "rgb(236,76,61)"
             ],
             [
              0.6901960784313725,
              "rgb(242,107,73)"
             ],
             [
              0.7529411764705882,
              "rgb(244,135,95)"
             ],
             [
              0.8156862745098039,
              "rgb(245,162,122)"
             ],
             [
              0.8784313725490196,
              "rgb(246,188,153)"
             ],
             [
              0.9411764705882353,
              "rgb(247,212,187)"
             ],
             [
              1,
              "rgb(250,234,220)"
             ]
            ],
            "type": "histogram2dcontour"
           }
          ],
          "mesh3d": [
           {
            "colorbar": {
             "outlinewidth": 0,
             "tickcolor": "rgb(36,36,36)",
             "ticklen": 8,
             "ticks": "outside",
             "tickwidth": 2
            },
            "type": "mesh3d"
           }
          ],
          "parcoords": [
           {
            "line": {
             "colorbar": {
              "outlinewidth": 0,
              "tickcolor": "rgb(36,36,36)",
              "ticklen": 8,
              "ticks": "outside",
              "tickwidth": 2
             }
            },
            "type": "parcoords"
           }
          ],
          "pie": [
           {
            "automargin": true,
            "type": "pie"
           }
          ],
          "scatter": [
           {
            "fillpattern": {
             "fillmode": "overlay",
             "size": 10,
             "solidity": 0.2
            },
            "type": "scatter"
           }
          ],
          "scatter3d": [
           {
            "line": {
             "colorbar": {
              "outlinewidth": 0,
              "tickcolor": "rgb(36,36,36)",
              "ticklen": 8,
              "ticks": "outside",
              "tickwidth": 2
             }
            },
            "marker": {
             "colorbar": {
              "outlinewidth": 0,
              "tickcolor": "rgb(36,36,36)",
              "ticklen": 8,
              "ticks": "outside",
              "tickwidth": 2
             }
            },
            "type": "scatter3d"
           }
          ],
          "scattercarpet": [
           {
            "marker": {
             "colorbar": {
              "outlinewidth": 0,
              "tickcolor": "rgb(36,36,36)",
              "ticklen": 8,
              "ticks": "outside",
              "tickwidth": 2
             }
            },
            "type": "scattercarpet"
           }
          ],
          "scattergeo": [
           {
            "marker": {
             "colorbar": {
              "outlinewidth": 0,
              "tickcolor": "rgb(36,36,36)",
              "ticklen": 8,
              "ticks": "outside",
              "tickwidth": 2
             }
            },
            "type": "scattergeo"
           }
          ],
          "scattergl": [
           {
            "marker": {
             "colorbar": {
              "outlinewidth": 0,
              "tickcolor": "rgb(36,36,36)",
              "ticklen": 8,
              "ticks": "outside",
              "tickwidth": 2
             }
            },
            "type": "scattergl"
           }
          ],
          "scattermapbox": [
           {
            "marker": {
             "colorbar": {
              "outlinewidth": 0,
              "tickcolor": "rgb(36,36,36)",
              "ticklen": 8,
              "ticks": "outside",
              "tickwidth": 2
             }
            },
            "type": "scattermapbox"
           }
          ],
          "scatterpolar": [
           {
            "marker": {
             "colorbar": {
              "outlinewidth": 0,
              "tickcolor": "rgb(36,36,36)",
              "ticklen": 8,
              "ticks": "outside",
              "tickwidth": 2
             }
            },
            "type": "scatterpolar"
           }
          ],
          "scatterpolargl": [
           {
            "marker": {
             "colorbar": {
              "outlinewidth": 0,
              "tickcolor": "rgb(36,36,36)",
              "ticklen": 8,
              "ticks": "outside",
              "tickwidth": 2
             }
            },
            "type": "scatterpolargl"
           }
          ],
          "scatterternary": [
           {
            "marker": {
             "colorbar": {
              "outlinewidth": 0,
              "tickcolor": "rgb(36,36,36)",
              "ticklen": 8,
              "ticks": "outside",
              "tickwidth": 2
             }
            },
            "type": "scatterternary"
           }
          ],
          "surface": [
           {
            "colorbar": {
             "outlinewidth": 0,
             "tickcolor": "rgb(36,36,36)",
             "ticklen": 8,
             "ticks": "outside",
             "tickwidth": 2
            },
            "colorscale": [
             [
              0,
              "rgb(2,4,25)"
             ],
             [
              0.06274509803921569,
              "rgb(24,15,41)"
             ],
             [
              0.12549019607843137,
              "rgb(47,23,57)"
             ],
             [
              0.18823529411764706,
              "rgb(71,28,72)"
             ],
             [
              0.25098039215686274,
              "rgb(97,30,82)"
             ],
             [
              0.3137254901960784,
              "rgb(123,30,89)"
             ],
             [
              0.3764705882352941,
              "rgb(150,27,91)"
             ],
             [
              0.4392156862745098,
              "rgb(177,22,88)"
             ],
             [
              0.5019607843137255,
              "rgb(203,26,79)"
             ],
             [
              0.5647058823529412,
              "rgb(223,47,67)"
             ],
             [
              0.6274509803921569,
              "rgb(236,76,61)"
             ],
             [
              0.6901960784313725,
              "rgb(242,107,73)"
             ],
             [
              0.7529411764705882,
              "rgb(244,135,95)"
             ],
             [
              0.8156862745098039,
              "rgb(245,162,122)"
             ],
             [
              0.8784313725490196,
              "rgb(246,188,153)"
             ],
             [
              0.9411764705882353,
              "rgb(247,212,187)"
             ],
             [
              1,
              "rgb(250,234,220)"
             ]
            ],
            "type": "surface"
           }
          ],
          "table": [
           {
            "cells": {
             "fill": {
              "color": "rgb(231,231,240)"
             },
             "line": {
              "color": "white"
             }
            },
            "header": {
             "fill": {
              "color": "rgb(183,183,191)"
             },
             "line": {
              "color": "white"
             }
            },
            "type": "table"
           }
          ]
         },
         "layout": {
          "annotationdefaults": {
           "arrowcolor": "rgb(67,103,167)"
          },
          "autotypenumbers": "strict",
          "coloraxis": {
           "colorbar": {
            "outlinewidth": 0,
            "tickcolor": "rgb(36,36,36)",
            "ticklen": 8,
            "ticks": "outside",
            "tickwidth": 2
           }
          },
          "colorscale": {
           "sequential": [
            [
             0,
             "rgb(2,4,25)"
            ],
            [
             0.06274509803921569,
             "rgb(24,15,41)"
            ],
            [
             0.12549019607843137,
             "rgb(47,23,57)"
            ],
            [
             0.18823529411764706,
             "rgb(71,28,72)"
            ],
            [
             0.25098039215686274,
             "rgb(97,30,82)"
            ],
            [
             0.3137254901960784,
             "rgb(123,30,89)"
            ],
            [
             0.3764705882352941,
             "rgb(150,27,91)"
            ],
            [
             0.4392156862745098,
             "rgb(177,22,88)"
            ],
            [
             0.5019607843137255,
             "rgb(203,26,79)"
            ],
            [
             0.5647058823529412,
             "rgb(223,47,67)"
            ],
            [
             0.6274509803921569,
             "rgb(236,76,61)"
            ],
            [
             0.6901960784313725,
             "rgb(242,107,73)"
            ],
            [
             0.7529411764705882,
             "rgb(244,135,95)"
            ],
            [
             0.8156862745098039,
             "rgb(245,162,122)"
            ],
            [
             0.8784313725490196,
             "rgb(246,188,153)"
            ],
            [
             0.9411764705882353,
             "rgb(247,212,187)"
            ],
            [
             1,
             "rgb(250,234,220)"
            ]
           ],
           "sequentialminus": [
            [
             0,
             "rgb(2,4,25)"
            ],
            [
             0.06274509803921569,
             "rgb(24,15,41)"
            ],
            [
             0.12549019607843137,
             "rgb(47,23,57)"
            ],
            [
             0.18823529411764706,
             "rgb(71,28,72)"
            ],
            [
             0.25098039215686274,
             "rgb(97,30,82)"
            ],
            [
             0.3137254901960784,
             "rgb(123,30,89)"
            ],
            [
             0.3764705882352941,
             "rgb(150,27,91)"
            ],
            [
             0.4392156862745098,
             "rgb(177,22,88)"
            ],
            [
             0.5019607843137255,
             "rgb(203,26,79)"
            ],
            [
             0.5647058823529412,
             "rgb(223,47,67)"
            ],
            [
             0.6274509803921569,
             "rgb(236,76,61)"
            ],
            [
             0.6901960784313725,
             "rgb(242,107,73)"
            ],
            [
             0.7529411764705882,
             "rgb(244,135,95)"
            ],
            [
             0.8156862745098039,
             "rgb(245,162,122)"
            ],
            [
             0.8784313725490196,
             "rgb(246,188,153)"
            ],
            [
             0.9411764705882353,
             "rgb(247,212,187)"
            ],
            [
             1,
             "rgb(250,234,220)"
            ]
           ]
          },
          "colorway": [
           "rgb(76,114,176)",
           "rgb(221,132,82)",
           "rgb(85,168,104)",
           "rgb(196,78,82)",
           "rgb(129,114,179)",
           "rgb(147,120,96)",
           "rgb(218,139,195)",
           "rgb(140,140,140)",
           "rgb(204,185,116)",
           "rgb(100,181,205)"
          ],
          "font": {
           "color": "rgb(36,36,36)"
          },
          "geo": {
           "bgcolor": "white",
           "lakecolor": "white",
           "landcolor": "rgb(234,234,242)",
           "showlakes": true,
           "showland": true,
           "subunitcolor": "white"
          },
          "hoverlabel": {
           "align": "left"
          },
          "hovermode": "closest",
          "paper_bgcolor": "white",
          "plot_bgcolor": "rgb(234,234,242)",
          "polar": {
           "angularaxis": {
            "gridcolor": "white",
            "linecolor": "white",
            "showgrid": true,
            "ticks": ""
           },
           "bgcolor": "rgb(234,234,242)",
           "radialaxis": {
            "gridcolor": "white",
            "linecolor": "white",
            "showgrid": true,
            "ticks": ""
           }
          },
          "scene": {
           "xaxis": {
            "backgroundcolor": "rgb(234,234,242)",
            "gridcolor": "white",
            "gridwidth": 2,
            "linecolor": "white",
            "showbackground": true,
            "showgrid": true,
            "ticks": "",
            "zerolinecolor": "white"
           },
           "yaxis": {
            "backgroundcolor": "rgb(234,234,242)",
            "gridcolor": "white",
            "gridwidth": 2,
            "linecolor": "white",
            "showbackground": true,
            "showgrid": true,
            "ticks": "",
            "zerolinecolor": "white"
           },
           "zaxis": {
            "backgroundcolor": "rgb(234,234,242)",
            "gridcolor": "white",
            "gridwidth": 2,
            "linecolor": "white",
            "showbackground": true,
            "showgrid": true,
            "ticks": "",
            "zerolinecolor": "white"
           }
          },
          "shapedefaults": {
           "fillcolor": "rgb(67,103,167)",
           "line": {
            "width": 0
           },
           "opacity": 0.5
          },
          "ternary": {
           "aaxis": {
            "gridcolor": "white",
            "linecolor": "white",
            "showgrid": true,
            "ticks": ""
           },
           "baxis": {
            "gridcolor": "white",
            "linecolor": "white",
            "showgrid": true,
            "ticks": ""
           },
           "bgcolor": "rgb(234,234,242)",
           "caxis": {
            "gridcolor": "white",
            "linecolor": "white",
            "showgrid": true,
            "ticks": ""
           }
          },
          "xaxis": {
           "automargin": true,
           "gridcolor": "white",
           "linecolor": "white",
           "showgrid": true,
           "ticks": "",
           "title": {
            "standoff": 15
           },
           "zerolinecolor": "white"
          },
          "yaxis": {
           "automargin": true,
           "gridcolor": "white",
           "linecolor": "white",
           "showgrid": true,
           "ticks": "",
           "title": {
            "standoff": 15
           },
           "zerolinecolor": "white"
          }
         }
        },
        "updatemenus": [
         {
          "buttons": [
           {
            "args": [
             {
              "type": [
               "scatter",
               "scatter",
               "scatter",
               "scatter",
               "scatter",
               "scatter",
               "scatter",
               "histogram",
               "histogram"
              ],
              "visible": [
               false,
               true,
               true,
               true,
               true,
               true,
               true,
               true,
               true
              ]
             },
             {
              "plot_bgcolor": "rgb(240,240,240)",
              "xaxis": {
               "domain": [
                0,
                0.85
               ],
               "showgrid": true,
               "showline": true,
               "showticklabels": true,
               "zeroline": true
              },
              "xaxis2": {
               "domain": [
                0.85,
                1
               ],
               "showgrid": true,
               "showline": true,
               "showticklabels": true,
               "zeroline": true
              },
              "yaxis": {
               "domain": [
                0,
                0.85
               ],
               "showgrid": true,
               "showline": true,
               "showticklabels": true,
               "zeroline": true
              },
              "yaxis2": {
               "domain": [
                0.85,
                1
               ],
               "showgrid": true,
               "showline": true,
               "showticklabels": true,
               "zeroline": true
              }
             },
             {
              "skip_invalid": true
             }
            ],
            "label": "Scatter2D",
            "method": "update"
           },
           {
            "args": [
             {
              "type": [
               "histogram2dcontour",
               "scatter",
               "scatter",
               "scatter",
               "scatter",
               "scatter",
               "scatter",
               "histogram",
               "histogram"
              ],
              "visible": [
               true,
               false,
               false,
               false,
               false,
               false,
               false,
               false,
               false
              ]
             },
             {
              "plot_bgcolor": "rgb(240,240,240)",
              "xaxis": {
               "domain": [
                0,
                1
               ],
               "showgrid": true,
               "showline": true,
               "showticklabels": true,
               "zeroline": true
              },
              "xaxis2": {
               "domain": [
                0.999,
                1
               ],
               "showgrid": false,
               "showline": false,
               "showticklabels": false,
               "zeroline": false
              },
              "yaxis": {
               "domain": [
                0,
                1
               ],
               "showgrid": true,
               "showline": true,
               "showticklabels": true,
               "zeroline": true
              },
              "yaxis2": {
               "domain": [
                0.999,
                1
               ],
               "showgrid": false,
               "showline": false,
               "showticklabels": false,
               "zeroline": false
              }
             },
             {
              "skip_invalid": true
             }
            ],
            "label": "Contour",
            "method": "update"
           }
          ],
          "direction": "left",
          "pad": {
           "r": 10,
           "t": 10
          },
          "showactive": true,
          "type": "buttons",
          "x": 0.15,
          "xanchor": "left",
          "y": 1.3,
          "yanchor": "top"
         },
         {
          "buttons": [
           {
            "args": [
             {
              "mode": "markers"
             },
             [
              1,
              2,
              3,
              4,
              5,
              6
             ]
            ],
            "label": "Markers",
            "method": "restyle"
           },
           {
            "args": [
             {
              "mode": "lines+markers"
             },
             [
              1,
              2,
              3,
              4,
              5,
              6
             ]
            ],
            "label": "Markers & Lines",
            "method": "restyle"
           }
          ],
          "direction": "left",
          "pad": {
           "r": 10,
           "t": 10
          },
          "showactive": true,
          "type": "buttons",
          "x": 0.15,
          "xanchor": "left",
          "y": 1.2,
          "yanchor": "top"
         }
        ],
        "width": 800,
        "xaxis": {
         "domain": [
          0,
          0.84
         ],
         "linecolor": "black",
         "linewidth": 2,
         "showgrid": true,
         "showline": true,
         "showticklabels": true,
         "title": {
          "font": {
           "size": 20
          },
          "text": "PCo1"
         },
         "zeroline": true
        },
        "xaxis2": {
         "domain": [
          0.85,
          1
         ],
         "linecolor": "black",
         "linewidth": 2,
         "showgrid": true,
         "showticklabels": true,
         "zeroline": true
        },
        "yaxis": {
         "domain": [
          0,
          0.84
         ],
         "linecolor": "black",
         "linewidth": 2,
         "showgrid": true,
         "showline": true,
         "showticklabels": true,
         "title": {
          "font": {
           "size": 20
          },
          "text": "PCo2"
         },
         "zeroline": true
        },
        "yaxis2": {
         "domain": [
          0.85,
          1
         ],
         "linecolor": "black",
         "linewidth": 2,
         "showgrid": true,
         "showticklabels": true,
         "zeroline": true
        }
       }
      },
      "text/html": [
       "<div>                            <div id=\"a1b8f7c4-ca50-4d3f-a8f7-bcf82842a06b\" class=\"plotly-graph-div\" style=\"height:1200px; width:800px;\"></div>            <script type=\"text/javascript\">                require([\"plotly\"], function(Plotly) {                    window.PLOTLYENV=window.PLOTLYENV || {};                                    if (document.getElementById(\"a1b8f7c4-ca50-4d3f-a8f7-bcf82842a06b\")) {                    Plotly.newPlot(                        \"a1b8f7c4-ca50-4d3f-a8f7-bcf82842a06b\",                        [{\"marker\":{\"color\":[0,0,0,0,0,0,0,0,0,0,0,0,0,0,0,0,0,0,0,0,0,0,0,0,0,0,0,0,1,0,0,0,0,1,0,0,0,0,0,0,0,0,0,0,0,0,0,0,0,0,0,0,0,0,0,0,0,0,0,0,0,0,0,0,0,0,0,0,0,0,0,0,0,0,0,0,0,0,0,0,1,0,0,0,0,0,0,0,0,0,0,0,0,0,0,0,0,0,0,0,0,0,0,0,0,0,1,0,0,0,0,0,0,0,0,0,0,0,0,0,0,0,0,0,0,0,0,0,0,0,0,0,0,0,0,0,1,1],\"colorscale\":[[0.0,\"#000080\"],[0.05263157894736842,\"#0000bd\"],[0.10526315789473684,\"#0000fa\"],[0.15789473684210525,\"#0022ff\"],[0.21052631578947367,\"#0057ff\"],[0.2631578947368421,\"#008dff\"],[0.3157894736842105,\"#00c3ff\"],[0.3684210526315789,\"#0ff8e8\"],[0.42105263157894735,\"#3affbc\"],[0.47368421052631576,\"#66ff91\"],[0.5263157894736842,\"#91ff66\"],[0.5789473684210527,\"#bcff3a\"],[0.631578947368421,\"#e8ff0f\"],[0.6842105263157895,\"#ffd500\"],[0.7368421052631579,\"#ffa400\"],[0.7894736842105263,\"#ff7200\"],[0.8421052631578947,\"#ff4000\"],[0.8947368421052632,\"#fa0e00\"],[0.9473684210526315,\"#bd0000\"],[1.0,\"#800000\"]]},\"mode\":\"markers\",\"opacity\":0.7,\"showlegend\":false,\"text\":[0.9834389820406716,0.9838216510621484,0.9844040875128784,0.9851244965776011,0.9856306256909808,0.9861367478108172,0.9867727443600044,0.98797429038034,0.9883560285649012,0.9897745682586838,0.9903716696284456,0.9914083208226808,0.992090006912136,0.992965261061446,0.9936241722368382,0.9944421273999616,0.9951131713899564,0.9955193694144758,0.9965121662136232,0.9973095841317264,0.9979730419913484,0.9986857301088392,0.9991596836326292,0.9993217239902888,0.9994451309212636,0.9995586755634768,0.9995827684588792,0.9997099306836248,0.9998226591340652,0.9986023730484808,0.9989464630593512,0.9989862118330178,0.999159146677458,0.9992857427316746,0.9700672945134876,0.9705412479272008,0.9709861015878892,0.9712343475425222,0.9721987423836932,0.9730398734093442,0.973746688068956,0.9739949090965808,0.97426758904019,0.974515843601646,0.9753335648896028,0.9781142669763092,0.9784730112752232,0.9788397301135984,0.9793989881555106,0.979647240925236,0.9803066666455064,0.9806124534020892,0.9808606787052772,0.981502890948614,0.984283625070406,0.98507367815447,0.9853218989826008,0.9878543990753186,0.9881991456978512,0.9894122197644112,0.9896604738739864,0.9903829284940237,0.990631150160294,0.9912923076111828,0.9919329511550166,0.9925281516974548,0.9927764303275964,0.9930703430129498,0.9942329951946998,0.9955084987849606,0.996363006753178,0.9966112695839008,0.9976579655375788,0.998170213167428,0.9992057157081702,0.9994813123358276,0.9995511853608854,0.9997243740269116,0.999890532695813,0.9999323830247656,0.9999323861421732,0.0,0.0023641354971635,0.0026336564917542,0.0037234091454712,0.0047693741770589,0.0070085499305209,0.0073844105578946,0.0079231912994625,0.0085897268422595,0.0093662981566742,0.0096167124293304,0.0100384183628989,0.0106552444766868,0.0120837761302705,0.0127054213741059,0.0131725447461819,0.0140029776959506,0.0144819216317713,0.0161338203746266,0.0163821031466183,0.0167793831788193,0.0168921199492958,0.0169701955241933,0.0171791042122078,0.017297107238211,0.0174747143419849,0.9749631951512032,0.976279341584308,0.9779473526074955,0.9799017954421544,0.980375748867021,0.98078883907599,0.9811327784252888,0.9823467347249852,0.9825949738185972,0.9831917470761882,0.9849785239649004,0.9862996007018916,0.9865478240118036,0.988204443972448,0.9901669531333946,0.9921830535834956,0.992848579084468,0.993131626719738,0.9948014810823456,0.996636378460184,0.9985772594548528,0.9992849868137396,0.999397753806434,0.9995632613456408,0.9996326687449996,0.9998060423970282,0.9998444854068156,0.9998497060727564,0.9999758011241916,1.0,0.7068901658026021],\"visible\":false,\"x\":[-46.93082714843747,-56.09122432767226,-73.44514131464965,-76.82877345673278,-81.765697304933,-88.22940877426689,-92.75303335188387,-97.30253005300509,-100.22067867153665,-120.28999687829564,-132.91423984212167,-157.90555254739965,-160.29851171906614,-156.0289691119781,-171.29715705811734,-171.99983637435187,-172.13463679281892,-158.36183211235675,-166.011682362067,-168.0237769648214,-165.198234725238,-164.39374764216282,-161.37639678005837,-161.1965303697523,-165.4490477363242,-148.29351385755288,-147.09012191684587,-143.2261195299264,-127.70346018107945,-100.1855140929894,-115.52880862156209,-118.78972964513537,-124.48423620969498,-123.36706821870503,405.89956960926077,408.9169204713652,412.5346356350046,409.7214075544403,407.6561143696664,404.6502762648803,400.6118238119496,397.50859103284137,390.4422499234381,387.6371019080664,381.8127605002071,374.3104705176126,374.02677759924757,371.44760249195883,367.9591862823231,365.1688952747493,352.41088146191663,337.8287330240184,335.0569644749391,320.6975475924695,296.37211943767556,274.0949520876059,271.36940478826074,253.86972146601886,251.24920406112963,239.85147031864892,240.45989312078365,216.87066613173508,216.28203139655236,201.96838007439646,176.69836053495303,164.074117571127,161.60927858494807,146.58922171128478,125.28525807741173,97.51712819489099,65.74914809689331,64.33454681491234,46.57704230947875,14.657459357172906,-3.965346063351149,-5.2595061469660935,-10.718113184054225,-22.30121345806364,-27.995720022623185,-31.256641046196517,-31.256641046196535,-126.78907486634809,-131.49263420986432,-132.69602615057119,-134.76131933534518,-135.21224295071957,-145.69346959773995,-146.14855054572539,-149.73192205067065,-152.11392213502745,-168.366899380089,-170.70399660064965,-171.21066418228588,-164.59443380277682,-180.73866836363513,-186.4331749281947,-198.0162752022041,-200.63679260709324,-206.09539964418136,-217.4931333866622,-216.8847105845274,-205.45631688748693,-189.93365753864012,-186.37479360439997,-169.21925972562863,-169.52689454930592,-172.78781557287934,-20.038068903669917,-22.349955658064047,-24.72849334065964,-27.0375227420621,-24.0201718799577,-24.526839461593926,-27.147356866483033,-38.545090608963875,-37.93666780682916,-52.296084689298695,-54.11118147660749,-56.8684786654211,-59.30208830033921,-60.86437087596697,-62.34302256356459,-65.13387150736924,-78.93141829580662,-93.95147516946993,-101.90881563028005,-104.76122658469475,-105.64558441772286,-109.68403687065351,-94.16137752180661,-99.8558840863662,-105.31449112345436,-116.89759139746374,-120.15851242103709,-120.15851242103709,-119.04134443004722,-117.8379524893402,-9.23916066656199],\"xaxis\":\"x\",\"y\":[415.3536823987752,427.20627251115565,406.8171040757961,398.3086463342782,390.4721939593941,383.0327582013863,375.4728684429792,357.86640005734665,338.97202924632063,319.51218555756367,316.0875730867254,302.8129656635796,272.2783363772432,243.98120037140617,218.78343244450429,187.09592352154,155.14254515321258,135.7360565267146,117.46129618989133,101.41324389605879,58.29334766659815,26.147633784793584,-3.683717878784008,-15.089692181109106,-42.551485761816,-68.00045397183479,-59.05987993152889,-79.42100531668706,-85.82107212831343,-95.90550504515399,-112.80873576347321,-104.82489522539015,-98.80243859786418,-99.45691576178176,179.72039201729083,149.88904035371328,125.33050985160027,117.7433264719088,107.5649682948638,99.45870663344644,93.93544149255028,86.44198970907705,70.10886865531816,62.541523746550126,54.948888347587605,48.78697467461343,48.88402292942857,39.21964683860482,40.146191268576615,32.594653301568286,8.461518787156525,-4.396660128235438,-11.927649648203364,-19.768771596999844,-37.11674128366903,-46.53533209968746,-54.05430630293321,-64.77956966501405,-70.53480146458683,-72.98751215343052,-83.28033264769049,-92.65976634378427,-102.93277010682887,-96.70731552691325,-119.98596098262618,-123.41057345346445,-131.03893893622302,-135.1080941323176,-133.87660995618344,-138.0500460518814,-146.79763367006817,-156.00858375026215,-147.18236959964955,-153.71522637151654,-161.5868794121891,-160.08823061160857,-154.65202106783613,-143.34166542310373,-137.31920879557774,-129.33536825749462,-129.33536825749465,99.78961951266456,84.60878167578993,75.66820763548412,65.48984945843924,62.239978037716874,41.23243247338526,45.08388636071969,35.709167332489095,21.563909542499616,21.05427792864754,13.469654730402455,1.902461638221697,-18.83086144525392,-23.586103447188503,-17.563646819662548,-6.25329117493005,-12.00852297450284,-6.572313430730377,-9.025024119574148,-19.31784461383403,-46.431491114344745,-52.831557925971175,-38.71655369364088,-64.16552190365961,-47.42962376639731,-39.445783228314205,-22.888658173139643,-30.234819819690276,-37.50394860106818,-44.57722390179768,-74.40857556537537,-85.9757686575561,-91.73100045712894,-94.1837111459727,-104.47653164023244,-112.31765358902904,-117.79498715425507,-126.067740710303,-133.48333409419453,-138.22289617788982,-142.71891886540655,-151.22687897636297,-148.41830805593608,-152.48746325203072,-157.31442141704574,-167.06184694372854,-170.11234485870634,-175.63560999960254,-182.03567681122885,-176.01322018370288,-170.5770106399304,-159.266654995198,-151.2828144571149,-151.2828144571149,-151.93729162103256,-142.99671758072662,308.51650255413733],\"yaxis\":\"y\",\"type\":\"scatter\"},{\"customdata\":[0,1,2,3,4,5,6,7,8,9,10,11,12,13,14,15,16,17,18,19,20,21,22,23,24,25,26,27,28,0,1,2,3,4,0,1,2,3,4,5,6,7,8,9,10,11,12,13,14,15,16,17,18,19,20,21,22,23,24,25,26,27,28,29,30,31,32,33,34,35,36,37,38,39,40,41,42,43,44,45,46,0,1,2,3,4,5,6,7,8,9,10,11,12,13,14,15,16,17,18,19,20,21,22,23,24,25,0,1,2,3,4,5,6,7,8,9,10,11,12,13,14,15,16,17,18,19,20,21,22,23,24,25,26,27,28,29,0],\"hovertemplate\":\"\\u003cb\\u003eTrace: %{text}\\u003c\\u002fb\\u003e\\u003cbr\\u003eStep: %{customdata}\\u003cbr\\u003ePCo1: %{x}\\u003cbr\\u003ePCo2: %{y}\\u003cbr\\u003e\",\"marker\":{\"cmax\":0,\"cmin\":0,\"color\":[57.0,58.0,60.0,63.0,65.0,66.0,69.0,71.0,74.0,77.0,79.0,83.0,85.0,90.0,93.0,95.0,97.0,99.0,101.0,104.0,106.0,110.0,114.0,118.0,120.0,123.0,125.0,127.0,130.0],\"colorscale\":[[0.0,\"rgb(0,0,131)\"],[0.2,\"rgb(0,60,170)\"],[0.4,\"rgb(5,255,255)\"],[0.6,\"rgb(255,255,0)\"],[0.8,\"rgb(250,0,0)\"],[1.0,\"rgb(128,0,0)\"]],\"line\":{\"width\":2},\"size\":[10,10,10,10,10,10,10,10,10,10,10,10,10,10,10,10,10,10,10,10,10,10,10,10,10,10,10,10,30],\"symbol\":[\"circle\",\"circle\",\"circle\",\"circle\",\"circle\",\"circle\",\"circle\",\"circle\",\"circle\",\"circle\",\"circle\",\"circle\",\"circle\",\"circle\",\"circle\",\"circle\",\"circle\",\"circle\",\"circle\",\"circle\",\"circle\",\"circle\",\"circle\",\"circle\",\"circle\",\"circle\",\"circle\",\"circle\",\"circle\"]},\"mode\":\"markers\",\"name\":\"IQtreeStartingTree_Trees\",\"opacity\":0.7,\"showlegend\":false,\"text\":[\"IQtreeStartingTree_Trees\",\"IQtreeStartingTree_Trees\",\"IQtreeStartingTree_Trees\",\"IQtreeStartingTree_Trees\",\"IQtreeStartingTree_Trees\",\"IQtreeStartingTree_Trees\",\"IQtreeStartingTree_Trees\",\"IQtreeStartingTree_Trees\",\"IQtreeStartingTree_Trees\",\"IQtreeStartingTree_Trees\",\"IQtreeStartingTree_Trees\",\"IQtreeStartingTree_Trees\",\"IQtreeStartingTree_Trees\",\"IQtreeStartingTree_Trees\",\"IQtreeStartingTree_Trees\",\"IQtreeStartingTree_Trees\",\"IQtreeStartingTree_Trees\",\"IQtreeStartingTree_Trees\",\"IQtreeStartingTree_Trees\",\"IQtreeStartingTree_Trees\",\"IQtreeStartingTree_Trees\",\"IQtreeStartingTree_Trees\",\"IQtreeStartingTree_Trees\",\"IQtreeStartingTree_Trees\",\"IQtreeStartingTree_Trees\",\"IQtreeStartingTree_Trees\",\"IQtreeStartingTree_Trees\",\"IQtreeStartingTree_Trees\",\"IQtreeStartingTree_Trees\"],\"visible\":true,\"x\":[-46.93082714843747,-56.09122432767226,-73.44514131464965,-76.82877345673278,-81.765697304933,-88.22940877426689,-92.75303335188387,-97.30253005300509,-100.22067867153665,-120.28999687829564,-132.91423984212167,-157.90555254739965,-160.29851171906614,-156.0289691119781,-171.29715705811734,-171.99983637435187,-172.13463679281892,-158.36183211235675,-166.011682362067,-168.0237769648214,-165.198234725238,-164.39374764216282,-161.37639678005837,-161.1965303697523,-165.4490477363242,-148.29351385755288,-147.09012191684587,-143.2261195299264,-127.70346018107945],\"y\":[415.3536823987752,427.20627251115565,406.8171040757961,398.3086463342782,390.4721939593941,383.0327582013863,375.4728684429792,357.86640005734665,338.97202924632063,319.51218555756367,316.0875730867254,302.8129656635796,272.2783363772432,243.98120037140617,218.78343244450429,187.09592352154,155.14254515321258,135.7360565267146,117.46129618989133,101.41324389605879,58.29334766659815,26.147633784793584,-3.683717878784008,-15.089692181109106,-42.551485761816,-68.00045397183479,-59.05987993152889,-79.42100531668706,-85.82107212831343],\"type\":\"scatter\"},{\"customdata\":[0,1,2,3,4,5,6,7,8,9,10,11,12,13,14,15,16,17,18,19,20,21,22,23,24,25,26,27,28,0,1,2,3,4,0,1,2,3,4,5,6,7,8,9,10,11,12,13,14,15,16,17,18,19,20,21,22,23,24,25,26,27,28,29,30,31,32,33,34,35,36,37,38,39,40,41,42,43,44,45,46,0,1,2,3,4,5,6,7,8,9,10,11,12,13,14,15,16,17,18,19,20,21,22,23,24,25,0,1,2,3,4,5,6,7,8,9,10,11,12,13,14,15,16,17,18,19,20,21,22,23,24,25,26,27,28,29,0],\"hovertemplate\":\"\\u003cb\\u003eTrace: %{text}\\u003c\\u002fb\\u003e\\u003cbr\\u003eStep: %{customdata}\\u003cbr\\u003ePCo1: %{x}\\u003cbr\\u003ePCo2: %{y}\\u003cbr\\u003e\",\"marker\":{\"cmax\":0,\"cmin\":0,\"color\":[109.0,111.0,112.0,113.0,117.0],\"colorscale\":[[0.0,\"rgb(0,0,131)\"],[0.2,\"rgb(0,60,170)\"],[0.4,\"rgb(5,255,255)\"],[0.6,\"rgb(255,255,0)\"],[0.8,\"rgb(250,0,0)\"],[1.0,\"rgb(128,0,0)\"]],\"line\":{\"width\":2},\"size\":[10,10,10,10,30],\"symbol\":[\"circle\",\"circle\",\"circle\",\"circle\",\"circle\"]},\"mode\":\"markers\",\"name\":\"MapleStartingTree_Trees\",\"opacity\":0.7,\"showlegend\":false,\"text\":[\"MapleStartingTree_Trees\",\"MapleStartingTree_Trees\",\"MapleStartingTree_Trees\",\"MapleStartingTree_Trees\",\"MapleStartingTree_Trees\"],\"visible\":true,\"x\":[-100.1855140929894,-115.52880862156209,-118.78972964513537,-124.48423620969498,-123.36706821870503],\"y\":[-95.90550504515399,-112.80873576347321,-104.82489522539015,-98.80243859786418,-99.45691576178176],\"type\":\"scatter\"},{\"customdata\":[0,1,2,3,4,5,6,7,8,9,10,11,12,13,14,15,16,17,18,19,20,21,22,23,24,25,26,27,28,0,1,2,3,4,0,1,2,3,4,5,6,7,8,9,10,11,12,13,14,15,16,17,18,19,20,21,22,23,24,25,26,27,28,29,30,31,32,33,34,35,36,37,38,39,40,41,42,43,44,45,46,0,1,2,3,4,5,6,7,8,9,10,11,12,13,14,15,16,17,18,19,20,21,22,23,24,25,0,1,2,3,4,5,6,7,8,9,10,11,12,13,14,15,16,17,18,19,20,21,22,23,24,25,26,27,28,29,0],\"hovertemplate\":\"\\u003cb\\u003eTrace: %{text}\\u003c\\u002fb\\u003e\\u003cbr\\u003eStep: %{customdata}\\u003cbr\\u003ePCo1: %{x}\\u003cbr\\u003ePCo2: %{y}\\u003cbr\\u003e\",\"marker\":{\"cmax\":0,\"cmin\":0,\"color\":[27.0,28.0,29.0,30.0,31.0,32.0,33.0,34.0,35.0,36.0,38.0,41.0,42.0,43.0,44.0,45.0,47.0,49.0,51.0,53.0,59.0,62.0,64.0,70.0,72.0,75.0,76.0,80.0,81.0,82.0,84.0,87.0,88.0,91.0,94.0,98.0,100.0,102.0,105.0,107.0,115.0,121.0,122.0,128.0,133.0,134.0,135.0],\"colorscale\":[[0.0,\"rgb(0,0,131)\"],[0.2,\"rgb(0,60,170)\"],[0.4,\"rgb(5,255,255)\"],[0.6,\"rgb(255,255,0)\"],[0.8,\"rgb(250,0,0)\"],[1.0,\"rgb(128,0,0)\"]],\"line\":{\"width\":2},\"size\":[10,10,10,10,10,10,10,10,10,10,10,10,10,10,10,10,10,10,10,10,10,10,10,10,10,10,10,10,10,10,10,10,10,10,10,10,10,10,10,10,10,10,10,10,10,10,30],\"symbol\":[\"circle\",\"circle\",\"circle\",\"circle\",\"circle\",\"circle\",\"circle\",\"circle\",\"circle\",\"circle\",\"circle\",\"circle\",\"circle\",\"circle\",\"circle\",\"circle\",\"circle\",\"circle\",\"circle\",\"circle\",\"circle\",\"circle\",\"circle\",\"circle\",\"circle\",\"circle\",\"circle\",\"circle\",\"circle\",\"circle\",\"circle\",\"circle\",\"circle\",\"circle\",\"circle\",\"circle\",\"circle\",\"circle\",\"circle\",\"circle\",\"circle\",\"circle\",\"circle\",\"circle\",\"circle\",\"circle\",\"circle\"]},\"mode\":\"markers\",\"name\":\"ParsimonyRAxMLStartingTree_GTRmodel_Trees\",\"opacity\":0.7,\"showlegend\":false,\"text\":[\"ParsimonyRAxMLStartingTree_GTRmodel_Trees\",\"ParsimonyRAxMLStartingTree_GTRmodel_Trees\",\"ParsimonyRAxMLStartingTree_GTRmodel_Trees\",\"ParsimonyRAxMLStartingTree_GTRmodel_Trees\",\"ParsimonyRAxMLStartingTree_GTRmodel_Trees\",\"ParsimonyRAxMLStartingTree_GTRmodel_Trees\",\"ParsimonyRAxMLStartingTree_GTRmodel_Trees\",\"ParsimonyRAxMLStartingTree_GTRmodel_Trees\",\"ParsimonyRAxMLStartingTree_GTRmodel_Trees\",\"ParsimonyRAxMLStartingTree_GTRmodel_Trees\",\"ParsimonyRAxMLStartingTree_GTRmodel_Trees\",\"ParsimonyRAxMLStartingTree_GTRmodel_Trees\",\"ParsimonyRAxMLStartingTree_GTRmodel_Trees\",\"ParsimonyRAxMLStartingTree_GTRmodel_Trees\",\"ParsimonyRAxMLStartingTree_GTRmodel_Trees\",\"ParsimonyRAxMLStartingTree_GTRmodel_Trees\",\"ParsimonyRAxMLStartingTree_GTRmodel_Trees\",\"ParsimonyRAxMLStartingTree_GTRmodel_Trees\",\"ParsimonyRAxMLStartingTree_GTRmodel_Trees\",\"ParsimonyRAxMLStartingTree_GTRmodel_Trees\",\"ParsimonyRAxMLStartingTree_GTRmodel_Trees\",\"ParsimonyRAxMLStartingTree_GTRmodel_Trees\",\"ParsimonyRAxMLStartingTree_GTRmodel_Trees\",\"ParsimonyRAxMLStartingTree_GTRmodel_Trees\",\"ParsimonyRAxMLStartingTree_GTRmodel_Trees\",\"ParsimonyRAxMLStartingTree_GTRmodel_Trees\",\"ParsimonyRAxMLStartingTree_GTRmodel_Trees\",\"ParsimonyRAxMLStartingTree_GTRmodel_Trees\",\"ParsimonyRAxMLStartingTree_GTRmodel_Trees\",\"ParsimonyRAxMLStartingTree_GTRmodel_Trees\",\"ParsimonyRAxMLStartingTree_GTRmodel_Trees\",\"ParsimonyRAxMLStartingTree_GTRmodel_Trees\",\"ParsimonyRAxMLStartingTree_GTRmodel_Trees\",\"ParsimonyRAxMLStartingTree_GTRmodel_Trees\",\"ParsimonyRAxMLStartingTree_GTRmodel_Trees\",\"ParsimonyRAxMLStartingTree_GTRmodel_Trees\",\"ParsimonyRAxMLStartingTree_GTRmodel_Trees\",\"ParsimonyRAxMLStartingTree_GTRmodel_Trees\",\"ParsimonyRAxMLStartingTree_GTRmodel_Trees\",\"ParsimonyRAxMLStartingTree_GTRmodel_Trees\",\"ParsimonyRAxMLStartingTree_GTRmodel_Trees\",\"ParsimonyRAxMLStartingTree_GTRmodel_Trees\",\"ParsimonyRAxMLStartingTree_GTRmodel_Trees\",\"ParsimonyRAxMLStartingTree_GTRmodel_Trees\",\"ParsimonyRAxMLStartingTree_GTRmodel_Trees\",\"ParsimonyRAxMLStartingTree_GTRmodel_Trees\",\"ParsimonyRAxMLStartingTree_GTRmodel_Trees\"],\"visible\":true,\"x\":[405.89956960926077,408.9169204713652,412.5346356350046,409.7214075544403,407.6561143696664,404.6502762648803,400.6118238119496,397.50859103284137,390.4422499234381,387.6371019080664,381.8127605002071,374.3104705176126,374.02677759924757,371.44760249195883,367.9591862823231,365.1688952747493,352.41088146191663,337.8287330240184,335.0569644749391,320.6975475924695,296.37211943767556,274.0949520876059,271.36940478826074,253.86972146601886,251.24920406112963,239.85147031864892,240.45989312078365,216.87066613173508,216.28203139655236,201.96838007439646,176.69836053495303,164.074117571127,161.60927858494807,146.58922171128478,125.28525807741173,97.51712819489099,65.74914809689331,64.33454681491234,46.57704230947875,14.657459357172906,-3.965346063351149,-5.2595061469660935,-10.718113184054225,-22.30121345806364,-27.995720022623185,-31.256641046196517,-31.256641046196535],\"y\":[179.72039201729083,149.88904035371328,125.33050985160027,117.7433264719088,107.5649682948638,99.45870663344644,93.93544149255028,86.44198970907705,70.10886865531816,62.541523746550126,54.948888347587605,48.78697467461343,48.88402292942857,39.21964683860482,40.146191268576615,32.594653301568286,8.461518787156525,-4.396660128235438,-11.927649648203364,-19.768771596999844,-37.11674128366903,-46.53533209968746,-54.05430630293321,-64.77956966501405,-70.53480146458683,-72.98751215343052,-83.28033264769049,-92.65976634378427,-102.93277010682887,-96.70731552691325,-119.98596098262618,-123.41057345346445,-131.03893893622302,-135.1080941323176,-133.87660995618344,-138.0500460518814,-146.79763367006817,-156.00858375026215,-147.18236959964955,-153.71522637151654,-161.5868794121891,-160.08823061160857,-154.65202106783613,-143.34166542310373,-137.31920879557774,-129.33536825749462,-129.33536825749465],\"type\":\"scatter\"},{\"customdata\":[0,1,2,3,4,5,6,7,8,9,10,11,12,13,14,15,16,17,18,19,20,21,22,23,24,25,26,27,28,0,1,2,3,4,0,1,2,3,4,5,6,7,8,9,10,11,12,13,14,15,16,17,18,19,20,21,22,23,24,25,26,27,28,29,30,31,32,33,34,35,36,37,38,39,40,41,42,43,44,45,46,0,1,2,3,4,5,6,7,8,9,10,11,12,13,14,15,16,17,18,19,20,21,22,23,24,25,0,1,2,3,4,5,6,7,8,9,10,11,12,13,14,15,16,17,18,19,20,21,22,23,24,25,26,27,28,29,0],\"hovertemplate\":\"\\u003cb\\u003eTrace: %{text}\\u003c\\u002fb\\u003e\\u003cbr\\u003eStep: %{customdata}\\u003cbr\\u003ePCo1: %{x}\\u003cbr\\u003ePCo2: %{y}\\u003cbr\\u003e\",\"marker\":{\"cmax\":0,\"cmin\":0,\"color\":[0.0,137.0,2.0,3.0,4.0,5.0,6.0,7.0,8.0,9.0,10.0,11.0,12.0,13.0,14.0,15.0,16.0,17.0,18.0,19.0,20.0,21.0,22.0,23.0,24.0,25.0],\"colorscale\":[[0.0,\"rgb(0,0,131)\"],[0.2,\"rgb(0,60,170)\"],[0.4,\"rgb(5,255,255)\"],[0.6,\"rgb(255,255,0)\"],[0.8,\"rgb(250,0,0)\"],[1.0,\"rgb(128,0,0)\"]],\"line\":{\"width\":2},\"size\":[10,10,10,10,10,10,10,10,10,10,10,10,10,10,10,10,10,10,10,10,10,10,10,10,10,30],\"symbol\":[\"circle\",\"circle\",\"circle\",\"circle\",\"circle\",\"circle\",\"circle\",\"circle\",\"circle\",\"circle\",\"circle\",\"circle\",\"circle\",\"circle\",\"circle\",\"circle\",\"circle\",\"circle\",\"circle\",\"circle\",\"circle\",\"circle\",\"circle\",\"circle\",\"circle\",\"circle\"]},\"mode\":\"markers\",\"name\":\"RAxMLNGStartingTree_Trees\",\"opacity\":0.7,\"showlegend\":false,\"text\":[\"RAxMLNGStartingTree_Trees\",\"RAxMLNGStartingTree_Trees\",\"RAxMLNGStartingTree_Trees\",\"RAxMLNGStartingTree_Trees\",\"RAxMLNGStartingTree_Trees\",\"RAxMLNGStartingTree_Trees\",\"RAxMLNGStartingTree_Trees\",\"RAxMLNGStartingTree_Trees\",\"RAxMLNGStartingTree_Trees\",\"RAxMLNGStartingTree_Trees\",\"RAxMLNGStartingTree_Trees\",\"RAxMLNGStartingTree_Trees\",\"RAxMLNGStartingTree_Trees\",\"RAxMLNGStartingTree_Trees\",\"RAxMLNGStartingTree_Trees\",\"RAxMLNGStartingTree_Trees\",\"RAxMLNGStartingTree_Trees\",\"RAxMLNGStartingTree_Trees\",\"RAxMLNGStartingTree_Trees\",\"RAxMLNGStartingTree_Trees\",\"RAxMLNGStartingTree_Trees\",\"RAxMLNGStartingTree_Trees\",\"RAxMLNGStartingTree_Trees\",\"RAxMLNGStartingTree_Trees\",\"RAxMLNGStartingTree_Trees\",\"RAxMLNGStartingTree_Trees\"],\"visible\":true,\"x\":[-126.78907486634809,-131.49263420986432,-132.69602615057119,-134.76131933534518,-135.21224295071957,-145.69346959773995,-146.14855054572539,-149.73192205067065,-152.11392213502745,-168.366899380089,-170.70399660064965,-171.21066418228588,-164.59443380277682,-180.73866836363513,-186.4331749281947,-198.0162752022041,-200.63679260709324,-206.09539964418136,-217.4931333866622,-216.8847105845274,-205.45631688748693,-189.93365753864012,-186.37479360439997,-169.21925972562863,-169.52689454930592,-172.78781557287934],\"y\":[99.78961951266456,84.60878167578993,75.66820763548412,65.48984945843924,62.239978037716874,41.23243247338526,45.08388636071969,35.709167332489095,21.563909542499616,21.05427792864754,13.469654730402455,1.902461638221697,-18.83086144525392,-23.586103447188503,-17.563646819662548,-6.25329117493005,-12.00852297450284,-6.572313430730377,-9.025024119574148,-19.31784461383403,-46.431491114344745,-52.831557925971175,-38.71655369364088,-64.16552190365961,-47.42962376639731,-39.445783228314205],\"type\":\"scatter\"},{\"customdata\":[0,1,2,3,4,5,6,7,8,9,10,11,12,13,14,15,16,17,18,19,20,21,22,23,24,25,26,27,28,0,1,2,3,4,0,1,2,3,4,5,6,7,8,9,10,11,12,13,14,15,16,17,18,19,20,21,22,23,24,25,26,27,28,29,30,31,32,33,34,35,36,37,38,39,40,41,42,43,44,45,46,0,1,2,3,4,5,6,7,8,9,10,11,12,13,14,15,16,17,18,19,20,21,22,23,24,25,0,1,2,3,4,5,6,7,8,9,10,11,12,13,14,15,16,17,18,19,20,21,22,23,24,25,26,27,28,29,0],\"hovertemplate\":\"\\u003cb\\u003eTrace: %{text}\\u003c\\u002fb\\u003e\\u003cbr\\u003eStep: %{customdata}\\u003cbr\\u003ePCo1: %{x}\\u003cbr\\u003ePCo2: %{y}\\u003cbr\\u003e\",\"marker\":{\"cmax\":0,\"cmin\":0,\"color\":[26.0],\"colorscale\":[[0.0,\"#fb9a99\"],[0.5,\"#fb9a99\"],[1.0,\"#fb9a99\"]],\"line\":{\"width\":2},\"size\":[30],\"symbol\":[\"circle\"]},\"mode\":\"markers\",\"name\":\"TrueTreeSimulations\",\"opacity\":0.7,\"showlegend\":false,\"text\":[\"TrueTreeSimulations\"],\"visible\":true,\"x\":[-9.23916066656199],\"y\":[308.51650255413733],\"type\":\"scatter\"},{\"customdata\":[0,1,2,3,4,5,6,7,8,9,10,11,12,13,14,15,16,17,18,19,20,21,22,23,24,25,26,27,28,0,1,2,3,4,0,1,2,3,4,5,6,7,8,9,10,11,12,13,14,15,16,17,18,19,20,21,22,23,24,25,26,27,28,29,30,31,32,33,34,35,36,37,38,39,40,41,42,43,44,45,46,0,1,2,3,4,5,6,7,8,9,10,11,12,13,14,15,16,17,18,19,20,21,22,23,24,25,0,1,2,3,4,5,6,7,8,9,10,11,12,13,14,15,16,17,18,19,20,21,22,23,24,25,26,27,28,29,0],\"hovertemplate\":\"\\u003cb\\u003eTrace: %{text}\\u003c\\u002fb\\u003e\\u003cbr\\u003eStep: %{customdata}\\u003cbr\\u003ePCo1: %{x}\\u003cbr\\u003ePCo2: %{y}\\u003cbr\\u003e\",\"marker\":{\"cmax\":0,\"cmin\":0,\"color\":[37.0,39.0,40.0,46.0,48.0,50.0,52.0,54.0,55.0,56.0,61.0,67.0,68.0,73.0,78.0,86.0,89.0,92.0,96.0,103.0,108.0,116.0,119.0,124.0,126.0,129.0,131.0,132.0,136.0,137.0],\"colorscale\":[[0.0,\"rgb(0,0,131)\"],[0.2,\"rgb(0,60,170)\"],[0.4,\"rgb(5,255,255)\"],[0.6,\"rgb(255,255,0)\"],[0.8,\"rgb(250,0,0)\"],[1.0,\"rgb(128,0,0)\"]],\"line\":{\"width\":2},\"size\":[10,10,10,10,10,10,10,10,10,10,10,10,10,10,10,10,10,10,10,10,10,10,10,10,10,10,10,10,10,30],\"symbol\":[\"circle\",\"circle\",\"circle\",\"circle\",\"circle\",\"circle\",\"circle\",\"circle\",\"circle\",\"circle\",\"circle\",\"circle\",\"circle\",\"circle\",\"circle\",\"circle\",\"circle\",\"circle\",\"circle\",\"circle\",\"circle\",\"circle\",\"circle\",\"circle\",\"circle\",\"circle\",\"circle\",\"circle\",\"circle\",\"circle\"]},\"mode\":\"markers\",\"name\":\"UshERStartingTree_Trees\",\"opacity\":0.7,\"showlegend\":false,\"text\":[\"UshERStartingTree_Trees\",\"UshERStartingTree_Trees\",\"UshERStartingTree_Trees\",\"UshERStartingTree_Trees\",\"UshERStartingTree_Trees\",\"UshERStartingTree_Trees\",\"UshERStartingTree_Trees\",\"UshERStartingTree_Trees\",\"UshERStartingTree_Trees\",\"UshERStartingTree_Trees\",\"UshERStartingTree_Trees\",\"UshERStartingTree_Trees\",\"UshERStartingTree_Trees\",\"UshERStartingTree_Trees\",\"UshERStartingTree_Trees\",\"UshERStartingTree_Trees\",\"UshERStartingTree_Trees\",\"UshERStartingTree_Trees\",\"UshERStartingTree_Trees\",\"UshERStartingTree_Trees\",\"UshERStartingTree_Trees\",\"UshERStartingTree_Trees\",\"UshERStartingTree_Trees\",\"UshERStartingTree_Trees\",\"UshERStartingTree_Trees\",\"UshERStartingTree_Trees\",\"UshERStartingTree_Trees\",\"UshERStartingTree_Trees\",\"UshERStartingTree_Trees\",\"UshERStartingTree_Trees\"],\"visible\":true,\"x\":[-20.038068903669917,-22.349955658064047,-24.72849334065964,-27.0375227420621,-24.0201718799577,-24.526839461593926,-27.147356866483033,-38.545090608963875,-37.93666780682916,-52.296084689298695,-54.11118147660749,-56.8684786654211,-59.30208830033921,-60.86437087596697,-62.34302256356459,-65.13387150736924,-78.93141829580662,-93.95147516946993,-101.90881563028005,-104.76122658469475,-105.64558441772286,-109.68403687065351,-94.16137752180661,-99.8558840863662,-105.31449112345436,-116.89759139746374,-120.15851242103709,-120.15851242103709,-119.04134443004722,-117.8379524893402],\"y\":[-22.888658173139643,-30.234819819690276,-37.50394860106818,-44.57722390179768,-74.40857556537537,-85.9757686575561,-91.73100045712894,-94.1837111459727,-104.47653164023244,-112.31765358902904,-117.79498715425507,-126.067740710303,-133.48333409419453,-138.22289617788982,-142.71891886540655,-151.22687897636297,-148.41830805593608,-152.48746325203072,-157.31442141704574,-167.06184694372854,-170.11234485870634,-175.63560999960254,-182.03567681122885,-176.01322018370288,-170.5770106399304,-159.266654995198,-151.2828144571149,-151.2828144571149,-151.93729162103256,-142.99671758072662],\"type\":\"scatter\"},{\"marker\":{\"color\":\"rgba(200,200,250,1)\"},\"showlegend\":false,\"visible\":true,\"xaxis\":\"x2\",\"y\":[415.3536823987752,427.20627251115565,406.8171040757961,398.3086463342782,390.4721939593941,383.0327582013863,375.4728684429792,357.86640005734665,338.97202924632063,319.51218555756367,316.0875730867254,302.8129656635796,272.2783363772432,243.98120037140617,218.78343244450429,187.09592352154,155.14254515321258,135.7360565267146,117.46129618989133,101.41324389605879,58.29334766659815,26.147633784793584,-3.683717878784008,-15.089692181109106,-42.551485761816,-68.00045397183479,-59.05987993152889,-79.42100531668706,-85.82107212831343,-95.90550504515399,-112.80873576347321,-104.82489522539015,-98.80243859786418,-99.45691576178176,179.72039201729083,149.88904035371328,125.33050985160027,117.7433264719088,107.5649682948638,99.45870663344644,93.93544149255028,86.44198970907705,70.10886865531816,62.541523746550126,54.948888347587605,48.78697467461343,48.88402292942857,39.21964683860482,40.146191268576615,32.594653301568286,8.461518787156525,-4.396660128235438,-11.927649648203364,-19.768771596999844,-37.11674128366903,-46.53533209968746,-54.05430630293321,-64.77956966501405,-70.53480146458683,-72.98751215343052,-83.28033264769049,-92.65976634378427,-102.93277010682887,-96.70731552691325,-119.98596098262618,-123.41057345346445,-131.03893893622302,-135.1080941323176,-133.87660995618344,-138.0500460518814,-146.79763367006817,-156.00858375026215,-147.18236959964955,-153.71522637151654,-161.5868794121891,-160.08823061160857,-154.65202106783613,-143.34166542310373,-137.31920879557774,-129.33536825749462,-129.33536825749465,99.78961951266456,84.60878167578993,75.66820763548412,65.48984945843924,62.239978037716874,41.23243247338526,45.08388636071969,35.709167332489095,21.563909542499616,21.05427792864754,13.469654730402455,1.902461638221697,-18.83086144525392,-23.586103447188503,-17.563646819662548,-6.25329117493005,-12.00852297450284,-6.572313430730377,-9.025024119574148,-19.31784461383403,-46.431491114344745,-52.831557925971175,-38.71655369364088,-64.16552190365961,-47.42962376639731,-39.445783228314205,-22.888658173139643,-30.234819819690276,-37.50394860106818,-44.57722390179768,-74.40857556537537,-85.9757686575561,-91.73100045712894,-94.1837111459727,-104.47653164023244,-112.31765358902904,-117.79498715425507,-126.067740710303,-133.48333409419453,-138.22289617788982,-142.71891886540655,-151.22687897636297,-148.41830805593608,-152.48746325203072,-157.31442141704574,-167.06184694372854,-170.11234485870634,-175.63560999960254,-182.03567681122885,-176.01322018370288,-170.5770106399304,-159.266654995198,-151.2828144571149,-151.2828144571149,-151.93729162103256,-142.99671758072662,308.51650255413733],\"type\":\"histogram\"},{\"marker\":{\"color\":\"rgba(200,200,250,1)\"},\"showlegend\":false,\"visible\":true,\"x\":[-46.93082714843747,-56.09122432767226,-73.44514131464965,-76.82877345673278,-81.765697304933,-88.22940877426689,-92.75303335188387,-97.30253005300509,-100.22067867153665,-120.28999687829564,-132.91423984212167,-157.90555254739965,-160.29851171906614,-156.0289691119781,-171.29715705811734,-171.99983637435187,-172.13463679281892,-158.36183211235675,-166.011682362067,-168.0237769648214,-165.198234725238,-164.39374764216282,-161.37639678005837,-161.1965303697523,-165.4490477363242,-148.29351385755288,-147.09012191684587,-143.2261195299264,-127.70346018107945,-100.1855140929894,-115.52880862156209,-118.78972964513537,-124.48423620969498,-123.36706821870503,405.89956960926077,408.9169204713652,412.5346356350046,409.7214075544403,407.6561143696664,404.6502762648803,400.6118238119496,397.50859103284137,390.4422499234381,387.6371019080664,381.8127605002071,374.3104705176126,374.02677759924757,371.44760249195883,367.9591862823231,365.1688952747493,352.41088146191663,337.8287330240184,335.0569644749391,320.6975475924695,296.37211943767556,274.0949520876059,271.36940478826074,253.86972146601886,251.24920406112963,239.85147031864892,240.45989312078365,216.87066613173508,216.28203139655236,201.96838007439646,176.69836053495303,164.074117571127,161.60927858494807,146.58922171128478,125.28525807741173,97.51712819489099,65.74914809689331,64.33454681491234,46.57704230947875,14.657459357172906,-3.965346063351149,-5.2595061469660935,-10.718113184054225,-22.30121345806364,-27.995720022623185,-31.256641046196517,-31.256641046196535,-126.78907486634809,-131.49263420986432,-132.69602615057119,-134.76131933534518,-135.21224295071957,-145.69346959773995,-146.14855054572539,-149.73192205067065,-152.11392213502745,-168.366899380089,-170.70399660064965,-171.21066418228588,-164.59443380277682,-180.73866836363513,-186.4331749281947,-198.0162752022041,-200.63679260709324,-206.09539964418136,-217.4931333866622,-216.8847105845274,-205.45631688748693,-189.93365753864012,-186.37479360439997,-169.21925972562863,-169.52689454930592,-172.78781557287934,-20.038068903669917,-22.349955658064047,-24.72849334065964,-27.0375227420621,-24.0201718799577,-24.526839461593926,-27.147356866483033,-38.545090608963875,-37.93666780682916,-52.296084689298695,-54.11118147660749,-56.8684786654211,-59.30208830033921,-60.86437087596697,-62.34302256356459,-65.13387150736924,-78.93141829580662,-93.95147516946993,-101.90881563028005,-104.76122658469475,-105.64558441772286,-109.68403687065351,-94.16137752180661,-99.8558840863662,-105.31449112345436,-116.89759139746374,-120.15851242103709,-120.15851242103709,-119.04134443004722,-117.8379524893402,-9.23916066656199],\"yaxis\":\"y2\",\"type\":\"histogram\"}],                        {\"template\":{\"data\":{\"barpolar\":[{\"marker\":{\"line\":{\"color\":\"rgb(234,234,242)\",\"width\":0.5},\"pattern\":{\"fillmode\":\"overlay\",\"size\":10,\"solidity\":0.2}},\"type\":\"barpolar\"}],\"bar\":[{\"error_x\":{\"color\":\"rgb(36,36,36)\"},\"error_y\":{\"color\":\"rgb(36,36,36)\"},\"marker\":{\"line\":{\"color\":\"rgb(234,234,242)\",\"width\":0.5},\"pattern\":{\"fillmode\":\"overlay\",\"size\":10,\"solidity\":0.2}},\"type\":\"bar\"}],\"carpet\":[{\"aaxis\":{\"endlinecolor\":\"rgb(36,36,36)\",\"gridcolor\":\"white\",\"linecolor\":\"white\",\"minorgridcolor\":\"white\",\"startlinecolor\":\"rgb(36,36,36)\"},\"baxis\":{\"endlinecolor\":\"rgb(36,36,36)\",\"gridcolor\":\"white\",\"linecolor\":\"white\",\"minorgridcolor\":\"white\",\"startlinecolor\":\"rgb(36,36,36)\"},\"type\":\"carpet\"}],\"choropleth\":[{\"colorbar\":{\"outlinewidth\":0,\"tickcolor\":\"rgb(36,36,36)\",\"ticklen\":8,\"ticks\":\"outside\",\"tickwidth\":2},\"type\":\"choropleth\"}],\"contourcarpet\":[{\"colorbar\":{\"outlinewidth\":0,\"tickcolor\":\"rgb(36,36,36)\",\"ticklen\":8,\"ticks\":\"outside\",\"tickwidth\":2},\"type\":\"contourcarpet\"}],\"contour\":[{\"colorbar\":{\"outlinewidth\":0,\"tickcolor\":\"rgb(36,36,36)\",\"ticklen\":8,\"ticks\":\"outside\",\"tickwidth\":2},\"colorscale\":[[0.0,\"rgb(2,4,25)\"],[0.06274509803921569,\"rgb(24,15,41)\"],[0.12549019607843137,\"rgb(47,23,57)\"],[0.18823529411764706,\"rgb(71,28,72)\"],[0.25098039215686274,\"rgb(97,30,82)\"],[0.3137254901960784,\"rgb(123,30,89)\"],[0.3764705882352941,\"rgb(150,27,91)\"],[0.4392156862745098,\"rgb(177,22,88)\"],[0.5019607843137255,\"rgb(203,26,79)\"],[0.5647058823529412,\"rgb(223,47,67)\"],[0.6274509803921569,\"rgb(236,76,61)\"],[0.6901960784313725,\"rgb(242,107,73)\"],[0.7529411764705882,\"rgb(244,135,95)\"],[0.8156862745098039,\"rgb(245,162,122)\"],[0.8784313725490196,\"rgb(246,188,153)\"],[0.9411764705882353,\"rgb(247,212,187)\"],[1.0,\"rgb(250,234,220)\"]],\"type\":\"contour\"}],\"heatmapgl\":[{\"colorbar\":{\"outlinewidth\":0,\"tickcolor\":\"rgb(36,36,36)\",\"ticklen\":8,\"ticks\":\"outside\",\"tickwidth\":2},\"colorscale\":[[0.0,\"rgb(2,4,25)\"],[0.06274509803921569,\"rgb(24,15,41)\"],[0.12549019607843137,\"rgb(47,23,57)\"],[0.18823529411764706,\"rgb(71,28,72)\"],[0.25098039215686274,\"rgb(97,30,82)\"],[0.3137254901960784,\"rgb(123,30,89)\"],[0.3764705882352941,\"rgb(150,27,91)\"],[0.4392156862745098,\"rgb(177,22,88)\"],[0.5019607843137255,\"rgb(203,26,79)\"],[0.5647058823529412,\"rgb(223,47,67)\"],[0.6274509803921569,\"rgb(236,76,61)\"],[0.6901960784313725,\"rgb(242,107,73)\"],[0.7529411764705882,\"rgb(244,135,95)\"],[0.8156862745098039,\"rgb(245,162,122)\"],[0.8784313725490196,\"rgb(246,188,153)\"],[0.9411764705882353,\"rgb(247,212,187)\"],[1.0,\"rgb(250,234,220)\"]],\"type\":\"heatmapgl\"}],\"heatmap\":[{\"colorbar\":{\"outlinewidth\":0,\"tickcolor\":\"rgb(36,36,36)\",\"ticklen\":8,\"ticks\":\"outside\",\"tickwidth\":2},\"colorscale\":[[0.0,\"rgb(2,4,25)\"],[0.06274509803921569,\"rgb(24,15,41)\"],[0.12549019607843137,\"rgb(47,23,57)\"],[0.18823529411764706,\"rgb(71,28,72)\"],[0.25098039215686274,\"rgb(97,30,82)\"],[0.3137254901960784,\"rgb(123,30,89)\"],[0.3764705882352941,\"rgb(150,27,91)\"],[0.4392156862745098,\"rgb(177,22,88)\"],[0.5019607843137255,\"rgb(203,26,79)\"],[0.5647058823529412,\"rgb(223,47,67)\"],[0.6274509803921569,\"rgb(236,76,61)\"],[0.6901960784313725,\"rgb(242,107,73)\"],[0.7529411764705882,\"rgb(244,135,95)\"],[0.8156862745098039,\"rgb(245,162,122)\"],[0.8784313725490196,\"rgb(246,188,153)\"],[0.9411764705882353,\"rgb(247,212,187)\"],[1.0,\"rgb(250,234,220)\"]],\"type\":\"heatmap\"}],\"histogram2dcontour\":[{\"colorbar\":{\"outlinewidth\":0,\"tickcolor\":\"rgb(36,36,36)\",\"ticklen\":8,\"ticks\":\"outside\",\"tickwidth\":2},\"colorscale\":[[0.0,\"rgb(2,4,25)\"],[0.06274509803921569,\"rgb(24,15,41)\"],[0.12549019607843137,\"rgb(47,23,57)\"],[0.18823529411764706,\"rgb(71,28,72)\"],[0.25098039215686274,\"rgb(97,30,82)\"],[0.3137254901960784,\"rgb(123,30,89)\"],[0.3764705882352941,\"rgb(150,27,91)\"],[0.4392156862745098,\"rgb(177,22,88)\"],[0.5019607843137255,\"rgb(203,26,79)\"],[0.5647058823529412,\"rgb(223,47,67)\"],[0.6274509803921569,\"rgb(236,76,61)\"],[0.6901960784313725,\"rgb(242,107,73)\"],[0.7529411764705882,\"rgb(244,135,95)\"],[0.8156862745098039,\"rgb(245,162,122)\"],[0.8784313725490196,\"rgb(246,188,153)\"],[0.9411764705882353,\"rgb(247,212,187)\"],[1.0,\"rgb(250,234,220)\"]],\"type\":\"histogram2dcontour\"}],\"histogram2d\":[{\"colorbar\":{\"outlinewidth\":0,\"tickcolor\":\"rgb(36,36,36)\",\"ticklen\":8,\"ticks\":\"outside\",\"tickwidth\":2},\"colorscale\":[[0.0,\"rgb(2,4,25)\"],[0.06274509803921569,\"rgb(24,15,41)\"],[0.12549019607843137,\"rgb(47,23,57)\"],[0.18823529411764706,\"rgb(71,28,72)\"],[0.25098039215686274,\"rgb(97,30,82)\"],[0.3137254901960784,\"rgb(123,30,89)\"],[0.3764705882352941,\"rgb(150,27,91)\"],[0.4392156862745098,\"rgb(177,22,88)\"],[0.5019607843137255,\"rgb(203,26,79)\"],[0.5647058823529412,\"rgb(223,47,67)\"],[0.6274509803921569,\"rgb(236,76,61)\"],[0.6901960784313725,\"rgb(242,107,73)\"],[0.7529411764705882,\"rgb(244,135,95)\"],[0.8156862745098039,\"rgb(245,162,122)\"],[0.8784313725490196,\"rgb(246,188,153)\"],[0.9411764705882353,\"rgb(247,212,187)\"],[1.0,\"rgb(250,234,220)\"]],\"type\":\"histogram2d\"}],\"histogram\":[{\"marker\":{\"pattern\":{\"fillmode\":\"overlay\",\"size\":10,\"solidity\":0.2}},\"type\":\"histogram\"}],\"mesh3d\":[{\"colorbar\":{\"outlinewidth\":0,\"tickcolor\":\"rgb(36,36,36)\",\"ticklen\":8,\"ticks\":\"outside\",\"tickwidth\":2},\"type\":\"mesh3d\"}],\"parcoords\":[{\"line\":{\"colorbar\":{\"outlinewidth\":0,\"tickcolor\":\"rgb(36,36,36)\",\"ticklen\":8,\"ticks\":\"outside\",\"tickwidth\":2}},\"type\":\"parcoords\"}],\"pie\":[{\"automargin\":true,\"type\":\"pie\"}],\"scatter3d\":[{\"line\":{\"colorbar\":{\"outlinewidth\":0,\"tickcolor\":\"rgb(36,36,36)\",\"ticklen\":8,\"ticks\":\"outside\",\"tickwidth\":2}},\"marker\":{\"colorbar\":{\"outlinewidth\":0,\"tickcolor\":\"rgb(36,36,36)\",\"ticklen\":8,\"ticks\":\"outside\",\"tickwidth\":2}},\"type\":\"scatter3d\"}],\"scattercarpet\":[{\"marker\":{\"colorbar\":{\"outlinewidth\":0,\"tickcolor\":\"rgb(36,36,36)\",\"ticklen\":8,\"ticks\":\"outside\",\"tickwidth\":2}},\"type\":\"scattercarpet\"}],\"scattergeo\":[{\"marker\":{\"colorbar\":{\"outlinewidth\":0,\"tickcolor\":\"rgb(36,36,36)\",\"ticklen\":8,\"ticks\":\"outside\",\"tickwidth\":2}},\"type\":\"scattergeo\"}],\"scattergl\":[{\"marker\":{\"colorbar\":{\"outlinewidth\":0,\"tickcolor\":\"rgb(36,36,36)\",\"ticklen\":8,\"ticks\":\"outside\",\"tickwidth\":2}},\"type\":\"scattergl\"}],\"scattermapbox\":[{\"marker\":{\"colorbar\":{\"outlinewidth\":0,\"tickcolor\":\"rgb(36,36,36)\",\"ticklen\":8,\"ticks\":\"outside\",\"tickwidth\":2}},\"type\":\"scattermapbox\"}],\"scatterpolargl\":[{\"marker\":{\"colorbar\":{\"outlinewidth\":0,\"tickcolor\":\"rgb(36,36,36)\",\"ticklen\":8,\"ticks\":\"outside\",\"tickwidth\":2}},\"type\":\"scatterpolargl\"}],\"scatterpolar\":[{\"marker\":{\"colorbar\":{\"outlinewidth\":0,\"tickcolor\":\"rgb(36,36,36)\",\"ticklen\":8,\"ticks\":\"outside\",\"tickwidth\":2}},\"type\":\"scatterpolar\"}],\"scatter\":[{\"fillpattern\":{\"fillmode\":\"overlay\",\"size\":10,\"solidity\":0.2},\"type\":\"scatter\"}],\"scatterternary\":[{\"marker\":{\"colorbar\":{\"outlinewidth\":0,\"tickcolor\":\"rgb(36,36,36)\",\"ticklen\":8,\"ticks\":\"outside\",\"tickwidth\":2}},\"type\":\"scatterternary\"}],\"surface\":[{\"colorbar\":{\"outlinewidth\":0,\"tickcolor\":\"rgb(36,36,36)\",\"ticklen\":8,\"ticks\":\"outside\",\"tickwidth\":2},\"colorscale\":[[0.0,\"rgb(2,4,25)\"],[0.06274509803921569,\"rgb(24,15,41)\"],[0.12549019607843137,\"rgb(47,23,57)\"],[0.18823529411764706,\"rgb(71,28,72)\"],[0.25098039215686274,\"rgb(97,30,82)\"],[0.3137254901960784,\"rgb(123,30,89)\"],[0.3764705882352941,\"rgb(150,27,91)\"],[0.4392156862745098,\"rgb(177,22,88)\"],[0.5019607843137255,\"rgb(203,26,79)\"],[0.5647058823529412,\"rgb(223,47,67)\"],[0.6274509803921569,\"rgb(236,76,61)\"],[0.6901960784313725,\"rgb(242,107,73)\"],[0.7529411764705882,\"rgb(244,135,95)\"],[0.8156862745098039,\"rgb(245,162,122)\"],[0.8784313725490196,\"rgb(246,188,153)\"],[0.9411764705882353,\"rgb(247,212,187)\"],[1.0,\"rgb(250,234,220)\"]],\"type\":\"surface\"}],\"table\":[{\"cells\":{\"fill\":{\"color\":\"rgb(231,231,240)\"},\"line\":{\"color\":\"white\"}},\"header\":{\"fill\":{\"color\":\"rgb(183,183,191)\"},\"line\":{\"color\":\"white\"}},\"type\":\"table\"}]},\"layout\":{\"annotationdefaults\":{\"arrowcolor\":\"rgb(67,103,167)\"},\"autotypenumbers\":\"strict\",\"coloraxis\":{\"colorbar\":{\"outlinewidth\":0,\"tickcolor\":\"rgb(36,36,36)\",\"ticklen\":8,\"ticks\":\"outside\",\"tickwidth\":2}},\"colorscale\":{\"sequential\":[[0.0,\"rgb(2,4,25)\"],[0.06274509803921569,\"rgb(24,15,41)\"],[0.12549019607843137,\"rgb(47,23,57)\"],[0.18823529411764706,\"rgb(71,28,72)\"],[0.25098039215686274,\"rgb(97,30,82)\"],[0.3137254901960784,\"rgb(123,30,89)\"],[0.3764705882352941,\"rgb(150,27,91)\"],[0.4392156862745098,\"rgb(177,22,88)\"],[0.5019607843137255,\"rgb(203,26,79)\"],[0.5647058823529412,\"rgb(223,47,67)\"],[0.6274509803921569,\"rgb(236,76,61)\"],[0.6901960784313725,\"rgb(242,107,73)\"],[0.7529411764705882,\"rgb(244,135,95)\"],[0.8156862745098039,\"rgb(245,162,122)\"],[0.8784313725490196,\"rgb(246,188,153)\"],[0.9411764705882353,\"rgb(247,212,187)\"],[1.0,\"rgb(250,234,220)\"]],\"sequentialminus\":[[0.0,\"rgb(2,4,25)\"],[0.06274509803921569,\"rgb(24,15,41)\"],[0.12549019607843137,\"rgb(47,23,57)\"],[0.18823529411764706,\"rgb(71,28,72)\"],[0.25098039215686274,\"rgb(97,30,82)\"],[0.3137254901960784,\"rgb(123,30,89)\"],[0.3764705882352941,\"rgb(150,27,91)\"],[0.4392156862745098,\"rgb(177,22,88)\"],[0.5019607843137255,\"rgb(203,26,79)\"],[0.5647058823529412,\"rgb(223,47,67)\"],[0.6274509803921569,\"rgb(236,76,61)\"],[0.6901960784313725,\"rgb(242,107,73)\"],[0.7529411764705882,\"rgb(244,135,95)\"],[0.8156862745098039,\"rgb(245,162,122)\"],[0.8784313725490196,\"rgb(246,188,153)\"],[0.9411764705882353,\"rgb(247,212,187)\"],[1.0,\"rgb(250,234,220)\"]]},\"colorway\":[\"rgb(76,114,176)\",\"rgb(221,132,82)\",\"rgb(85,168,104)\",\"rgb(196,78,82)\",\"rgb(129,114,179)\",\"rgb(147,120,96)\",\"rgb(218,139,195)\",\"rgb(140,140,140)\",\"rgb(204,185,116)\",\"rgb(100,181,205)\"],\"font\":{\"color\":\"rgb(36,36,36)\"},\"geo\":{\"bgcolor\":\"white\",\"lakecolor\":\"white\",\"landcolor\":\"rgb(234,234,242)\",\"showlakes\":true,\"showland\":true,\"subunitcolor\":\"white\"},\"hoverlabel\":{\"align\":\"left\"},\"hovermode\":\"closest\",\"paper_bgcolor\":\"white\",\"plot_bgcolor\":\"rgb(234,234,242)\",\"polar\":{\"angularaxis\":{\"gridcolor\":\"white\",\"linecolor\":\"white\",\"showgrid\":true,\"ticks\":\"\"},\"bgcolor\":\"rgb(234,234,242)\",\"radialaxis\":{\"gridcolor\":\"white\",\"linecolor\":\"white\",\"showgrid\":true,\"ticks\":\"\"}},\"scene\":{\"xaxis\":{\"backgroundcolor\":\"rgb(234,234,242)\",\"gridcolor\":\"white\",\"gridwidth\":2,\"linecolor\":\"white\",\"showbackground\":true,\"showgrid\":true,\"ticks\":\"\",\"zerolinecolor\":\"white\"},\"yaxis\":{\"backgroundcolor\":\"rgb(234,234,242)\",\"gridcolor\":\"white\",\"gridwidth\":2,\"linecolor\":\"white\",\"showbackground\":true,\"showgrid\":true,\"ticks\":\"\",\"zerolinecolor\":\"white\"},\"zaxis\":{\"backgroundcolor\":\"rgb(234,234,242)\",\"gridcolor\":\"white\",\"gridwidth\":2,\"linecolor\":\"white\",\"showbackground\":true,\"showgrid\":true,\"ticks\":\"\",\"zerolinecolor\":\"white\"}},\"shapedefaults\":{\"fillcolor\":\"rgb(67,103,167)\",\"line\":{\"width\":0},\"opacity\":0.5},\"ternary\":{\"aaxis\":{\"gridcolor\":\"white\",\"linecolor\":\"white\",\"showgrid\":true,\"ticks\":\"\"},\"baxis\":{\"gridcolor\":\"white\",\"linecolor\":\"white\",\"showgrid\":true,\"ticks\":\"\"},\"bgcolor\":\"rgb(234,234,242)\",\"caxis\":{\"gridcolor\":\"white\",\"linecolor\":\"white\",\"showgrid\":true,\"ticks\":\"\"}},\"xaxis\":{\"automargin\":true,\"gridcolor\":\"white\",\"linecolor\":\"white\",\"showgrid\":true,\"ticks\":\"\",\"title\":{\"standoff\":15},\"zerolinecolor\":\"white\"},\"yaxis\":{\"automargin\":true,\"gridcolor\":\"white\",\"linecolor\":\"white\",\"showgrid\":true,\"ticks\":\"\",\"title\":{\"standoff\":15},\"zerolinecolor\":\"white\"}}},\"margin\":{\"t\":0,\"b\":0,\"l\":0,\"r\":0},\"xaxis\":{\"title\":{\"text\":\"PCo1\",\"font\":{\"size\":20}},\"showgrid\":true,\"showline\":true,\"linecolor\":\"black\",\"linewidth\":2,\"zeroline\":true,\"showticklabels\":true,\"domain\":[0,0.84]},\"yaxis\":{\"title\":{\"text\":\"PCo2\",\"font\":{\"size\":20}},\"showgrid\":true,\"showline\":true,\"zeroline\":true,\"linecolor\":\"black\",\"linewidth\":2,\"showticklabels\":true,\"domain\":[0,0.84]},\"xaxis2\":{\"zeroline\":true,\"linecolor\":\"black\",\"linewidth\":2,\"showticklabels\":true,\"domain\":[0.85,1],\"showgrid\":true},\"yaxis2\":{\"zeroline\":true,\"linecolor\":\"black\",\"linewidth\":2,\"showticklabels\":true,\"domain\":[0.85,1],\"showgrid\":true},\"width\":800,\"height\":1200,\"autosize\":false,\"paper_bgcolor\":\"rgba(0,0,0,0)\",\"plot_bgcolor\":\"rgba(0,0,0,0)\",\"updatemenus\":[{\"buttons\":[{\"args\":[{\"type\":[\"scatter\",\"scatter\",\"scatter\",\"scatter\",\"scatter\",\"scatter\",\"scatter\",\"histogram\",\"histogram\"],\"visible\":[false,true,true,true,true,true,true,true,true]},{\"xaxis\":{\"showgrid\":true,\"showline\":true,\"zeroline\":true,\"showticklabels\":true,\"domain\":[0,0.85]},\"yaxis\":{\"showgrid\":true,\"showline\":true,\"zeroline\":true,\"showticklabels\":true,\"domain\":[0,0.85]},\"xaxis2\":{\"domain\":[0.85,1],\"showgrid\":true,\"showline\":true,\"zeroline\":true,\"showticklabels\":true},\"yaxis2\":{\"domain\":[0.85,1],\"showgrid\":true,\"showline\":true,\"zeroline\":true,\"showticklabels\":true},\"plot_bgcolor\":\"rgb(240,240,240)\"},{\"skip_invalid\":true}],\"label\":\"Scatter2D\",\"method\":\"update\"},{\"args\":[{\"type\":[\"histogram2dcontour\",\"scatter\",\"scatter\",\"scatter\",\"scatter\",\"scatter\",\"scatter\",\"histogram\",\"histogram\"],\"visible\":[true,false,false,false,false,false,false,false,false]},{\"xaxis\":{\"showgrid\":true,\"showline\":true,\"zeroline\":true,\"showticklabels\":true,\"domain\":[0,1]},\"yaxis\":{\"showgrid\":true,\"showline\":true,\"zeroline\":true,\"showticklabels\":true,\"domain\":[0,1]},\"xaxis2\":{\"domain\":[0.999,1],\"showgrid\":false,\"showline\":false,\"zeroline\":false,\"showticklabels\":false},\"yaxis2\":{\"domain\":[0.999,1],\"showgrid\":false,\"showline\":false,\"zeroline\":false,\"showticklabels\":false},\"plot_bgcolor\":\"rgb(240,240,240)\"},{\"skip_invalid\":true}],\"label\":\"Contour\",\"method\":\"update\"}],\"direction\":\"left\",\"pad\":{\"r\":10,\"t\":10},\"showactive\":true,\"type\":\"buttons\",\"x\":0.15,\"xanchor\":\"left\",\"y\":1.3,\"yanchor\":\"top\"},{\"buttons\":[{\"args\":[{\"mode\":\"markers\"},[1,2,3,4,5,6]],\"label\":\"Markers\",\"method\":\"restyle\"},{\"args\":[{\"mode\":\"lines+markers\"},[1,2,3,4,5,6]],\"label\":\"Markers & Lines\",\"method\":\"restyle\"}],\"direction\":\"left\",\"pad\":{\"r\":10,\"t\":10},\"showactive\":true,\"type\":\"buttons\",\"x\":0.15,\"xanchor\":\"left\",\"y\":1.2,\"yanchor\":\"top\"}],\"annotations\":[{\"align\":\"left\",\"showarrow\":false,\"text\":\"\\u003cb\\u003ePlot:\",\"x\":0,\"xref\":\"paper\",\"y\":1.275,\"yref\":\"paper\"},{\"align\":\"left\",\"showarrow\":false,\"text\":\"\\u003cb\\u003ePoints:\",\"x\":0,\"xref\":\"paper\",\"y\":1.175,\"yref\":\"paper\"}]},                        {\"responsive\": true}                    ).then(function(){\n",
       "                            \n",
       "var gd = document.getElementById('a1b8f7c4-ca50-4d3f-a8f7-bcf82842a06b');\n",
       "var x = new MutationObserver(function (mutations, observer) {{\n",
       "        var display = window.getComputedStyle(gd).display;\n",
       "        if (!display || display === 'none') {{\n",
       "            console.log([gd, 'removed!']);\n",
       "            Plotly.purge(gd);\n",
       "            observer.disconnect();\n",
       "        }}\n",
       "}});\n",
       "\n",
       "// Listen for the removal of the full notebook cells\n",
       "var notebookContainer = gd.closest('#notebook-container');\n",
       "if (notebookContainer) {{\n",
       "    x.observe(notebookContainer, {childList: true});\n",
       "}}\n",
       "\n",
       "// Listen for the clearing of the current output cell\n",
       "var outputEl = gd.closest('.output');\n",
       "if (outputEl) {{\n",
       "    x.observe(outputEl, {childList: true});\n",
       "}}\n",
       "\n",
       "                        })                };                });            </script>        </div>"
      ]
     },
     "metadata": {},
     "output_type": "display_data"
    }
   ],
   "source": [
    "collection_maple.plot_2D('pca', plot_meta = 'LK', same_scale = True, select = False, static = True)"
   ]
  },
  {
   "cell_type": "code",
   "execution_count": null,
   "id": "cb36008d",
   "metadata": {},
   "outputs": [],
   "source": []
  }
 ],
 "metadata": {
  "kernelspec": {
   "display_name": "py9temb",
   "language": "python",
   "name": "py9temb"
  },
  "language_info": {
   "codemirror_mode": {
    "name": "ipython",
    "version": 3
   },
   "file_extension": ".py",
   "mimetype": "text/x-python",
   "name": "python",
   "nbconvert_exporter": "python",
   "pygments_lexer": "ipython3",
   "version": "3.9.18"
  }
 },
 "nbformat": 4,
 "nbformat_minor": 5
}
