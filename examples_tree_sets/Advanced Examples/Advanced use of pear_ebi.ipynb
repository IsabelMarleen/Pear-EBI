{
 "cells": [
  {
   "cell_type": "markdown",
   "id": "0cdbbbd6",
   "metadata": {},
   "source": [
    "# Advanced uses of Pear\n",
    "Here we introduce some more elaborated ways we can use pear to perform in-depth analyses and produce effective representations of the embedded distance matrices."
   ]
  },
  {
   "cell_type": "markdown",
   "id": "9b55efa6",
   "metadata": {},
   "source": [
    "## pear.toml\n",
    "Pear will automatically look for a `pear.toml` file in the working directory, alternatively, a `.toml` file can be specified using the `--config` flag. A `.toml` file is just a convenient way of specifying many parameters. Doing so in an auxiliary file remove excessive clutter in the use of pear and promotes a more standardized way of performing a series of analyses. \n",
    "<br>We will guide you through the use of this additional tool."
   ]
  },
  {
   "cell_type": "code",
   "execution_count": 2,
   "id": "1dec7df3",
   "metadata": {},
   "outputs": [
    {
     "name": "stdout",
     "output_type": "stream",
     "text": [
      "# This is an instance of a config TOML for pear_ebi\r",
      "\r\n",
      "\r",
      "\r\n",
      "# [trees] and [dir] sections allow one to specify the files\r",
      "\r\n",
      "# containing the set of trees in newick format.\r",
      "\r\n",
      "# They can be used at the same time, the file\r",
      "\r\n",
      "# selected are going to be compared all together.\r",
      "\r\n",
      "\r",
      "\r\n",
      "[trees] # file entries specify the path to a single file\r",
      "\r\n",
      "#file1 = \"Pear-EBI/examples_tree_sets/beast_trees/beast_run1.trees\" # filen = \"path/to/file\"\r",
      "\r\n",
      "#file2 = \"Pear-EBI/examples_tree_sets/beast_trees/beast_long.trees\"\r",
      "\r\n",
      "\r",
      "\r\n",
      "#[dir] # specify the path to a directory\r",
      "\r\n",
      "#dir1 = \"Pear-EBI/examples_tree_sets/beast_trees/\" # \"path/to/directory\"\r",
      "\r\n",
      "#pattern = '*run2*' # pattern of files to be analyzed\r",
      "\r\n",
      "\r",
      "\r\n",
      "#[collection]\r",
      "\r\n",
      "# output_file = None # name of output file where the distance matrix is written\r",
      "\r\n",
      "# distance_matrix = None # file with distance matrix if this has been precomputed\r",
      "\r\n",
      "# metadata = None # file with dataframe containing metadata compatible with the collection\r",
      "\r\n",
      "\r",
      "\r\n",
      "#[highlight] # allows one to highlight specific trees in the sets\r",
      "\r\n",
      "#trace1 = [0, 1001] # trace1 refers to tree1 | the list highlights the 1st and 1001th trees\r",
      "\r\n",
      "#beast_run2 = [100, 200, 500] # beast_run2 is the file name (no extension) of one of the sets in the collection\r",
      "\r\n",
      "\r",
      "\r\n",
      "[distance] # specify the method used to compute the distances\r",
      "\r\n",
      "# available methods are: hashrf_RF, hashrf_wRF, smart_RF, tqdist_quartet, tqdist_triplet\r",
      "\r\n",
      "method = \"hashrf\"\r",
      "\r\n",
      "\r",
      "\r\n",
      "[embedding]\r",
      "\r\n",
      "method = \"isomap\" # embedding method between: pca, tsne, isomap, lle\r",
      "\r\n",
      "dimensions = 3 # number of dimensions\r",
      "\r\n",
      "quality = false # display quality | default is false\r",
      "\r\n",
      "\r",
      "\r\n",
      "[plot] # specify some plot qualities\r",
      "\r\n",
      "# name_plot = None # name of the plot\r",
      "\r\n",
      "# plot_meta = \"SET-ID\" # metadata used to color the points\r",
      "\r\n",
      "# select = false # display buttons to hide or show different sets of trees | default is true\r",
      "\r\n",
      "# same_scale = false # use the same colorscale to color the sets | default to false\r",
      "\r\n",
      "show = true # show the plots when created | default to false\r",
      "\r\n"
     ]
    }
   ],
   "source": [
    "!cat pear.toml"
   ]
  },
  {
   "cell_type": "markdown",
   "id": "43118965",
   "metadata": {},
   "source": [
    "Here you can see the `pear.toml` example stored in the same directory of this notebook. It is a perfect template for your future analyses!\n",
    "<br>Let's go thorugh all its parts:<ul>\n",
    "    <li> `[trees]` contains single file specifications. Each line associated with this key should direct pear to a file containing trees in Newick format. The nomenclature is \"file$n$=filename\", where $n$ is just the index of the file, whereas filename is the path to the file itself.\n",
    "    <li> `[dir]` contains directory and pattern specifications. Each directory should contain only tree-containing files, and should be indicated with a . Alternatively, a `pattern` can be indicated to narrow the research of the files.\n",
    "    <li> `[collection]` stores details related to the `tree_set` or `set_collection`:<ul>\n",
    "        <li> `output_file` specifies an alternative name and path for the distance matrix file;\n",
    "        <li> `distance_matrix` indicates the path of a precomputed distance matrix;\n",
    "        <li> `metadata` indicates a `.csv` file containing metadata compatible with the collection. That means that the number of rows in the file should be equal to the number of trees in the collection. The information stored in metadata can be of any type (discrete or continuous) and can subsequently used in the representation of your data in the 3D embedding instead of the 3$^{rd}$ dimension, or to color the points (trees). </ul>\n",
    "    <li> `[highlight]` allows for specifying specific trees in the set/collection which are going to highlighted in the final plots. The way one specifies this is by giving a list of indexes indicating which trees to be highlighted for a given set (either if that is part of a collection or not). You specify a list for a set by writing \"file$n$\"if the file has been indexed as such in the `[files]` argument. Otherwise by using the name of the file (without extension: filename.trees is just filename) if the file has been specified through `[dir]` selection.   \n",
    "    <li> `[distance]` specifies the `method` used to compute the distance matrix. It can be chosen among `hashrf_RF`, `hashrf_wRF`, `smart_RF`, `tqdist_quartet`, `tqdist_triplet`.\n",
    "    <li> `[embedding]` specifies the `method` used to compute the embedding of the distance matrix, the `dimensions` of the embedding, and whether to display the `quality` or not. Methods are `pca`(pcoa), `tsne`, `isomap`, `lle`.\n",
    "    <li> `[plot]` defines some aspects of the plots produced by pear:<ul>\n",
    "        <li>`name_plot` specifies the name of the plot produced;\n",
    "        <li>`plot_meta` indicates which feature to use to color the points in the graph, default value is `SET-ID` which simply colors by `tree_set`. A `STEP` meta-variable is present and indicates the index of a tree in a `tree_set`, it can be used to color trees when the ordering is important. Other meta-variables can be specified through the `[metadata]` argument.\n",
    "        <li>`select` indicates whether the graph should have a set of interactive buttons to display/hide specific `tree_set`s or not. \n",
    "        <li>`same_scale` indicates whether the same colorscale should be applied to every `tree_set` or not.\n",
    "        <li>`show` specifies whether the plot should be shown or not.\n",
    "</ul>\n",
    "<b>Note that</b> all these arguments are optional, and many of them can be specified otherwise using the normal functionalities of pear. In fact, should any of these arguments be specified using the `.toml` structure and the flags in pear, the arguments will be overscribed by the ones indicated on the command line. On an additional note related to this, the flag `--meta` allows to specify on the command line a metadata file, replicating the behaviour of the `metadata` argument in `[collection]`.  "
   ]
  },
  {
   "cell_type": "markdown",
   "id": "0a5415f6",
   "metadata": {},
   "source": [
    "****\n",
    "\n",
    "## Examples"
   ]
  },
  {
   "cell_type": "markdown",
   "id": "2c533dba",
   "metadata": {},
   "source": [
    "### Example 1\n",
    "We use pear to analyze 3 runs of a MCMC algorithm, called Beast, used to estimate a phylogenetic tree structure.<br>\n",
    "We upload 2 files using the `[trees]` argument and 1 by specifying the `[dir]` and a `pattern`.<br>\n",
    "We compute the Robinson Foulds distances using hashrf.<br>\n",
    "We embed the distances in a 3-dimensional space using PCoA, and we plot the results colouring by STEP and highlighting some specific trees for each set. We also display some buttons to hide/show the sets in the plots, we use different colorscales (the default behaviour), and we show the results."
   ]
  },
  {
   "cell_type": "code",
   "execution_count": 8,
   "id": "bc71a1b0",
   "metadata": {},
   "outputs": [
    {
     "name": "stdout",
     "output_type": "stream",
     "text": [
      "\u001b[34mPEAR v0.\u001b[0m\u001b[1;34m1.68\u001b[0m\n",
      "\u001b[37mLooking into directory \u001b[0m\u001b[35m..\u001b[0m\u001b[35m/beast_trees/\u001b[0m\u001b[35m \u001b[0m\u001b[37m- pattern: \u001b[0m\u001b[35m*run2*\u001b[0m\n",
      "\u001b[95mYour input:\u001b[0m\n",
      "─────────────────────────────            \n",
      " Tree set collection containing \u001b[1;36m3003\u001b[0m trees;            \n",
      " File: Set_collection_\u001b[93mde170804-9462-44a8-aa40-a56a2e89304b\u001b[0m;\n",
      " Distance matrix: not computed.                \n",
      "───────────────────────────── \n",
      "beast_run1; Containing \u001b[1;36m1001\u001b[0m trees. \n",
      "beast_long; Containing \u001b[1;36m1001\u001b[0m trees. \n",
      "beast_run2; Containing \u001b[1;36m1001\u001b[0m trees. \n",
      "\n",
      "\u001b[2K\u001b[32m⠼\u001b[0m \u001b[1;32mCalculating distances...\u001b[0m0m\n",
      "\u001b[1A\u001b[2K\u001b[1;34mhashrf_RF | Done!\u001b[0m\n",
      "\u001b[2K\u001b[32m⠋\u001b[0m \u001b[1;32mEmbedding distances...\u001b[0m0m\n",
      "\u001b[1A\u001b[2K\u001b[1;34mpca | Done!\u001b[0m\n",
      "\n",
      "\u001b[93m- Leaving PEAR -\u001b[0m\n"
     ]
    }
   ],
   "source": [
    "!pear_ebi --config example_1.toml"
   ]
  },
  {
   "cell_type": "markdown",
   "id": "bd2d3725",
   "metadata": {},
   "source": [
    "#### Example 1 Continued \n",
    "We now show that we can easily modify a single parameter without touching the `.toml` file by simply overriding it on the command line. <br>\n",
    "As an example, we change the embedding method to tSNE."
   ]
  },
  {
   "cell_type": "code",
   "execution_count": 9,
   "id": "b7fbaf88",
   "metadata": {},
   "outputs": [
    {
     "name": "stdout",
     "output_type": "stream",
     "text": [
      "\u001b[34mPEAR v0.\u001b[0m\u001b[1;34m1.68\u001b[0m\n",
      "\u001b[37mLooking into directory \u001b[0m\u001b[35m..\u001b[0m\u001b[35m/beast_trees/\u001b[0m\u001b[35m \u001b[0m\u001b[37m- pattern: \u001b[0m\u001b[35m*run2*\u001b[0m\n",
      "\u001b[95mYour input:\u001b[0m\n",
      "─────────────────────────────            \n",
      " Tree set collection containing \u001b[1;36m3003\u001b[0m trees;            \n",
      " File: Set_collection_\u001b[93mc1748dad-b983-453e-9e30-ff017bb3ac59\u001b[0m;\n",
      " Distance matrix: not computed.                \n",
      "───────────────────────────── \n",
      "beast_run1; Containing \u001b[1;36m1001\u001b[0m trees. \n",
      "beast_long; Containing \u001b[1;36m1001\u001b[0m trees. \n",
      "beast_run2; Containing \u001b[1;36m1001\u001b[0m trees. \n",
      "\n",
      "\u001b[2K\u001b[32m⠦\u001b[0m \u001b[1;32mCalculating distances...\u001b[0m0m\n",
      "\u001b[1A\u001b[2K\u001b[1;34mhashrf_RF | Done!\u001b[0m\n",
      "\u001b[2K\u001b[32m⠋\u001b[0m \u001b[1;32mEmbedding distances...\u001b[0m0m\n",
      "\u001b[1A\u001b[2K\u001b[1;34mtsne | Done!\u001b[0m\n",
      "\n",
      "\u001b[93m- Leaving PEAR -\u001b[0m\n"
     ]
    }
   ],
   "source": [
    "!pear_ebi --config example_1.toml --tsne 3"
   ]
  },
  {
   "cell_type": "markdown",
   "id": "cf806bd0",
   "metadata": {},
   "source": [
    "### Example 2\n"
   ]
  },
  {
   "cell_type": "code",
   "execution_count": null,
   "id": "c0aa9c63",
   "metadata": {},
   "outputs": [],
   "source": []
  }
 ],
 "metadata": {
  "kernelspec": {
   "display_name": "Python 3 (ipykernel)",
   "language": "python",
   "name": "python3"
  },
  "language_info": {
   "codemirror_mode": {
    "name": "ipython",
    "version": 3
   },
   "file_extension": ".py",
   "mimetype": "text/x-python",
   "name": "python",
   "nbconvert_exporter": "python",
   "pygments_lexer": "ipython3",
   "version": "3.10.6"
  }
 },
 "nbformat": 4,
 "nbformat_minor": 5
}
