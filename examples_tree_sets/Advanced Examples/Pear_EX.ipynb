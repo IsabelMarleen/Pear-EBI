{
 "cells": [
  {
   "cell_type": "markdown",
   "id": "403c2b16",
   "metadata": {},
   "source": [
    " <h1> <font color='green'>P</font>hylogeny <font color='green'>E</font>mbedding  & </h1> <h1> <font color='green'>A</font>pproximate <font color='green'>R</font>epresentation </h1>\n",
    " <img src=\"../LOGO_PEAR.png\" width=\"100\" height=\"100\" style='position:absolute; right:500px; top:-15px'>\n",
    "\n",
    "****\n",
    "Here we report the code used to generate the examples in the manuscript"
   ]
  },
  {
   "cell_type": "code",
   "execution_count": 1,
   "id": "e0564db3",
   "metadata": {},
   "outputs": [],
   "source": [
    "from pear_ebi import tree_set\n",
    "import numpy as np\n",
    "import pandas as pd\n",
    "import time\n",
    "import os"
   ]
  },
  {
   "cell_type": "code",
   "execution_count": 20,
   "id": "b5de2125",
   "metadata": {},
   "outputs": [],
   "source": [
    "import sys\n",
    "sys.path.append('../../pear_ebi')\n",
    "from pear_ebi import tree_set"
   ]
  },
  {
   "cell_type": "markdown",
   "id": "cfd297c4",
   "metadata": {},
   "source": [
    "# MAPLE\n",
    "### <font color='purple'> Maximum Likelihood Search </font> "
   ]
  },
  {
   "cell_type": "code",
   "execution_count": 2,
   "id": "e416977a",
   "metadata": {},
   "outputs": [],
   "source": [
    "maple_tree = [\n",
    "    \"IQtreeStartingTree_Trees\",\n",
    "    \"MapleStartingTree_Trees\",\n",
    "    \"ParsimonyRAxMLStartingTree_GTRmodel_Trees\",\n",
    "    \"RAxMLNGStartingTree_Trees\",\n",
    "    \"UshERStartingTree_Trees\",\n",
    "    \"TrueTreeSimulations\",\n",
    "    ]\n",
    "\n",
    "maple_LK = [\n",
    "    \"IQtreeStartingTree_LK\",\n",
    "    \"MapleStartingTree_LK\",\n",
    "    \"ParsimonyRAxMLStartingTree_GTRmodel_LK\",\n",
    "    \"RAxMLNGStartingTree_LK\",\n",
    "    \"UshERStartingTree_LK\",\n",
    "]\n",
    "\n",
    "maple_dir = '../MAPLE_res/'"
   ]
  },
  {
   "cell_type": "markdown",
   "id": "df52bfc4",
   "metadata": {},
   "source": [
    "In the cell below we check that \"DisMat_Maple.csv\", the precomputed distance matrix, is present in the folder."
   ]
  },
  {
   "cell_type": "code",
   "execution_count": 11,
   "id": "b5a438e8",
   "metadata": {},
   "outputs": [
    {
     "name": "stdout",
     "output_type": "stream",
     "text": [
      "─────────────────────────────            \n",
      " Tree set collection containing 138 trees;            \n",
      " File: Set_collection_6d473da8-946c-4ab2-b6da-3810f3c08f38;\n",
      " Distance matrix: computed.                \n",
      "───────────────────────────── \n",
      "IQtreeStartingTree_Trees; Containing 29 trees. \n",
      "MapleStartingTree_Trees; Containing 5 trees. \n",
      "ParsimonyRAxMLStartingTree_GTRmodel_Trees; Containing 47 trees. \n",
      "RAxMLNGStartingTree_Trees; Containing 26 trees. \n",
      "UshERStartingTree_Trees; Containing 30 trees. \n",
      "TrueTreeSimulations; Containing 1 trees. \n",
      "\n"
     ]
    }
   ],
   "source": [
    "set_list = [os.path.join(maple_dir, tree) for tree in maple_tree]\n",
    "try:collection_maple = tree_set.set_collection(set_list, distance_matrix = \"DistMat_Maple.csv\")\n",
    "except:collection_maple = tree_set.set_collection(set_list)\n",
    "finally:print(collection_maple)"
   ]
  },
  {
   "cell_type": "markdown",
   "id": "2f70b470",
   "metadata": {},
   "source": [
    "This is how we extracted the information from multiple files - one may simply skip this step"
   ]
  },
  {
   "cell_type": "code",
   "execution_count": 5,
   "id": "bd3bfd6e",
   "metadata": {},
   "outputs": [
    {
     "data": {
      "text/html": [
       "<div>\n",
       "<style scoped>\n",
       "    .dataframe tbody tr th:only-of-type {\n",
       "        vertical-align: middle;\n",
       "    }\n",
       "\n",
       "    .dataframe tbody tr th {\n",
       "        vertical-align: top;\n",
       "    }\n",
       "\n",
       "    .dataframe thead th {\n",
       "        text-align: right;\n",
       "    }\n",
       "</style>\n",
       "<table border=\"1\" class=\"dataframe\">\n",
       "  <thead>\n",
       "    <tr style=\"text-align: right;\">\n",
       "      <th></th>\n",
       "      <th>LK</th>\n",
       "    </tr>\n",
       "  </thead>\n",
       "  <tbody>\n",
       "    <tr>\n",
       "      <th>0</th>\n",
       "      <td>0.983439</td>\n",
       "    </tr>\n",
       "    <tr>\n",
       "      <th>1</th>\n",
       "      <td>0.983822</td>\n",
       "    </tr>\n",
       "    <tr>\n",
       "      <th>2</th>\n",
       "      <td>0.984404</td>\n",
       "    </tr>\n",
       "    <tr>\n",
       "      <th>3</th>\n",
       "      <td>0.985124</td>\n",
       "    </tr>\n",
       "    <tr>\n",
       "      <th>4</th>\n",
       "      <td>0.985631</td>\n",
       "    </tr>\n",
       "    <tr>\n",
       "      <th>...</th>\n",
       "      <td>...</td>\n",
       "    </tr>\n",
       "    <tr>\n",
       "      <th>133</th>\n",
       "      <td>0.999844</td>\n",
       "    </tr>\n",
       "    <tr>\n",
       "      <th>134</th>\n",
       "      <td>0.999850</td>\n",
       "    </tr>\n",
       "    <tr>\n",
       "      <th>135</th>\n",
       "      <td>0.999976</td>\n",
       "    </tr>\n",
       "    <tr>\n",
       "      <th>136</th>\n",
       "      <td>1.000000</td>\n",
       "    </tr>\n",
       "    <tr>\n",
       "      <th>137</th>\n",
       "      <td>0.706890</td>\n",
       "    </tr>\n",
       "  </tbody>\n",
       "</table>\n",
       "<p>138 rows × 1 columns</p>\n",
       "</div>"
      ],
      "text/plain": [
       "           LK\n",
       "0    0.983439\n",
       "1    0.983822\n",
       "2    0.984404\n",
       "3    0.985124\n",
       "4    0.985631\n",
       "..        ...\n",
       "133  0.999844\n",
       "134  0.999850\n",
       "135  0.999976\n",
       "136  1.000000\n",
       "137  0.706890\n",
       "\n",
       "[138 rows x 1 columns]"
      ]
     },
     "execution_count": 5,
     "metadata": {},
     "output_type": "execute_result"
    }
   ],
   "source": [
    "LKs = dict()\n",
    "for lk_file in maple_LK:\n",
    "    file = os.path.join(maple_dir, lk_file)\n",
    "    with open(file, 'r') as f:\n",
    "        LKs[lk_file] = np.array(f.readlines())\n",
    "        f.close()\n",
    "\n",
    "LK = list()\n",
    "for lk in LKs.values(): LK.extend(lk)\n",
    "\n",
    "LK = np.array([tree.replace('\\n', '') for tree in LK], dtype=np.float64)\n",
    "LK = np.concatenate([LK,np.array([-257513])], axis = 0)#-249113.58799196634\n",
    "LK = np.interp(LK, (LK.min(), LK.max()), (0, +1)) # scale LKs between 0 and 1\n",
    "\n",
    "df_LK = pd.DataFrame({'LK':LK})\n",
    "df_LK.to_csv(\"Likelihoods.csv\")\n",
    "df_LK"
   ]
  },
  {
   "cell_type": "code",
   "execution_count": 15,
   "id": "993bd28a",
   "metadata": {},
   "outputs": [
    {
     "data": {
      "text/html": [
       "<div>\n",
       "<style scoped>\n",
       "    .dataframe tbody tr th:only-of-type {\n",
       "        vertical-align: middle;\n",
       "    }\n",
       "\n",
       "    .dataframe tbody tr th {\n",
       "        vertical-align: top;\n",
       "    }\n",
       "\n",
       "    .dataframe thead th {\n",
       "        text-align: right;\n",
       "    }\n",
       "</style>\n",
       "<table border=\"1\" class=\"dataframe\">\n",
       "  <thead>\n",
       "    <tr style=\"text-align: right;\">\n",
       "      <th></th>\n",
       "      <th>SET-ID</th>\n",
       "      <th>STEP</th>\n",
       "      <th>LK</th>\n",
       "    </tr>\n",
       "  </thead>\n",
       "  <tbody>\n",
       "    <tr>\n",
       "      <th>0</th>\n",
       "      <td>IQtreeStartingTree_Trees</td>\n",
       "      <td>0</td>\n",
       "      <td>0.983439</td>\n",
       "    </tr>\n",
       "    <tr>\n",
       "      <th>1</th>\n",
       "      <td>IQtreeStartingTree_Trees</td>\n",
       "      <td>1</td>\n",
       "      <td>0.983822</td>\n",
       "    </tr>\n",
       "    <tr>\n",
       "      <th>2</th>\n",
       "      <td>IQtreeStartingTree_Trees</td>\n",
       "      <td>2</td>\n",
       "      <td>0.984404</td>\n",
       "    </tr>\n",
       "    <tr>\n",
       "      <th>3</th>\n",
       "      <td>IQtreeStartingTree_Trees</td>\n",
       "      <td>3</td>\n",
       "      <td>0.985124</td>\n",
       "    </tr>\n",
       "    <tr>\n",
       "      <th>4</th>\n",
       "      <td>IQtreeStartingTree_Trees</td>\n",
       "      <td>4</td>\n",
       "      <td>0.985631</td>\n",
       "    </tr>\n",
       "    <tr>\n",
       "      <th>...</th>\n",
       "      <td>...</td>\n",
       "      <td>...</td>\n",
       "      <td>...</td>\n",
       "    </tr>\n",
       "    <tr>\n",
       "      <th>133</th>\n",
       "      <td>UshERStartingTree_Trees</td>\n",
       "      <td>26</td>\n",
       "      <td>0.999844</td>\n",
       "    </tr>\n",
       "    <tr>\n",
       "      <th>134</th>\n",
       "      <td>UshERStartingTree_Trees</td>\n",
       "      <td>27</td>\n",
       "      <td>0.999850</td>\n",
       "    </tr>\n",
       "    <tr>\n",
       "      <th>135</th>\n",
       "      <td>UshERStartingTree_Trees</td>\n",
       "      <td>28</td>\n",
       "      <td>0.999976</td>\n",
       "    </tr>\n",
       "    <tr>\n",
       "      <th>136</th>\n",
       "      <td>UshERStartingTree_Trees</td>\n",
       "      <td>29</td>\n",
       "      <td>1.000000</td>\n",
       "    </tr>\n",
       "    <tr>\n",
       "      <th>137</th>\n",
       "      <td>TrueTreeSimulations</td>\n",
       "      <td>0</td>\n",
       "      <td>0.706890</td>\n",
       "    </tr>\n",
       "  </tbody>\n",
       "</table>\n",
       "<p>138 rows × 3 columns</p>\n",
       "</div>"
      ],
      "text/plain": [
       "                       SET-ID  STEP        LK\n",
       "0    IQtreeStartingTree_Trees     0  0.983439\n",
       "1    IQtreeStartingTree_Trees     1  0.983822\n",
       "2    IQtreeStartingTree_Trees     2  0.984404\n",
       "3    IQtreeStartingTree_Trees     3  0.985124\n",
       "4    IQtreeStartingTree_Trees     4  0.985631\n",
       "..                        ...   ...       ...\n",
       "133   UshERStartingTree_Trees    26  0.999844\n",
       "134   UshERStartingTree_Trees    27  0.999850\n",
       "135   UshERStartingTree_Trees    28  0.999976\n",
       "136   UshERStartingTree_Trees    29  1.000000\n",
       "137       TrueTreeSimulations     0  0.706890\n",
       "\n",
       "[138 rows x 3 columns]"
      ]
     },
     "execution_count": 15,
     "metadata": {},
     "output_type": "execute_result"
    }
   ],
   "source": [
    "df_LK = pd.read_csv(\"Likelihoods.csv\")\n",
    "collection_maple.metadata['LK'] = df_LK['LK']\n",
    "collection_maple.metadata"
   ]
  },
  {
   "cell_type": "markdown",
   "id": "77e0d0b7",
   "metadata": {},
   "source": [
    "If, for any reason, the \"DisMat_Maple.csv\" is not present in the folder, we need to compute the distance matrix. We chose to upload the precomputed distance matrix as the `smart_RF` method takes much longer to compute than `hashrf_RF`, and we wanted this notebook to run smoothly and rapidly."
   ]
  },
  {
   "cell_type": "code",
   "execution_count": 12,
   "id": "35db4aa6",
   "metadata": {},
   "outputs": [
    {
     "data": {
      "text/plain": [
       "(138, 138)"
      ]
     },
     "execution_count": 12,
     "metadata": {},
     "output_type": "execute_result"
    }
   ],
   "source": [
    "if collection_maple.distance_matrix is None:\n",
    "    start = time.time()\n",
    "    collection_maple.calculate_distances('days_RF')\n",
    "    np.savetxt(\"DistMat_Maple.csv\", collection_maple.distance_matrix, delimiter=\",\")\n",
    "    print(time.time() - start)\n",
    "collection_maple.distance_matrix.shape"
   ]
  },
  {
   "cell_type": "code",
   "execution_count": 13,
   "id": "99651cc3",
   "metadata": {
    "collapsed": true
   },
   "outputs": [
    {
     "data": {
      "application/vnd.jupyter.widget-view+json": {
       "model_id": "",
       "version_major": 2,
       "version_minor": 0
      },
      "text/plain": [
       "Output()"
      ]
     },
     "metadata": {},
     "output_type": "display_data"
    },
    {
     "data": {
      "text/html": [
       "<pre style=\"white-space:pre;overflow-x:auto;line-height:normal;font-family:Menlo,'DejaVu Sans Mono',consolas,'Courier New',monospace\"></pre>\n"
      ],
      "text/plain": []
     },
     "metadata": {},
     "output_type": "display_data"
    },
    {
     "data": {
      "text/html": [
       "<pre style=\"white-space:pre;overflow-x:auto;line-height:normal;font-family:Menlo,'DejaVu Sans Mono',consolas,'Courier New',monospace\"><span style=\"color: #000080; text-decoration-color: #000080; font-weight: bold\">pca | Done!</span>\n",
       "</pre>\n"
      ],
      "text/plain": [
       "\u001b[1;34mpca | Done!\u001b[0m\n"
      ]
     },
     "metadata": {},
     "output_type": "display_data"
    },
    {
     "data": {
      "application/vnd.jupyter.widget-view+json": {
       "model_id": "b1761479e391446a8278b3b1dcd0a82a",
       "version_major": 2,
       "version_minor": 0
      },
      "text/plain": [
       "VBox(children=(HBox(children=(Dropdown(description='Metadata:', index=1, options=('SET-ID', 'STEP'), value='ST…"
      ]
     },
     "metadata": {},
     "output_type": "display_data"
    }
   ],
   "source": [
    "collection_maple.plot_3D('pca', plot_meta = 'STEP', same_scale = True, select = True)"
   ]
  },
  {
   "cell_type": "code",
   "execution_count": 16,
   "id": "94f63ffc",
   "metadata": {
    "collapsed": true
   },
   "outputs": [
    {
     "data": {
      "application/vnd.jupyter.widget-view+json": {
       "model_id": "794e72636bd54f0ba6f49b03080dc038",
       "version_major": 2,
       "version_minor": 0
      },
      "text/plain": [
       "VBox(children=(HBox(children=(Dropdown(description='Metadata:', index=2, options=('SET-ID', 'STEP', 'LK'), val…"
      ]
     },
     "metadata": {},
     "output_type": "display_data"
    }
   ],
   "source": [
    "collection_maple.plot_3D('pca', plot_meta = 'LK', same_scale = False, select = True, z_axis = 'LK')"
   ]
  },
  {
   "cell_type": "markdown",
   "id": "cf633cc9",
   "metadata": {},
   "source": [
    "# RAxML\n",
    "### <font color='purple'> Bootstrap Analysis </font> "
   ]
  },
  {
   "cell_type": "code",
   "execution_count": 22,
   "id": "de8a157a",
   "metadata": {},
   "outputs": [
    {
     "name": "stdout",
     "output_type": "stream",
     "text": [
      "─────────────────────────────            \n",
      " Tree set collection containing 3656 trees;            \n",
      " File: Set_collection_aefa4a73-fe9b-4437-899f-bac438afad08;\n",
      " Distance matrix: not computed.                \n",
      "───────────────────────────── \n",
      "bootstrap_6086; Containing 500 trees. \n",
      "bootstrap_5261; Containing 600 trees. \n",
      "bootstrap_5092; Containing 800 trees. \n",
      "bootstrap_281; Containing 600 trees. \n",
      "bootstrap_11289; Containing 600 trees. \n",
      "bootstrap_10409; Containing 550 trees. \n",
      "bestTree_6086; Containing 1 trees. \n",
      "bestTree_5261; Containing 1 trees. \n",
      "bestTree_5092; Containing 1 trees. \n",
      "bestTree_281; Containing 1 trees. \n",
      "bestTree_11289; Containing 1 trees. \n",
      "bestTree_10409; Containing 1 trees. \n",
      "\n"
     ]
    }
   ],
   "source": [
    "input_dir = '../bootstrap_mammals/'\n",
    "files = ([f'bootstrap_{i}' for i in [6086, 5261, 5092, 281, 11289, 10409]] + \n",
    "    [f'bestTree_{i}' for i in [6086, 5261, 5092, 281, 11289, 10409]])\n",
    "collection = tree_set.set_collection([os.path.join(input_dir, f) for f in files])\n",
    "print(collection)"
   ]
  },
  {
   "cell_type": "code",
   "execution_count": 23,
   "id": "e41f12d3",
   "metadata": {
    "collapsed": true
   },
   "outputs": [
    {
     "data": {
      "application/vnd.jupyter.widget-view+json": {
       "model_id": "",
       "version_major": 2,
       "version_minor": 0
      },
      "text/plain": [
       "Output()"
      ]
     },
     "metadata": {},
     "output_type": "display_data"
    },
    {
     "data": {
      "text/html": [
       "<pre style=\"white-space:pre;overflow-x:auto;line-height:normal;font-family:Menlo,'DejaVu Sans Mono',consolas,'Courier New',monospace\"></pre>\n"
      ],
      "text/plain": []
     },
     "metadata": {},
     "output_type": "display_data"
    },
    {
     "data": {
      "text/html": [
       "<pre style=\"white-space:pre;overflow-x:auto;line-height:normal;font-family:Menlo,'DejaVu Sans Mono',consolas,'Courier New',monospace\"><span style=\"color: #000080; text-decoration-color: #000080; font-weight: bold\">hashrf_RF | Done!</span>\n",
       "</pre>\n"
      ],
      "text/plain": [
       "\u001b[1;34mhashrf_RF | Done!\u001b[0m\n"
      ]
     },
     "metadata": {},
     "output_type": "display_data"
    },
    {
     "data": {
      "application/vnd.jupyter.widget-view+json": {
       "model_id": "",
       "version_major": 2,
       "version_minor": 0
      },
      "text/plain": [
       "Output()"
      ]
     },
     "metadata": {},
     "output_type": "display_data"
    },
    {
     "data": {
      "text/html": [
       "<pre style=\"white-space:pre;overflow-x:auto;line-height:normal;font-family:Menlo,'DejaVu Sans Mono',consolas,'Courier New',monospace\"></pre>\n"
      ],
      "text/plain": []
     },
     "metadata": {},
     "output_type": "display_data"
    },
    {
     "data": {
      "text/html": [
       "<pre style=\"white-space:pre;overflow-x:auto;line-height:normal;font-family:Menlo,'DejaVu Sans Mono',consolas,'Courier New',monospace\"><span style=\"color: #000080; text-decoration-color: #000080; font-weight: bold\">pca | Done!</span>\n",
       "</pre>\n"
      ],
      "text/plain": [
       "\u001b[1;34mpca | Done!\u001b[0m\n"
      ]
     },
     "metadata": {},
     "output_type": "display_data"
    },
    {
     "data": {
      "application/vnd.jupyter.widget-view+json": {
       "model_id": "c50c4609c0f14d609ad16003de03a818",
       "version_major": 2,
       "version_minor": 0
      },
      "text/plain": [
       "VBox(children=(HBox(children=(Dropdown(description='Metadata:', options=('SET-ID', 'STEP'), value='SET-ID'), B…"
      ]
     },
     "metadata": {},
     "output_type": "display_data"
    }
   ],
   "source": [
    "collection.plot_2D('pca', select=True)"
   ]
  },
  {
   "cell_type": "code",
   "execution_count": 24,
   "id": "be9cc434",
   "metadata": {
    "collapsed": true
   },
   "outputs": [
    {
     "data": {
      "application/vnd.jupyter.widget-view+json": {
       "model_id": "0b1bbbf623cb4a76900180d63dee379c",
       "version_major": 2,
       "version_minor": 0
      },
      "text/plain": [
       "VBox(children=(HBox(children=(Dropdown(description='Metadata:', options=('SET-ID', 'STEP'), value='SET-ID'), B…"
      ]
     },
     "metadata": {},
     "output_type": "display_data"
    }
   ],
   "source": [
    "collection.plot_3D('pca', select = True)"
   ]
  },
  {
   "cell_type": "markdown",
   "id": "e8048767",
   "metadata": {},
   "source": [
    "# BEAST\n",
    "### <font color='purple'> Bayesan - Markow Chain Monte Carlo </font> "
   ]
  },
  {
   "cell_type": "code",
   "execution_count": 27,
   "id": "aa077579",
   "metadata": {},
   "outputs": [
    {
     "name": "stdout",
     "output_type": "stream",
     "text": [
      "─────────────────────────────            \n",
      " Tree set collection containing 9009 trees;            \n",
      " File: Set_collection_c7d67e14-f20b-4821-bcf4-99156fcc9ec1;\n",
      " Distance matrix: not computed.                \n",
      "───────────────────────────── \n",
      "beast_run1; Containing 1001 trees. \n",
      "beast_run2; Containing 1001 trees. \n",
      "beast_run3; Containing 1001 trees. \n",
      "beast_run4; Containing 1001 trees. \n",
      "beast_run5; Containing 1001 trees. \n",
      "beast_run6; Containing 1001 trees. \n",
      "beast_run7; Containing 1001 trees. \n",
      "beast_run8; Containing 1001 trees. \n",
      "beast_long; Containing 1001 trees. \n",
      "\n"
     ]
    }
   ],
   "source": [
    "beast_dir = '../beast_trees'\n",
    "beast_runs = [os.path.join(beast_dir, f\"beast_run{i}.trees\") for i in range(1,9)] + [os.path.join(beast_dir, f\"beast_long.trees\")]\n",
    "collection = tree_set.set_collection(beast_runs)\n",
    "print(collection)"
   ]
  },
  {
   "cell_type": "code",
   "execution_count": 30,
   "id": "d048b00e",
   "metadata": {},
   "outputs": [],
   "source": [
    "collection.plot_2D('pca')"
   ]
  },
  {
   "cell_type": "code",
   "execution_count": 31,
   "id": "a066715d",
   "metadata": {},
   "outputs": [],
   "source": [
    "collection.plot_3D('pca')"
   ]
  },
  {
   "cell_type": "code",
   "execution_count": null,
   "id": "856f1c3b",
   "metadata": {},
   "outputs": [],
   "source": []
  }
 ],
 "metadata": {
  "kernelspec": {
   "display_name": "py9temb",
   "language": "python",
   "name": "py9temb"
  },
  "language_info": {
   "codemirror_mode": {
    "name": "ipython",
    "version": 3
   },
   "file_extension": ".py",
   "mimetype": "text/x-python",
   "name": "python",
   "nbconvert_exporter": "python",
   "pygments_lexer": "ipython3",
   "version": "3.9.18"
  }
 },
 "nbformat": 4,
 "nbformat_minor": 5
}
