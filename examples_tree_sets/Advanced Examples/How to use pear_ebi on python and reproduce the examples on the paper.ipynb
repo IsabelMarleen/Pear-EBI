{
 "cells": [
  {
   "cell_type": "markdown",
   "id": "403c2b16",
   "metadata": {},
   "source": [
    " <h1> <font color='green'>P</font>hylogeny <font color='green'>E</font>mbedding  & </h1> <h1> <font color='green'>A</font>pproximate <font color='green'>R</font>epresentation </h1>\n",
    " <img src=\"../LOGO_PEAR.png\" width=\"100\" height=\"100\" style='position:absolute; right:500px; top:-15px'>\n",
    "\n",
    "****\n",
    "Here we report the code used to generate plots similar to the examples in the manuscript, providing a general outline of the use of the python library"
   ]
  },
  {
   "cell_type": "markdown",
   "id": "a0e725a5",
   "metadata": {},
   "source": [
    "`tree_set` is the main module of `pear_ebi` - it contains both the <font color=\"blue\"><b>tree_set</b></font> and the <font color=\"red\"><b>set_collection</b></font> objects."
   ]
  },
  {
   "cell_type": "code",
   "execution_count": 1,
   "id": "e0564db3",
   "metadata": {},
   "outputs": [],
   "source": [
    "from pear_ebi import tree_set\n",
    "import numpy as np\n",
    "import pandas as pd\n",
    "import time\n",
    "import os"
   ]
  },
  {
   "cell_type": "markdown",
   "id": "e34fb647",
   "metadata": {},
   "source": [
    "## Examples\n",
    "Here we do not delve into the specifics or the rationale of the experiments - for that we redirect you to the related manuscript - but rather focus on the use of the library to analyze sets of trees in different settings."
   ]
  },
  {
   "cell_type": "markdown",
   "id": "e8048767",
   "metadata": {},
   "source": [
    "***\n",
    "# Bayesian Markov Chain Monte Carlo\n",
    "### <font color='purple'> using trees from BEAST </font> "
   ]
  },
  {
   "cell_type": "markdown",
   "id": "7cb393c4",
   "metadata": {},
   "source": [
    "This is a relatively simple example: we have a few files containing trees in Newick format, where each set of trees is produced by a program (BEAST) that produced them sequentially. We want to represent the distribution of these trees in order to analyze the individual trajectories and to compare the different trajectories coming from different runs. <br>\n",
    "With this idea in mind, we simply compute the square distance matrix using the Robinson-Foulds metric, which generally represents the relations between trees in an effective way, using the most efficient algorithm implemented in Pear: `hashrf`.<br>\n",
    "We then compute and plot the `PCoA` embeddings in 2 and 3 dimensions. "
   ]
  },
  {
   "cell_type": "markdown",
   "id": "46a74876",
   "metadata": {},
   "source": [
    "#### Step 1: load trees"
   ]
  },
  {
   "cell_type": "markdown",
   "id": "26a43665",
   "metadata": {},
   "source": [
    "<font color=\"blue\"><b>tree_set</b></font> is meant to store and manage the analysis of a single set of trees stored in the same file. These trees have to be in the (standard) Newick format.<br>\n",
    "`tree_set = tree_set.tree_set(file, output_file=None, distance_matrix=None, metadata=None)`\n",
    "<br>The first argument indicates the file where the trees are stored. `output_file` can be empty and may be used to indicate a specific name and path for the output distance matrix. `distance_matrix` can be used to indicate a precomputed distance matrix in the `.csv` format. `metadata` may be used to indicate a `.csv` file with additional information relative to the trees. It must be of the same dimensionality of the set of trees, hence $size = (#trees, #meta-variables)$. \n",
    " ***\n",
    "<font color=\"red\"><b>set_collection</b></font> performs the same tasks of <font color=\"blue\"><b>tree_set</b></font>, but stores multiple set of trees. <b>NB:</b> for each file, a set of trees is defined within the set collection. In practice, a <font color=\"red\"><b>set_collection</b></font> is a collection of different <font color=\"blue\"><b>tree_set</b></font>, each one containing a set of trees coming from a different file. It should not come as a surprise, then, that the input `collection=list()`, potentially empty (one may initialize an empty collection), is a list of files containing trees in the Newick format.\n",
    "`set_collection=tree_set.set_collection(collection=list(), file=\"Set_collection_\", output_file=None, distance_matrix=None, metadata=None,)`\n",
    "<br>`file` may be used to indicate an alternative name for the file containing the collection information. This file will be used by pear to store information relative to the sets of trees. `output_file` may be used to indicate a specific name for the distance matrix file.\n",
    "<br>`distance_matrix` can be used to indicate a precomputed distance matrix in the `.csv` format. `metadata` may be used to indicate a `.csv` file with additional information relative to the trees. It must be of the same dimensionality of the set of trees, hence $size = (#trees, #meta-variables)$."
   ]
  },
  {
   "cell_type": "code",
   "execution_count": 2,
   "id": "aa077579",
   "metadata": {},
   "outputs": [
    {
     "name": "stdout",
     "output_type": "stream",
     "text": [
      "─────────────────────────────            \n",
      " Tree set collection containing 9009 trees;            \n",
      " File: Set_collection_d67b3fc3-bac4-4e5f-934c-0c8dc668f012;\n",
      " Distance matrix: not computed.                \n",
      "───────────────────────────── \n",
      "beast_run1; Containing 1001 trees. \n",
      "beast_run2; Containing 1001 trees. \n",
      "beast_run3; Containing 1001 trees. \n",
      "beast_run4; Containing 1001 trees. \n",
      "beast_run5; Containing 1001 trees. \n",
      "beast_run6; Containing 1001 trees. \n",
      "beast_run7; Containing 1001 trees. \n",
      "beast_run8; Containing 1001 trees. \n",
      "beast_long; Containing 1001 trees. \n",
      "\n"
     ]
    }
   ],
   "source": [
    "beast_dir = '../beast_trees'\n",
    "beast_runs = [os.path.join(beast_dir, f\"beast_run{i}.trees\") for i in range(1,9)] + [os.path.join(beast_dir, f\"beast_long.trees\")]\n",
    "beast_collection = tree_set.set_collection(beast_runs)\n",
    "print(beast_collection)"
   ]
  },
  {
   "cell_type": "markdown",
   "id": "11fc5a6e",
   "metadata": {},
   "source": [
    "#### Step 2: compute distances"
   ]
  },
  {
   "cell_type": "code",
   "execution_count": 3,
   "id": "e176dd6c",
   "metadata": {},
   "outputs": [
    {
     "data": {
      "application/vnd.jupyter.widget-view+json": {
       "model_id": "",
       "version_major": 2,
       "version_minor": 0
      },
      "text/plain": [
       "Output()"
      ]
     },
     "metadata": {},
     "output_type": "display_data"
    },
    {
     "data": {
      "text/html": [
       "<pre style=\"white-space:pre;overflow-x:auto;line-height:normal;font-family:Menlo,'DejaVu Sans Mono',consolas,'Courier New',monospace\"></pre>\n"
      ],
      "text/plain": []
     },
     "metadata": {},
     "output_type": "display_data"
    },
    {
     "data": {
      "text/html": [
       "<pre style=\"white-space:pre;overflow-x:auto;line-height:normal;font-family:Menlo,'DejaVu Sans Mono',consolas,'Courier New',monospace\"><span style=\"color: #000080; text-decoration-color: #000080; font-weight: bold\">hashrf_RF | Done!</span>\n",
       "</pre>\n"
      ],
      "text/plain": [
       "\u001b[1;34mhashrf_RF | Done!\u001b[0m\n"
      ]
     },
     "metadata": {},
     "output_type": "display_data"
    }
   ],
   "source": [
    "beast_collection.calculate_distances(method=\"hashrf_RF\") \n",
    "# where method can be chosen among hashrf_RF,\n",
    "# hashrf_wRF, smart_RF, tqdist_quartet, tqdist_triplet"
   ]
  },
  {
   "cell_type": "markdown",
   "id": "c12e00ca",
   "metadata": {},
   "source": [
    "#### Step 3: compute embeddings"
   ]
  },
  {
   "cell_type": "code",
   "execution_count": 4,
   "id": "434c2125",
   "metadata": {},
   "outputs": [
    {
     "data": {
      "application/vnd.jupyter.widget-view+json": {
       "model_id": "",
       "version_major": 2,
       "version_minor": 0
      },
      "text/plain": [
       "Output()"
      ]
     },
     "metadata": {},
     "output_type": "display_data"
    },
    {
     "data": {
      "text/html": [
       "<pre style=\"white-space:pre;overflow-x:auto;line-height:normal;font-family:Menlo,'DejaVu Sans Mono',consolas,'Courier New',monospace\"></pre>\n"
      ],
      "text/plain": []
     },
     "metadata": {},
     "output_type": "display_data"
    },
    {
     "data": {
      "text/html": [
       "<pre style=\"white-space:pre;overflow-x:auto;line-height:normal;font-family:Menlo,'DejaVu Sans Mono',consolas,'Courier New',monospace\"><span style=\"color: #000080; text-decoration-color: #000080; font-weight: bold\">pcoa | Done!</span>\n",
       "</pre>\n"
      ],
      "text/plain": [
       "\u001b[1;34mpcoa | Done!\u001b[0m\n"
      ]
     },
     "metadata": {},
     "output_type": "display_data"
    }
   ],
   "source": [
    "beast_collection.embed(method=\"pcoa\", dimensions=3, quality=False)\n",
    "# where method can be chosen among pcoa, tsne, isomap, lle\n",
    "# pro tip: if the distance matrix has not been computed prior to calling this function,\n",
    "# it will automatically be computed using hashrf_RF"
   ]
  },
  {
   "cell_type": "markdown",
   "id": "7f5674ac",
   "metadata": {},
   "source": [
    "#### Step 4: Plot embeddings"
   ]
  },
  {
   "cell_type": "code",
   "execution_count": null,
   "id": "d048b00e",
   "metadata": {
    "scrolled": true
   },
   "outputs": [],
   "source": [
    "beast_collection.plot_2D(\n",
    "        method='pcoa', # method used for the embedding - if not previously computed, it will be computed when calling this function \n",
    "        save=False, # save the plot in a pdf format? The .html will be saved anyway!\n",
    "        name_plot=None, # specific name for the plot\n",
    "        static=False, # create a static element rather than a dynamic widget\n",
    "        plot_meta=\"SET-ID\", # meta-variable used to colour the points (trees)\n",
    "        plot_set=None, # select specific set of sets of trees in the collection for the plot\n",
    "        select=False, # create widgets to hide/display tree_sets in the graph\n",
    "        same_scale=False,) # use the same colorscale for each tree_set (useful when the same metric is compared among sets)"
   ]
  },
  {
   "cell_type": "code",
   "execution_count": null,
   "id": "a066715d",
   "metadata": {},
   "outputs": [],
   "source": [
    "beast_collection.plot_3D(\n",
    "        method='pcoa',\n",
    "        save=False,\n",
    "        name_plot=None,\n",
    "        static=False,\n",
    "        plot_meta=\"SET-ID\",\n",
    "        plot_set=None,\n",
    "        select=False,\n",
    "        same_scale=False,\n",
    "        z_axis=None,) # substitute the 3rd axis (Z-axis/3rd PCoA) with a meta-variable of choice"
   ]
  },
  {
   "cell_type": "markdown",
   "id": "cf633cc9",
   "metadata": {},
   "source": [
    "***\n",
    "# RAxML\n",
    "### <font color='purple'> Bootstrap Analysis </font> "
   ]
  },
  {
   "cell_type": "markdown",
   "id": "c1ea128c",
   "metadata": {},
   "source": [
    "We do not delve into the biological interpretation of this specific example, as we discussed that in our manuscript. <br> Instead, we point your attention to some specific features of pear's interactive representations: <ul>\n",
    "    <li> First: you can directly plot the `PCoA` embedding of the Robinson Foulds distances computed with `hashrf` without explicitly going through these steps. In fact, running a plotting function bypasses steps 2 and 3, performing them \"under the hood\";\n",
    "    <li> In the 2D representation:<ul>\n",
    "        <li> From the dropdown menu, one can choose the meta-vatiable used to color the points in the graphs;\n",
    "        <li> The red button \"Save plot as pdf\" saves the plot in a `.pdf` file;\n",
    "        <li> The $#show `name of the tree set`$ buttons allow showing and hiding specific sets of trees;\n",
    "        <li> One may choose between the scatter representation or a contour plot;\n",
    "        <li> While visualizing a contour plot, one may choose to hide or show the points (trees) with the light blue button \"Show points on a Contour plot\";\n",
    "        <li> One can choose between visualizing only the points or also the connections between them (indicating the progress through an hypotetical sequential order);\n",
    "        <li> One can use the native tools of the plot so zoom in to focus on a specific area of the graph;\n",
    "        <li> If one wants to focus their attention on specific sets of trees, they just have to click them: this will highlight the selected set and make the other sets transparent. One may continue and highlight on other sets by simply clicking on them. In order to go back to the original representation, one just needs to click on one of the previously highlighted sets for a second time.\n",
    "    </ul>\n",
    "   <li> In the 3D representation:<ul>\n",
    "       <li> Same features of the 2D representation. However, there is no contour plot in this case."
   ]
  },
  {
   "cell_type": "code",
   "execution_count": 7,
   "id": "de8a157a",
   "metadata": {},
   "outputs": [
    {
     "name": "stdout",
     "output_type": "stream",
     "text": [
      "─────────────────────────────            \n",
      " Tree set collection containing 3656 trees;            \n",
      " File: Set_collection_4cbb9500-1e98-40cd-84ec-a9c8bd511698;\n",
      " Distance matrix: not computed.                \n",
      "───────────────────────────── \n",
      "bootstrap_6086; Containing 500 trees. \n",
      "bootstrap_5261; Containing 600 trees. \n",
      "bootstrap_5092; Containing 800 trees. \n",
      "bootstrap_281; Containing 600 trees. \n",
      "bootstrap_11289; Containing 600 trees. \n",
      "bootstrap_10409; Containing 550 trees. \n",
      "bestTree_6086; Containing 1 trees. \n",
      "bestTree_5261; Containing 1 trees. \n",
      "bestTree_5092; Containing 1 trees. \n",
      "bestTree_281; Containing 1 trees. \n",
      "bestTree_11289; Containing 1 trees. \n",
      "bestTree_10409; Containing 1 trees. \n",
      "\n"
     ]
    }
   ],
   "source": [
    "input_dir = '../bootstrap_mammals/'\n",
    "files = ([f'bootstrap_{i}' for i in [6086, 5261, 5092, 281, 11289, 10409]] + \n",
    "    [f'bestTree_{i}' for i in [6086, 5261, 5092, 281, 11289, 10409]])\n",
    "collection = tree_set.set_collection([os.path.join(input_dir, f) for f in files])\n",
    "print(collection)"
   ]
  },
  {
   "cell_type": "code",
   "execution_count": null,
   "id": "e41f12d3",
   "metadata": {},
   "outputs": [],
   "source": [
    "collection.plot_2D('pcoa', select=True)"
   ]
  },
  {
   "cell_type": "code",
   "execution_count": null,
   "id": "be9cc434",
   "metadata": {
    "scrolled": true
   },
   "outputs": [],
   "source": [
    "collection.plot_3D('pcoa', select = True)"
   ]
  },
  {
   "cell_type": "markdown",
   "id": "cfd297c4",
   "metadata": {},
   "source": [
    "****\n",
    "# MAPLE\n",
    "### <font color='purple'> Maximum Likelihood Search </font> "
   ]
  },
  {
   "cell_type": "markdown",
   "id": "b1c3911a",
   "metadata": {},
   "source": [
    "In this specific example, we focus the readers' attention on the possibility of specifying a metadata file to add meta-variable and use them to color the points in the plots or to replace the $Z_{axis}$ in the 3D plot.<br>\n",
    "In the cell below we specify a list of files containing trees and a list of files containing the likelihood of each tree."
   ]
  },
  {
   "cell_type": "code",
   "execution_count": 3,
   "id": "e416977a",
   "metadata": {},
   "outputs": [],
   "source": [
    "maple_tree = [\n",
    "    \"IQtreeStartingTree_Trees\",\n",
    "    \"MapleStartingTree_Trees\",\n",
    "    \"ParsimonyRAxMLStartingTree_GTRmodel_Trees\",\n",
    "    \"RAxMLNGStartingTree_Trees\",\n",
    "    \"UshERStartingTree_Trees\",\n",
    "    \"TrueTreeSimulations\",\n",
    "    ]\n",
    "\n",
    "maple_LK = [\n",
    "    \"IQtreeStartingTree_LK\",\n",
    "    \"MapleStartingTree_LK\",\n",
    "    \"ParsimonyRAxMLStartingTree_GTRmodel_LK\",\n",
    "    \"RAxMLNGStartingTree_LK\",\n",
    "    \"UshERStartingTree_LK\",\n",
    "]\n",
    "\n",
    "maple_dir = '../MAPLE_res/'"
   ]
  },
  {
   "cell_type": "markdown",
   "id": "df52bfc4",
   "metadata": {},
   "source": [
    "In the cell below we check that \"DisMat_Maple.csv\", the precomputed distance matrix, is present in the folder. We precomputed the distances as the `smart_RF` algorithm, which computes a modified version of the Robinson Foulds metric, takes much longer than `hashrf_RF`. "
   ]
  },
  {
   "cell_type": "code",
   "execution_count": 4,
   "id": "b5a438e8",
   "metadata": {},
   "outputs": [
    {
     "name": "stdout",
     "output_type": "stream",
     "text": [
      "─────────────────────────────            \n",
      " Tree set collection containing 138 trees;            \n",
      " File: Set_collection_17e30756-0754-4fbb-9ed7-cb862716a7f8;\n",
      " Distance matrix: computed.                \n",
      "───────────────────────────── \n",
      "IQtreeStartingTree_Trees; Containing 29 trees. \n",
      "MapleStartingTree_Trees; Containing 5 trees. \n",
      "ParsimonyRAxMLStartingTree_GTRmodel_Trees; Containing 47 trees. \n",
      "RAxMLNGStartingTree_Trees; Containing 26 trees. \n",
      "UshERStartingTree_Trees; Containing 30 trees. \n",
      "TrueTreeSimulations; Containing 1 trees. \n",
      "\n"
     ]
    }
   ],
   "source": [
    "set_list = [os.path.join(maple_dir, tree) for tree in maple_tree]\n",
    "try:collection_maple = tree_set.set_collection(set_list, distance_matrix = \"DistMat_Maple.csv\")\n",
    "except:collection_maple = tree_set.set_collection(set_list)\n",
    "finally:print(collection_maple)"
   ]
  },
  {
   "cell_type": "markdown",
   "id": "2f70b470",
   "metadata": {},
   "source": [
    "This is how we extracted the information from multiple files - one may simply skip this step as we then saved the information in the \"Likelihoods.csv\" file."
   ]
  },
  {
   "cell_type": "code",
   "execution_count": 5,
   "id": "bd3bfd6e",
   "metadata": {},
   "outputs": [
    {
     "data": {
      "text/html": [
       "<div>\n",
       "<style scoped>\n",
       "    .dataframe tbody tr th:only-of-type {\n",
       "        vertical-align: middle;\n",
       "    }\n",
       "\n",
       "    .dataframe tbody tr th {\n",
       "        vertical-align: top;\n",
       "    }\n",
       "\n",
       "    .dataframe thead th {\n",
       "        text-align: right;\n",
       "    }\n",
       "</style>\n",
       "<table border=\"1\" class=\"dataframe\">\n",
       "  <thead>\n",
       "    <tr style=\"text-align: right;\">\n",
       "      <th></th>\n",
       "      <th>LK</th>\n",
       "    </tr>\n",
       "  </thead>\n",
       "  <tbody>\n",
       "    <tr>\n",
       "      <th>0</th>\n",
       "      <td>0.983439</td>\n",
       "    </tr>\n",
       "    <tr>\n",
       "      <th>1</th>\n",
       "      <td>0.983822</td>\n",
       "    </tr>\n",
       "    <tr>\n",
       "      <th>2</th>\n",
       "      <td>0.984404</td>\n",
       "    </tr>\n",
       "    <tr>\n",
       "      <th>3</th>\n",
       "      <td>0.985124</td>\n",
       "    </tr>\n",
       "    <tr>\n",
       "      <th>4</th>\n",
       "      <td>0.985631</td>\n",
       "    </tr>\n",
       "    <tr>\n",
       "      <th>...</th>\n",
       "      <td>...</td>\n",
       "    </tr>\n",
       "    <tr>\n",
       "      <th>133</th>\n",
       "      <td>0.999844</td>\n",
       "    </tr>\n",
       "    <tr>\n",
       "      <th>134</th>\n",
       "      <td>0.999850</td>\n",
       "    </tr>\n",
       "    <tr>\n",
       "      <th>135</th>\n",
       "      <td>0.999976</td>\n",
       "    </tr>\n",
       "    <tr>\n",
       "      <th>136</th>\n",
       "      <td>1.000000</td>\n",
       "    </tr>\n",
       "    <tr>\n",
       "      <th>137</th>\n",
       "      <td>0.706890</td>\n",
       "    </tr>\n",
       "  </tbody>\n",
       "</table>\n",
       "<p>138 rows × 1 columns</p>\n",
       "</div>"
      ],
      "text/plain": [
       "           LK\n",
       "0    0.983439\n",
       "1    0.983822\n",
       "2    0.984404\n",
       "3    0.985124\n",
       "4    0.985631\n",
       "..        ...\n",
       "133  0.999844\n",
       "134  0.999850\n",
       "135  0.999976\n",
       "136  1.000000\n",
       "137  0.706890\n",
       "\n",
       "[138 rows x 1 columns]"
      ]
     },
     "execution_count": 5,
     "metadata": {},
     "output_type": "execute_result"
    }
   ],
   "source": [
    "LKs = dict()\n",
    "for lk_file in maple_LK:\n",
    "    file = os.path.join(maple_dir, lk_file)\n",
    "    with open(file, 'r') as f:\n",
    "        LKs[lk_file] = np.array(f.readlines())\n",
    "        f.close()\n",
    "\n",
    "LK = list()\n",
    "for lk in LKs.values(): LK.extend(lk)\n",
    "\n",
    "LK = np.array([tree.replace('\\n', '') for tree in LK], dtype=np.float64)\n",
    "LK = np.concatenate([LK,np.array([-257513])], axis = 0)\n",
    "LK = np.interp(LK, (LK.min(), LK.max()), (0, +1)) # scale LKs between 0 and 1\n",
    "\n",
    "df_LK = pd.DataFrame({'LK':LK})\n",
    "df_LK.to_csv(\"Likelihoods.csv\")\n",
    "df_LK"
   ]
  },
  {
   "cell_type": "markdown",
   "id": "06177f43",
   "metadata": {},
   "source": [
    "There are two ways to introduce new variables in a <font color=\"red\"><b>set_collection</b></font>'s or <font color=\"blue\"><b>tree_set</b></font>'s metadata:"
   ]
  },
  {
   "cell_type": "code",
   "execution_count": 6,
   "id": "993bd28a",
   "metadata": {},
   "outputs": [
    {
     "data": {
      "text/html": [
       "<div>\n",
       "<style scoped>\n",
       "    .dataframe tbody tr th:only-of-type {\n",
       "        vertical-align: middle;\n",
       "    }\n",
       "\n",
       "    .dataframe tbody tr th {\n",
       "        vertical-align: top;\n",
       "    }\n",
       "\n",
       "    .dataframe thead th {\n",
       "        text-align: right;\n",
       "    }\n",
       "</style>\n",
       "<table border=\"1\" class=\"dataframe\">\n",
       "  <thead>\n",
       "    <tr style=\"text-align: right;\">\n",
       "      <th></th>\n",
       "      <th>SET-ID</th>\n",
       "      <th>STEP</th>\n",
       "      <th>LK</th>\n",
       "    </tr>\n",
       "  </thead>\n",
       "  <tbody>\n",
       "    <tr>\n",
       "      <th>0</th>\n",
       "      <td>IQtreeStartingTree_Trees</td>\n",
       "      <td>0</td>\n",
       "      <td>0.983439</td>\n",
       "    </tr>\n",
       "    <tr>\n",
       "      <th>1</th>\n",
       "      <td>IQtreeStartingTree_Trees</td>\n",
       "      <td>1</td>\n",
       "      <td>0.983822</td>\n",
       "    </tr>\n",
       "    <tr>\n",
       "      <th>2</th>\n",
       "      <td>IQtreeStartingTree_Trees</td>\n",
       "      <td>2</td>\n",
       "      <td>0.984404</td>\n",
       "    </tr>\n",
       "    <tr>\n",
       "      <th>3</th>\n",
       "      <td>IQtreeStartingTree_Trees</td>\n",
       "      <td>3</td>\n",
       "      <td>0.985124</td>\n",
       "    </tr>\n",
       "    <tr>\n",
       "      <th>4</th>\n",
       "      <td>IQtreeStartingTree_Trees</td>\n",
       "      <td>4</td>\n",
       "      <td>0.985631</td>\n",
       "    </tr>\n",
       "    <tr>\n",
       "      <th>...</th>\n",
       "      <td>...</td>\n",
       "      <td>...</td>\n",
       "      <td>...</td>\n",
       "    </tr>\n",
       "    <tr>\n",
       "      <th>133</th>\n",
       "      <td>UshERStartingTree_Trees</td>\n",
       "      <td>26</td>\n",
       "      <td>0.999844</td>\n",
       "    </tr>\n",
       "    <tr>\n",
       "      <th>134</th>\n",
       "      <td>UshERStartingTree_Trees</td>\n",
       "      <td>27</td>\n",
       "      <td>0.999850</td>\n",
       "    </tr>\n",
       "    <tr>\n",
       "      <th>135</th>\n",
       "      <td>UshERStartingTree_Trees</td>\n",
       "      <td>28</td>\n",
       "      <td>0.999976</td>\n",
       "    </tr>\n",
       "    <tr>\n",
       "      <th>136</th>\n",
       "      <td>UshERStartingTree_Trees</td>\n",
       "      <td>29</td>\n",
       "      <td>1.000000</td>\n",
       "    </tr>\n",
       "    <tr>\n",
       "      <th>137</th>\n",
       "      <td>TrueTreeSimulations</td>\n",
       "      <td>0</td>\n",
       "      <td>0.706890</td>\n",
       "    </tr>\n",
       "  </tbody>\n",
       "</table>\n",
       "<p>138 rows × 3 columns</p>\n",
       "</div>"
      ],
      "text/plain": [
       "                       SET-ID  STEP        LK\n",
       "0    IQtreeStartingTree_Trees     0  0.983439\n",
       "1    IQtreeStartingTree_Trees     1  0.983822\n",
       "2    IQtreeStartingTree_Trees     2  0.984404\n",
       "3    IQtreeStartingTree_Trees     3  0.985124\n",
       "4    IQtreeStartingTree_Trees     4  0.985631\n",
       "..                        ...   ...       ...\n",
       "133   UshERStartingTree_Trees    26  0.999844\n",
       "134   UshERStartingTree_Trees    27  0.999850\n",
       "135   UshERStartingTree_Trees    28  0.999976\n",
       "136   UshERStartingTree_Trees    29  1.000000\n",
       "137       TrueTreeSimulations     0  0.706890\n",
       "\n",
       "[138 rows x 3 columns]"
      ]
     },
     "execution_count": 6,
     "metadata": {},
     "output_type": "execute_result"
    }
   ],
   "source": [
    "# Method 1:\n",
    "# Given that metadata is a pandas dataframe, \n",
    "# one may simply add columns to it!\n",
    "df_LK = pd.read_csv(\"Likelihoods.csv\")\n",
    "collection_maple.metadata['LK'] = df_LK['LK']\n",
    "collection_maple.metadata"
   ]
  },
  {
   "cell_type": "code",
   "execution_count": 7,
   "id": "3bbad400",
   "metadata": {},
   "outputs": [
    {
     "data": {
      "text/html": [
       "<div>\n",
       "<style scoped>\n",
       "    .dataframe tbody tr th:only-of-type {\n",
       "        vertical-align: middle;\n",
       "    }\n",
       "\n",
       "    .dataframe tbody tr th {\n",
       "        vertical-align: top;\n",
       "    }\n",
       "\n",
       "    .dataframe thead th {\n",
       "        text-align: right;\n",
       "    }\n",
       "</style>\n",
       "<table border=\"1\" class=\"dataframe\">\n",
       "  <thead>\n",
       "    <tr style=\"text-align: right;\">\n",
       "      <th></th>\n",
       "      <th>SET-ID</th>\n",
       "      <th>STEP</th>\n",
       "      <th>LK</th>\n",
       "    </tr>\n",
       "  </thead>\n",
       "  <tbody>\n",
       "    <tr>\n",
       "      <th>0</th>\n",
       "      <td>IQtreeStartingTree_Trees</td>\n",
       "      <td>0</td>\n",
       "      <td>0.983439</td>\n",
       "    </tr>\n",
       "    <tr>\n",
       "      <th>1</th>\n",
       "      <td>IQtreeStartingTree_Trees</td>\n",
       "      <td>1</td>\n",
       "      <td>0.983822</td>\n",
       "    </tr>\n",
       "    <tr>\n",
       "      <th>2</th>\n",
       "      <td>IQtreeStartingTree_Trees</td>\n",
       "      <td>2</td>\n",
       "      <td>0.984404</td>\n",
       "    </tr>\n",
       "    <tr>\n",
       "      <th>3</th>\n",
       "      <td>IQtreeStartingTree_Trees</td>\n",
       "      <td>3</td>\n",
       "      <td>0.985124</td>\n",
       "    </tr>\n",
       "    <tr>\n",
       "      <th>4</th>\n",
       "      <td>IQtreeStartingTree_Trees</td>\n",
       "      <td>4</td>\n",
       "      <td>0.985631</td>\n",
       "    </tr>\n",
       "    <tr>\n",
       "      <th>...</th>\n",
       "      <td>...</td>\n",
       "      <td>...</td>\n",
       "      <td>...</td>\n",
       "    </tr>\n",
       "    <tr>\n",
       "      <th>133</th>\n",
       "      <td>UshERStartingTree_Trees</td>\n",
       "      <td>26</td>\n",
       "      <td>0.999844</td>\n",
       "    </tr>\n",
       "    <tr>\n",
       "      <th>134</th>\n",
       "      <td>UshERStartingTree_Trees</td>\n",
       "      <td>27</td>\n",
       "      <td>0.999850</td>\n",
       "    </tr>\n",
       "    <tr>\n",
       "      <th>135</th>\n",
       "      <td>UshERStartingTree_Trees</td>\n",
       "      <td>28</td>\n",
       "      <td>0.999976</td>\n",
       "    </tr>\n",
       "    <tr>\n",
       "      <th>136</th>\n",
       "      <td>UshERStartingTree_Trees</td>\n",
       "      <td>29</td>\n",
       "      <td>1.000000</td>\n",
       "    </tr>\n",
       "    <tr>\n",
       "      <th>137</th>\n",
       "      <td>TrueTreeSimulations</td>\n",
       "      <td>0</td>\n",
       "      <td>0.706890</td>\n",
       "    </tr>\n",
       "  </tbody>\n",
       "</table>\n",
       "<p>138 rows × 3 columns</p>\n",
       "</div>"
      ],
      "text/plain": [
       "                       SET-ID  STEP        LK\n",
       "0    IQtreeStartingTree_Trees     0  0.983439\n",
       "1    IQtreeStartingTree_Trees     1  0.983822\n",
       "2    IQtreeStartingTree_Trees     2  0.984404\n",
       "3    IQtreeStartingTree_Trees     3  0.985124\n",
       "4    IQtreeStartingTree_Trees     4  0.985631\n",
       "..                        ...   ...       ...\n",
       "133   UshERStartingTree_Trees    26  0.999844\n",
       "134   UshERStartingTree_Trees    27  0.999850\n",
       "135   UshERStartingTree_Trees    28  0.999976\n",
       "136   UshERStartingTree_Trees    29  1.000000\n",
       "137       TrueTreeSimulations     0  0.706890\n",
       "\n",
       "[138 rows x 3 columns]"
      ]
     },
     "execution_count": 7,
     "metadata": {},
     "output_type": "execute_result"
    }
   ],
   "source": [
    "# Method 2:\n",
    "# One may specify a file with additional \n",
    "# metadata when the object is created\n",
    "collection_maple = tree_set.set_collection(set_list, distance_matrix = \"DistMat_Maple.csv\", metadata=\"Likelihoods.csv\")\n",
    "collection_maple.metadata"
   ]
  },
  {
   "cell_type": "markdown",
   "id": "77e0d0b7",
   "metadata": {},
   "source": [
    "If, for any reason, the \"DisMat_Maple.csv\" is not present in the folder, we need to compute the distance matrix. We chose to upload the precomputed distance matrix as the `smart_RF` method takes much longer to compute than `hashrf_RF`, and we wanted this notebook to run smoothly and rapidly."
   ]
  },
  {
   "cell_type": "code",
   "execution_count": 8,
   "id": "35db4aa6",
   "metadata": {},
   "outputs": [
    {
     "data": {
      "text/plain": [
       "(138, 138)"
      ]
     },
     "execution_count": 8,
     "metadata": {},
     "output_type": "execute_result"
    }
   ],
   "source": [
    "if collection_maple.distance_matrix is None:\n",
    "    start = time.time()\n",
    "    collection_maple.calculate_distances('days_RF')\n",
    "    np.savetxt(\"DistMat_Maple.csv\", collection_maple.distance_matrix, delimiter=\",\")\n",
    "    print(time.time() - start)\n",
    "collection_maple.distance_matrix.shape"
   ]
  },
  {
   "cell_type": "markdown",
   "id": "eccea8d5",
   "metadata": {},
   "source": [
    "We colour the trees based on their likelihood in the 2D plot, while we replace the $Z_{axis}$ with the likelihood in the 3D plot. <br>\n",
    "`same_scale` makes sure that points with the same value have the same colour in the graphs."
   ]
  },
  {
   "cell_type": "code",
   "execution_count": null,
   "id": "99651cc3",
   "metadata": {
    "scrolled": true
   },
   "outputs": [],
   "source": [
    "collection_maple.plot_3D('pcoa', plot_meta = 'LK', same_scale = True, select = True)"
   ]
  },
  {
   "cell_type": "code",
   "execution_count": null,
   "id": "94f63ffc",
   "metadata": {
    "scrolled": true
   },
   "outputs": [],
   "source": [
    "collection_maple.plot_3D('pcoa', plot_meta = 'LK', same_scale = True, select = True, z_axis = 'LK')"
   ]
  },
  {
   "cell_type": "markdown",
   "id": "f5d16e8f",
   "metadata": {},
   "source": [
    "What if I wanted to make one of these trees to \"pop out\"? Well, we can add a coulumn called `\"highlight\"` that will automatically be read by the plotting function to \"highloght\" the points specified. The columns has to be binary (0s and 1s), where the 1s indicate that a tree should be highlighted. It is crucial here to know the order and size of the sets, as the column is shared by the whole collection. <b>Note that</b>: the vector `\"highlight\"` <b>must be integer (dtype = int)!</b>."
   ]
  },
  {
   "cell_type": "markdown",
   "id": "c9ecca07",
   "metadata": {},
   "source": [
    "#### Easy example: \n",
    "we want to highight the true tree, which is the last in the collection."
   ]
  },
  {
   "cell_type": "code",
   "execution_count": 20,
   "id": "67b82704",
   "metadata": {},
   "outputs": [
    {
     "data": {
      "text/html": [
       "<div>\n",
       "<style scoped>\n",
       "    .dataframe tbody tr th:only-of-type {\n",
       "        vertical-align: middle;\n",
       "    }\n",
       "\n",
       "    .dataframe tbody tr th {\n",
       "        vertical-align: top;\n",
       "    }\n",
       "\n",
       "    .dataframe thead th {\n",
       "        text-align: right;\n",
       "    }\n",
       "</style>\n",
       "<table border=\"1\" class=\"dataframe\">\n",
       "  <thead>\n",
       "    <tr style=\"text-align: right;\">\n",
       "      <th></th>\n",
       "      <th>SET-ID</th>\n",
       "      <th>STEP</th>\n",
       "      <th>LK</th>\n",
       "      <th>highlight</th>\n",
       "    </tr>\n",
       "  </thead>\n",
       "  <tbody>\n",
       "    <tr>\n",
       "      <th>0</th>\n",
       "      <td>IQtreeStartingTree_Trees</td>\n",
       "      <td>0</td>\n",
       "      <td>0.983439</td>\n",
       "      <td>0</td>\n",
       "    </tr>\n",
       "    <tr>\n",
       "      <th>1</th>\n",
       "      <td>IQtreeStartingTree_Trees</td>\n",
       "      <td>1</td>\n",
       "      <td>0.983822</td>\n",
       "      <td>0</td>\n",
       "    </tr>\n",
       "    <tr>\n",
       "      <th>2</th>\n",
       "      <td>IQtreeStartingTree_Trees</td>\n",
       "      <td>2</td>\n",
       "      <td>0.984404</td>\n",
       "      <td>0</td>\n",
       "    </tr>\n",
       "    <tr>\n",
       "      <th>3</th>\n",
       "      <td>IQtreeStartingTree_Trees</td>\n",
       "      <td>3</td>\n",
       "      <td>0.985124</td>\n",
       "      <td>0</td>\n",
       "    </tr>\n",
       "    <tr>\n",
       "      <th>4</th>\n",
       "      <td>IQtreeStartingTree_Trees</td>\n",
       "      <td>4</td>\n",
       "      <td>0.985631</td>\n",
       "      <td>0</td>\n",
       "    </tr>\n",
       "    <tr>\n",
       "      <th>...</th>\n",
       "      <td>...</td>\n",
       "      <td>...</td>\n",
       "      <td>...</td>\n",
       "      <td>...</td>\n",
       "    </tr>\n",
       "    <tr>\n",
       "      <th>133</th>\n",
       "      <td>UshERStartingTree_Trees</td>\n",
       "      <td>26</td>\n",
       "      <td>0.999844</td>\n",
       "      <td>0</td>\n",
       "    </tr>\n",
       "    <tr>\n",
       "      <th>134</th>\n",
       "      <td>UshERStartingTree_Trees</td>\n",
       "      <td>27</td>\n",
       "      <td>0.999850</td>\n",
       "      <td>0</td>\n",
       "    </tr>\n",
       "    <tr>\n",
       "      <th>135</th>\n",
       "      <td>UshERStartingTree_Trees</td>\n",
       "      <td>28</td>\n",
       "      <td>0.999976</td>\n",
       "      <td>0</td>\n",
       "    </tr>\n",
       "    <tr>\n",
       "      <th>136</th>\n",
       "      <td>UshERStartingTree_Trees</td>\n",
       "      <td>29</td>\n",
       "      <td>1.000000</td>\n",
       "      <td>0</td>\n",
       "    </tr>\n",
       "    <tr>\n",
       "      <th>137</th>\n",
       "      <td>TrueTreeSimulations</td>\n",
       "      <td>0</td>\n",
       "      <td>0.706890</td>\n",
       "      <td>1</td>\n",
       "    </tr>\n",
       "  </tbody>\n",
       "</table>\n",
       "<p>138 rows × 4 columns</p>\n",
       "</div>"
      ],
      "text/plain": [
       "                       SET-ID  STEP        LK  highlight\n",
       "0    IQtreeStartingTree_Trees     0  0.983439          0\n",
       "1    IQtreeStartingTree_Trees     1  0.983822          0\n",
       "2    IQtreeStartingTree_Trees     2  0.984404          0\n",
       "3    IQtreeStartingTree_Trees     3  0.985124          0\n",
       "4    IQtreeStartingTree_Trees     4  0.985631          0\n",
       "..                        ...   ...       ...        ...\n",
       "133   UshERStartingTree_Trees    26  0.999844          0\n",
       "134   UshERStartingTree_Trees    27  0.999850          0\n",
       "135   UshERStartingTree_Trees    28  0.999976          0\n",
       "136   UshERStartingTree_Trees    29  1.000000          0\n",
       "137       TrueTreeSimulations     0  0.706890          1\n",
       "\n",
       "[138 rows x 4 columns]"
      ]
     },
     "execution_count": 20,
     "metadata": {},
     "output_type": "execute_result"
    }
   ],
   "source": [
    "highlight_mask = np.zeros(collection_maple.metadata.shape[0], dtype=int) # vector of 0s with size = n_trees\n",
    "highlight_mask[-1] = 1 # last element set to 1\n",
    "collection_maple.metadata['highlight'] = highlight_mask\n",
    "collection_maple.metadata"
   ]
  },
  {
   "cell_type": "code",
   "execution_count": null,
   "id": "d705d920",
   "metadata": {},
   "outputs": [],
   "source": [
    "collection_maple.plot_2D('pcoa', plot_meta = 'LK', same_scale = True, select = False, static = True)"
   ]
  },
  {
   "cell_type": "markdown",
   "id": "8820538f",
   "metadata": {},
   "source": [
    "#### Hard (not really) example:\n",
    "we want to highight the true tree, and the last tree of each set.\n",
    "In order to perform this task, we can exploit an additional tool: the `set_collection.data`.\n",
    "This object contains some useful information regarding the structure of each set composing the collection. In particular, we may be interested in the `n_trees` variable which can be used to assess the size of each set! "
   ]
  },
  {
   "cell_type": "code",
   "execution_count": 9,
   "id": "24915f0e",
   "metadata": {
    "scrolled": false
   },
   "outputs": [
    {
     "name": "stdout",
     "output_type": "stream",
     "text": [
      "IQtreeStartingTree_Trees has 29 trees\n",
      "MapleStartingTree_Trees has 5 trees\n",
      "ParsimonyRAxMLStartingTree_GTRmodel_Trees has 47 trees\n",
      "RAxMLNGStartingTree_Trees has 26 trees\n",
      "UshERStartingTree_Trees has 30 trees\n",
      "TrueTreeSimulations has 1 trees\n"
     ]
    }
   ],
   "source": [
    "# this is the object --> collection_maple.data # Note that this is a nested dictionary\n",
    "for Tset, info in collection_maple.data.items():\n",
    "    print(Tset, f\"has {info['n_trees']} trees\")"
   ]
  },
  {
   "cell_type": "code",
   "execution_count": 10,
   "id": "4c4bf52e",
   "metadata": {},
   "outputs": [
    {
     "data": {
      "text/html": [
       "<div>\n",
       "<style scoped>\n",
       "    .dataframe tbody tr th:only-of-type {\n",
       "        vertical-align: middle;\n",
       "    }\n",
       "\n",
       "    .dataframe tbody tr th {\n",
       "        vertical-align: top;\n",
       "    }\n",
       "\n",
       "    .dataframe thead th {\n",
       "        text-align: right;\n",
       "    }\n",
       "</style>\n",
       "<table border=\"1\" class=\"dataframe\">\n",
       "  <thead>\n",
       "    <tr style=\"text-align: right;\">\n",
       "      <th></th>\n",
       "      <th>SET-ID</th>\n",
       "      <th>STEP</th>\n",
       "      <th>LK</th>\n",
       "      <th>highlight</th>\n",
       "    </tr>\n",
       "  </thead>\n",
       "  <tbody>\n",
       "    <tr>\n",
       "      <th>0</th>\n",
       "      <td>IQtreeStartingTree_Trees</td>\n",
       "      <td>0</td>\n",
       "      <td>0.983439</td>\n",
       "      <td>0</td>\n",
       "    </tr>\n",
       "    <tr>\n",
       "      <th>1</th>\n",
       "      <td>IQtreeStartingTree_Trees</td>\n",
       "      <td>1</td>\n",
       "      <td>0.983822</td>\n",
       "      <td>0</td>\n",
       "    </tr>\n",
       "    <tr>\n",
       "      <th>2</th>\n",
       "      <td>IQtreeStartingTree_Trees</td>\n",
       "      <td>2</td>\n",
       "      <td>0.984404</td>\n",
       "      <td>0</td>\n",
       "    </tr>\n",
       "    <tr>\n",
       "      <th>3</th>\n",
       "      <td>IQtreeStartingTree_Trees</td>\n",
       "      <td>3</td>\n",
       "      <td>0.985124</td>\n",
       "      <td>0</td>\n",
       "    </tr>\n",
       "    <tr>\n",
       "      <th>4</th>\n",
       "      <td>IQtreeStartingTree_Trees</td>\n",
       "      <td>4</td>\n",
       "      <td>0.985631</td>\n",
       "      <td>0</td>\n",
       "    </tr>\n",
       "    <tr>\n",
       "      <th>...</th>\n",
       "      <td>...</td>\n",
       "      <td>...</td>\n",
       "      <td>...</td>\n",
       "      <td>...</td>\n",
       "    </tr>\n",
       "    <tr>\n",
       "      <th>133</th>\n",
       "      <td>UshERStartingTree_Trees</td>\n",
       "      <td>26</td>\n",
       "      <td>0.999844</td>\n",
       "      <td>0</td>\n",
       "    </tr>\n",
       "    <tr>\n",
       "      <th>134</th>\n",
       "      <td>UshERStartingTree_Trees</td>\n",
       "      <td>27</td>\n",
       "      <td>0.999850</td>\n",
       "      <td>0</td>\n",
       "    </tr>\n",
       "    <tr>\n",
       "      <th>135</th>\n",
       "      <td>UshERStartingTree_Trees</td>\n",
       "      <td>28</td>\n",
       "      <td>0.999976</td>\n",
       "      <td>0</td>\n",
       "    </tr>\n",
       "    <tr>\n",
       "      <th>136</th>\n",
       "      <td>UshERStartingTree_Trees</td>\n",
       "      <td>29</td>\n",
       "      <td>1.000000</td>\n",
       "      <td>1</td>\n",
       "    </tr>\n",
       "    <tr>\n",
       "      <th>137</th>\n",
       "      <td>TrueTreeSimulations</td>\n",
       "      <td>0</td>\n",
       "      <td>0.706890</td>\n",
       "      <td>1</td>\n",
       "    </tr>\n",
       "  </tbody>\n",
       "</table>\n",
       "<p>138 rows × 4 columns</p>\n",
       "</div>"
      ],
      "text/plain": [
       "                       SET-ID  STEP        LK  highlight\n",
       "0    IQtreeStartingTree_Trees     0  0.983439          0\n",
       "1    IQtreeStartingTree_Trees     1  0.983822          0\n",
       "2    IQtreeStartingTree_Trees     2  0.984404          0\n",
       "3    IQtreeStartingTree_Trees     3  0.985124          0\n",
       "4    IQtreeStartingTree_Trees     4  0.985631          0\n",
       "..                        ...   ...       ...        ...\n",
       "133   UshERStartingTree_Trees    26  0.999844          0\n",
       "134   UshERStartingTree_Trees    27  0.999850          0\n",
       "135   UshERStartingTree_Trees    28  0.999976          0\n",
       "136   UshERStartingTree_Trees    29  1.000000          1\n",
       "137       TrueTreeSimulations     0  0.706890          1\n",
       "\n",
       "[138 rows x 4 columns]"
      ]
     },
     "execution_count": 10,
     "metadata": {},
     "output_type": "execute_result"
    }
   ],
   "source": [
    "highlight_mask = np.zeros(collection_maple.metadata.shape[0], dtype=int)\n",
    "last_tree = 0\n",
    "for Tset, info in collection_maple.data.items():\n",
    "    last_tree += info[\"n_trees\"]\n",
    "    highlight_mask[last_tree - 1] = 1\n",
    "collection_maple.metadata['highlight'] = highlight_mask\n",
    "collection_maple.metadata"
   ]
  },
  {
   "cell_type": "code",
   "execution_count": null,
   "id": "3403ff74",
   "metadata": {
    "scrolled": true
   },
   "outputs": [],
   "source": [
    "collection_maple.plot_2D('pcoa', plot_meta = 'LK', same_scale = True, select = False)"
   ]
  }
 ],
 "metadata": {
  "kernelspec": {
   "display_name": "py9temb",
   "language": "python",
   "name": "py9temb"
  },
  "language_info": {
   "codemirror_mode": {
    "name": "ipython",
    "version": 3
   },
   "file_extension": ".py",
   "mimetype": "text/x-python",
   "name": "python",
   "nbconvert_exporter": "python",
   "pygments_lexer": "ipython3",
   "version": "3.9.18"
  }
 },
 "nbformat": 4,
 "nbformat_minor": 5
}
