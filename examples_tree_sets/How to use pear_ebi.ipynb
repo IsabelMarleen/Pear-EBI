{
 "cells": [
  {
   "cell_type": "markdown",
   "id": "9d440873",
   "metadata": {},
   "source": [
    "# Pear #\n",
    "This tutorial goes through the basic features of pear_ebi and how to use them\n",
    "_____\n",
    "## Setup ##\n",
    "First of all, check that you have a python version that is supported (python 3.7, 3.8, 3.9). We strongly encourage the creation of a dedicated virtual environment in order to avoid potential conflicts with other libraries due to the mismatch of dependencies' versions. We also support the use of mamba as a more efficient version of conda."
   ]
  },
  {
   "cell_type": "markdown",
   "id": "ec06e0ff",
   "metadata": {},
   "source": [
    "<b>In your terminal:</b><br><br>\n",
    "Download and install mamba: <br>\n",
    "<a href=\"https://mamba.readthedocs.io/en/latest/installation/mamba-installation.html\">See documentation</a>\n",
    "\n",
    "Create new environment with one of the supported versions of python:<br>\n",
    "```mamba create -n pear_env python=3.9```\n",
    "\n",
    "Activate environment:<br>\n",
    "```mamba activate pear_env```\n",
    "\n",
    "Install pear:<br>\n",
    "```python -m pip install pear_ebi```\n",
    "\n",
    "<br><font color='red'><b>Alternatively:</b></font><br>\n",
    "<br>Install virtualenv:<br>\n",
    "```pip install virtualenv```\n",
    "<br>Create new environment with one of the supported versions of python:<br>\n",
    "```python3.9 -m venv pear_env```\n",
    "<br>Activate environment:<br>\n",
    "```source pear_env/bin/activate```\n",
    "<br>Install pear:<br>\n",
    "```python -m pip install pear_ebi```"
   ]
  },
  {
   "cell_type": "markdown",
   "id": "4b2d13e8",
   "metadata": {},
   "source": [
    "### Optional ###\n",
    "If you're planning on performing more advanced analyses, such as the ones described in the <b><i>\"Advanced Examples\"</b></i>, you should install the new jupyter kernel:<br>\n",
    "```python -m ipykernel install --user --name=pear_ebi```\n",
    "****"
   ]
  },
  {
   "cell_type": "markdown",
   "id": "1f47f779",
   "metadata": {},
   "source": [
    "## Basic Use ##\n",
    "After following the steps above to set up pear_ebi, you should be ready to use all the features of pear_ebi! \n",
    "<br>This notebook is a good guide to learn how to use it and to check that your installation is successful. If you should have any problem, please contact us by filing an issue on github.\n",
    "\n",
    "To start with, simply check your installation by running:"
   ]
  },
  {
   "cell_type": "code",
   "execution_count": 1,
   "id": "f7cfd362",
   "metadata": {},
   "outputs": [
    {
     "name": "stdout",
     "output_type": "stream",
     "text": [
      "\u001b[34mPEAR v\u001b[0m\u001b[1;34m1.0.1.5\u001b[0m\r\n",
      "\u001b[31mNo files specified\u001b[0m\u001b[37m \u001b[0m\u001b[1;37m(\u001b[0m\u001b[37msee --help for instructions\u001b[0m\u001b[1;37m)\u001b[0m\r\n",
      "\u001b[93m- Leaving PEAR -\u001b[0m\r\n"
     ]
    }
   ],
   "source": [
    "!pear_ebi"
   ]
  },
  {
   "cell_type": "markdown",
   "id": "22cd5b48",
   "metadata": {},
   "source": [
    "Pear is complaining because no input file was given... since it looks like you don't know how to use it, it kindly suggests to seek help using the `--help` (or simply `-h`) flag. Good idea!"
   ]
  },
  {
   "cell_type": "code",
   "execution_count": 2,
   "id": "c10ead26",
   "metadata": {},
   "outputs": [
    {
     "name": "stdout",
     "output_type": "stream",
     "text": [
      "usage: PEAR [-h] [-o output] [-i] [-d distance_matrix] [--meta metadata]\r\n",
      "            [-m METHOD] [--pcoa N] [--tsne N] [-p] [-c CONFIG] [-q]\r\n",
      "            [--dir DIR] [--pattern PATTERN]\r\n",
      "            [input ...]\r\n",
      "\r\n",
      "PEAR-EBI v1.0.1.5 | Phylogeny Embedding and Approximate Representation\r\n",
      "\r\n",
      "positional arguments:\r\n",
      "  input                 input file : one or more tree sets in Newick format\r\n",
      "\r\n",
      "optional arguments:\r\n",
      "  -h, --help            show this help message and exit\r\n",
      "  -o output             output file : storage of distance matrix\r\n",
      "  -i, --interactive     run the program in interactive mode - only the input\r\n",
      "                        file, distance matrix, output file, and metadata\r\n",
      "                        arguments will be considered\r\n",
      "  -d distance_matrix, --dM distance_matrix\r\n",
      "                        distance matrix : specify file containing a\r\n",
      "                        precomputed distance matrix\r\n",
      "  --meta metadata       metadata : csv file with metadata for each tree\r\n",
      "  -m METHOD, --method METHOD\r\n",
      "                        calculates tree distances using specified method\r\n",
      "                        (hashrf_RF, hashrf_wRF, smart_RF, tqdist_quartet,\r\n",
      "                        tqdist_triplet)\r\n",
      "  --pcoa N              embedding using PCoA: specify number of coordinate\r\n",
      "                        dimensions N (int) to be calculated\r\n",
      "  --tsne N              embedding using t-SNE: specify number of coordinate\r\n",
      "                        dimensions N (int) to be calculated\r\n",
      "  -p, --plot            plot embedding in 2 or 3 dimensions\r\n",
      "  -c CONFIG, --config CONFIG\r\n",
      "                        toml config file\r\n",
      "  -q, --quality         assess quality of embedding\r\n",
      "  --dir DIR             directory with files\r\n",
      "  --pattern PATTERN     pattern of files in directory\r\n",
      "\r\n",
      "Author: Andrea Rubbi & others - Goldman Group | EMBL-European Bioinformatics\r\n",
      "Institute\r\n"
     ]
    }
   ],
   "source": [
    "!pear_ebi -h"
   ]
  },
  {
   "cell_type": "markdown",
   "id": "25a089ae",
   "metadata": {},
   "source": [
    "Essentially, pear_ebi does the following:<ul>\n",
    "    <li>Reads phylogenetic trees in Newick format from one or multiple files;\n",
    "    <li>Computes the distances between the trees with one of the available metrics (refer to `--help` to see them, and to the manuscript for their specific functions);\n",
    "    <li>Embeds the distances in a lower dimensional space. Basic usage allows using either PCoA or tSNE;\n",
    "    <li>Plots the resulting embeddings.\n",
    " </ul>\n",
    " Why should you use pear_ebi? Because it's <font color='green'><b>simple</b><font color='black'>, <font color='dark orange'><b>fast</b><font color='black'>, and <font color='purple'><b>produces nice graphs</b>! "
   ]
  },
  {
   "cell_type": "markdown",
   "id": "cd84bd77",
   "metadata": {},
   "source": [
    "### Load trees ###\n",
    "Pear has two kind of structures for your trees:<ol>\n",
    "    <li><font color='blue'>tree_set</font>;<li><font color='dark pink'>set_collection</font>.\n",
    "</ol>\n",
    "You define a <font color='blue'>tree_set</font> with a set of trees coming from a single file, whereas a <font color='dark pink'>set_collection</font> is composed of trees coming from multiple files, divided into groups according to the file of origin. In practice, computationally and conceptually, a <font color='dark pink'>set_collection</font> is a set of multiple <font color='blue'>tree_set</font>.\n",
    "<br>We'll make it clear exploring how we can load trees on pear with a few examples."
   ]
  },
  {
   "cell_type": "code",
   "execution_count": 3,
   "id": "0ee9f23f",
   "metadata": {},
   "outputs": [
    {
     "name": "stdout",
     "output_type": "stream",
     "text": [
      "\u001b[34mPEAR v\u001b[0m\u001b[1;34m1.0.1.5\u001b[0m\n",
      "\u001b[95mYour input:\u001b[0m\n",
      "─────────────────────────────\n",
      " Tree set containing \u001b[1;36m1001\u001b[0m trees;\n",
      " File: beast_trees/beast_long.trees;\n",
      " Distance matrix: not computed.\n",
      "───────────────────────────── \n",
      "\n",
      "\n",
      "\u001b[93m- Leaving PEAR -\u001b[0m\n"
     ]
    }
   ],
   "source": [
    "# load single set of trees into a tree_set #\n",
    "!pear_ebi beast_trees/beast_long.trees"
   ]
  },
  {
   "cell_type": "code",
   "execution_count": 4,
   "id": "8181e206",
   "metadata": {},
   "outputs": [
    {
     "name": "stdout",
     "output_type": "stream",
     "text": [
      "\u001b[34mPEAR v\u001b[0m\u001b[1;34m1.0.1.5\u001b[0m\n",
      "\u001b[95mYour input:\u001b[0m\n",
      "─────────────────────────────            \n",
      " Tree set collection containing \u001b[1;36m2002\u001b[0m trees;            \n",
      " File: Set_collection_\u001b[93m2071c096-ca73-4b58-b2fd-4e7678900ed5\u001b[0m;\n",
      " Distance matrix: not computed.                \n",
      "───────────────────────────── \n",
      "beast_run1; Containing \u001b[1;36m1001\u001b[0m trees. \n",
      "beast_run2; Containing \u001b[1;36m1001\u001b[0m trees. \n",
      "\n",
      "\n",
      "\u001b[93m- Leaving PEAR -\u001b[0m\n"
     ]
    }
   ],
   "source": [
    "# load two set of trees into a set_collection #\n",
    "!pear_ebi beast_trees/beast_run1.trees beast_trees/beast_run2.trees"
   ]
  },
  {
   "cell_type": "markdown",
   "id": "b400a01b",
   "metadata": {},
   "source": [
    "Although you may be perplexed about the actual practical difference between these structures, we suggest you keep these questions for the next chapters and bear with us to explore some more funky ways of loading trees onto pear. <br> \n",
    "\n",
    "In fact, you can avoid boring repetitions of the path of your files and simply indicate the directory! "
   ]
  },
  {
   "cell_type": "code",
   "execution_count": 5,
   "id": "228d223d",
   "metadata": {},
   "outputs": [
    {
     "name": "stdout",
     "output_type": "stream",
     "text": [
      "\u001b[34mPEAR v\u001b[0m\u001b[1;34m1.0.1.5\u001b[0m\n",
      "\u001b[95mYour input:\u001b[0m\n",
      "─────────────────────────────            \n",
      " Tree set collection containing \u001b[1;36m9009\u001b[0m trees;            \n",
      " File: Set_collection_\u001b[93m49fa8c17-7e83-40ee-a2e4-5801305cf875\u001b[0m;\n",
      " Distance matrix: not computed.                \n",
      "───────────────────────────── \n",
      "beast_long; Containing \u001b[1;36m1001\u001b[0m trees. \n",
      "beast_run1; Containing \u001b[1;36m1001\u001b[0m trees. \n",
      "beast_run2; Containing \u001b[1;36m1001\u001b[0m trees. \n",
      "beast_run3; Containing \u001b[1;36m1001\u001b[0m trees. \n",
      "beast_run4; Containing \u001b[1;36m1001\u001b[0m trees. \n",
      "beast_run5; Containing \u001b[1;36m1001\u001b[0m trees. \n",
      "beast_run6; Containing \u001b[1;36m1001\u001b[0m trees. \n",
      "beast_run7; Containing \u001b[1;36m1001\u001b[0m trees. \n",
      "beast_run8; Containing \u001b[1;36m1001\u001b[0m trees. \n",
      "\n",
      "\n",
      "\u001b[93m- Leaving PEAR -\u001b[0m\n"
     ]
    }
   ],
   "source": [
    "# load files from directory #\n",
    "!pear_ebi --dir beast_trees"
   ]
  },
  {
   "cell_type": "markdown",
   "id": "9e346d03",
   "metadata": {},
   "source": [
    "Whoa! Too many... thankfully we can indicate a pattern to look for"
   ]
  },
  {
   "cell_type": "code",
   "execution_count": 6,
   "id": "8d63d613",
   "metadata": {},
   "outputs": [
    {
     "name": "stdout",
     "output_type": "stream",
     "text": [
      "\u001b[34mPEAR v\u001b[0m\u001b[1;34m1.0.1.5\u001b[0m\n",
      "\u001b[95mYour input:\u001b[0m\n",
      "─────────────────────────────            \n",
      " Tree set collection containing \u001b[1;36m8008\u001b[0m trees;            \n",
      " File: Set_collection_\u001b[93m408509c8-dff7-470a-8bfc-2a11cbdf9199\u001b[0m;\n",
      " Distance matrix: not computed.                \n",
      "───────────────────────────── \n",
      "beast_run1; Containing \u001b[1;36m1001\u001b[0m trees. \n",
      "beast_run2; Containing \u001b[1;36m1001\u001b[0m trees. \n",
      "beast_run3; Containing \u001b[1;36m1001\u001b[0m trees. \n",
      "beast_run4; Containing \u001b[1;36m1001\u001b[0m trees. \n",
      "beast_run5; Containing \u001b[1;36m1001\u001b[0m trees. \n",
      "beast_run6; Containing \u001b[1;36m1001\u001b[0m trees. \n",
      "beast_run7; Containing \u001b[1;36m1001\u001b[0m trees. \n",
      "beast_run8; Containing \u001b[1;36m1001\u001b[0m trees. \n",
      "\n",
      "\n",
      "\u001b[93m- Leaving PEAR -\u001b[0m\n"
     ]
    }
   ],
   "source": [
    "# load files from directory using pattern#\n",
    "!pear_ebi --dir beast_trees --pattern \"*run*\""
   ]
  },
  {
   "cell_type": "markdown",
   "id": "a85baffe",
   "metadata": {},
   "source": [
    "If you are a regex wizard you can probably select any set of similarly-named files in this way. _(Me? I generally ask chatGPT to write the magic formula.)_ \n",
    "<br><b>NB:</b> you can also use a combination of `--dir`, `--pattern`, and normal file definition if one or more files come from other directories. "
   ]
  },
  {
   "cell_type": "code",
   "execution_count": 7,
   "id": "1ce19dd0",
   "metadata": {},
   "outputs": [
    {
     "name": "stdout",
     "output_type": "stream",
     "text": [
      "\u001b[34mPEAR v\u001b[0m\u001b[1;34m1.0.1.5\u001b[0m\n",
      "\u001b[95mYour input:\u001b[0m\n",
      "─────────────────────────────            \n",
      " Tree set collection containing \u001b[1;36m3003\u001b[0m trees;            \n",
      " File: Set_collection_\u001b[93m14573283-30b0-4e72-9eb7-b94b9bc6ad8b\u001b[0m;\n",
      " Distance matrix: not computed.                \n",
      "───────────────────────────── \n",
      "beast_run1; Containing \u001b[1;36m1001\u001b[0m trees. \n",
      "beast_run2; Containing \u001b[1;36m1001\u001b[0m trees. \n",
      "beast_long; Containing \u001b[1;36m1001\u001b[0m trees. \n",
      "\n",
      "\n",
      "\u001b[93m- Leaving PEAR -\u001b[0m\n"
     ]
    }
   ],
   "source": [
    "!pear_ebi beast_trees/beast_long.trees --dir duplicate_beast_trees --pattern \"*run[1,2]*\" "
   ]
  },
  {
   "cell_type": "markdown",
   "id": "d6a82d5a",
   "metadata": {},
   "source": [
    "### Compute Distances ###\n",
    "You can compute the distance matrix using different methods. Different methods have different purposes, outlined in the associated paper. However, in general, the Robinson Foulds distance metric is a well-known and reliable choice. pear_ebi computes this metric using the hashrf algorithm, which is the fastest way we know of computing the metric. <br> \n",
    "You can indicate any available method using the `-m`, or `--method`, flag. When a metric/method is indicated, pear will use it to compute the distance matrix <b>even if a distance matrix is given</b>, and it <b>will overwrite any previous matrix saved at a file with the same standard format</b> (realistically, this happens only if the matrix was produced using pear during an interactive or advanced session - see the interactive sessions chapter)."
   ]
  },
  {
   "cell_type": "code",
   "execution_count": 8,
   "id": "cffea00e",
   "metadata": {},
   "outputs": [
    {
     "name": "stdout",
     "output_type": "stream",
     "text": [
      "\u001b[34mPEAR v\u001b[0m\u001b[1;34m1.0.1.5\u001b[0m\n",
      "\u001b[95mYour input:\u001b[0m\n",
      "─────────────────────────────\n",
      " Tree set containing \u001b[1;36m1001\u001b[0m trees;\n",
      " File: beast_trees/beast_run1.trees;\n",
      " Distance matrix: not computed.\n",
      "───────────────────────────── \n",
      "\n",
      "\u001b[2K\u001b[32m⠸\u001b[0m \u001b[1;32mCalculating distances...\u001b[0m0m\n",
      "\u001b[1A\u001b[2K\u001b[1;34mhashrf_RF | Done!\u001b[0m\n",
      "\n",
      "\u001b[93m- Leaving PEAR -\u001b[0m\n"
     ]
    }
   ],
   "source": [
    "# compute Robinson Foulds distances using hashrf #\n",
    "!pear_ebi beast_trees/beast_run1.trees -m hashrf_RF"
   ]
  },
  {
   "cell_type": "code",
   "execution_count": 9,
   "id": "0eb7041f",
   "metadata": {},
   "outputs": [
    {
     "name": "stdout",
     "output_type": "stream",
     "text": [
      "\u001b[34mPEAR v\u001b[0m\u001b[1;34m1.0.1.5\u001b[0m\n",
      "\u001b[95mYour input:\u001b[0m\n",
      "─────────────────────────────            \n",
      " Tree set collection containing \u001b[1;36m2002\u001b[0m trees;            \n",
      " File: Set_collection_\u001b[93m12e535ba-728f-49d2-ab7e-61fb24a45ff6\u001b[0m;\n",
      " Distance matrix: not computed.                \n",
      "───────────────────────────── \n",
      "beast_run1; Containing \u001b[1;36m1001\u001b[0m trees. \n",
      "beast_run2; Containing \u001b[1;36m1001\u001b[0m trees. \n",
      "\n",
      "\u001b[2K\u001b[32m⠼\u001b[0m \u001b[1;32mCalculating distances...\u001b[0m0m\n",
      "\u001b[1A\u001b[2K\u001b[1;34mhashrf_RF | Done!\u001b[0m\n",
      "\n",
      "\u001b[93m- Leaving PEAR -\u001b[0m\n"
     ]
    }
   ],
   "source": [
    "# compute Robinson Foulds distances using hashrf #\n",
    "!pear_ebi --dir beast_trees --pattern \"*run[12]*\" --method hashrf_RF"
   ]
  },
  {
   "cell_type": "code",
   "execution_count": 10,
   "id": "1de43504",
   "metadata": {},
   "outputs": [
    {
     "name": "stdout",
     "output_type": "stream",
     "text": [
      "\u001b[34mPEAR v\u001b[0m\u001b[1;34m1.0.1.5\u001b[0m\n",
      "\u001b[95mYour input:\u001b[0m\n",
      "─────────────────────────────\n",
      " Tree set containing \u001b[1;36m32\u001b[0m trees;\n",
      " File: MAPLE_res/IQtreeStartingTree_slower_Trees;\n",
      " Distance matrix: not computed.\n",
      "───────────────────────────── \n",
      "\n",
      "\u001b[2K\u001b[32m⠧\u001b[0m \u001b[1;32mCalculating distances...\u001b[0m0m\n",
      "\u001b[1A\u001b[2K\u001b[1;34mtqdist_quartet | Done!\u001b[0m\n",
      "\n",
      "\u001b[93m- Leaving PEAR -\u001b[0m\n"
     ]
    }
   ],
   "source": [
    "# compute quartet distances - slower, so we use a smaller tree set #\n",
    "!pear_ebi MAPLE_res/IQtreeStartingTree_slower_Trees -m tqdist_quartet"
   ]
  },
  {
   "cell_type": "code",
   "execution_count": 11,
   "id": "58dab86d",
   "metadata": {},
   "outputs": [
    {
     "name": "stdout",
     "output_type": "stream",
     "text": [
      "\u001b[34mPEAR v\u001b[0m\u001b[1;34m1.0.1.5\u001b[0m\n",
      "\u001b[95mYour input:\u001b[0m\n",
      "─────────────────────────────\n",
      " Tree set containing \u001b[1;36m32\u001b[0m trees;\n",
      " File: MAPLE_res/IQtreeStartingTree_slower_Trees;\n",
      " Distance matrix: not computed.\n",
      "───────────────────────────── \n",
      "\n",
      "\u001b[2K\u001b[32m⠼\u001b[0m \u001b[1;32mCalculating distances...\u001b[0m0m\n",
      "\u001b[1A\u001b[2K\u001b[1;34msmart_RF | Done!\u001b[0m\n",
      "\n",
      "\u001b[93m- Leaving PEAR -\u001b[0m\n"
     ]
    }
   ],
   "source": [
    "# compute smart RF distances #\n",
    "!pear_ebi MAPLE_res/IQtreeStartingTree_slower_Trees -m smart_RF"
   ]
  },
  {
   "cell_type": "markdown",
   "id": "4e3fcb31",
   "metadata": {},
   "source": [
    "If you run the exaples above you will notice the difference between the time efficiency of hashrf and any other algorithm. Note the astonishing performance of that algorithm, especially considering the significant difference in the number of trees analyzed!"
   ]
  },
  {
   "cell_type": "markdown",
   "id": "632c1a00",
   "metadata": {},
   "source": [
    "Given that one may want to analyze the same distance matrix in multiple ways, \n",
    "possibly desiring to skip recomputing the hefty distance-computation step, we introduced the \n",
    "convenient `-d` flag that allows specifying a previously computed distance matrix. <br> \n",
    "<b>Please note</b> that the order of the trees in the distance matrix is preserved and\n",
    "thus one must be consistent with the input tree set (collection) specification when reusing a distance matrix.\n",
    "Should you disregard this suggestion, we suggest you also disregard your downstream analyses \n",
    "(and perhaps everything else as well)."
   ]
  },
  {
   "cell_type": "code",
   "execution_count": 12,
   "id": "a5503f18",
   "metadata": {},
   "outputs": [
    {
     "name": "stdout",
     "output_type": "stream",
     "text": [
      "\u001b[34mPEAR v\u001b[0m\u001b[1;34m1.0.1.5\u001b[0m\n",
      "\u001b[95mYour input:\u001b[0m\n",
      "─────────────────────────────\n",
      " Tree set containing \u001b[1;36m32\u001b[0m trees;\n",
      " File: MAPLE_res/IQtreeStartingTree_slower_Trees;\n",
      " Distance matrix: not computed.\n",
      "───────────────────────────── \n",
      "\n",
      "\u001b[2K\u001b[32m⠋\u001b[0m \u001b[1;32mCalculating distances...\u001b[0m0m\n",
      "\u001b[1A\u001b[2K\u001b[1;34mhashrf_RF | Done!\u001b[0m\n",
      "\n",
      "\u001b[93m- Leaving PEAR -\u001b[0m\n"
     ]
    }
   ],
   "source": [
    "# specify output distance matrix file with -o #\n",
    "!pear_ebi MAPLE_res/IQtreeStartingTree_slower_Trees -m hashrf_RF -o precomputed_distance_matrix.csv"
   ]
  },
  {
   "cell_type": "code",
   "execution_count": 13,
   "id": "d909a3d0",
   "metadata": {},
   "outputs": [
    {
     "name": "stdout",
     "output_type": "stream",
     "text": [
      "\u001b[34mPEAR v\u001b[0m\u001b[1;34m1.0.1.5\u001b[0m\n",
      "\u001b[95mYour input:\u001b[0m\n",
      "─────────────────────────────\n",
      " Tree set containing \u001b[1;36m32\u001b[0m trees;\n",
      " File: MAPLE_res/IQtreeStartingTree_slower_Trees;\n",
      " Distance matrix: computed.\n",
      "───────────────────────────── \n",
      "\n",
      "\n",
      "\u001b[93m- Leaving PEAR -\u001b[0m\n"
     ]
    }
   ],
   "source": [
    "# load pre-computed distance matrix file with -d #\n",
    "!pear_ebi MAPLE_res/IQtreeStartingTree_slower_Trees -d precomputed_distance_matrix.csv"
   ]
  },
  {
   "cell_type": "markdown",
   "id": "cc2b8ca6",
   "metadata": {},
   "source": [
    "Please note the difference in the input \"Distance matrix\" status."
   ]
  },
  {
   "cell_type": "markdown",
   "id": "fb436601",
   "metadata": {},
   "source": [
    "### Embed distances ###\n",
    "Here we show the easy way of embedding the $N \\times N$ matrix of distances (where $N$ is the number of trees) into $M$ dimensions ($M \\leq N$ is the chosen dimensionality of the embedding space) and producing nice plots!  <br>\n",
    "Note that if $M \\lt 3$, pear will produce just one 2D plot. If $M \\geq 3$, pear will produce a 2D and a 3D plot. Please note that we are currently unable to produce human-friendly representations for $\\gt 3$-D data... In any case, whichever dimension $M$ may be chosen, the $M$-dimensional embedding will be produced and then saved."
   ]
  },
  {
   "cell_type": "code",
   "execution_count": 17,
   "id": "d190cdd4",
   "metadata": {},
   "outputs": [
    {
     "name": "stdout",
     "output_type": "stream",
     "text": [
      "\u001b[34mPEAR v\u001b[0m\u001b[1;34m1.0.1.5\u001b[0m\n",
      "\u001b[95mYour input:\u001b[0m\n",
      "─────────────────────────────\n",
      " Tree set containing \u001b[1;36m32\u001b[0m trees;\n",
      " File: MAPLE_res/IQtreeStartingTree_slower_Trees;\n",
      " Distance matrix: not computed.\n",
      "───────────────────────────── \n",
      "\n",
      "\u001b[2K\u001b[32m⠼\u001b[0m \u001b[1;32mCalculating distances...\u001b[0m0m\n",
      "\u001b[1A\u001b[2K\u001b[1;34mtqdist_triplet | Done!\u001b[0m\n",
      "\u001b[?25l\u001b[32m⠋\u001b[0m \u001b[1;32mEmbedding distances...\u001b[0m\n",
      "\u001b[1A\u001b[2K\u001b[1;34mpcoa | Done!\u001b[0m\n",
      "\n",
      "\u001b[93m- Leaving PEAR -\u001b[0m\n"
     ]
    }
   ],
   "source": [
    "# compute triplet distances, embed and plot in 2D using pcoa #\n",
    "!pear_ebi MAPLE_res/IQtreeStartingTree_slower_Trees -m tqdist_triplet --pcoa 2"
   ]
  },
  {
   "cell_type": "code",
   "execution_count": 20,
   "id": "e7e79832",
   "metadata": {},
   "outputs": [
    {
     "name": "stdout",
     "output_type": "stream",
     "text": [
      "\u001b[34mPEAR v\u001b[0m\u001b[1;34m1.0.1.5\u001b[0m\n",
      "\u001b[95mYour input:\u001b[0m\n",
      "─────────────────────────────\n",
      " Tree set containing \u001b[1;36m32\u001b[0m trees;\n",
      " File: MAPLE_res/IQtreeStartingTree_slower_Trees;\n",
      " Distance matrix: not computed.\n",
      "───────────────────────────── \n",
      "\n",
      "\u001b[2K\u001b[32m⠇\u001b[0m \u001b[1;32mCalculating distances...\u001b[0m0m\n",
      "\u001b[1A\u001b[2K\u001b[1;34mhashrf_RF | Done!\u001b[0m\n",
      "\u001b[2K\u001b[32m⠋\u001b[0m \u001b[1;32mEmbedding distances...\u001b[0m0m\n",
      "\u001b[1A\u001b[2K\u001b[1;34mtsne | Done!\u001b[0m\n",
      "\n",
      "\u001b[93m- Leaving PEAR -\u001b[0m\n"
     ]
    }
   ],
   "source": [
    "# compute RF distances, embed in 5D and plot in 2D and 3D using tsne #\n",
    "!pear_ebi MAPLE_res/IQtreeStartingTree_slower_Trees -m hashrf_RF --tsne 5"
   ]
  },
  {
   "cell_type": "markdown",
   "id": "89f1d05b",
   "metadata": {},
   "source": [
    "Use the `--plot` (equivalently, `-p`) flag to show the plots at the end. Note that, when an embedding method is specified, the plots are produced regardless of whether the `--plot` flag is present or not.  "
   ]
  },
  {
   "cell_type": "code",
   "execution_count": 21,
   "id": "c930893e",
   "metadata": {},
   "outputs": [
    {
     "name": "stdout",
     "output_type": "stream",
     "text": [
      "\u001b[34mPEAR v\u001b[0m\u001b[1;34m1.0.1.5\u001b[0m\n",
      "\u001b[95mYour input:\u001b[0m\n",
      "─────────────────────────────\n",
      " Tree set containing \u001b[1;36m32\u001b[0m trees;\n",
      " File: MAPLE_res/IQtreeStartingTree_slower_Trees;\n",
      " Distance matrix: not computed.\n",
      "───────────────────────────── \n",
      "\n",
      "\u001b[2K\u001b[32m⠦\u001b[0m \u001b[1;32mCalculating distances...\u001b[0m0m\n",
      "\u001b[1A\u001b[2K\u001b[1;34mhashrf_RF | Done!\u001b[0m\n",
      "\u001b[2K\u001b[32m⠋\u001b[0m \u001b[1;32mEmbedding distances...\u001b[0m0m\n",
      "\u001b[1A\u001b[2K\u001b[1;34mtsne | Done!\u001b[0m\n",
      "\n",
      "\u001b[93m- Leaving PEAR -\u001b[0m\n"
     ]
    }
   ],
   "source": [
    "# compute RF distances, embed in 5D and plot in 2D and 3D using tsne, auto-show plots #\n",
    "!pear_ebi MAPLE_res/IQtreeStartingTree_slower_Trees -m hashrf_RF --tsne 5 --plot"
   ]
  },
  {
   "cell_type": "markdown",
   "id": "83a23f5d",
   "metadata": {},
   "source": [
    "<b>NB:</b> this is something you are expected to run in a terminal; this is why the graph doesn't show up in this notebook."
   ]
  },
  {
   "cell_type": "markdown",
   "id": "9db6ebeb",
   "metadata": {},
   "source": [
    "The `--quality`, or `-q`, flag indicates to pear to provide some quality metrics for the embedding generated. <br>\n",
    "The toolset of quality-measures provided by pear may be expanded upon request in the future."
   ]
  },
  {
   "cell_type": "code",
   "execution_count": 22,
   "id": "6234f302",
   "metadata": {},
   "outputs": [
    {
     "name": "stdout",
     "output_type": "stream",
     "text": [
      "\u001b[34mPEAR v\u001b[0m\u001b[1;34m1.0.1.5\u001b[0m\n",
      "\u001b[95mYour input:\u001b[0m\n",
      "─────────────────────────────\n",
      " Tree set containing \u001b[1;36m32\u001b[0m trees;\n",
      " File: MAPLE_res/IQtreeStartingTree_slower_Trees;\n",
      " Distance matrix: not computed.\n",
      "───────────────────────────── \n",
      "\n",
      "\u001b[2K\u001b[32m⠇\u001b[0m \u001b[1;32mCalculating distances...\u001b[0m0m\n",
      "\u001b[1A\u001b[2K\u001b[1;34mhashrf_RF | Done!\u001b[0m\n",
      "\u001b[2K\u001b[32m⠋\u001b[0m \u001b[1;32mEmbedding distances...\u001b[0m0m\n",
      "\u001b[1A\u001b[2K\u001b[1;34mtsne | Done!\u001b[0m\n",
      "With \u001b[1;36m5\u001b[0m components/dimensions, the estimated correlation with the \u001b[1;36m32\u001b[0m-dimensional \n",
      "coordinates is \u001b[1;36m-0.03\u001b[0m\n",
      "\n",
      "\u001b[93m- Leaving PEAR -\u001b[0m\n"
     ]
    }
   ],
   "source": [
    "# compute RF distances, embed in 5D using tsne, computing quality #\n",
    "!pear_ebi MAPLE_res/IQtreeStartingTree_slower_Trees -m hashrf_RF --tsne 5 --quality"
   ]
  },
  {
   "cell_type": "code",
   "execution_count": 23,
   "id": "b4a99d82",
   "metadata": {},
   "outputs": [
    {
     "name": "stdout",
     "output_type": "stream",
     "text": [
      "\u001b[34mPEAR v\u001b[0m\u001b[1;34m1.0.1.5\u001b[0m\n",
      "\u001b[95mYour input:\u001b[0m\n",
      "─────────────────────────────\n",
      " Tree set containing \u001b[1;36m32\u001b[0m trees;\n",
      " File: MAPLE_res/IQtreeStartingTree_slower_Trees;\n",
      " Distance matrix: not computed.\n",
      "───────────────────────────── \n",
      "\n",
      "\u001b[2K\u001b[32m⠦\u001b[0m \u001b[1;32mCalculating distances...\u001b[0m0m\n",
      "\u001b[1A\u001b[2K\u001b[1;34mhashrf_RF | Done!\u001b[0m\n",
      "\u001b[?25l\u001b[32m⠋\u001b[0m \u001b[1;32mEmbedding distances...\u001b[0m\n",
      "\u001b[1A\u001b[2K\u001b[1;34mpcoa | Done!\u001b[0m\n",
      "With \u001b[1;36m2\u001b[0m components/dimensions, the explained variance is \u001b[1;36m96.56\u001b[0m,\n",
      " with an estimated correlation \u001b[1;36m1.00\u001b[0m with the \u001b[1;36m32\u001b[0m-dimensional coordinates\n",
      "\n",
      "\u001b[93m- Leaving PEAR -\u001b[0m\n"
     ]
    }
   ],
   "source": [
    "# compute RF distances, embed in 2D using pcoa, computing quality #\n",
    "!pear_ebi MAPLE_res/IQtreeStartingTree_slower_Trees -m hashrf_RF --pcoa 2 --quality"
   ]
  },
  {
   "cell_type": "code",
   "execution_count": 24,
   "id": "ef566fdb",
   "metadata": {},
   "outputs": [
    {
     "name": "stdout",
     "output_type": "stream",
     "text": [
      "\u001b[34mPEAR v\u001b[0m\u001b[1;34m1.0.1.5\u001b[0m\n",
      "\u001b[95mYour input:\u001b[0m\n",
      "─────────────────────────────\n",
      " Tree set containing \u001b[1;36m32\u001b[0m trees;\n",
      " File: MAPLE_res/IQtreeStartingTree_slower_Trees;\n",
      " Distance matrix: not computed.\n",
      "───────────────────────────── \n",
      "\n",
      "\u001b[2K\u001b[32m⠧\u001b[0m \u001b[1;32mCalculating distances...\u001b[0m0m\n",
      "\u001b[1A\u001b[2K\u001b[1;34mhashrf_RF | Done!\u001b[0m\n",
      "\u001b[?25l\u001b[32m⠋\u001b[0m \u001b[1;32mEmbedding distances...\u001b[0m\n",
      "\u001b[1A\u001b[2K\u001b[1;34mpcoa | Done!\u001b[0m\n",
      "With \u001b[1;36m10\u001b[0m components/dimensions, the explained variance is \u001b[1;36m99.98\u001b[0m,\n",
      " with an estimated correlation \u001b[1;36m1.00\u001b[0m with the \u001b[1;36m32\u001b[0m-dimensional coordinates\n",
      "\n",
      "\u001b[93m- Leaving PEAR -\u001b[0m\n"
     ]
    }
   ],
   "source": [
    "# compute RF distances, embed in 10D using pcoa, computing quality #\n",
    "!pear_ebi MAPLE_res/IQtreeStartingTree_slower_Trees -m hashrf_RF --pcoa 10 --quality"
   ]
  },
  {
   "cell_type": "markdown",
   "id": "53d1d9ef",
   "metadata": {},
   "source": [
    "<i>Pro tip</i>: since in order to compute an embedded space we need the distance matrix first, pear will automatically compute the distances with `hashrf_RF` when no method is indicated (and no precomputed distance matrix is specified) "
   ]
  },
  {
   "cell_type": "code",
   "execution_count": 25,
   "id": "362badb6",
   "metadata": {},
   "outputs": [
    {
     "name": "stdout",
     "output_type": "stream",
     "text": [
      "\u001b[34mPEAR v\u001b[0m\u001b[1;34m1.0.1.5\u001b[0m\n",
      "\u001b[95mYour input:\u001b[0m\n",
      "─────────────────────────────\n",
      " Tree set containing \u001b[1;36m32\u001b[0m trees;\n",
      " File: MAPLE_res/IQtreeStartingTree_slower_Trees;\n",
      " Distance matrix: not computed.\n",
      "───────────────────────────── \n",
      "\n",
      "\u001b[2K\u001b[32m⠏\u001b[0m \u001b[1;32mCalculating distances...\u001b[0m0m\n",
      "\u001b[1A\u001b[2K\u001b[1;34mhashrf_RF | Done!\u001b[0m\n",
      "\u001b[?25l\u001b[32m⠋\u001b[0m \u001b[1;32mEmbedding distances...\u001b[0m\n",
      "\u001b[1A\u001b[2K\u001b[1;34mpcoa | Done!\u001b[0m\n",
      "\n",
      "\u001b[93m- Leaving PEAR -\u001b[0m\n"
     ]
    }
   ],
   "source": [
    "!pear_ebi MAPLE_res/IQtreeStartingTree_slower_Trees --pcoa 2"
   ]
  },
  {
   "cell_type": "markdown",
   "id": "38c7a635",
   "metadata": {},
   "source": [
    "## <font color='blue'>tree_set</font> vs <font color='dark pink'>set_collection</font> ##\n",
    "Pear has two kind of structures for your trees:<ol>\n",
    "    <li><font color='blue'>tree_set</font>;<li><font color='dark pink'>set_collection</font>.\n",
    "</ol>\n",
    "<font color='blue'>tree_set</font> allows for analyzing a single set of trees.\n",
    "<font color='dark pink'>set_collection</font> allows for analyzing multiple set of trees and the divergences between them.\n",
    "In our interactive plots, <font color='dark pink'>set_collection</font> generates different sets of points that are colored\n",
    "according to the file of origin. This could be useful, for instance, if one performs multiple runs of a phylogenetic-tree estimating algorithm and wants to assess the robustness/consistency of that method.\n",
    "<br>The distances computation is overall the same as a square distance matrix is generated, encompassing the whole collection of trees."
   ]
  },
  {
   "cell_type": "markdown",
   "id": "1477db22",
   "metadata": {},
   "source": [
    "****"
   ]
  },
  {
   "cell_type": "markdown",
   "id": "ab4dc021",
   "metadata": {},
   "source": [
    "## Interactive Sessions ##\n",
    "All the above, but staying in the loop!\n",
    "<br>You can add set of trees iteratively and compute distances/embeddings as many times as you want to. "
   ]
  },
  {
   "cell_type": "code",
   "execution_count": 30,
   "id": "6d90e56b",
   "metadata": {},
   "outputs": [
    {
     "name": "stdout",
     "output_type": "stream",
     "text": [
      "\u001b[34mPEAR v\u001b[0m\u001b[1;34m1.0.1.5\u001b[0m\n",
      "\u001b[95mSpecify file with tree set\u001b[0m\n",
      "\n",
      "File: ^C\n",
      "\n",
      "\u001b[93m- Leaving PEAR -\u001b[0m\n"
     ]
    }
   ],
   "source": [
    "# interactive pear with no other arguments will ask for a tree set (interrupt kernel in this notebook to kill pear) #\n",
    "!pear_ebi -i"
   ]
  },
  {
   "cell_type": "code",
   "execution_count": 31,
   "id": "6dfbcdce",
   "metadata": {},
   "outputs": [
    {
     "name": "stdout",
     "output_type": "stream",
     "text": [
      "\u001b[34mPEAR v\u001b[0m\u001b[1;34m1.0.1.5\u001b[0m\n",
      "\u001b[95mYour input:\u001b[0m\n",
      "─────────────────────────────\n",
      " Tree set containing \u001b[1;36m32\u001b[0m trees;\n",
      " File: MAPLE_res/IQtreeStartingTree_slower_Trees;\n",
      " Distance matrix: not computed.\n",
      "───────────────────────────── \n",
      "\n",
      "\u001b[1;32mPEAR | Interactive Mode\u001b[0m\n",
      "\u001b[32m⣿⣿⣿⣿⣿⣿⣿⣿⠿⣟⠉⡿⠿⣿⣿⣿⣿⣿⣿⣿\u001b[0m\u001b[1;37m -- Controls --\u001b[0m\n",
      "\u001b[32m⣿⣿⣿⣿⡿⣿⢉⢳⠴⣞⠉⡷⢥⡏⡙⡿⢿⣿⣿⣿\u001b[0m\u001b[1;37m \u001b[0m\u001b[1;37m1\u001b[0m\u001b[1;37m --> see status\u001b[0m\n",
      "\u001b[32m⣿⣿⡋⢻⡤⣼⠉⢯⡆⣞⠙⣧⣢⠏⠪⣣⢦⡛⠹⣿\u001b[0m\u001b[1;37m \u001b[0m\u001b[1;37m2\u001b[0m\u001b[1;37m --> calculate distances\u001b[0m\n",
      "\u001b[32m⣿⣿⠓⢻⣄⣼⠋⢷⡠⡽⠚⣉⣤⡞⢚⢦⢢⠟⠹⣿\u001b[0m\u001b[1;37m \u001b[0m\u001b[1;37m3\u001b[0m\u001b[1;37m --> embed distances\u001b[0m\n",
      "\u001b[32m⣿⣿⢓⢻⡄⡼⠗⢃⣂⡒⠻⣧⣂⡿⠚⣨⢨⡓⠻⣿\u001b[0m\u001b[1;37m \u001b[0m\u001b[1;37m4\u001b[0m\u001b[1;37m --> plot embeddings\u001b[0m\n",
      "\u001b[32m⣿⣿⠗⢎⢄⠂⠾⣯⣂⡽⢓⢆⢔⠐⠿⣇⢅⡗⠻⣿\u001b[0m\u001b[1;37m \u001b[0m\u001b[1;37m5\u001b[0m\u001b[1;37m --> add set to collection\u001b[0m\n",
      "\u001b[32m⣿⣿⠖⢯⡡⣹⠗⣤⣉⠛⠶⣏⢌⡿⠲⡌⢌⢞⠼⣿\u001b[0m\u001b[1;37m \u001b[0m\u001b[1;37m6\u001b[0m\u001b[1;37m --> get subset\u001b[0m\n",
      "\u001b[32m⣿⣿⣮⣾⡉⣹⠦⣞⡉⡽⠶⡌⠌⡮⠲⣏⢩⣷⣼⣿\u001b[0m\n",
      "\u001b[32m⣿⣿⣿⣿⣿⣿⣤⣞⢉⣳⠥⣏⠍⣧⣵⣿⣿⣿⣿⣿\u001b[0m\u001b[1;37m \u001b[0m\u001b[1;37m7\u001b[0m\u001b[1;37m --> exit\u001b[0m\n",
      "\u001b[32m⣿⣿⣿⣿⣿⣿⣿⣿⣿⣷⣤⣿⣿⣿⣿⣿⣿⣿⣿⣿\u001b[0m\u001b[1;37m \u001b[0m\u001b[1;37m8\u001b[0m\u001b[1;37m --> see list of controls\u001b[0m\n",
      "Command: ^C\n",
      "\n",
      "\u001b[93m- Leaving PEAR -\u001b[0m\n"
     ]
    }
   ],
   "source": [
    "# interactive pear with initial tree set (collection) specified offers a menu of options #\n",
    "!pear_ebi MAPLE_res/IQtreeStartingTree_slower_Trees -i "
   ]
  },
  {
   "cell_type": "markdown",
   "id": "a36dad85",
   "metadata": {},
   "source": [
    "## There is more...\n",
    "the flags `--meta` and `--config` introduce another layer of flexibility into our analyses. \n",
    "<br> Please refer to the <b><i>\"Advanced Examples\"</b></i> folder to get the gist of the full potential of pear!"
   ]
  }
 ],
 "metadata": {
  "kernelspec": {
   "display_name": "pear_ebi",
   "language": "python",
   "name": "pear_ebi"
  },
  "language_info": {
   "codemirror_mode": {
    "name": "ipython",
    "version": 3
   },
   "file_extension": ".py",
   "mimetype": "text/x-python",
   "name": "python",
   "nbconvert_exporter": "python",
   "pygments_lexer": "ipython3",
   "version": "3.9.19"
  }
 },
 "nbformat": 4,
 "nbformat_minor": 5
}
